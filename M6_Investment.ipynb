{
  "cells": [
    {
      "cell_type": "markdown",
      "id": "a5cc8190",
      "metadata": {
        "id": "a5cc8190"
      },
      "source": [
        "# Module 6: CFA\n",
        "# Use Case: Investment using Symbollic Artificial Intelligence\n",
        "# =============================================================\n",
        "\n",
        "After Dan Philps, Tim Law et al 2021. https://jfds.pm-research.com/content/early/2021/09/22/jfds.2021.1.077\n",
        "\n",
        "https://github.com/danphilps/Investment-SAI\n"
      ]
    },
    {
      "cell_type": "markdown",
      "source": [
        "Get key packages, download data and get in good shape."
      ],
      "metadata": {
        "id": "Cz4Sm9cvAl7H"
      },
      "id": "Cz4Sm9cvAl7H"
    },
    {
      "cell_type": "code",
      "execution_count": 24,
      "id": "35f08271",
      "metadata": {
        "id": "35f08271"
      },
      "outputs": [],
      "source": [
        "# package for working with tabular data\n",
        "import pandas as pd \n",
        "import numpy as np\n",
        "\n",
        "# package for navigating the operating system\n",
        "import os"
      ]
    },
    {
      "cell_type": "markdown",
      "source": [
        "If this is running in Google Colab.... we extract the GitHub loc where the data resides...."
      ],
      "metadata": {
        "id": "sFBrITKU_6A0"
      },
      "id": "sFBrITKU_6A0"
    },
    {
      "cell_type": "code",
      "source": [
        "!git clone https://github.com/danphilps/Investment-SAI"
      ],
      "metadata": {
        "colab": {
          "base_uri": "https://localhost:8080/"
        },
        "id": "CysAAt4-AdN8",
        "outputId": "264c36a5-d1c2-418a-d38c-86edd108f00f"
      },
      "id": "CysAAt4-AdN8",
      "execution_count": 25,
      "outputs": [
        {
          "output_type": "stream",
          "name": "stdout",
          "text": [
            "Cloning into 'Investment-SAI'...\n",
            "remote: Enumerating objects: 85, done.\u001b[K\n",
            "remote: Counting objects: 100% (85/85), done.\u001b[K\n",
            "remote: Compressing objects: 100% (78/78), done.\u001b[K\n",
            "remote: Total 85 (delta 27), reused 19 (delta 4), pack-reused 0\u001b[K\n",
            "Unpacking objects: 100% (85/85), done.\n"
          ]
        }
      ]
    },
    {
      "cell_type": "code",
      "source": [
        "# We should see a \"Investment-SAI\" directory....\n",
        "os.listdir()"
      ],
      "metadata": {
        "colab": {
          "base_uri": "https://localhost:8080/"
        },
        "id": "LusHe3a2BF_t",
        "outputId": "f41bf8ae-989f-488e-9199-8e7922f19ac2"
      },
      "id": "LusHe3a2BF_t",
      "execution_count": 26,
      "outputs": [
        {
          "output_type": "execute_result",
          "data": {
            "text/plain": [
              "['dat.csv',\n",
              " 'Emerging_5_Factors.csv',\n",
              " 'Investment-SAI',\n",
              " 'TB3MS.csv',\n",
              " 'a',\n",
              " 'fama_french.zip']"
            ]
          },
          "metadata": {},
          "execution_count": 26
        }
      ]
    },
    {
      "cell_type": "markdown",
      "source": [
        "### a. Get the data we need\n",
        "Step into the Investment-SAI/data directory and get the security level returns csv, load this into a DataFrame"
      ],
      "metadata": {
        "id": "0pokr7Mt9AqI"
      },
      "id": "0pokr7Mt9AqI"
    },
    {
      "cell_type": "code",
      "source": [
        "# Change the working directory...\n",
        "os.chdir('Investment-SAI/data')\n",
        "# Extract security level returns\n",
        "df_sec_rets = pd.read_csv('dat.csv')\n",
        "# Extract 3m T-Bill rate\n",
        "df_tb3ms = pd.read_csv('TB3MS.csv')"
      ],
      "metadata": {
        "id": "DXjXsq6l9BKm"
      },
      "id": "DXjXsq6l9BKm",
      "execution_count": 27,
      "outputs": []
    },
    {
      "cell_type": "markdown",
      "source": [
        "Extract factor returns from the Ken French data library"
      ],
      "metadata": {
        "id": "gBxXAolH8Zgw"
      },
      "id": "gBxXAolH8Zgw"
    },
    {
      "cell_type": "code",
      "execution_count": 28,
      "id": "c26b1a44",
      "metadata": {
        "id": "c26b1a44",
        "colab": {
          "base_uri": "https://localhost:8080/"
        },
        "outputId": "bc19bca7-db92-4e23-ae19-3b2d3f24e5fe"
      },
      "outputs": [
        {
          "output_type": "stream",
          "name": "stdout",
          "text": [
            "<bound method NDFrame.head of     Unnamed: 0      Mkt-RF       SMB       HML        RMW         CMA    RF\n",
            "0       198907     0.60     -0.39      15.53     -99.99    -99.99      0.70\n",
            "1       198908    1.63       8.78      -3.73     -99.99    -99.99      0.74\n",
            "2       198909   14.41       3.32      -7.70     -99.99    -99.99      0.65\n",
            "3       198910    -2.18     -0.49      -4.36     -99.99    -99.99      0.68\n",
            "4       198911    0.72      0.43        2.22     -99.99    -99.99      0.69\n",
            "..         ...         ...       ...       ...        ...         ...   ...\n",
            "394     202205     0.26     -1.54     -0.85     -0.14        1.66      0.03\n",
            "395     202206   -6.77       0.12     -0.99     -1.51        0.38      0.06\n",
            "396     202207    0.24      0.78      1.47       0.09        1.19      0.08\n",
            "397     202208    0.75      0.31       0.87     -2.36        0.40      0.19\n",
            "398     202209  -10.78      0.19      3.83       0.19        4.40      0.19\n",
            "\n",
            "[399 rows x 7 columns]>\n"
          ]
        }
      ],
      "source": [
        "# Libraries...\n",
        "import urllib.request\n",
        "import zipfile\n",
        "import csv\n",
        "\n",
        "# Get factor returns from the Ken French data repository\n",
        "ff_url = \"https://mba.tuck.dartmouth.edu/pages/faculty/ken.french/ftp/Emerging_5_Factors_CSV.zip\"\n",
        "# Download the file and save it\n",
        "# We will name it fama_french.zip file\n",
        "urllib.request.urlretrieve(ff_url,'fama_french.zip')\n",
        "zip_file = zipfile.ZipFile('fama_french.zip', 'r')\n",
        "# Next we extact the file data\n",
        "# We will call it ff_factors.csv\n",
        "zip_file.extractall()\n",
        "# Make sure you close the file after extraction\n",
        "zip_file.close()\n",
        "\n",
        "# Extract into a dataframe\n",
        "df_ff_factors = pd.read_csv('Emerging_5_Factors.csv', skiprows = 3)\n",
        "\n",
        "# Data wrangling... remove invalid rows (annual factors)\n",
        "# There is white space in the date columns... strip this out\n",
        "df_ff_factors.iloc[:,0] = df_ff_factors.iloc[:,0].str.strip()\n",
        "\n",
        "# Find the start of the invalid rows and remove them all...\n",
        "for row in range(1,df_ff_factors.shape[0]):\n",
        "  if df_ff_factors.iloc[row,0].isnumeric() == False:\n",
        "    break\n",
        "df_ff_factors = df_ff_factors.drop(df_ff_factors.index[row:])\n",
        "\n",
        "print(df_ff_factors.head)"
      ]
    },
    {
      "cell_type": "markdown",
      "source": [
        "### b. Data Wrangling\n",
        "\n",
        "We want the data with dates as rows, securities as columns (and factors as columns in the factor data). \n",
        "The latest date should be the top row... dates should all be the same format in each file.\n"
      ],
      "metadata": {
        "id": "BrjeI2F98o0T"
      },
      "id": "BrjeI2F98o0T"
    },
    {
      "cell_type": "code",
      "source": [
        "# Get FF factors sorted and transposed...\n",
        "# Columns as dates (latest date in the left col), rows are factors or securities...\n",
        "df_ff_factors = df_ff_factors.sort_values(by=df_ff_factors.columns[0], ascending=False)\n",
        "# Set row index as dates\n",
        "df_ff_factors.index = df_ff_factors.iloc[:,0].astype(int)\n",
        "df_ff_factors = df_ff_factors.iloc[:,1:]\n",
        "# Force type to float\n",
        "df_ff_factors = df_ff_factors.astype(dtype=float)\n",
        "# stated at percentages? No...\n",
        "df_ff_factors = df_ff_factors/100\n",
        "\n",
        "#Check...\n",
        "df_ff_factors.head()"
      ],
      "metadata": {
        "colab": {
          "base_uri": "https://localhost:8080/",
          "height": 237
        },
        "id": "9TAsIyoYAIcN",
        "outputId": "8abb30ab-a067-4795-c9f8-d4c41088456e"
      },
      "id": "9TAsIyoYAIcN",
      "execution_count": 29,
      "outputs": [
        {
          "output_type": "execute_result",
          "data": {
            "text/plain": [
              "            Mkt-RF     SMB     HML     RMW     CMA      RF\n",
              "Unnamed: 0                                                \n",
              "202209     -0.1078  0.0019  0.0383  0.0019  0.0440  0.0019\n",
              "202208      0.0075  0.0031  0.0087 -0.0236  0.0040  0.0019\n",
              "202207      0.0024  0.0078  0.0147  0.0009  0.0119  0.0008\n",
              "202206     -0.0677  0.0012 -0.0099 -0.0151  0.0038  0.0006\n",
              "202205      0.0026 -0.0154 -0.0085 -0.0014  0.0166  0.0003"
            ],
            "text/html": [
              "\n",
              "  <div id=\"df-3f4ff82e-3418-415d-8a3d-58ec304acf7a\">\n",
              "    <div class=\"colab-df-container\">\n",
              "      <div>\n",
              "<style scoped>\n",
              "    .dataframe tbody tr th:only-of-type {\n",
              "        vertical-align: middle;\n",
              "    }\n",
              "\n",
              "    .dataframe tbody tr th {\n",
              "        vertical-align: top;\n",
              "    }\n",
              "\n",
              "    .dataframe thead th {\n",
              "        text-align: right;\n",
              "    }\n",
              "</style>\n",
              "<table border=\"1\" class=\"dataframe\">\n",
              "  <thead>\n",
              "    <tr style=\"text-align: right;\">\n",
              "      <th></th>\n",
              "      <th>Mkt-RF</th>\n",
              "      <th>SMB</th>\n",
              "      <th>HML</th>\n",
              "      <th>RMW</th>\n",
              "      <th>CMA</th>\n",
              "      <th>RF</th>\n",
              "    </tr>\n",
              "    <tr>\n",
              "      <th>Unnamed: 0</th>\n",
              "      <th></th>\n",
              "      <th></th>\n",
              "      <th></th>\n",
              "      <th></th>\n",
              "      <th></th>\n",
              "      <th></th>\n",
              "    </tr>\n",
              "  </thead>\n",
              "  <tbody>\n",
              "    <tr>\n",
              "      <th>202209</th>\n",
              "      <td>-0.1078</td>\n",
              "      <td>0.0019</td>\n",
              "      <td>0.0383</td>\n",
              "      <td>0.0019</td>\n",
              "      <td>0.0440</td>\n",
              "      <td>0.0019</td>\n",
              "    </tr>\n",
              "    <tr>\n",
              "      <th>202208</th>\n",
              "      <td>0.0075</td>\n",
              "      <td>0.0031</td>\n",
              "      <td>0.0087</td>\n",
              "      <td>-0.0236</td>\n",
              "      <td>0.0040</td>\n",
              "      <td>0.0019</td>\n",
              "    </tr>\n",
              "    <tr>\n",
              "      <th>202207</th>\n",
              "      <td>0.0024</td>\n",
              "      <td>0.0078</td>\n",
              "      <td>0.0147</td>\n",
              "      <td>0.0009</td>\n",
              "      <td>0.0119</td>\n",
              "      <td>0.0008</td>\n",
              "    </tr>\n",
              "    <tr>\n",
              "      <th>202206</th>\n",
              "      <td>-0.0677</td>\n",
              "      <td>0.0012</td>\n",
              "      <td>-0.0099</td>\n",
              "      <td>-0.0151</td>\n",
              "      <td>0.0038</td>\n",
              "      <td>0.0006</td>\n",
              "    </tr>\n",
              "    <tr>\n",
              "      <th>202205</th>\n",
              "      <td>0.0026</td>\n",
              "      <td>-0.0154</td>\n",
              "      <td>-0.0085</td>\n",
              "      <td>-0.0014</td>\n",
              "      <td>0.0166</td>\n",
              "      <td>0.0003</td>\n",
              "    </tr>\n",
              "  </tbody>\n",
              "</table>\n",
              "</div>\n",
              "      <button class=\"colab-df-convert\" onclick=\"convertToInteractive('df-3f4ff82e-3418-415d-8a3d-58ec304acf7a')\"\n",
              "              title=\"Convert this dataframe to an interactive table.\"\n",
              "              style=\"display:none;\">\n",
              "        \n",
              "  <svg xmlns=\"http://www.w3.org/2000/svg\" height=\"24px\"viewBox=\"0 0 24 24\"\n",
              "       width=\"24px\">\n",
              "    <path d=\"M0 0h24v24H0V0z\" fill=\"none\"/>\n",
              "    <path d=\"M18.56 5.44l.94 2.06.94-2.06 2.06-.94-2.06-.94-.94-2.06-.94 2.06-2.06.94zm-11 1L8.5 8.5l.94-2.06 2.06-.94-2.06-.94L8.5 2.5l-.94 2.06-2.06.94zm10 10l.94 2.06.94-2.06 2.06-.94-2.06-.94-.94-2.06-.94 2.06-2.06.94z\"/><path d=\"M17.41 7.96l-1.37-1.37c-.4-.4-.92-.59-1.43-.59-.52 0-1.04.2-1.43.59L10.3 9.45l-7.72 7.72c-.78.78-.78 2.05 0 2.83L4 21.41c.39.39.9.59 1.41.59.51 0 1.02-.2 1.41-.59l7.78-7.78 2.81-2.81c.8-.78.8-2.07 0-2.86zM5.41 20L4 18.59l7.72-7.72 1.47 1.35L5.41 20z\"/>\n",
              "  </svg>\n",
              "      </button>\n",
              "      \n",
              "  <style>\n",
              "    .colab-df-container {\n",
              "      display:flex;\n",
              "      flex-wrap:wrap;\n",
              "      gap: 12px;\n",
              "    }\n",
              "\n",
              "    .colab-df-convert {\n",
              "      background-color: #E8F0FE;\n",
              "      border: none;\n",
              "      border-radius: 50%;\n",
              "      cursor: pointer;\n",
              "      display: none;\n",
              "      fill: #1967D2;\n",
              "      height: 32px;\n",
              "      padding: 0 0 0 0;\n",
              "      width: 32px;\n",
              "    }\n",
              "\n",
              "    .colab-df-convert:hover {\n",
              "      background-color: #E2EBFA;\n",
              "      box-shadow: 0px 1px 2px rgba(60, 64, 67, 0.3), 0px 1px 3px 1px rgba(60, 64, 67, 0.15);\n",
              "      fill: #174EA6;\n",
              "    }\n",
              "\n",
              "    [theme=dark] .colab-df-convert {\n",
              "      background-color: #3B4455;\n",
              "      fill: #D2E3FC;\n",
              "    }\n",
              "\n",
              "    [theme=dark] .colab-df-convert:hover {\n",
              "      background-color: #434B5C;\n",
              "      box-shadow: 0px 1px 3px 1px rgba(0, 0, 0, 0.15);\n",
              "      filter: drop-shadow(0px 1px 2px rgba(0, 0, 0, 0.3));\n",
              "      fill: #FFFFFF;\n",
              "    }\n",
              "  </style>\n",
              "\n",
              "      <script>\n",
              "        const buttonEl =\n",
              "          document.querySelector('#df-3f4ff82e-3418-415d-8a3d-58ec304acf7a button.colab-df-convert');\n",
              "        buttonEl.style.display =\n",
              "          google.colab.kernel.accessAllowed ? 'block' : 'none';\n",
              "\n",
              "        async function convertToInteractive(key) {\n",
              "          const element = document.querySelector('#df-3f4ff82e-3418-415d-8a3d-58ec304acf7a');\n",
              "          const dataTable =\n",
              "            await google.colab.kernel.invokeFunction('convertToInteractive',\n",
              "                                                     [key], {});\n",
              "          if (!dataTable) return;\n",
              "\n",
              "          const docLinkHtml = 'Like what you see? Visit the ' +\n",
              "            '<a target=\"_blank\" href=https://colab.research.google.com/notebooks/data_table.ipynb>data table notebook</a>'\n",
              "            + ' to learn more about interactive tables.';\n",
              "          element.innerHTML = '';\n",
              "          dataTable['output_type'] = 'display_data';\n",
              "          await google.colab.output.renderOutput(dataTable, element);\n",
              "          const docLink = document.createElement('div');\n",
              "          docLink.innerHTML = docLinkHtml;\n",
              "          element.appendChild(docLink);\n",
              "        }\n",
              "      </script>\n",
              "    </div>\n",
              "  </div>\n",
              "  "
            ]
          },
          "metadata": {},
          "execution_count": 29
        }
      ]
    },
    {
      "cell_type": "code",
      "source": [
        "# Separate RF from the Factor DataFrame\n",
        "df_tb3ms = df_ff_factors[['RF']]\n",
        "df_ff_factors = df_ff_factors.drop(columns='RF')\n",
        "\n",
        "#Check...\n",
        "df_tb3ms.head()"
      ],
      "metadata": {
        "colab": {
          "base_uri": "https://localhost:8080/",
          "height": 237
        },
        "id": "eX_W6nNAahj8",
        "outputId": "606e161c-0c5e-4b25-df27-ad11812fb3de"
      },
      "id": "eX_W6nNAahj8",
      "execution_count": 30,
      "outputs": [
        {
          "output_type": "execute_result",
          "data": {
            "text/plain": [
              "                RF\n",
              "Unnamed: 0        \n",
              "202209      0.0019\n",
              "202208      0.0019\n",
              "202207      0.0008\n",
              "202206      0.0006\n",
              "202205      0.0003"
            ],
            "text/html": [
              "\n",
              "  <div id=\"df-52732e08-77ca-4103-a9bd-c9da94360092\">\n",
              "    <div class=\"colab-df-container\">\n",
              "      <div>\n",
              "<style scoped>\n",
              "    .dataframe tbody tr th:only-of-type {\n",
              "        vertical-align: middle;\n",
              "    }\n",
              "\n",
              "    .dataframe tbody tr th {\n",
              "        vertical-align: top;\n",
              "    }\n",
              "\n",
              "    .dataframe thead th {\n",
              "        text-align: right;\n",
              "    }\n",
              "</style>\n",
              "<table border=\"1\" class=\"dataframe\">\n",
              "  <thead>\n",
              "    <tr style=\"text-align: right;\">\n",
              "      <th></th>\n",
              "      <th>RF</th>\n",
              "    </tr>\n",
              "    <tr>\n",
              "      <th>Unnamed: 0</th>\n",
              "      <th></th>\n",
              "    </tr>\n",
              "  </thead>\n",
              "  <tbody>\n",
              "    <tr>\n",
              "      <th>202209</th>\n",
              "      <td>0.0019</td>\n",
              "    </tr>\n",
              "    <tr>\n",
              "      <th>202208</th>\n",
              "      <td>0.0019</td>\n",
              "    </tr>\n",
              "    <tr>\n",
              "      <th>202207</th>\n",
              "      <td>0.0008</td>\n",
              "    </tr>\n",
              "    <tr>\n",
              "      <th>202206</th>\n",
              "      <td>0.0006</td>\n",
              "    </tr>\n",
              "    <tr>\n",
              "      <th>202205</th>\n",
              "      <td>0.0003</td>\n",
              "    </tr>\n",
              "  </tbody>\n",
              "</table>\n",
              "</div>\n",
              "      <button class=\"colab-df-convert\" onclick=\"convertToInteractive('df-52732e08-77ca-4103-a9bd-c9da94360092')\"\n",
              "              title=\"Convert this dataframe to an interactive table.\"\n",
              "              style=\"display:none;\">\n",
              "        \n",
              "  <svg xmlns=\"http://www.w3.org/2000/svg\" height=\"24px\"viewBox=\"0 0 24 24\"\n",
              "       width=\"24px\">\n",
              "    <path d=\"M0 0h24v24H0V0z\" fill=\"none\"/>\n",
              "    <path d=\"M18.56 5.44l.94 2.06.94-2.06 2.06-.94-2.06-.94-.94-2.06-.94 2.06-2.06.94zm-11 1L8.5 8.5l.94-2.06 2.06-.94-2.06-.94L8.5 2.5l-.94 2.06-2.06.94zm10 10l.94 2.06.94-2.06 2.06-.94-2.06-.94-.94-2.06-.94 2.06-2.06.94z\"/><path d=\"M17.41 7.96l-1.37-1.37c-.4-.4-.92-.59-1.43-.59-.52 0-1.04.2-1.43.59L10.3 9.45l-7.72 7.72c-.78.78-.78 2.05 0 2.83L4 21.41c.39.39.9.59 1.41.59.51 0 1.02-.2 1.41-.59l7.78-7.78 2.81-2.81c.8-.78.8-2.07 0-2.86zM5.41 20L4 18.59l7.72-7.72 1.47 1.35L5.41 20z\"/>\n",
              "  </svg>\n",
              "      </button>\n",
              "      \n",
              "  <style>\n",
              "    .colab-df-container {\n",
              "      display:flex;\n",
              "      flex-wrap:wrap;\n",
              "      gap: 12px;\n",
              "    }\n",
              "\n",
              "    .colab-df-convert {\n",
              "      background-color: #E8F0FE;\n",
              "      border: none;\n",
              "      border-radius: 50%;\n",
              "      cursor: pointer;\n",
              "      display: none;\n",
              "      fill: #1967D2;\n",
              "      height: 32px;\n",
              "      padding: 0 0 0 0;\n",
              "      width: 32px;\n",
              "    }\n",
              "\n",
              "    .colab-df-convert:hover {\n",
              "      background-color: #E2EBFA;\n",
              "      box-shadow: 0px 1px 2px rgba(60, 64, 67, 0.3), 0px 1px 3px 1px rgba(60, 64, 67, 0.15);\n",
              "      fill: #174EA6;\n",
              "    }\n",
              "\n",
              "    [theme=dark] .colab-df-convert {\n",
              "      background-color: #3B4455;\n",
              "      fill: #D2E3FC;\n",
              "    }\n",
              "\n",
              "    [theme=dark] .colab-df-convert:hover {\n",
              "      background-color: #434B5C;\n",
              "      box-shadow: 0px 1px 3px 1px rgba(0, 0, 0, 0.15);\n",
              "      filter: drop-shadow(0px 1px 2px rgba(0, 0, 0, 0.3));\n",
              "      fill: #FFFFFF;\n",
              "    }\n",
              "  </style>\n",
              "\n",
              "      <script>\n",
              "        const buttonEl =\n",
              "          document.querySelector('#df-52732e08-77ca-4103-a9bd-c9da94360092 button.colab-df-convert');\n",
              "        buttonEl.style.display =\n",
              "          google.colab.kernel.accessAllowed ? 'block' : 'none';\n",
              "\n",
              "        async function convertToInteractive(key) {\n",
              "          const element = document.querySelector('#df-52732e08-77ca-4103-a9bd-c9da94360092');\n",
              "          const dataTable =\n",
              "            await google.colab.kernel.invokeFunction('convertToInteractive',\n",
              "                                                     [key], {});\n",
              "          if (!dataTable) return;\n",
              "\n",
              "          const docLinkHtml = 'Like what you see? Visit the ' +\n",
              "            '<a target=\"_blank\" href=https://colab.research.google.com/notebooks/data_table.ipynb>data table notebook</a>'\n",
              "            + ' to learn more about interactive tables.';\n",
              "          element.innerHTML = '';\n",
              "          dataTable['output_type'] = 'display_data';\n",
              "          await google.colab.output.renderOutput(dataTable, element);\n",
              "          const docLink = document.createElement('div');\n",
              "          docLink.innerHTML = docLinkHtml;\n",
              "          element.appendChild(docLink);\n",
              "        }\n",
              "      </script>\n",
              "    </div>\n",
              "  </div>\n",
              "  "
            ]
          },
          "metadata": {},
          "execution_count": 30
        }
      ]
    },
    {
      "cell_type": "code",
      "source": [
        "# Get security returns sorted and transposed...\n",
        "# separate the security static data into another DataFrame\n",
        "df_sec_static = df_sec_rets[['TICKER','NAME','SECTOR','COUNTRY']].transpose()\n",
        "# Remove static data from the returns data frame\n",
        "df_sec_rets = df_sec_rets.drop(['NAME','SECTOR','COUNTRY'], axis=1)\n",
        "# Transpose to dates rows, securities columns\n",
        "df_sec_rets = df_sec_rets.transpose()\n",
        "# Set columns as TICKER\n",
        "df_sec_rets.columns = df_sec_rets.iloc[0,:]\n",
        "df_sec_rets = df_sec_rets.iloc[1:,:]\n",
        "# Row index, dates to integer values\n",
        "df_sec_rets.index = df_sec_rets.index.astype(int)\n",
        "\n",
        "df_sec_rets"
      ],
      "metadata": {
        "colab": {
          "base_uri": "https://localhost:8080/",
          "height": 424
        },
        "id": "yJHcQpScSABr",
        "outputId": "b2199faf-f971-4f29-c977-9ab7fe9676c0"
      },
      "id": "yJHcQpScSABr",
      "execution_count": 31,
      "outputs": [
        {
          "output_type": "execute_result",
          "data": {
            "text/plain": [
              "TICKER    1.0       2.0       3.0       4.0       5.0        6.0       7.0     \\\n",
              "202210  0.015466       NaN       NaN       NaN       NaN        NaN       NaN   \n",
              "202209 -0.078267       NaN       NaN       NaN       NaN        NaN       NaN   \n",
              "202208  0.022625       NaN       NaN       NaN       NaN        NaN       NaN   \n",
              "202207 -0.046285       NaN       NaN       NaN       NaN        NaN       NaN   \n",
              "202206 -0.174248       NaN       NaN       NaN       NaN        NaN       NaN   \n",
              "...          ...       ...       ...       ...       ...        ...       ...   \n",
              "200306 -0.033725  0.022944 -0.041206  0.037502 -0.000805  -0.120038 -0.096703   \n",
              "200305  0.018288  0.347534  0.058162  0.317328  0.034123   0.589883  0.144294   \n",
              "200304  0.232334  0.516898  0.754661  0.103423  0.125564   0.133804  0.255365   \n",
              "200303  0.033275  0.382077  0.551300 -0.079611  0.050399  36.099299  0.176971   \n",
              "200302  0.021873  0.141174 -0.105352 -0.147204 -0.047134   0.037265 -0.084389   \n",
              "\n",
              "TICKER    8.0       9.0       10.0    ...    1233.0    1234.0  1235.0  1236.0  \\\n",
              "202210  0.088226  0.035268  0.080022  ... -0.081479  0.001897     NaN     NaN   \n",
              "202209 -0.256076 -0.107093 -0.070149  ...  0.041886 -0.253796     NaN     NaN   \n",
              "202208  0.018059  0.032409  0.176039  ... -0.145800 -0.048463     NaN     NaN   \n",
              "202207  0.155629  0.156827 -0.060423  ...  0.078485 -0.160098     NaN     NaN   \n",
              "202206 -0.251703  0.004471 -0.117245  ... -0.164017 -0.081680     NaN     NaN   \n",
              "...          ...       ...       ...  ...       ...       ...     ...     ...   \n",
              "200306  0.017493  0.214309  0.106460  ...       NaN       NaN     NaN     NaN   \n",
              "200305 -0.057198 -0.029923 -0.002020  ...       NaN       NaN     NaN     NaN   \n",
              "200304  0.182462 -0.063037  0.339535  ...       NaN       NaN     NaN     NaN   \n",
              "200303  0.032819 -0.106661  0.286560  ...       NaN       NaN     NaN     NaN   \n",
              "200302 -0.029052 -0.042410 -0.087496  ...       NaN       NaN     NaN     NaN   \n",
              "\n",
              "TICKER    1237.0    1238.0    1239.0    1240.0    1241.0    1242.0  \n",
              "202210  0.017754 -0.038338 -0.025137 -0.063330  0.047736 -0.082764  \n",
              "202209 -0.057480 -0.090533 -0.182098 -0.074483 -0.001601 -0.173638  \n",
              "202208 -0.012613  0.071217 -0.060197  0.214663  0.174986 -0.163977  \n",
              "202207  0.045095  0.059226 -0.038707  0.077234  0.036502  0.184783  \n",
              "202206 -0.209230  0.060308  0.093577 -0.075751 -0.261309 -0.162446  \n",
              "...          ...       ...       ...       ...       ...       ...  \n",
              "200306       NaN  0.112575       NaN  0.214379       NaN       NaN  \n",
              "200305       NaN  0.165515       NaN  0.281787       NaN       NaN  \n",
              "200304       NaN  0.256816       NaN  0.115087       NaN       NaN  \n",
              "200303       NaN -0.261565       NaN -0.058430       NaN       NaN  \n",
              "200302       NaN -0.015296       NaN -0.059898       NaN       NaN  \n",
              "\n",
              "[237 rows x 1242 columns]"
            ],
            "text/html": [
              "\n",
              "  <div id=\"df-09d13297-bef6-481e-b9f2-7409ae28be50\">\n",
              "    <div class=\"colab-df-container\">\n",
              "      <div>\n",
              "<style scoped>\n",
              "    .dataframe tbody tr th:only-of-type {\n",
              "        vertical-align: middle;\n",
              "    }\n",
              "\n",
              "    .dataframe tbody tr th {\n",
              "        vertical-align: top;\n",
              "    }\n",
              "\n",
              "    .dataframe thead th {\n",
              "        text-align: right;\n",
              "    }\n",
              "</style>\n",
              "<table border=\"1\" class=\"dataframe\">\n",
              "  <thead>\n",
              "    <tr style=\"text-align: right;\">\n",
              "      <th>TICKER</th>\n",
              "      <th>1.0</th>\n",
              "      <th>2.0</th>\n",
              "      <th>3.0</th>\n",
              "      <th>4.0</th>\n",
              "      <th>5.0</th>\n",
              "      <th>6.0</th>\n",
              "      <th>7.0</th>\n",
              "      <th>8.0</th>\n",
              "      <th>9.0</th>\n",
              "      <th>10.0</th>\n",
              "      <th>...</th>\n",
              "      <th>1233.0</th>\n",
              "      <th>1234.0</th>\n",
              "      <th>1235.0</th>\n",
              "      <th>1236.0</th>\n",
              "      <th>1237.0</th>\n",
              "      <th>1238.0</th>\n",
              "      <th>1239.0</th>\n",
              "      <th>1240.0</th>\n",
              "      <th>1241.0</th>\n",
              "      <th>1242.0</th>\n",
              "    </tr>\n",
              "  </thead>\n",
              "  <tbody>\n",
              "    <tr>\n",
              "      <th>202210</th>\n",
              "      <td>0.015466</td>\n",
              "      <td>NaN</td>\n",
              "      <td>NaN</td>\n",
              "      <td>NaN</td>\n",
              "      <td>NaN</td>\n",
              "      <td>NaN</td>\n",
              "      <td>NaN</td>\n",
              "      <td>0.088226</td>\n",
              "      <td>0.035268</td>\n",
              "      <td>0.080022</td>\n",
              "      <td>...</td>\n",
              "      <td>-0.081479</td>\n",
              "      <td>0.001897</td>\n",
              "      <td>NaN</td>\n",
              "      <td>NaN</td>\n",
              "      <td>0.017754</td>\n",
              "      <td>-0.038338</td>\n",
              "      <td>-0.025137</td>\n",
              "      <td>-0.063330</td>\n",
              "      <td>0.047736</td>\n",
              "      <td>-0.082764</td>\n",
              "    </tr>\n",
              "    <tr>\n",
              "      <th>202209</th>\n",
              "      <td>-0.078267</td>\n",
              "      <td>NaN</td>\n",
              "      <td>NaN</td>\n",
              "      <td>NaN</td>\n",
              "      <td>NaN</td>\n",
              "      <td>NaN</td>\n",
              "      <td>NaN</td>\n",
              "      <td>-0.256076</td>\n",
              "      <td>-0.107093</td>\n",
              "      <td>-0.070149</td>\n",
              "      <td>...</td>\n",
              "      <td>0.041886</td>\n",
              "      <td>-0.253796</td>\n",
              "      <td>NaN</td>\n",
              "      <td>NaN</td>\n",
              "      <td>-0.057480</td>\n",
              "      <td>-0.090533</td>\n",
              "      <td>-0.182098</td>\n",
              "      <td>-0.074483</td>\n",
              "      <td>-0.001601</td>\n",
              "      <td>-0.173638</td>\n",
              "    </tr>\n",
              "    <tr>\n",
              "      <th>202208</th>\n",
              "      <td>0.022625</td>\n",
              "      <td>NaN</td>\n",
              "      <td>NaN</td>\n",
              "      <td>NaN</td>\n",
              "      <td>NaN</td>\n",
              "      <td>NaN</td>\n",
              "      <td>NaN</td>\n",
              "      <td>0.018059</td>\n",
              "      <td>0.032409</td>\n",
              "      <td>0.176039</td>\n",
              "      <td>...</td>\n",
              "      <td>-0.145800</td>\n",
              "      <td>-0.048463</td>\n",
              "      <td>NaN</td>\n",
              "      <td>NaN</td>\n",
              "      <td>-0.012613</td>\n",
              "      <td>0.071217</td>\n",
              "      <td>-0.060197</td>\n",
              "      <td>0.214663</td>\n",
              "      <td>0.174986</td>\n",
              "      <td>-0.163977</td>\n",
              "    </tr>\n",
              "    <tr>\n",
              "      <th>202207</th>\n",
              "      <td>-0.046285</td>\n",
              "      <td>NaN</td>\n",
              "      <td>NaN</td>\n",
              "      <td>NaN</td>\n",
              "      <td>NaN</td>\n",
              "      <td>NaN</td>\n",
              "      <td>NaN</td>\n",
              "      <td>0.155629</td>\n",
              "      <td>0.156827</td>\n",
              "      <td>-0.060423</td>\n",
              "      <td>...</td>\n",
              "      <td>0.078485</td>\n",
              "      <td>-0.160098</td>\n",
              "      <td>NaN</td>\n",
              "      <td>NaN</td>\n",
              "      <td>0.045095</td>\n",
              "      <td>0.059226</td>\n",
              "      <td>-0.038707</td>\n",
              "      <td>0.077234</td>\n",
              "      <td>0.036502</td>\n",
              "      <td>0.184783</td>\n",
              "    </tr>\n",
              "    <tr>\n",
              "      <th>202206</th>\n",
              "      <td>-0.174248</td>\n",
              "      <td>NaN</td>\n",
              "      <td>NaN</td>\n",
              "      <td>NaN</td>\n",
              "      <td>NaN</td>\n",
              "      <td>NaN</td>\n",
              "      <td>NaN</td>\n",
              "      <td>-0.251703</td>\n",
              "      <td>0.004471</td>\n",
              "      <td>-0.117245</td>\n",
              "      <td>...</td>\n",
              "      <td>-0.164017</td>\n",
              "      <td>-0.081680</td>\n",
              "      <td>NaN</td>\n",
              "      <td>NaN</td>\n",
              "      <td>-0.209230</td>\n",
              "      <td>0.060308</td>\n",
              "      <td>0.093577</td>\n",
              "      <td>-0.075751</td>\n",
              "      <td>-0.261309</td>\n",
              "      <td>-0.162446</td>\n",
              "    </tr>\n",
              "    <tr>\n",
              "      <th>...</th>\n",
              "      <td>...</td>\n",
              "      <td>...</td>\n",
              "      <td>...</td>\n",
              "      <td>...</td>\n",
              "      <td>...</td>\n",
              "      <td>...</td>\n",
              "      <td>...</td>\n",
              "      <td>...</td>\n",
              "      <td>...</td>\n",
              "      <td>...</td>\n",
              "      <td>...</td>\n",
              "      <td>...</td>\n",
              "      <td>...</td>\n",
              "      <td>...</td>\n",
              "      <td>...</td>\n",
              "      <td>...</td>\n",
              "      <td>...</td>\n",
              "      <td>...</td>\n",
              "      <td>...</td>\n",
              "      <td>...</td>\n",
              "      <td>...</td>\n",
              "    </tr>\n",
              "    <tr>\n",
              "      <th>200306</th>\n",
              "      <td>-0.033725</td>\n",
              "      <td>0.022944</td>\n",
              "      <td>-0.041206</td>\n",
              "      <td>0.037502</td>\n",
              "      <td>-0.000805</td>\n",
              "      <td>-0.120038</td>\n",
              "      <td>-0.096703</td>\n",
              "      <td>0.017493</td>\n",
              "      <td>0.214309</td>\n",
              "      <td>0.106460</td>\n",
              "      <td>...</td>\n",
              "      <td>NaN</td>\n",
              "      <td>NaN</td>\n",
              "      <td>NaN</td>\n",
              "      <td>NaN</td>\n",
              "      <td>NaN</td>\n",
              "      <td>0.112575</td>\n",
              "      <td>NaN</td>\n",
              "      <td>0.214379</td>\n",
              "      <td>NaN</td>\n",
              "      <td>NaN</td>\n",
              "    </tr>\n",
              "    <tr>\n",
              "      <th>200305</th>\n",
              "      <td>0.018288</td>\n",
              "      <td>0.347534</td>\n",
              "      <td>0.058162</td>\n",
              "      <td>0.317328</td>\n",
              "      <td>0.034123</td>\n",
              "      <td>0.589883</td>\n",
              "      <td>0.144294</td>\n",
              "      <td>-0.057198</td>\n",
              "      <td>-0.029923</td>\n",
              "      <td>-0.002020</td>\n",
              "      <td>...</td>\n",
              "      <td>NaN</td>\n",
              "      <td>NaN</td>\n",
              "      <td>NaN</td>\n",
              "      <td>NaN</td>\n",
              "      <td>NaN</td>\n",
              "      <td>0.165515</td>\n",
              "      <td>NaN</td>\n",
              "      <td>0.281787</td>\n",
              "      <td>NaN</td>\n",
              "      <td>NaN</td>\n",
              "    </tr>\n",
              "    <tr>\n",
              "      <th>200304</th>\n",
              "      <td>0.232334</td>\n",
              "      <td>0.516898</td>\n",
              "      <td>0.754661</td>\n",
              "      <td>0.103423</td>\n",
              "      <td>0.125564</td>\n",
              "      <td>0.133804</td>\n",
              "      <td>0.255365</td>\n",
              "      <td>0.182462</td>\n",
              "      <td>-0.063037</td>\n",
              "      <td>0.339535</td>\n",
              "      <td>...</td>\n",
              "      <td>NaN</td>\n",
              "      <td>NaN</td>\n",
              "      <td>NaN</td>\n",
              "      <td>NaN</td>\n",
              "      <td>NaN</td>\n",
              "      <td>0.256816</td>\n",
              "      <td>NaN</td>\n",
              "      <td>0.115087</td>\n",
              "      <td>NaN</td>\n",
              "      <td>NaN</td>\n",
              "    </tr>\n",
              "    <tr>\n",
              "      <th>200303</th>\n",
              "      <td>0.033275</td>\n",
              "      <td>0.382077</td>\n",
              "      <td>0.551300</td>\n",
              "      <td>-0.079611</td>\n",
              "      <td>0.050399</td>\n",
              "      <td>36.099299</td>\n",
              "      <td>0.176971</td>\n",
              "      <td>0.032819</td>\n",
              "      <td>-0.106661</td>\n",
              "      <td>0.286560</td>\n",
              "      <td>...</td>\n",
              "      <td>NaN</td>\n",
              "      <td>NaN</td>\n",
              "      <td>NaN</td>\n",
              "      <td>NaN</td>\n",
              "      <td>NaN</td>\n",
              "      <td>-0.261565</td>\n",
              "      <td>NaN</td>\n",
              "      <td>-0.058430</td>\n",
              "      <td>NaN</td>\n",
              "      <td>NaN</td>\n",
              "    </tr>\n",
              "    <tr>\n",
              "      <th>200302</th>\n",
              "      <td>0.021873</td>\n",
              "      <td>0.141174</td>\n",
              "      <td>-0.105352</td>\n",
              "      <td>-0.147204</td>\n",
              "      <td>-0.047134</td>\n",
              "      <td>0.037265</td>\n",
              "      <td>-0.084389</td>\n",
              "      <td>-0.029052</td>\n",
              "      <td>-0.042410</td>\n",
              "      <td>-0.087496</td>\n",
              "      <td>...</td>\n",
              "      <td>NaN</td>\n",
              "      <td>NaN</td>\n",
              "      <td>NaN</td>\n",
              "      <td>NaN</td>\n",
              "      <td>NaN</td>\n",
              "      <td>-0.015296</td>\n",
              "      <td>NaN</td>\n",
              "      <td>-0.059898</td>\n",
              "      <td>NaN</td>\n",
              "      <td>NaN</td>\n",
              "    </tr>\n",
              "  </tbody>\n",
              "</table>\n",
              "<p>237 rows × 1242 columns</p>\n",
              "</div>\n",
              "      <button class=\"colab-df-convert\" onclick=\"convertToInteractive('df-09d13297-bef6-481e-b9f2-7409ae28be50')\"\n",
              "              title=\"Convert this dataframe to an interactive table.\"\n",
              "              style=\"display:none;\">\n",
              "        \n",
              "  <svg xmlns=\"http://www.w3.org/2000/svg\" height=\"24px\"viewBox=\"0 0 24 24\"\n",
              "       width=\"24px\">\n",
              "    <path d=\"M0 0h24v24H0V0z\" fill=\"none\"/>\n",
              "    <path d=\"M18.56 5.44l.94 2.06.94-2.06 2.06-.94-2.06-.94-.94-2.06-.94 2.06-2.06.94zm-11 1L8.5 8.5l.94-2.06 2.06-.94-2.06-.94L8.5 2.5l-.94 2.06-2.06.94zm10 10l.94 2.06.94-2.06 2.06-.94-2.06-.94-.94-2.06-.94 2.06-2.06.94z\"/><path d=\"M17.41 7.96l-1.37-1.37c-.4-.4-.92-.59-1.43-.59-.52 0-1.04.2-1.43.59L10.3 9.45l-7.72 7.72c-.78.78-.78 2.05 0 2.83L4 21.41c.39.39.9.59 1.41.59.51 0 1.02-.2 1.41-.59l7.78-7.78 2.81-2.81c.8-.78.8-2.07 0-2.86zM5.41 20L4 18.59l7.72-7.72 1.47 1.35L5.41 20z\"/>\n",
              "  </svg>\n",
              "      </button>\n",
              "      \n",
              "  <style>\n",
              "    .colab-df-container {\n",
              "      display:flex;\n",
              "      flex-wrap:wrap;\n",
              "      gap: 12px;\n",
              "    }\n",
              "\n",
              "    .colab-df-convert {\n",
              "      background-color: #E8F0FE;\n",
              "      border: none;\n",
              "      border-radius: 50%;\n",
              "      cursor: pointer;\n",
              "      display: none;\n",
              "      fill: #1967D2;\n",
              "      height: 32px;\n",
              "      padding: 0 0 0 0;\n",
              "      width: 32px;\n",
              "    }\n",
              "\n",
              "    .colab-df-convert:hover {\n",
              "      background-color: #E2EBFA;\n",
              "      box-shadow: 0px 1px 2px rgba(60, 64, 67, 0.3), 0px 1px 3px 1px rgba(60, 64, 67, 0.15);\n",
              "      fill: #174EA6;\n",
              "    }\n",
              "\n",
              "    [theme=dark] .colab-df-convert {\n",
              "      background-color: #3B4455;\n",
              "      fill: #D2E3FC;\n",
              "    }\n",
              "\n",
              "    [theme=dark] .colab-df-convert:hover {\n",
              "      background-color: #434B5C;\n",
              "      box-shadow: 0px 1px 3px 1px rgba(0, 0, 0, 0.15);\n",
              "      filter: drop-shadow(0px 1px 2px rgba(0, 0, 0, 0.3));\n",
              "      fill: #FFFFFF;\n",
              "    }\n",
              "  </style>\n",
              "\n",
              "      <script>\n",
              "        const buttonEl =\n",
              "          document.querySelector('#df-09d13297-bef6-481e-b9f2-7409ae28be50 button.colab-df-convert');\n",
              "        buttonEl.style.display =\n",
              "          google.colab.kernel.accessAllowed ? 'block' : 'none';\n",
              "\n",
              "        async function convertToInteractive(key) {\n",
              "          const element = document.querySelector('#df-09d13297-bef6-481e-b9f2-7409ae28be50');\n",
              "          const dataTable =\n",
              "            await google.colab.kernel.invokeFunction('convertToInteractive',\n",
              "                                                     [key], {});\n",
              "          if (!dataTable) return;\n",
              "\n",
              "          const docLinkHtml = 'Like what you see? Visit the ' +\n",
              "            '<a target=\"_blank\" href=https://colab.research.google.com/notebooks/data_table.ipynb>data table notebook</a>'\n",
              "            + ' to learn more about interactive tables.';\n",
              "          element.innerHTML = '';\n",
              "          dataTable['output_type'] = 'display_data';\n",
              "          await google.colab.output.renderOutput(dataTable, element);\n",
              "          const docLink = document.createElement('div');\n",
              "          docLink.innerHTML = docLinkHtml;\n",
              "          element.appendChild(docLink);\n",
              "        }\n",
              "      </script>\n",
              "    </div>\n",
              "  </div>\n",
              "  "
            ]
          },
          "metadata": {},
          "execution_count": 31
        }
      ]
    },
    {
      "cell_type": "markdown",
      "source": [
        "Let's view our data... right orientation? no nan?"
      ],
      "metadata": {
        "id": "DKDo_lmh8hyH"
      },
      "id": "DKDo_lmh8hyH"
    },
    {
      "cell_type": "code",
      "source": [
        "df_tb3ms.head()\n",
        "df_ff_factors.head()\n",
        "df_sec_rets.head()"
      ],
      "metadata": {
        "colab": {
          "base_uri": "https://localhost:8080/",
          "height": 235
        },
        "id": "no3eiJPP8ffl",
        "outputId": "520a62d1-907c-4a43-e5ee-718628908ab2"
      },
      "id": "no3eiJPP8ffl",
      "execution_count": 32,
      "outputs": [
        {
          "output_type": "execute_result",
          "data": {
            "text/plain": [
              "TICKER    1.0     2.0     3.0     4.0     5.0     6.0     7.0       8.0     \\\n",
              "202210  0.015466     NaN     NaN     NaN     NaN     NaN     NaN  0.088226   \n",
              "202209 -0.078267     NaN     NaN     NaN     NaN     NaN     NaN -0.256076   \n",
              "202208  0.022625     NaN     NaN     NaN     NaN     NaN     NaN  0.018059   \n",
              "202207 -0.046285     NaN     NaN     NaN     NaN     NaN     NaN  0.155629   \n",
              "202206 -0.174248     NaN     NaN     NaN     NaN     NaN     NaN -0.251703   \n",
              "\n",
              "TICKER    9.0       10.0    ...    1233.0    1234.0  1235.0  1236.0    1237.0  \\\n",
              "202210  0.035268  0.080022  ... -0.081479  0.001897     NaN     NaN  0.017754   \n",
              "202209 -0.107093 -0.070149  ...  0.041886 -0.253796     NaN     NaN -0.057480   \n",
              "202208  0.032409  0.176039  ... -0.145800 -0.048463     NaN     NaN -0.012613   \n",
              "202207  0.156827 -0.060423  ...  0.078485 -0.160098     NaN     NaN  0.045095   \n",
              "202206  0.004471 -0.117245  ... -0.164017 -0.081680     NaN     NaN -0.209230   \n",
              "\n",
              "TICKER    1238.0    1239.0    1240.0    1241.0    1242.0  \n",
              "202210 -0.038338 -0.025137 -0.063330  0.047736 -0.082764  \n",
              "202209 -0.090533 -0.182098 -0.074483 -0.001601 -0.173638  \n",
              "202208  0.071217 -0.060197  0.214663  0.174986 -0.163977  \n",
              "202207  0.059226 -0.038707  0.077234  0.036502  0.184783  \n",
              "202206  0.060308  0.093577 -0.075751 -0.261309 -0.162446  \n",
              "\n",
              "[5 rows x 1242 columns]"
            ],
            "text/html": [
              "\n",
              "  <div id=\"df-8032f195-4bb0-4cf2-94c5-43506d9eae0b\">\n",
              "    <div class=\"colab-df-container\">\n",
              "      <div>\n",
              "<style scoped>\n",
              "    .dataframe tbody tr th:only-of-type {\n",
              "        vertical-align: middle;\n",
              "    }\n",
              "\n",
              "    .dataframe tbody tr th {\n",
              "        vertical-align: top;\n",
              "    }\n",
              "\n",
              "    .dataframe thead th {\n",
              "        text-align: right;\n",
              "    }\n",
              "</style>\n",
              "<table border=\"1\" class=\"dataframe\">\n",
              "  <thead>\n",
              "    <tr style=\"text-align: right;\">\n",
              "      <th>TICKER</th>\n",
              "      <th>1.0</th>\n",
              "      <th>2.0</th>\n",
              "      <th>3.0</th>\n",
              "      <th>4.0</th>\n",
              "      <th>5.0</th>\n",
              "      <th>6.0</th>\n",
              "      <th>7.0</th>\n",
              "      <th>8.0</th>\n",
              "      <th>9.0</th>\n",
              "      <th>10.0</th>\n",
              "      <th>...</th>\n",
              "      <th>1233.0</th>\n",
              "      <th>1234.0</th>\n",
              "      <th>1235.0</th>\n",
              "      <th>1236.0</th>\n",
              "      <th>1237.0</th>\n",
              "      <th>1238.0</th>\n",
              "      <th>1239.0</th>\n",
              "      <th>1240.0</th>\n",
              "      <th>1241.0</th>\n",
              "      <th>1242.0</th>\n",
              "    </tr>\n",
              "  </thead>\n",
              "  <tbody>\n",
              "    <tr>\n",
              "      <th>202210</th>\n",
              "      <td>0.015466</td>\n",
              "      <td>NaN</td>\n",
              "      <td>NaN</td>\n",
              "      <td>NaN</td>\n",
              "      <td>NaN</td>\n",
              "      <td>NaN</td>\n",
              "      <td>NaN</td>\n",
              "      <td>0.088226</td>\n",
              "      <td>0.035268</td>\n",
              "      <td>0.080022</td>\n",
              "      <td>...</td>\n",
              "      <td>-0.081479</td>\n",
              "      <td>0.001897</td>\n",
              "      <td>NaN</td>\n",
              "      <td>NaN</td>\n",
              "      <td>0.017754</td>\n",
              "      <td>-0.038338</td>\n",
              "      <td>-0.025137</td>\n",
              "      <td>-0.063330</td>\n",
              "      <td>0.047736</td>\n",
              "      <td>-0.082764</td>\n",
              "    </tr>\n",
              "    <tr>\n",
              "      <th>202209</th>\n",
              "      <td>-0.078267</td>\n",
              "      <td>NaN</td>\n",
              "      <td>NaN</td>\n",
              "      <td>NaN</td>\n",
              "      <td>NaN</td>\n",
              "      <td>NaN</td>\n",
              "      <td>NaN</td>\n",
              "      <td>-0.256076</td>\n",
              "      <td>-0.107093</td>\n",
              "      <td>-0.070149</td>\n",
              "      <td>...</td>\n",
              "      <td>0.041886</td>\n",
              "      <td>-0.253796</td>\n",
              "      <td>NaN</td>\n",
              "      <td>NaN</td>\n",
              "      <td>-0.057480</td>\n",
              "      <td>-0.090533</td>\n",
              "      <td>-0.182098</td>\n",
              "      <td>-0.074483</td>\n",
              "      <td>-0.001601</td>\n",
              "      <td>-0.173638</td>\n",
              "    </tr>\n",
              "    <tr>\n",
              "      <th>202208</th>\n",
              "      <td>0.022625</td>\n",
              "      <td>NaN</td>\n",
              "      <td>NaN</td>\n",
              "      <td>NaN</td>\n",
              "      <td>NaN</td>\n",
              "      <td>NaN</td>\n",
              "      <td>NaN</td>\n",
              "      <td>0.018059</td>\n",
              "      <td>0.032409</td>\n",
              "      <td>0.176039</td>\n",
              "      <td>...</td>\n",
              "      <td>-0.145800</td>\n",
              "      <td>-0.048463</td>\n",
              "      <td>NaN</td>\n",
              "      <td>NaN</td>\n",
              "      <td>-0.012613</td>\n",
              "      <td>0.071217</td>\n",
              "      <td>-0.060197</td>\n",
              "      <td>0.214663</td>\n",
              "      <td>0.174986</td>\n",
              "      <td>-0.163977</td>\n",
              "    </tr>\n",
              "    <tr>\n",
              "      <th>202207</th>\n",
              "      <td>-0.046285</td>\n",
              "      <td>NaN</td>\n",
              "      <td>NaN</td>\n",
              "      <td>NaN</td>\n",
              "      <td>NaN</td>\n",
              "      <td>NaN</td>\n",
              "      <td>NaN</td>\n",
              "      <td>0.155629</td>\n",
              "      <td>0.156827</td>\n",
              "      <td>-0.060423</td>\n",
              "      <td>...</td>\n",
              "      <td>0.078485</td>\n",
              "      <td>-0.160098</td>\n",
              "      <td>NaN</td>\n",
              "      <td>NaN</td>\n",
              "      <td>0.045095</td>\n",
              "      <td>0.059226</td>\n",
              "      <td>-0.038707</td>\n",
              "      <td>0.077234</td>\n",
              "      <td>0.036502</td>\n",
              "      <td>0.184783</td>\n",
              "    </tr>\n",
              "    <tr>\n",
              "      <th>202206</th>\n",
              "      <td>-0.174248</td>\n",
              "      <td>NaN</td>\n",
              "      <td>NaN</td>\n",
              "      <td>NaN</td>\n",
              "      <td>NaN</td>\n",
              "      <td>NaN</td>\n",
              "      <td>NaN</td>\n",
              "      <td>-0.251703</td>\n",
              "      <td>0.004471</td>\n",
              "      <td>-0.117245</td>\n",
              "      <td>...</td>\n",
              "      <td>-0.164017</td>\n",
              "      <td>-0.081680</td>\n",
              "      <td>NaN</td>\n",
              "      <td>NaN</td>\n",
              "      <td>-0.209230</td>\n",
              "      <td>0.060308</td>\n",
              "      <td>0.093577</td>\n",
              "      <td>-0.075751</td>\n",
              "      <td>-0.261309</td>\n",
              "      <td>-0.162446</td>\n",
              "    </tr>\n",
              "  </tbody>\n",
              "</table>\n",
              "<p>5 rows × 1242 columns</p>\n",
              "</div>\n",
              "      <button class=\"colab-df-convert\" onclick=\"convertToInteractive('df-8032f195-4bb0-4cf2-94c5-43506d9eae0b')\"\n",
              "              title=\"Convert this dataframe to an interactive table.\"\n",
              "              style=\"display:none;\">\n",
              "        \n",
              "  <svg xmlns=\"http://www.w3.org/2000/svg\" height=\"24px\"viewBox=\"0 0 24 24\"\n",
              "       width=\"24px\">\n",
              "    <path d=\"M0 0h24v24H0V0z\" fill=\"none\"/>\n",
              "    <path d=\"M18.56 5.44l.94 2.06.94-2.06 2.06-.94-2.06-.94-.94-2.06-.94 2.06-2.06.94zm-11 1L8.5 8.5l.94-2.06 2.06-.94-2.06-.94L8.5 2.5l-.94 2.06-2.06.94zm10 10l.94 2.06.94-2.06 2.06-.94-2.06-.94-.94-2.06-.94 2.06-2.06.94z\"/><path d=\"M17.41 7.96l-1.37-1.37c-.4-.4-.92-.59-1.43-.59-.52 0-1.04.2-1.43.59L10.3 9.45l-7.72 7.72c-.78.78-.78 2.05 0 2.83L4 21.41c.39.39.9.59 1.41.59.51 0 1.02-.2 1.41-.59l7.78-7.78 2.81-2.81c.8-.78.8-2.07 0-2.86zM5.41 20L4 18.59l7.72-7.72 1.47 1.35L5.41 20z\"/>\n",
              "  </svg>\n",
              "      </button>\n",
              "      \n",
              "  <style>\n",
              "    .colab-df-container {\n",
              "      display:flex;\n",
              "      flex-wrap:wrap;\n",
              "      gap: 12px;\n",
              "    }\n",
              "\n",
              "    .colab-df-convert {\n",
              "      background-color: #E8F0FE;\n",
              "      border: none;\n",
              "      border-radius: 50%;\n",
              "      cursor: pointer;\n",
              "      display: none;\n",
              "      fill: #1967D2;\n",
              "      height: 32px;\n",
              "      padding: 0 0 0 0;\n",
              "      width: 32px;\n",
              "    }\n",
              "\n",
              "    .colab-df-convert:hover {\n",
              "      background-color: #E2EBFA;\n",
              "      box-shadow: 0px 1px 2px rgba(60, 64, 67, 0.3), 0px 1px 3px 1px rgba(60, 64, 67, 0.15);\n",
              "      fill: #174EA6;\n",
              "    }\n",
              "\n",
              "    [theme=dark] .colab-df-convert {\n",
              "      background-color: #3B4455;\n",
              "      fill: #D2E3FC;\n",
              "    }\n",
              "\n",
              "    [theme=dark] .colab-df-convert:hover {\n",
              "      background-color: #434B5C;\n",
              "      box-shadow: 0px 1px 3px 1px rgba(0, 0, 0, 0.15);\n",
              "      filter: drop-shadow(0px 1px 2px rgba(0, 0, 0, 0.3));\n",
              "      fill: #FFFFFF;\n",
              "    }\n",
              "  </style>\n",
              "\n",
              "      <script>\n",
              "        const buttonEl =\n",
              "          document.querySelector('#df-8032f195-4bb0-4cf2-94c5-43506d9eae0b button.colab-df-convert');\n",
              "        buttonEl.style.display =\n",
              "          google.colab.kernel.accessAllowed ? 'block' : 'none';\n",
              "\n",
              "        async function convertToInteractive(key) {\n",
              "          const element = document.querySelector('#df-8032f195-4bb0-4cf2-94c5-43506d9eae0b');\n",
              "          const dataTable =\n",
              "            await google.colab.kernel.invokeFunction('convertToInteractive',\n",
              "                                                     [key], {});\n",
              "          if (!dataTable) return;\n",
              "\n",
              "          const docLinkHtml = 'Like what you see? Visit the ' +\n",
              "            '<a target=\"_blank\" href=https://colab.research.google.com/notebooks/data_table.ipynb>data table notebook</a>'\n",
              "            + ' to learn more about interactive tables.';\n",
              "          element.innerHTML = '';\n",
              "          dataTable['output_type'] = 'display_data';\n",
              "          await google.colab.output.renderOutput(dataTable, element);\n",
              "          const docLink = document.createElement('div');\n",
              "          docLink.innerHTML = docLinkHtml;\n",
              "          element.appendChild(docLink);\n",
              "        }\n",
              "      </script>\n",
              "    </div>\n",
              "  </div>\n",
              "  "
            ]
          },
          "metadata": {},
          "execution_count": 32
        }
      ]
    },
    {
      "cell_type": "markdown",
      "source": [
        "Enforce the end and start dates and ensure date alignment across all data we are using... take the data with the earliest end date as the end date for all series... do the same for the start date too."
      ],
      "metadata": {
        "id": "oAF8KRFR3b4r"
      },
      "id": "oAF8KRFR3b4r"
    },
    {
      "cell_type": "code",
      "source": [
        "# Enforce the end date...\n",
        "# Get the end_date that we will use, this will be the study end date...\n",
        "end_date = min([max(df_tb3ms.index.astype(int)), max(df_ff_factors.index.astype(int)), max(df_sec_rets.index.astype(int))])\n",
        "\n",
        "# Remove all date columns after the end_date\n",
        "df_tb3ms = df_tb3ms.drop(index=df_tb3ms.index[df_tb3ms.index.astype(int) > end_date])\n",
        "df_ff_factors = df_ff_factors.drop(index=df_ff_factors.index[df_ff_factors.index.astype(int) > end_date])\n",
        "df_sec_rets = df_sec_rets.drop(index=df_sec_rets.index[df_sec_rets.index.astype(int) > end_date])\n",
        "\n",
        "# Enforce the start date...\n",
        "# Get the start_date that we will use, this will be the study start date...\n",
        "start_date = max([min(df_tb3ms.index.astype(int)), min(df_ff_factors.index.astype(int)), min(df_sec_rets.index.astype(int))])\n",
        "\n",
        "# Remove all date columns after the end_date\n",
        "df_tb3ms = df_tb3ms.drop(index=df_tb3ms.index[df_tb3ms.index.astype(int) < start_date])\n",
        "df_ff_factors = df_ff_factors.drop(index=df_ff_factors.index[df_ff_factors.index.astype(int) < start_date])\n",
        "df_sec_rets = df_sec_rets.drop(index=df_sec_rets.index[df_sec_rets.index.astype(int) < start_date])"
      ],
      "metadata": {
        "id": "V833tHXC3hrC"
      },
      "id": "V833tHXC3hrC",
      "execution_count": 33,
      "outputs": []
    },
    {
      "cell_type": "markdown",
      "source": [
        "Sanity check you data for errors and (silly) mistakes. Eye ball the distributions and correlations too. Here are some of the checks you can do.\n",
        "\n",
        "1. Date alignment errors\n",
        "2. Check all percentages are formatted correctly\n",
        "3. Check nan values have a low count"
      ],
      "metadata": {
        "id": "xRx5AoQGHUP2"
      },
      "id": "xRx5AoQGHUP2"
    },
    {
      "cell_type": "code",
      "source": [
        "# Sanity checking\n",
        "# 1: Dates are aligned?\n",
        "if  (df_tb3ms.index.equals(df_ff_factors.index) == False) | (df_ff_factors.index.equals(df_sec_rets.index) == False):\n",
        "  raise TypeError('Sanity: Dates are not aligned...')\n",
        "\n",
        "# 2: Percentages are percentages (not decimals)? \n",
        "# Check df_tb3ms median is within median +/- 2standard deviations of df_ff_factors\n",
        "med_abs = df_ff_factors.iloc[:,:].abs().median(skipna=True).median(skipna=True)\n",
        "sd = df_ff_factors.iloc[:,:].std(skipna=True).median(skipna=True)\n",
        "if (med_abs + sd*5 < df_tb3ms.iloc[0,:].abs().median(skipna=True)) | (med_abs - sd*5 > df_tb3ms.iloc[0,:].abs().median(skipna=True)):  \n",
        "  raise TypeError('Sanity: df_ff_factors values to be outside of a sensible range...')  \n",
        "if (med_abs + sd*5 < df_sec_rets.abs().median(skipna=True).median(skipna=True)) | (med_abs - sd*5 > df_sec_rets.abs().median(skipna=True).median(skipna=True)):  \n",
        "  raise TypeError('Sanity: df_ff_factors values to be outside of a sensible range...')  \n",
        "\n",
        "# Check df_ff_factors median is within median +/- 2standard deviations of df_ff_factors\n",
        "med_abs = df_tb3ms.iloc[0,:].abs().median(skipna=True) # only one row... only one median call needed\n",
        "sd = df_tb3ms.iloc[0,:].std(skipna=True) # only one row... no median call needed\n",
        "if (med_abs + sd*5 < df_ff_factors.iloc[0,:].abs().median(skipna=True)) | (med_abs - sd*5 > df_ff_factors.iloc[0,:].abs().median(skipna=True)):  \n",
        "  raise TypeError('Sanity: df_tb3ms values to be outside of a sensible range...')  \n",
        "if (med_abs + sd*5 < df_sec_rets.abs().median(skipna=True).median(skipna=True)) | (med_abs - sd*5 > df_sec_rets.abs().median(skipna=True).median(skipna=True)):  \n",
        "  raise TypeError('Sanity: df_tb3ms values to be outside of a sensible range...')  \n",
        "\n",
        "# Check df_sec_rets median is within median +/- 2standard deviations of df_ff_factors\n",
        "med_abs = df_sec_rets.abs().median(skipna=True).median(skipna=True)\n",
        "# median of each row, median across rows\n",
        "sd = df_sec_rets.std(skipna=True).median(skipna=True) # std of each row, median across rows\n",
        "if (med_abs + sd*5 < df_tb3ms.iloc[0,:].abs().median(skipna=True)) | (med_abs - sd*5 > df_tb3ms.iloc[0,:].abs().median(skipna=True)):  \n",
        "  raise TypeError('Sanity: df_sec_rets values appear to be outside of a sensible range...')  \n",
        "if (med_abs + sd*5 < df_ff_factors.iloc[0,:].abs().median(skipna=True)) | (med_abs - sd*5 > df_ff_factors.iloc[0,:].abs().median(skipna=True)):  \n",
        "  raise TypeError('Sanity: df_sec_rets values appear to be outside of a sensible range...')  \n",
        "\n",
        "# 3: Many nan? \n",
        "if df_tb3ms[df_tb3ms==np.nan].count().sum() / (df_tb3ms.shape[0]*df_tb3ms.shape[1]) > 0.33:\n",
        "  raise TypeError('Sanity: df_tb3ms; > 33% of values are nan')  \n",
        "if df_ff_factors[df_ff_factors==np.nan].count().sum() / (df_ff_factors.shape[0]*df_ff_factors.shape[1]) > 0.33:\n",
        "  raise TypeError('Sanity: df_ff_factors; > 33% of values are nan')  \n",
        "if df_sec_rets[df_sec_rets==np.nan].count().sum() / (df_sec_rets.shape[0]*df_sec_rets.shape[1]) > 0.33:\n",
        "  raise TypeError('Sanity: df_sec_rets; > 33% of values are nan')  \n"
      ],
      "metadata": {
        "id": "aVpD0zJeHUe1"
      },
      "id": "aVpD0zJeHUe1",
      "execution_count": 34,
      "outputs": []
    },
    {
      "cell_type": "markdown",
      "source": [
        "# 1. Traditional Quantitative approach: Linear Factors\n",
        "\n",
        "We first examine a traditional quantitative approach noting the biases involved in the construction of a traditional stock selection model, the basis of quantitative equity investment approaches for the vast majority of quant managers.\n",
        "We will use a fundamental factor model, also known as a cross-sectional factor model, after Fama and French. These models use linear regression to fit common factors (value (HML), small cap (SMB), etc) to stock returns, by learning coefficients (betas or factor loadings) for each factor.\n"
      ],
      "metadata": {
        "id": "XfaxyT9k1Lpc"
      },
      "id": "XfaxyT9k1Lpc"
    },
    {
      "cell_type": "markdown",
      "source": [
        "### Bias Alert: Linear Regression Violations\n",
        "\n",
        "The four most common violations of classical regression theory that occur in cross-sectional factor models are: \n",
        "\n",
        "1. multicollinearity*: correrlation in input variables\n",
        "2. the errors in variables problem**: where incorrectly measured variables or proxy variables are used\n",
        "3. common variation in residuals** such as heteroskedasticity\n",
        "4. endogeneity***: where the returns from the stock we are modelling affect the input variables. This might be caused by too many investors using similar models.\n",
        "\n",
        "*: Multicolinearity is best dealt with by removing collinear variables from the regression\n",
        "**: There are statistical techniques that address 2, and 3.\n",
        "***: Endogenous bias is extremely difficult to detect and deal with. We will come onto this.\n",
        "\n"
      ],
      "metadata": {
        "id": "6AlqY3tEAWPw"
      },
      "id": "6AlqY3tEAWPw"
    },
    {
      "cell_type": "code",
      "source": [
        "# 4: Eye ball the distributions...\n",
        "import seaborn as sns\n",
        "import matplotlib.pyplot as plt\n",
        "from scipy import stats\n",
        "from scipy.stats import pearsonr\n",
        "from scipy.stats import shapiro\n",
        "\n",
        "# Function we will call to add R2 and p-val to the off-diagonal cells of the pair plot\n",
        "def R2func(x, y, hue=None, ax=None, **kws):\n",
        "    \"\"\"Plot the correlation coefficient in the top left hand corner of a plot.\"\"\"\n",
        "    _, _, r, p, _ = stats.linregress(x, y)\n",
        "    ax = ax or plt.gca()\n",
        "    ax.annotate(f'ρ = {r:.2f}', xy=(.1, .9), xycoords=ax.transAxes)\n",
        "    ax.annotate(f'p-val = {p:.2f}', xy=(.1, .8), xycoords=ax.transAxes)\n",
        "\n",
        "# Function we will call to add normality test stat and p-val to diagnonal cells of pair plot\n",
        "# Note that inputs to linear regression are not required to be normally distributed.\n",
        "def normalityfunc(x, hue=None, ax=None, **kws):\n",
        "    \"\"\"Plot the Shapiro Wilk p-value in the top left hand corner of diagonal cells.\"\"\"\n",
        "    stat, p = shapiro(x)\n",
        "    ax = ax or plt.gca()\n",
        "    ax.annotate(f'Shapiro-Wilk stat = {stat:.2f}', xy=(.1, .9), xycoords=ax.transAxes)\n",
        "    ax.annotate(f'p-val = {p:.2f}', xy=(.1, .8), xycoords=ax.transAxes)\n",
        "\n",
        "# Generate pairplot\n",
        "pp = sns.pairplot(df_ff_factors, kind='reg', diag_kind='kde',\n",
        "             plot_kws={'line_kws':{'color':'red'}})\n",
        "\n",
        "# Run the R2func for all off diagnonal cells, and normalityfunc for the diagonal ones...\n",
        "pp.map_lower(R2func)\n",
        "pp.map_upper(R2func)\n",
        "pp.map_diag(normalityfunc)\n",
        "\n",
        "# Title...\n",
        "pp.fig.subplots_adjust(top=0.9) # adjust the Figure in rp\n",
        "\n",
        "pp.fig.suptitle('Linear Regression Violation Check: Normality test for factors, pair-wise correlation test')\n",
        "\n",
        "plt.show()\n"
      ],
      "metadata": {
        "colab": {
          "base_uri": "https://localhost:8080/",
          "height": 899
        },
        "id": "asS8WQRCAVgY",
        "outputId": "3b811481-1868-4f27-e3b9-53cb1279a9fa"
      },
      "id": "asS8WQRCAVgY",
      "execution_count": 35,
      "outputs": [
        {
          "output_type": "display_data",
          "data": {
            "text/plain": [
              "<Figure size 900x900 with 30 Axes>"
            ],
            "image/png": "[encoded data removed]"
          },
          "metadata": {
            "needs_background": "light"
          }
        }
      ]
    },
    {
      "cell_type": "markdown",
      "source": [
        "### Simple Factor model\n",
        "\n",
        "We now specify our factor model using OLS regression, with the option of robust standard error. We will wrap this up as a function, so as we can call it multiple times over the study term, to generate trades for each month.\n",
        "\n",
        "Note that we sanity check parameters, to provide basic checks, and we analyse the residuals produced by the model to ensure residuals are normally distributed (using a SHapiro-Wilk test in this case, with the option of generating a scatter plot in the function too).\n",
        "Let us run the function, using our 5 factor regression on the first security in the dataset, column=0.\n",
        "\n",
        "Many refinements can be made to this simple model."
      ],
      "metadata": {
        "id": "nhdLvBG4gUiI"
      },
      "id": "nhdLvBG4gUiI"
    },
    {
      "cell_type": "code",
      "source": [
        "# Packages to use...\n",
        "import statsmodels\n",
        "from statsmodels.regression.linear_model import OLS\n",
        "import statsmodels.api as sm\n",
        "\n",
        "\n",
        "# Function that will run our OLS model, for a given security, over a given period\n",
        "# Note the two optional parameter... \n",
        "#   use_robust_cm: estimate from a robust covariance matrix\n",
        "#   plot_residual_scatter: which will generate a scatter plot of our residuals (y vs y_hat)\n",
        "def factormodel_train_single_security(sec_col_no: int,\n",
        "                     df_tb3ms: pd.DataFrame,\n",
        "                     df_sec_rets: pd.DataFrame,\n",
        "                     df_ff_factors: pd.DataFrame,\n",
        "                     date_start: int,\n",
        "                     date_end: int,\n",
        "                     use_robust_cm: bool = False,\n",
        "                     plot_residual_scatter: bool = False) -> (object, np.array, float, float):\n",
        "  \n",
        "  # sanity\n",
        "  if date_start < date_end: \n",
        "    raise TypeError(\"Latest date is date=0, date_start is > date_end\")\n",
        "  if df_ff_factors.shape[0] < df_ff_factors.shape[1]:\n",
        "    raise TypeError(\"Must pass factor returns as columns not rows\")  \n",
        "  if df_ff_factors.index[0] != df_sec_rets.index[0]:\n",
        "    raise TypeError(\"Dates misaligned\")  \n",
        "  if df_tb3ms.index[0] != df_sec_rets.index[0]:\n",
        "    raise TypeError(\"Dates misaligned\")  \n",
        "\n",
        "  # Get X and y data...\n",
        "  # NB: Security returns... deduct Rf\n",
        "  y_train = [df_sec_rets.iloc[i, sec_col_no] - df_tb3ms.iloc[i, 0] for i in range(date_end,date_start)]\n",
        "  X_train = df_ff_factors.iloc[date_end:date_start, :]\n",
        "  \n",
        "  # Instantiate and train OLS model\n",
        "  X_train = sm.add_constant(X_train) #<< statsmodels requires we manually add an intercept.\n",
        "  ols_model = OLS(y_train, X_train)\n",
        "  ols_model = ols_model.fit()\n",
        "\n",
        "  # Optional ... Use heteroskedasticity-autocorrelation robust covariance?\n",
        "  if use_robust_cm:\n",
        "      ols_model = ols_model.get_robustcov_results()\n",
        "\n",
        "  # Predict in sample\n",
        "  y_hat = ols_model.predict(X_train)\n",
        "  resid = y_train-y_hat\n",
        "\n",
        "  # In sample prediction: Examine residuals for normality... \n",
        "  # NB: The null hypothesis (H0) states that the variable is normally distributed, \n",
        "  # and the alternative hypothesis (H1) states that the variable is NOT normally distributed.  \n",
        "  sw_stat, sw_p = shapiro(resid)\n",
        "  \n",
        "  # Optional ...\n",
        "  if plot_residual_scatter == True:   \n",
        "    # square plot     \n",
        "    fig, ax = plt.subplots()\n",
        "    ax.scatter(y_train, y_hat)        \n",
        "    ax.set_aspect(aspect=1)\n",
        "    plt.title('Residual Plot: Shapiro-Wilk p-val: ' + str(round(sw_p, 2)))\n",
        "    plt.show()\n",
        "\n",
        "  return (ols_model, resid, sw_stat, sw_p)\n",
        "\n"
      ],
      "metadata": {
        "id": "CXQRlwnO2dXE"
      },
      "id": "CXQRlwnO2dXE",
      "execution_count": 36,
      "outputs": []
    },
    {
      "cell_type": "code",
      "source": [
        "# Forecast the expected return of a single stock\n",
        "def factormodel_forecast_ER(df_stock_factor_loadings: pd.DataFrame,\n",
        "                                    df_ff_factors: pd.DataFrame,\n",
        "                                    r_f: float, \n",
        "                                    date_start: int,\n",
        "                                    date_end: int) -> float:\n",
        "\n",
        "  #date_start = 35\n",
        "  #date_end = 0\n",
        "  #r_f = 0.01\n",
        "  #df_stock_factor_loadings=pd.DataFrame(ols_model.params)\n",
        "\n",
        "  # sanity\n",
        "  if date_start < date_end: \n",
        "    raise TypeError(\"Latest date is date=0, date_start is > date_end\")\n",
        "  if df_ff_factors.shape[0] < df_ff_factors.shape[1]:\n",
        "    raise TypeError(\"Must pass factor returns as columns not rows\")  \n",
        "  if df_ff_factors.shape[1] != df_stock_factor_loadings.shape[0]-1: #Include the intercept dimension\n",
        "    raise TypeError(\"Must pass same number of factors for security as the df_ff_factors\")  \n",
        "\n",
        "  # Factor returns to assume\n",
        "  factor_excess_returns = df_ff_factors.iloc[date_end:date_start, :].sort_index()\n",
        "  factor_excess_returns = np.array(1+factor_excess_returns.iloc[date_end:date_start, :]).prod(axis=0)\n",
        "  factor_excess_returns = factor_excess_returns ** (12/(date_start-date_end))-1\n",
        "\n",
        "  # Stock Forecast E(R)_i,t+h\n",
        "  E_R = np.dot(factor_excess_returns.T, df_stock_factor_loadings.iloc[1:, :])\n",
        "  E_R = E_R + r_f +  df_stock_factor_loadings.loc['const']\n",
        "\n",
        "  return E_R\n"
      ],
      "metadata": {
        "id": "QvfYlOwk4iMH"
      },
      "id": "QvfYlOwk4iMH",
      "execution_count": 37,
      "outputs": []
    },
    {
      "cell_type": "markdown",
      "source": [
        "## Bias Alert: Complexity Bias (Training Window Size)\n",
        "Part of model validation in timeseries domains is to run historic simulations, and to avoid data snooping bias, we need to use a small subset of the data we have. A relatively long history of returns is required to learn a linear regrssion model with many input variables[1], less for a classification model. If we use a ML model, which generally have more parameters, we need even more data for training. In short, we may not have high enough frequency data to train a stable model. This problem is exaccerbated when running simulations, as to avoid data snooping bias we must only use a subset of our full dataset that preceeds each simulation date.   \n",
        "\n",
        "The more sampeles we have, and the more accurate the data, the more accurate our model will be. The more data we have the more features and model parameters  (ie complexity) we can employ to approximate our target function. However, there is a balanmcing act between complexity and the data available, and if our model becomes too complex for the amount of data we will likely overfit to the data, and our model will not perform well out of sample. It will be a bad predictor. \n",
        "\n",
        "So how much data do we need for our chosen model? And what is the maximum number of features we should use?\n",
        "\n",
        "\n",
        "![1_kuI_SyX5vXFw12nUn166Rw.png](data:image/png;base64,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)\n",
        "\n",
        "\n",
        "### Model complexity1: Instances vs features and classes used\n",
        "A rule of thumb for the number of instances, n, needed to train a stable model with K input features, for a classification model with C categories to classify:\n",
        "\n",
        "n ≥ 10 K · C,\n",
        "\n",
        "instances. For a regression model:\n",
        "\n",
        "n ≥ 50 K,\n",
        "\n",
        "instances are suggested.\n",
        "\n",
        "\n",
        "### Model complexity2: Instances vs parameters\n",
        "A rule of thumb for the limit on number of parameters, ¦θ¦, our model should have, given the size of our training data [3]: \n",
        "\n",
        "¦θ¦ ≤ n/50 \n",
        "\n",
        "\n",
        "[1] Robert C. Merton, “On Estimating the Expected Return on the Market: An Exploratory Investigation,” Journal of Financial Economics, 8 (1980), pp. 323–361.\n",
        "[2] Valliappa Lakshmanan, Sara Robinson, and Michael Munn. Machine learning design patterns. O’Reilly Media, 2020\n",
        "[3] Kevin P. Murphy, Probabilistic machine learning: an introduction. MIT press, 2022"
      ],
      "metadata": {
        "id": "GEqhT767_DG_"
      },
      "id": "GEqhT767_DG_"
    },
    {
      "cell_type": "markdown",
      "source": [
        "### Vectorized Simple Factor model\n",
        "\n",
        "The func \"factor_model_single_security\" is a simplified approach, calculating betas for one stock at a time. We show the vectorized version of the same function below, which can calculate many stock level betas at a time for a huge speed up\n",
        "\n"
      ],
      "metadata": {
        "id": "Zw6itVDp-lJ3"
      },
      "id": "Zw6itVDp-lJ3"
    },
    {
      "cell_type": "code",
      "source": [
        "# Function that will run a vectorized OLS model, for a given security, over a given period\n",
        "# Vectorized OLS regression is far faster. \n",
        "# Note the two optional parameter... \n",
        "#   use_robust_cm: estimate from a robust covariance matrix\n",
        "#   plot_residual_scatter: which will generate a scatter plot of our residuals (y vs y_hat)\n",
        "def factormodel_train_manysecurities(df_tb3ms: pd.DataFrame,\n",
        "                     df_sec_rets: pd.DataFrame,\n",
        "                     df_ff_factors: pd.DataFrame,\n",
        "                     date_start: int,\n",
        "                     date_end: int) -> (object, object):\n",
        "\n",
        "  date_start = 35\n",
        "  date_end = 0\n",
        "\n",
        "  # sanity\n",
        "  if date_start < date_end: \n",
        "    raise TypeError(\"Latest date is date=0, date_start is > date_end\")\n",
        "  if df_ff_factors.shape[0] < df_ff_factors.shape[1]:\n",
        "    raise TypeError(\"Must pass factor returns as columns not rows\")  \n",
        "  if df_ff_factors.index[0] != df_sec_rets.index[0]:\n",
        "    raise TypeError(\"Dates misaligned\")  \n",
        "  if df_tb3ms.index[0] != df_sec_rets.index[0]:\n",
        "    raise TypeError(\"Dates misaligned\")  \n",
        "\n",
        "  # Get X and y data...\n",
        "  # NB: Security returns from date_end to date_start... deduct Rf\n",
        "  y_train = np.array([df_sec_rets.iloc[i, :] - df_tb3ms.iloc[i, 0] for i in range(date_end,date_start)])\n",
        "  X_train = np.array(df_ff_factors.iloc[date_end:date_start, :]).astype('float')\n",
        "\n",
        "  # Prepare matrices for linalg, and OLS\n",
        "  intercept = np.ones((date_start-date_end,1))\n",
        "  X = np.concatenate((intercept, X_train), axis=1)\n",
        "\n",
        "  # Flag nan containing security returns\n",
        "  cols_non_nan = ~np.isnan(y_train).any(axis=0)\n",
        "  y = y_train[:,cols_non_nan]\n",
        "\n",
        "  # Train model\n",
        "  ols_betas, resid, rank, sigma = np.linalg.lstsq(X,y)  \n",
        "\n",
        "  # Predict in sample\n",
        "  y_hat = np.dot(X, ols_betas)\n",
        "  resid = y - y_hat\n",
        "\n",
        "  # We removed nan rows... Rebuild to a full vector\n",
        "  ols_betas_final = pd.DataFrame(np.zeros((ols_betas.shape[0], y_train.shape[1])))\n",
        "  ols_betas_final.loc[:, cols_non_nan] = ols_betas\n",
        "\n",
        "  ols_betas_final.columns = df_sec_rets.columns\n",
        "  ols_betas_final.index = ['const'] + df_ff_factors.columns.to_list()\n",
        "  return (ols_betas_final, resid)"
      ],
      "metadata": {
        "id": "onz9xXnUiGVb"
      },
      "id": "onz9xXnUiGVb",
      "execution_count": 38,
      "outputs": []
    },
    {
      "cell_type": "markdown",
      "source": [
        "Let us call out function using security in column=0, and using the full term of the data available. We will also opt to generate a residual plot by setting plot_residual_scatter=True.\n",
        "We also print the summary stats for the regression.\n",
        "Finally we will set a sanity check for normality of the redisuals. If the Shapiro-Wilk test produces a p-val of >10\\% we can accept the null hypothesis, implying that the distribution of residuals is normal. "
      ],
      "metadata": {
        "id": "9Xc1kviOhrJ3"
      },
      "id": "9Xc1kviOhrJ3"
    },
    {
      "cell_type": "code",
      "source": [
        "\n",
        "# Run our function on the first security (sec_col_no=0), returning only the model object, and Shapiro-Wilk stat and p-value\n",
        "ols_model, resid, sw_t, sw_p = factormodel_train_single_security(sec_col_no=0, \n",
        "                                             df_tb3ms=df_tb3ms, \n",
        "                                             df_sec_rets=df_sec_rets, \n",
        "                                             df_ff_factors=df_ff_factors, \n",
        "                                             date_start=df_ff_factors.shape[0], \n",
        "                                             date_end=0, \n",
        "                                             plot_residual_scatter=True)\n",
        "# Examine the fit, coefficients and OLS analytics.\n",
        "print(ols_model.summary())\n",
        "\n",
        "# Forecast E(R) for this security.\n",
        "E_R = factormodel_forecast_ER(df_stock_factor_loadings=pd.DataFrame(ols_model.params), \n",
        "                                df_ff_factors=df_ff_factors, \n",
        "                                r_f=df_tb3ms.iloc[0,0],\n",
        "                                date_start=df_ff_factors.shape[0], \n",
        "                                date_end=0,)\n",
        "\n",
        "print(\"Expected Return Forecast for Stocks\")\n",
        "print(E_R)\n",
        "\n",
        "# Check for normality in the residuals\n",
        "if sw_p < 0.10:\n",
        "  raise TypeError(\"Residuals appear to be non-normal!\")  "
      ],
      "metadata": {
        "colab": {
          "base_uri": "https://localhost:8080/",
          "height": 1000
        },
        "id": "SlqfVjSmhqVh",
        "outputId": "18205369-79b3-4a19-b702-a2ab757fbb7c"
      },
      "id": "SlqfVjSmhqVh",
      "execution_count": 39,
      "outputs": [
        {
          "output_type": "stream",
          "name": "stderr",
          "text": [
            "/usr/local/lib/python3.7/dist-packages/statsmodels/tsa/tsatools.py:142: FutureWarning: In a future version of pandas all arguments of concat except for the argument 'objs' will be keyword-only\n",
            "  x = pd.concat(x[::order], 1)\n"
          ]
        },
        {
          "output_type": "display_data",
          "data": {
            "text/plain": [
              "<Figure size 432x288 with 1 Axes>"
            ],
            "image/png": "[encoded data removed]"
          },
          "metadata": {
            "needs_background": "light"
          }
        },
        {
          "output_type": "stream",
          "name": "stdout",
          "text": [
            "                            OLS Regression Results                            \n",
            "==============================================================================\n",
            "Dep. Variable:                      y   R-squared:                       0.330\n",
            "Model:                            OLS   Adj. R-squared:                  0.316\n",
            "Method:                 Least Squares   F-statistic:                     22.71\n",
            "Date:                Thu, 03 Nov 2022   Prob (F-statistic):           1.68e-18\n",
            "Time:                        11:36:11   Log-Likelihood:                 304.47\n",
            "No. Observations:                 236   AIC:                            -596.9\n",
            "Df Residuals:                     230   BIC:                            -576.2\n",
            "Df Model:                           5                                         \n",
            "Covariance Type:            nonrobust                                         \n",
            "==============================================================================\n",
            "                 coef    std err          t      P>|t|      [0.025      0.975]\n",
            "------------------------------------------------------------------------------\n",
            "const         -0.0049      0.005     -1.022      0.308      -0.014       0.005\n",
            "Mkt-RF         0.8675      0.108      8.053      0.000       0.655       1.080\n",
            "SMB            0.1518      0.276      0.550      0.583      -0.392       0.696\n",
            "HML            0.1768      0.315      0.562      0.575      -0.443       0.797\n",
            "RMW            0.1180      0.411      0.287      0.774      -0.692       0.928\n",
            "CMA            1.0914      0.386      2.826      0.005       0.330       1.852\n",
            "==============================================================================\n",
            "Omnibus:                        6.577   Durbin-Watson:                   2.167\n",
            "Prob(Omnibus):                  0.037   Jarque-Bera (JB):                7.334\n",
            "Skew:                           0.264   Prob(JB):                       0.0256\n",
            "Kurtosis:                       3.683   Cond. No.                         103.\n",
            "==============================================================================\n",
            "\n",
            "Notes:\n",
            "[1] Standard Errors assume that the covariance matrix of the errors is correctly specified.\n",
            "Expected Return Forecast for Stocks\n",
            "0    0.120747\n",
            "Name: const, dtype: float64\n"
          ]
        },
        {
          "output_type": "error",
          "ename": "TypeError",
          "evalue": "ignored",
          "traceback": [
            "\u001b[0;31m---------------------------------------------------------------------------\u001b[0m",
            "\u001b[0;31mTypeError\u001b[0m                                 Traceback (most recent call last)",
            "\u001b[0;32m<ipython-input-39-0c9089dd92ab>\u001b[0m in \u001b[0;36m<module>\u001b[0;34m\u001b[0m\n\u001b[1;32m     22\u001b[0m \u001b[0;31m# Check for normality in the residuals\u001b[0m\u001b[0;34m\u001b[0m\u001b[0;34m\u001b[0m\u001b[0;34m\u001b[0m\u001b[0m\n\u001b[1;32m     23\u001b[0m \u001b[0;32mif\u001b[0m \u001b[0msw_p\u001b[0m \u001b[0;34m<\u001b[0m \u001b[0;36m0.10\u001b[0m\u001b[0;34m:\u001b[0m\u001b[0;34m\u001b[0m\u001b[0;34m\u001b[0m\u001b[0m\n\u001b[0;32m---> 24\u001b[0;31m   \u001b[0;32mraise\u001b[0m \u001b[0mTypeError\u001b[0m\u001b[0;34m(\u001b[0m\u001b[0;34m\"Residuals appear to be non-normal!\"\u001b[0m\u001b[0;34m)\u001b[0m\u001b[0;34m\u001b[0m\u001b[0;34m\u001b[0m\u001b[0m\n\u001b[0m",
            "\u001b[0;31mTypeError\u001b[0m: Residuals appear to be non-normal!"
          ]
        }
      ]
    },
    {
      "cell_type": "markdown",
      "source": [
        "### Factor Model Applied Over Time\n",
        "We now use out function to step over time, using a 36month sliding window. We start in the early time period and end at the most recent period, generating a expected returns for each stock (with a full dataset of returns) as we go.\n",
        "At the end of this process we will be able to say which stocks we favor, and which we do not in each time period. \n",
        "\n"
      ],
      "metadata": {
        "id": "gUo2Rw1bgQn9"
      },
      "id": "gUo2Rw1bgQn9"
    },
    {
      "cell_type": "markdown",
      "source": [
        "## Bias Alert: Repeated testing (multiplicity) bias\n",
        "\n",
        "Applying many tests in a single study results in an increased probability of detecting a significant finding just by chance (the problem of multiplicity). It then discusses some of the methods that have been proposed for correcting for multiplicity, including single-step procedures (e.g., Bonferroni); multistep procedures, such as those of Holm, Hochberg, and Šidák; false discovery rate control; and resampling approaches. \n",
        "\n",
        "https://www.ncbi.nlm.nih.gov/pmc/articles/PMC3015194/\n"
      ],
      "metadata": {
        "id": "sXavgcu4mrJC"
      },
      "id": "sXavgcu4mrJC"
    },
    {
      "cell_type": "code",
      "source": [
        "# Loop through time, from the earliest period, to the latest.\n",
        "# We will generate a DataFrame containing the expected returns for each stock in each period as we go.\n",
        "def run_(df_tb3ms: pd.DataFrame,\n",
        "                     df_sec_rets: pd.DataFrame,\n",
        "                     df_ff_factors: pd.DataFrame,\n",
        "                    window_size: int = 50) -> pd.DataFrame:\n",
        "\n",
        "  #window_size: int = 50\n",
        "  #factor_return_history: int = 12\n",
        "\n",
        "  # E(R) for each stock, in each time period\n",
        "  df_stock_ER = pd.DataFrame(np.zeros((df_sec_rets.shape[0]-window_size, df_sec_rets.shape[1])))\n",
        "  df_stock_ER.index = df_sec_rets.index[0:df_sec_rets.shape[0]-window_size]\n",
        "  df_stock_ER.columns = df_sec_rets.columns[0:df_sec_rets.shape[1]].astype(int)\n",
        "  #\n",
        "  df_stock_SW_pval = df_stock_ER.copy(deep=True)\n",
        "\n",
        "  #Step through time... earliest to latest.\n",
        "  for i in range(df_ff_factors.shape[0]-window_size-1, 0, -1):\n",
        "    # Run our function, returning only the result object\n",
        "    ols_coefs, resid = factormodel_train_manysecurities(df_tb3ms=df_tb3ms, \n",
        "                                              df_sec_rets=df_sec_rets, \n",
        "                                              df_ff_factors=df_ff_factors, \n",
        "                                              date_start=i+window_size, #<< Note we pass in the start date here\n",
        "                                              date_end=i)  #<< Note we pass in the end date here\n",
        "    \n",
        "    # Generate E(R) from our stock level factor model...      \n",
        "    # Factor return assumption      \n",
        "    E_R = factormodel_forecast_ER(df_stock_factor_loadings=pd.DataFrame(ols_coefs), \n",
        "                                    df_ff_factors=df_ff_factors,\n",
        "                                    r_f=df_tb3ms.iloc[i, 0],\n",
        "                                    date_start=i+factor_return_history,\n",
        "                                    date_end=i) \n",
        "    df_stock_ER.iloc[i,:] = E_R\n",
        "\n",
        "        "
      ],
      "metadata": {
        "id": "koPSFU3RlUoh"
      },
      "id": "koPSFU3RlUoh",
      "execution_count": 23,
      "outputs": []
    },
    {
      "cell_type": "code",
      "source": [
        "df_stock_ER"
      ],
      "metadata": {
        "colab": {
          "base_uri": "https://localhost:8080/",
          "height": 488
        },
        "id": "_-RPGvm0yqds",
        "outputId": "a92ffd8d-490e-46f2-c813-3be8857e0f70"
      },
      "id": "_-RPGvm0yqds",
      "execution_count": null,
      "outputs": [
        {
          "output_type": "execute_result",
          "data": {
            "text/plain": [
              "TICKER      1       2       3       4       5       6       7         8     \\\n",
              "202209  0.000000  0.0000  0.0000  0.0000  0.0000  0.0000  0.0000  0.000000   \n",
              "202208  0.139285  0.0019  0.0019  0.0019  0.0019  0.0019  0.0019 -0.029954   \n",
              "202207  0.134396  0.0008  0.0008  0.0008  0.0008  0.0008  0.0008 -0.099021   \n",
              "202206  0.108470  0.0006  0.0006  0.0006  0.0006  0.0006  0.0006 -0.141200   \n",
              "202205  0.188681  0.0003  0.0003  0.0003  0.0003  0.0003  0.0003 -0.039257   \n",
              "...          ...     ...     ...     ...     ...     ...     ...       ...   \n",
              "200708 -0.013060  0.0042  0.0042  0.0042  0.0042  0.0042  0.0042 -0.027403   \n",
              "200707 -0.013260  0.0040  0.0040  0.0040  0.0040  0.0040  0.0040 -0.027603   \n",
              "200706 -0.013260  0.0040  0.0040  0.0040  0.0040  0.0040  0.0040 -0.027603   \n",
              "200705 -0.013160  0.0041  0.0041  0.0041  0.0041  0.0041  0.0041 -0.027503   \n",
              "200704 -0.012860  0.0044  0.0044  0.0044  0.0044  0.0044  0.0044 -0.027203   \n",
              "\n",
              "TICKER      9         10    ...      1233      1234    1235    1236      1237  \\\n",
              "202209  0.000000  0.000000  ...  0.000000  0.000000  0.0000  0.0000  0.000000   \n",
              "202208  0.196441 -0.266164  ...  0.213886 -0.248480  0.0019  0.0019 -0.136847   \n",
              "202207  0.181324 -0.194735  ...  0.196692 -0.194830  0.0008  0.0008 -0.086008   \n",
              "202206  0.211136 -0.202605  ...  0.188728 -0.182966  0.0006  0.0006 -0.105161   \n",
              "202205  0.328779 -0.056026  ...  0.212984 -0.149947  0.0003  0.0003  0.001402   \n",
              "...          ...       ...  ...       ...       ...     ...     ...       ...   \n",
              "200708  0.070703  0.032838  ... -0.005148  0.053502  0.0042  0.0042  0.002567   \n",
              "200707  0.070503  0.032638  ... -0.005348  0.053302  0.0040  0.0040  0.002367   \n",
              "200706  0.070503  0.032638  ... -0.005348  0.053302  0.0040  0.0040  0.002367   \n",
              "200705  0.070603  0.032738  ... -0.005248  0.053402  0.0041  0.0041  0.002467   \n",
              "200704  0.070903  0.033038  ... -0.004948  0.053702  0.0044  0.0044  0.002767   \n",
              "\n",
              "TICKER      1238      1239      1240      1241      1242  \n",
              "202209  0.000000  0.000000  0.000000  0.000000  0.000000  \n",
              "202208 -0.206050 -0.446752 -0.057907  0.064189 -0.282554  \n",
              "202207 -0.169058 -0.442422 -0.091116 -0.005755 -0.303634  \n",
              "202206 -0.170004 -0.407238 -0.103989 -0.068587 -0.309428  \n",
              "202205 -0.134785 -0.326152 -0.067121  0.040627 -0.241162  \n",
              "...          ...       ...       ...       ...       ...  \n",
              "200708  0.023571  0.037048 -0.003970 -0.043492 -0.029006  \n",
              "200707  0.023371  0.036848 -0.004170 -0.043692 -0.029206  \n",
              "200706  0.023371  0.036848 -0.004170 -0.043692 -0.029206  \n",
              "200705  0.023471  0.036948 -0.004070 -0.043592 -0.029106  \n",
              "200704  0.023771  0.037248 -0.003770 -0.043292 -0.028806  \n",
              "\n",
              "[186 rows x 1242 columns]"
            ],
            "text/html": [
              "\n",
              "  <div id=\"df-95a2920e-6a82-4399-8b68-949a00739cb4\">\n",
              "    <div class=\"colab-df-container\">\n",
              "      <div>\n",
              "<style scoped>\n",
              "    .dataframe tbody tr th:only-of-type {\n",
              "        vertical-align: middle;\n",
              "    }\n",
              "\n",
              "    .dataframe tbody tr th {\n",
              "        vertical-align: top;\n",
              "    }\n",
              "\n",
              "    .dataframe thead th {\n",
              "        text-align: right;\n",
              "    }\n",
              "</style>\n",
              "<table border=\"1\" class=\"dataframe\">\n",
              "  <thead>\n",
              "    <tr style=\"text-align: right;\">\n",
              "      <th>TICKER</th>\n",
              "      <th>1</th>\n",
              "      <th>2</th>\n",
              "      <th>3</th>\n",
              "      <th>4</th>\n",
              "      <th>5</th>\n",
              "      <th>6</th>\n",
              "      <th>7</th>\n",
              "      <th>8</th>\n",
              "      <th>9</th>\n",
              "      <th>10</th>\n",
              "      <th>...</th>\n",
              "      <th>1233</th>\n",
              "      <th>1234</th>\n",
              "      <th>1235</th>\n",
              "      <th>1236</th>\n",
              "      <th>1237</th>\n",
              "      <th>1238</th>\n",
              "      <th>1239</th>\n",
              "      <th>1240</th>\n",
              "      <th>1241</th>\n",
              "      <th>1242</th>\n",
              "    </tr>\n",
              "  </thead>\n",
              "  <tbody>\n",
              "    <tr>\n",
              "      <th>202209</th>\n",
              "      <td>0.000000</td>\n",
              "      <td>0.0000</td>\n",
              "      <td>0.0000</td>\n",
              "      <td>0.0000</td>\n",
              "      <td>0.0000</td>\n",
              "      <td>0.0000</td>\n",
              "      <td>0.0000</td>\n",
              "      <td>0.000000</td>\n",
              "      <td>0.000000</td>\n",
              "      <td>0.000000</td>\n",
              "      <td>...</td>\n",
              "      <td>0.000000</td>\n",
              "      <td>0.000000</td>\n",
              "      <td>0.0000</td>\n",
              "      <td>0.0000</td>\n",
              "      <td>0.000000</td>\n",
              "      <td>0.000000</td>\n",
              "      <td>0.000000</td>\n",
              "      <td>0.000000</td>\n",
              "      <td>0.000000</td>\n",
              "      <td>0.000000</td>\n",
              "    </tr>\n",
              "    <tr>\n",
              "      <th>202208</th>\n",
              "      <td>0.139285</td>\n",
              "      <td>0.0019</td>\n",
              "      <td>0.0019</td>\n",
              "      <td>0.0019</td>\n",
              "      <td>0.0019</td>\n",
              "      <td>0.0019</td>\n",
              "      <td>0.0019</td>\n",
              "      <td>-0.029954</td>\n",
              "      <td>0.196441</td>\n",
              "      <td>-0.266164</td>\n",
              "      <td>...</td>\n",
              "      <td>0.213886</td>\n",
              "      <td>-0.248480</td>\n",
              "      <td>0.0019</td>\n",
              "      <td>0.0019</td>\n",
              "      <td>-0.136847</td>\n",
              "      <td>-0.206050</td>\n",
              "      <td>-0.446752</td>\n",
              "      <td>-0.057907</td>\n",
              "      <td>0.064189</td>\n",
              "      <td>-0.282554</td>\n",
              "    </tr>\n",
              "    <tr>\n",
              "      <th>202207</th>\n",
              "      <td>0.134396</td>\n",
              "      <td>0.0008</td>\n",
              "      <td>0.0008</td>\n",
              "      <td>0.0008</td>\n",
              "      <td>0.0008</td>\n",
              "      <td>0.0008</td>\n",
              "      <td>0.0008</td>\n",
              "      <td>-0.099021</td>\n",
              "      <td>0.181324</td>\n",
              "      <td>-0.194735</td>\n",
              "      <td>...</td>\n",
              "      <td>0.196692</td>\n",
              "      <td>-0.194830</td>\n",
              "      <td>0.0008</td>\n",
              "      <td>0.0008</td>\n",
              "      <td>-0.086008</td>\n",
              "      <td>-0.169058</td>\n",
              "      <td>-0.442422</td>\n",
              "      <td>-0.091116</td>\n",
              "      <td>-0.005755</td>\n",
              "      <td>-0.303634</td>\n",
              "    </tr>\n",
              "    <tr>\n",
              "      <th>202206</th>\n",
              "      <td>0.108470</td>\n",
              "      <td>0.0006</td>\n",
              "      <td>0.0006</td>\n",
              "      <td>0.0006</td>\n",
              "      <td>0.0006</td>\n",
              "      <td>0.0006</td>\n",
              "      <td>0.0006</td>\n",
              "      <td>-0.141200</td>\n",
              "      <td>0.211136</td>\n",
              "      <td>-0.202605</td>\n",
              "      <td>...</td>\n",
              "      <td>0.188728</td>\n",
              "      <td>-0.182966</td>\n",
              "      <td>0.0006</td>\n",
              "      <td>0.0006</td>\n",
              "      <td>-0.105161</td>\n",
              "      <td>-0.170004</td>\n",
              "      <td>-0.407238</td>\n",
              "      <td>-0.103989</td>\n",
              "      <td>-0.068587</td>\n",
              "      <td>-0.309428</td>\n",
              "    </tr>\n",
              "    <tr>\n",
              "      <th>202205</th>\n",
              "      <td>0.188681</td>\n",
              "      <td>0.0003</td>\n",
              "      <td>0.0003</td>\n",
              "      <td>0.0003</td>\n",
              "      <td>0.0003</td>\n",
              "      <td>0.0003</td>\n",
              "      <td>0.0003</td>\n",
              "      <td>-0.039257</td>\n",
              "      <td>0.328779</td>\n",
              "      <td>-0.056026</td>\n",
              "      <td>...</td>\n",
              "      <td>0.212984</td>\n",
              "      <td>-0.149947</td>\n",
              "      <td>0.0003</td>\n",
              "      <td>0.0003</td>\n",
              "      <td>0.001402</td>\n",
              "      <td>-0.134785</td>\n",
              "      <td>-0.326152</td>\n",
              "      <td>-0.067121</td>\n",
              "      <td>0.040627</td>\n",
              "      <td>-0.241162</td>\n",
              "    </tr>\n",
              "    <tr>\n",
              "      <th>...</th>\n",
              "      <td>...</td>\n",
              "      <td>...</td>\n",
              "      <td>...</td>\n",
              "      <td>...</td>\n",
              "      <td>...</td>\n",
              "      <td>...</td>\n",
              "      <td>...</td>\n",
              "      <td>...</td>\n",
              "      <td>...</td>\n",
              "      <td>...</td>\n",
              "      <td>...</td>\n",
              "      <td>...</td>\n",
              "      <td>...</td>\n",
              "      <td>...</td>\n",
              "      <td>...</td>\n",
              "      <td>...</td>\n",
              "      <td>...</td>\n",
              "      <td>...</td>\n",
              "      <td>...</td>\n",
              "      <td>...</td>\n",
              "      <td>...</td>\n",
              "    </tr>\n",
              "    <tr>\n",
              "      <th>200708</th>\n",
              "      <td>-0.013060</td>\n",
              "      <td>0.0042</td>\n",
              "      <td>0.0042</td>\n",
              "      <td>0.0042</td>\n",
              "      <td>0.0042</td>\n",
              "      <td>0.0042</td>\n",
              "      <td>0.0042</td>\n",
              "      <td>-0.027403</td>\n",
              "      <td>0.070703</td>\n",
              "      <td>0.032838</td>\n",
              "      <td>...</td>\n",
              "      <td>-0.005148</td>\n",
              "      <td>0.053502</td>\n",
              "      <td>0.0042</td>\n",
              "      <td>0.0042</td>\n",
              "      <td>0.002567</td>\n",
              "      <td>0.023571</td>\n",
              "      <td>0.037048</td>\n",
              "      <td>-0.003970</td>\n",
              "      <td>-0.043492</td>\n",
              "      <td>-0.029006</td>\n",
              "    </tr>\n",
              "    <tr>\n",
              "      <th>200707</th>\n",
              "      <td>-0.013260</td>\n",
              "      <td>0.0040</td>\n",
              "      <td>0.0040</td>\n",
              "      <td>0.0040</td>\n",
              "      <td>0.0040</td>\n",
              "      <td>0.0040</td>\n",
              "      <td>0.0040</td>\n",
              "      <td>-0.027603</td>\n",
              "      <td>0.070503</td>\n",
              "      <td>0.032638</td>\n",
              "      <td>...</td>\n",
              "      <td>-0.005348</td>\n",
              "      <td>0.053302</td>\n",
              "      <td>0.0040</td>\n",
              "      <td>0.0040</td>\n",
              "      <td>0.002367</td>\n",
              "      <td>0.023371</td>\n",
              "      <td>0.036848</td>\n",
              "      <td>-0.004170</td>\n",
              "      <td>-0.043692</td>\n",
              "      <td>-0.029206</td>\n",
              "    </tr>\n",
              "    <tr>\n",
              "      <th>200706</th>\n",
              "      <td>-0.013260</td>\n",
              "      <td>0.0040</td>\n",
              "      <td>0.0040</td>\n",
              "      <td>0.0040</td>\n",
              "      <td>0.0040</td>\n",
              "      <td>0.0040</td>\n",
              "      <td>0.0040</td>\n",
              "      <td>-0.027603</td>\n",
              "      <td>0.070503</td>\n",
              "      <td>0.032638</td>\n",
              "      <td>...</td>\n",
              "      <td>-0.005348</td>\n",
              "      <td>0.053302</td>\n",
              "      <td>0.0040</td>\n",
              "      <td>0.0040</td>\n",
              "      <td>0.002367</td>\n",
              "      <td>0.023371</td>\n",
              "      <td>0.036848</td>\n",
              "      <td>-0.004170</td>\n",
              "      <td>-0.043692</td>\n",
              "      <td>-0.029206</td>\n",
              "    </tr>\n",
              "    <tr>\n",
              "      <th>200705</th>\n",
              "      <td>-0.013160</td>\n",
              "      <td>0.0041</td>\n",
              "      <td>0.0041</td>\n",
              "      <td>0.0041</td>\n",
              "      <td>0.0041</td>\n",
              "      <td>0.0041</td>\n",
              "      <td>0.0041</td>\n",
              "      <td>-0.027503</td>\n",
              "      <td>0.070603</td>\n",
              "      <td>0.032738</td>\n",
              "      <td>...</td>\n",
              "      <td>-0.005248</td>\n",
              "      <td>0.053402</td>\n",
              "      <td>0.0041</td>\n",
              "      <td>0.0041</td>\n",
              "      <td>0.002467</td>\n",
              "      <td>0.023471</td>\n",
              "      <td>0.036948</td>\n",
              "      <td>-0.004070</td>\n",
              "      <td>-0.043592</td>\n",
              "      <td>-0.029106</td>\n",
              "    </tr>\n",
              "    <tr>\n",
              "      <th>200704</th>\n",
              "      <td>-0.012860</td>\n",
              "      <td>0.0044</td>\n",
              "      <td>0.0044</td>\n",
              "      <td>0.0044</td>\n",
              "      <td>0.0044</td>\n",
              "      <td>0.0044</td>\n",
              "      <td>0.0044</td>\n",
              "      <td>-0.027203</td>\n",
              "      <td>0.070903</td>\n",
              "      <td>0.033038</td>\n",
              "      <td>...</td>\n",
              "      <td>-0.004948</td>\n",
              "      <td>0.053702</td>\n",
              "      <td>0.0044</td>\n",
              "      <td>0.0044</td>\n",
              "      <td>0.002767</td>\n",
              "      <td>0.023771</td>\n",
              "      <td>0.037248</td>\n",
              "      <td>-0.003770</td>\n",
              "      <td>-0.043292</td>\n",
              "      <td>-0.028806</td>\n",
              "    </tr>\n",
              "  </tbody>\n",
              "</table>\n",
              "<p>186 rows × 1242 columns</p>\n",
              "</div>\n",
              "      <button class=\"colab-df-convert\" onclick=\"convertToInteractive('df-95a2920e-6a82-4399-8b68-949a00739cb4')\"\n",
              "              title=\"Convert this dataframe to an interactive table.\"\n",
              "              style=\"display:none;\">\n",
              "        \n",
              "  <svg xmlns=\"http://www.w3.org/2000/svg\" height=\"24px\"viewBox=\"0 0 24 24\"\n",
              "       width=\"24px\">\n",
              "    <path d=\"M0 0h24v24H0V0z\" fill=\"none\"/>\n",
              "    <path d=\"M18.56 5.44l.94 2.06.94-2.06 2.06-.94-2.06-.94-.94-2.06-.94 2.06-2.06.94zm-11 1L8.5 8.5l.94-2.06 2.06-.94-2.06-.94L8.5 2.5l-.94 2.06-2.06.94zm10 10l.94 2.06.94-2.06 2.06-.94-2.06-.94-.94-2.06-.94 2.06-2.06.94z\"/><path d=\"M17.41 7.96l-1.37-1.37c-.4-.4-.92-.59-1.43-.59-.52 0-1.04.2-1.43.59L10.3 9.45l-7.72 7.72c-.78.78-.78 2.05 0 2.83L4 21.41c.39.39.9.59 1.41.59.51 0 1.02-.2 1.41-.59l7.78-7.78 2.81-2.81c.8-.78.8-2.07 0-2.86zM5.41 20L4 18.59l7.72-7.72 1.47 1.35L5.41 20z\"/>\n",
              "  </svg>\n",
              "      </button>\n",
              "      \n",
              "  <style>\n",
              "    .colab-df-container {\n",
              "      display:flex;\n",
              "      flex-wrap:wrap;\n",
              "      gap: 12px;\n",
              "    }\n",
              "\n",
              "    .colab-df-convert {\n",
              "      background-color: #E8F0FE;\n",
              "      border: none;\n",
              "      border-radius: 50%;\n",
              "      cursor: pointer;\n",
              "      display: none;\n",
              "      fill: #1967D2;\n",
              "      height: 32px;\n",
              "      padding: 0 0 0 0;\n",
              "      width: 32px;\n",
              "    }\n",
              "\n",
              "    .colab-df-convert:hover {\n",
              "      background-color: #E2EBFA;\n",
              "      box-shadow: 0px 1px 2px rgba(60, 64, 67, 0.3), 0px 1px 3px 1px rgba(60, 64, 67, 0.15);\n",
              "      fill: #174EA6;\n",
              "    }\n",
              "\n",
              "    [theme=dark] .colab-df-convert {\n",
              "      background-color: #3B4455;\n",
              "      fill: #D2E3FC;\n",
              "    }\n",
              "\n",
              "    [theme=dark] .colab-df-convert:hover {\n",
              "      background-color: #434B5C;\n",
              "      box-shadow: 0px 1px 3px 1px rgba(0, 0, 0, 0.15);\n",
              "      filter: drop-shadow(0px 1px 2px rgba(0, 0, 0, 0.3));\n",
              "      fill: #FFFFFF;\n",
              "    }\n",
              "  </style>\n",
              "\n",
              "      <script>\n",
              "        const buttonEl =\n",
              "          document.querySelector('#df-95a2920e-6a82-4399-8b68-949a00739cb4 button.colab-df-convert');\n",
              "        buttonEl.style.display =\n",
              "          google.colab.kernel.accessAllowed ? 'block' : 'none';\n",
              "\n",
              "        async function convertToInteractive(key) {\n",
              "          const element = document.querySelector('#df-95a2920e-6a82-4399-8b68-949a00739cb4');\n",
              "          const dataTable =\n",
              "            await google.colab.kernel.invokeFunction('convertToInteractive',\n",
              "                                                     [key], {});\n",
              "          if (!dataTable) return;\n",
              "\n",
              "          const docLinkHtml = 'Like what you see? Visit the ' +\n",
              "            '<a target=\"_blank\" href=https://colab.research.google.com/notebooks/data_table.ipynb>data table notebook</a>'\n",
              "            + ' to learn more about interactive tables.';\n",
              "          element.innerHTML = '';\n",
              "          dataTable['output_type'] = 'display_data';\n",
              "          await google.colab.output.renderOutput(dataTable, element);\n",
              "          const docLink = document.createElement('div');\n",
              "          docLink.innerHTML = docLinkHtml;\n",
              "          element.appendChild(docLink);\n",
              "        }\n",
              "      </script>\n",
              "    </div>\n",
              "  </div>\n",
              "  "
            ]
          },
          "metadata": {},
          "execution_count": 272
        }
      ]
    },
    {
      "cell_type": "code",
      "source": [
        "df_stock_ER.shape"
      ],
      "metadata": {
        "colab": {
          "base_uri": "https://localhost:8080/"
        },
        "id": "kFf2hiTtVofR",
        "outputId": "eaddf337-bcf4-4f2a-83ec-687c6877665e"
      },
      "id": "kFf2hiTtVofR",
      "execution_count": null,
      "outputs": [
        {
          "output_type": "execute_result",
          "data": {
            "text/plain": [
              "(186, 1242)"
            ]
          },
          "metadata": {},
          "execution_count": 234
        }
      ]
    },
    {
      "cell_type": "code",
      "source": [
        "ols_coefs, resid = factor_models_run_vectorized(df_tb3ms=df_tb3ms, \n",
        "                                                df_sec_rets=df_sec_rets, \n",
        "                                                df_ff_factors=df_ff_factors, \n",
        "                                                date_start=35, \n",
        "                                                date_end=1)\n",
        "\n",
        "factor_model_ER(df_stock_factor_loadings=pd.DataFrame(ols_coefs), \n",
        "                                      df_ff_factors=df_ff_factors,\n",
        "                                      r_f=0.01,\n",
        "                                      date_start=1+factor_return_history,\n",
        "                                      date_end=1) "
      ],
      "metadata": {
        "colab": {
          "base_uri": "https://localhost:8080/"
        },
        "id": "xe_q8bE7Qw3_",
        "outputId": "3c391ffc-a397-4595-d4f9-850756ee2140"
      },
      "id": "xe_q8bE7Qw3_",
      "execution_count": null,
      "outputs": [
        {
          "output_type": "stream",
          "name": "stderr",
          "text": [
            "/usr/local/lib/python3.7/dist-packages/ipykernel_launcher.py:38: FutureWarning: `rcond` parameter will change to the default of machine precision times ``max(M, N)`` where M and N are the input matrix dimensions.\n",
            "To use the future default and silence this warning we advise to pass `rcond=None`, to keep using the old, explicitly pass `rcond=-1`.\n"
          ]
        },
        {
          "output_type": "execute_result",
          "data": {
            "text/plain": [
              "TICKER\n",
              "1.0       0.147385\n",
              "2.0       0.010000\n",
              "3.0       0.010000\n",
              "4.0       0.010000\n",
              "5.0       0.010000\n",
              "            ...   \n",
              "1238.0   -0.197950\n",
              "1239.0   -0.438652\n",
              "1240.0   -0.049807\n",
              "1241.0    0.072289\n",
              "1242.0   -0.274454\n",
              "Name: const, Length: 1242, dtype: float64"
            ]
          },
          "metadata": {},
          "execution_count": 270
        }
      ]
    },
    {
      "cell_type": "code",
      "source": [
        "df_ff_factors"
      ],
      "metadata": {
        "colab": {
          "base_uri": "https://localhost:8080/",
          "height": 455
        },
        "id": "18XudfMVU-6d",
        "outputId": "f23eada1-c61a-4ff7-a9e8-b05c8546ff65"
      },
      "id": "18XudfMVU-6d",
      "execution_count": null,
      "outputs": [
        {
          "output_type": "execute_result",
          "data": {
            "text/plain": [
              "            Mkt-RF     SMB     HML     RMW     CMA\n",
              "Unnamed: 0                                        \n",
              "202209     -0.1078  0.0019  0.0383  0.0019  0.0440\n",
              "202208      0.0075  0.0031  0.0087 -0.0236  0.0040\n",
              "202207      0.0024  0.0078  0.0147  0.0009  0.0119\n",
              "202206     -0.0677  0.0012 -0.0099 -0.0151  0.0038\n",
              "202205      0.0026 -0.0154 -0.0085 -0.0014  0.0166\n",
              "...            ...     ...     ...     ...     ...\n",
              "200306      0.0588  0.0001  0.0127 -0.0097 -0.0052\n",
              "200305      0.0708  0.0047  0.0116 -0.0162  0.0103\n",
              "200304      0.0922 -0.0182  0.0076  0.0045 -0.0017\n",
              "200303     -0.0331 -0.0090  0.0146  0.0119  0.0147\n",
              "200302     -0.0299  0.0033  0.0078  0.0114 -0.0046\n",
              "\n",
              "[236 rows x 5 columns]"
            ],
            "text/html": [
              "\n",
              "  <div id=\"df-676d12de-b454-4327-8dee-54a0d7ab8781\">\n",
              "    <div class=\"colab-df-container\">\n",
              "      <div>\n",
              "<style scoped>\n",
              "    .dataframe tbody tr th:only-of-type {\n",
              "        vertical-align: middle;\n",
              "    }\n",
              "\n",
              "    .dataframe tbody tr th {\n",
              "        vertical-align: top;\n",
              "    }\n",
              "\n",
              "    .dataframe thead th {\n",
              "        text-align: right;\n",
              "    }\n",
              "</style>\n",
              "<table border=\"1\" class=\"dataframe\">\n",
              "  <thead>\n",
              "    <tr style=\"text-align: right;\">\n",
              "      <th></th>\n",
              "      <th>Mkt-RF</th>\n",
              "      <th>SMB</th>\n",
              "      <th>HML</th>\n",
              "      <th>RMW</th>\n",
              "      <th>CMA</th>\n",
              "    </tr>\n",
              "    <tr>\n",
              "      <th>Unnamed: 0</th>\n",
              "      <th></th>\n",
              "      <th></th>\n",
              "      <th></th>\n",
              "      <th></th>\n",
              "      <th></th>\n",
              "    </tr>\n",
              "  </thead>\n",
              "  <tbody>\n",
              "    <tr>\n",
              "      <th>202209</th>\n",
              "      <td>-0.1078</td>\n",
              "      <td>0.0019</td>\n",
              "      <td>0.0383</td>\n",
              "      <td>0.0019</td>\n",
              "      <td>0.0440</td>\n",
              "    </tr>\n",
              "    <tr>\n",
              "      <th>202208</th>\n",
              "      <td>0.0075</td>\n",
              "      <td>0.0031</td>\n",
              "      <td>0.0087</td>\n",
              "      <td>-0.0236</td>\n",
              "      <td>0.0040</td>\n",
              "    </tr>\n",
              "    <tr>\n",
              "      <th>202207</th>\n",
              "      <td>0.0024</td>\n",
              "      <td>0.0078</td>\n",
              "      <td>0.0147</td>\n",
              "      <td>0.0009</td>\n",
              "      <td>0.0119</td>\n",
              "    </tr>\n",
              "    <tr>\n",
              "      <th>202206</th>\n",
              "      <td>-0.0677</td>\n",
              "      <td>0.0012</td>\n",
              "      <td>-0.0099</td>\n",
              "      <td>-0.0151</td>\n",
              "      <td>0.0038</td>\n",
              "    </tr>\n",
              "    <tr>\n",
              "      <th>202205</th>\n",
              "      <td>0.0026</td>\n",
              "      <td>-0.0154</td>\n",
              "      <td>-0.0085</td>\n",
              "      <td>-0.0014</td>\n",
              "      <td>0.0166</td>\n",
              "    </tr>\n",
              "    <tr>\n",
              "      <th>...</th>\n",
              "      <td>...</td>\n",
              "      <td>...</td>\n",
              "      <td>...</td>\n",
              "      <td>...</td>\n",
              "      <td>...</td>\n",
              "    </tr>\n",
              "    <tr>\n",
              "      <th>200306</th>\n",
              "      <td>0.0588</td>\n",
              "      <td>0.0001</td>\n",
              "      <td>0.0127</td>\n",
              "      <td>-0.0097</td>\n",
              "      <td>-0.0052</td>\n",
              "    </tr>\n",
              "    <tr>\n",
              "      <th>200305</th>\n",
              "      <td>0.0708</td>\n",
              "      <td>0.0047</td>\n",
              "      <td>0.0116</td>\n",
              "      <td>-0.0162</td>\n",
              "      <td>0.0103</td>\n",
              "    </tr>\n",
              "    <tr>\n",
              "      <th>200304</th>\n",
              "      <td>0.0922</td>\n",
              "      <td>-0.0182</td>\n",
              "      <td>0.0076</td>\n",
              "      <td>0.0045</td>\n",
              "      <td>-0.0017</td>\n",
              "    </tr>\n",
              "    <tr>\n",
              "      <th>200303</th>\n",
              "      <td>-0.0331</td>\n",
              "      <td>-0.0090</td>\n",
              "      <td>0.0146</td>\n",
              "      <td>0.0119</td>\n",
              "      <td>0.0147</td>\n",
              "    </tr>\n",
              "    <tr>\n",
              "      <th>200302</th>\n",
              "      <td>-0.0299</td>\n",
              "      <td>0.0033</td>\n",
              "      <td>0.0078</td>\n",
              "      <td>0.0114</td>\n",
              "      <td>-0.0046</td>\n",
              "    </tr>\n",
              "  </tbody>\n",
              "</table>\n",
              "<p>236 rows × 5 columns</p>\n",
              "</div>\n",
              "      <button class=\"colab-df-convert\" onclick=\"convertToInteractive('df-676d12de-b454-4327-8dee-54a0d7ab8781')\"\n",
              "              title=\"Convert this dataframe to an interactive table.\"\n",
              "              style=\"display:none;\">\n",
              "        \n",
              "  <svg xmlns=\"http://www.w3.org/2000/svg\" height=\"24px\"viewBox=\"0 0 24 24\"\n",
              "       width=\"24px\">\n",
              "    <path d=\"M0 0h24v24H0V0z\" fill=\"none\"/>\n",
              "    <path d=\"M18.56 5.44l.94 2.06.94-2.06 2.06-.94-2.06-.94-.94-2.06-.94 2.06-2.06.94zm-11 1L8.5 8.5l.94-2.06 2.06-.94-2.06-.94L8.5 2.5l-.94 2.06-2.06.94zm10 10l.94 2.06.94-2.06 2.06-.94-2.06-.94-.94-2.06-.94 2.06-2.06.94z\"/><path d=\"M17.41 7.96l-1.37-1.37c-.4-.4-.92-.59-1.43-.59-.52 0-1.04.2-1.43.59L10.3 9.45l-7.72 7.72c-.78.78-.78 2.05 0 2.83L4 21.41c.39.39.9.59 1.41.59.51 0 1.02-.2 1.41-.59l7.78-7.78 2.81-2.81c.8-.78.8-2.07 0-2.86zM5.41 20L4 18.59l7.72-7.72 1.47 1.35L5.41 20z\"/>\n",
              "  </svg>\n",
              "      </button>\n",
              "      \n",
              "  <style>\n",
              "    .colab-df-container {\n",
              "      display:flex;\n",
              "      flex-wrap:wrap;\n",
              "      gap: 12px;\n",
              "    }\n",
              "\n",
              "    .colab-df-convert {\n",
              "      background-color: #E8F0FE;\n",
              "      border: none;\n",
              "      border-radius: 50%;\n",
              "      cursor: pointer;\n",
              "      display: none;\n",
              "      fill: #1967D2;\n",
              "      height: 32px;\n",
              "      padding: 0 0 0 0;\n",
              "      width: 32px;\n",
              "    }\n",
              "\n",
              "    .colab-df-convert:hover {\n",
              "      background-color: #E2EBFA;\n",
              "      box-shadow: 0px 1px 2px rgba(60, 64, 67, 0.3), 0px 1px 3px 1px rgba(60, 64, 67, 0.15);\n",
              "      fill: #174EA6;\n",
              "    }\n",
              "\n",
              "    [theme=dark] .colab-df-convert {\n",
              "      background-color: #3B4455;\n",
              "      fill: #D2E3FC;\n",
              "    }\n",
              "\n",
              "    [theme=dark] .colab-df-convert:hover {\n",
              "      background-color: #434B5C;\n",
              "      box-shadow: 0px 1px 3px 1px rgba(0, 0, 0, 0.15);\n",
              "      filter: drop-shadow(0px 1px 2px rgba(0, 0, 0, 0.3));\n",
              "      fill: #FFFFFF;\n",
              "    }\n",
              "  </style>\n",
              "\n",
              "      <script>\n",
              "        const buttonEl =\n",
              "          document.querySelector('#df-676d12de-b454-4327-8dee-54a0d7ab8781 button.colab-df-convert');\n",
              "        buttonEl.style.display =\n",
              "          google.colab.kernel.accessAllowed ? 'block' : 'none';\n",
              "\n",
              "        async function convertToInteractive(key) {\n",
              "          const element = document.querySelector('#df-676d12de-b454-4327-8dee-54a0d7ab8781');\n",
              "          const dataTable =\n",
              "            await google.colab.kernel.invokeFunction('convertToInteractive',\n",
              "                                                     [key], {});\n",
              "          if (!dataTable) return;\n",
              "\n",
              "          const docLinkHtml = 'Like what you see? Visit the ' +\n",
              "            '<a target=\"_blank\" href=https://colab.research.google.com/notebooks/data_table.ipynb>data table notebook</a>'\n",
              "            + ' to learn more about interactive tables.';\n",
              "          element.innerHTML = '';\n",
              "          dataTable['output_type'] = 'display_data';\n",
              "          await google.colab.output.renderOutput(dataTable, element);\n",
              "          const docLink = document.createElement('div');\n",
              "          docLink.innerHTML = docLinkHtml;\n",
              "          element.appendChild(docLink);\n",
              "        }\n",
              "      </script>\n",
              "    </div>\n",
              "  </div>\n",
              "  "
            ]
          },
          "metadata": {},
          "execution_count": 214
        }
      ]
    },
    {
      "cell_type": "code",
      "source": [
        "df_tb3ms.iloc[i, 0],"
      ],
      "metadata": {
        "colab": {
          "base_uri": "https://localhost:8080/"
        },
        "id": "EqHOtDe5T7hr",
        "outputId": "705f8da1-90f1-4711-e63f-1749c2dfb9ab"
      },
      "id": "EqHOtDe5T7hr",
      "execution_count": null,
      "outputs": [
        {
          "output_type": "execute_result",
          "data": {
            "text/plain": [
              "(0.0044,)"
            ]
          },
          "metadata": {},
          "execution_count": 206
        }
      ]
    },
    {
      "cell_type": "code",
      "source": [
        "# Simulation routine\n",
        "def run_sim(df_trades: pd.DataFrame,\n",
        "            df_returns: pd.DataFrame):\n",
        "  # Sanity\n",
        "  # Period1 must have a 100% allocation...\n",
        "  if df_trades.iloc[-1,:] != 1:\n",
        "    raise TypeError('df_trades first period must sum to 1')\n",
        "  # All subsequent periods must have trades netting to zero...\n",
        "  if df_trades.sum(axis=0).round(2).sum() != 0:\n",
        "    raise TypeError('df_trades not all period have trades summing to zero; all buys must have corresponding sells')\n",
        "\n",
        "  # Ini CAGR of each security as the initial trade\n",
        "  df_sec_cagr = df_trades.iloc[-1,:].copy(deep=True)\n",
        "\n",
        "  # Step through time\n",
        "  for i in range(df_trades.shape[0]-1, 0, -1):\n",
        "    #Trades in this period? Not nan, >0\n",
        "    trade_sell_flag = ((df_trades.iloc[i,:] != np.nan) & (df_trades.iloc[i,:] < 0))\n",
        "    trade_sell_cols = df_trades.column.loc[trade_sell_flag == True]\n",
        "    tot_trades = df_trades.loc[i, trade_sell_cols].sum()  \n",
        "    tot_cagr = df_sec_cagr[i+1, trade_sell_cols].sum()  \n",
        "      \n",
        "    # calculate terminal val of sells\n",
        "    trade_sell_flag = (df_trades == True)\n",
        "\n",
        "    for j in range(0, df_trades.shape[1]-1):\n",
        "      \n",
        "      # nan means no trade in this security\n",
        "      if df_trades.iloc[i,j] == np.nan:\n",
        "        df_sec_cagr.iloc[i,j] = df_sec_cagr.iloc[i+1,j] * (1+df_returns.iloc[i,j])\n",
        "      elif df_trades.iloc[i,j] > 0:\n",
        "        df_sec_cagr.iloc[i,j] = tot_cagr * df_trades.iloc[i,j]\n",
        "      elif df_trades.iloc[i,j] < 0:\n",
        "        df_sec_cagr.iloc[i,j] = 0\n",
        "\n"
      ],
      "metadata": {
        "id": "uJNhnJdccN7a"
      },
      "id": "uJNhnJdccN7a",
      "execution_count": null,
      "outputs": []
    },
    {
      "cell_type": "markdown",
      "source": [
        "## Bias Alert: Certainty bias\n",
        "\n",
        "Any opinion offered about the probability, likelihood, certainty, or similar property for a hypothesis cannot be derived from statistical methods alone. In particular, significance tests and confidence intervals do not by themselves provide a logically sound basis for concluding an effect is present or absent with certainty or a given probability. This point should be borne in mind whenever one sees a conclu\n",
        "sion framed as a statement of probability, likelihood, or certainty about a hypothesis. Information about the hypothesis beyond that contained in the analyzed data and in conventional statistical models (which give only data probabilities) must be used to reach such a conclusion; that information should be explicitly acknowledged and described by those offering the conclusion. Bayesian statistics offers methods that attempt to incorporate the needed information directly into the statistical model; they have not, however, achieved the popularity of P values and confidence intervals, in part because of philosophical objections and in part because no conventions have become established for their use.\n",
        "\n",
        "https://www.ncbi.nlm.nih.gov/pmc/articles/PMC4877414/"
      ],
      "metadata": {
        "id": "hX1mYjpsn8yh"
      },
      "id": "hX1mYjpsn8yh"
    },
    {
      "cell_type": "markdown",
      "source": [
        "## Bias Alert: Endogenous bias\n",
        "Endogeneity bias is not a simple violation and there is no easy statistical solution. It has serious consequences for outcomes, where in the presence of endogenous variables OLS learns biased and inconsistent parameters. P-values can be seriously misleading. All it takes is one endogenous variable to seriously distort ALL OLS parameters.\n",
        "https://artnet.unescap.org/tid/artnet/mtg/gravity09_tues3.pdf\n",
        "\n",
        "One potentially concerning endogeneity is self-fulfilling prophecy of factor investing, where stocks with high correlations to commonly used factors would cause investments in those stocks, causing price appreciation, affirming that the correlations with those factors caused the price rises.\n"
      ],
      "metadata": {
        "id": "Rrb0FP-j1mp8"
      },
      "id": "Rrb0FP-j1mp8"
    },
    {
      "cell_type": "markdown",
      "source": [],
      "metadata": {
        "id": "UrNYVeRF1tBm"
      },
      "id": "UrNYVeRF1tBm"
    },
    {
      "cell_type": "markdown",
      "source": [
        "# 2. Machine Learning Enhanced Traditional Quantitative Approach\n",
        "\n",
        "We now examine using \"first generation\" machine learning tools, applied in a traditional quantative framework."
      ],
      "metadata": {
        "id": "xqxvllB41u_b"
      },
      "id": "xqxvllB41u_b"
    },
    {
      "cell_type": "markdown",
      "source": [
        "## 2a. Factor Approach with Non-linear Regression\n",
        "\n",
        "The ML approach is somewhat different to the traditional linear factor approach. To avoid ovefitting, ML is separated into a train and test data.  \n"
      ],
      "metadata": {
        "id": "XanNZbZB2brP"
      },
      "id": "XanNZbZB2brP"
    },
    {
      "cell_type": "code",
      "source": [
        "from sklearn.neural_network import MLPRegressor\n",
        "from sklearn.model_selection import train_test_split#\n",
        "\n",
        "# Neural net (MLP) model, extends our factor model to non-linear regression\n",
        "def nonlinfactor_train_single_security(sec_col_no: int,\n",
        "                     df_tb3ms: pd.DataFrame,\n",
        "                     df_sec_rets: pd.DataFrame,\n",
        "                     df_ff_factors: pd.DataFrame,\n",
        "                     date_start: int,\n",
        "                     date_end: int,\n",
        "                     use_robust_cm: bool = False,\n",
        "                     plot_residual_scatter: bool = False) -> (object, np.array, float, float):\n",
        "  \n",
        "  # sanity\n",
        "  if date_start < date_end: \n",
        "    raise TypeError(\"Latest date is date=0, date_start is > date_end\")\n",
        "  if df_ff_factors.shape[0] < df_ff_factors.shape[1]:\n",
        "    raise TypeError(\"Must pass factor returns as columns not rows\")  \n",
        "  if df_ff_factors.index[0] != df_sec_rets.index[0]:\n",
        "    raise TypeError(\"Dates misaligned\")  \n",
        "  if df_tb3ms.index[0] != df_sec_rets.index[0]:\n",
        "    raise TypeError(\"Dates misaligned\") \n",
        "\n",
        "      # Get X and y data...\n",
        "  # NB: Security returns... deduct Rf\n",
        "  y_train = [df_sec_rets.iloc[i, sec_col_no] - df_tb3ms.iloc[i, 0] for i in range(date_end,date_start)]\n",
        "  X_train = df_ff_factors.iloc[date_end:date_start, :]\n",
        "  \n",
        "  # Instantiate and train neural net model\n",
        "  nn_model = MLPRegressor(random_state=1, max_iter=500).fit(X_train, y_train) \n",
        "  \n",
        "  # Predict in sample\n",
        "  y_hat = nn_model.predict(X_train)\n",
        "  resid = y_train-y_hat\n",
        "\n",
        "  # In sample prediction: Examine residuals for normality... \n",
        "  # NB: The null hypothesis (H0) states that the variable is normally distributed, \n",
        "  # and the alternative hypothesis (H1) states that the variable is NOT normally distributed.  \n",
        "  sw_stat, sw_p = shapiro(resid)\n",
        "  \n",
        "  # Optional ...\n",
        "  if plot_residual_scatter == True:   \n",
        "    # square plot     \n",
        "    fig, ax = plt.subplots()\n",
        "    ax.scatter(y_train, y_hat)        \n",
        "    ax.set_aspect(aspect=1)\n",
        "    plt.title('Residual Plot: Shapiro-Wilk p-val: ' + str(round(sw_p, 2)))\n",
        "    plt.show()\n",
        "  \n",
        "  return (nn_model, resid, sw_stat, sw_p) "
      ],
      "metadata": {
        "id": "3VqP6pZARvEX"
      },
      "id": "3VqP6pZARvEX",
      "execution_count": 40,
      "outputs": []
    },
    {
      "cell_type": "code",
      "source": [
        "# Forecast the expected return of a single stock\n",
        "def nonlinfactor_forecast_ER(nn_model: object,\n",
        "                                    df_ff_factors: pd.DataFrame,\n",
        "                                    r_f: float, \n",
        "                                    date_start: int,\n",
        "                                    date_end: int) -> float:\n",
        "\n",
        "  #date_start = 35\n",
        "  #date_end = 0\n",
        "  #r_f = 0.01\n",
        "  #df_stock_factor_loadings=pd.DataFrame(ols_model.params)\n",
        "\n",
        "  # sanity\n",
        "  if date_start < date_end: \n",
        "    raise TypeError(\"Latest date is date=0, date_start is > date_end\")\n",
        "  if df_ff_factors.shape[0] < df_ff_factors.shape[1]:\n",
        "    raise TypeError(\"Must pass factor returns as columns not rows\")  \n",
        "  if nn_model is None: \n",
        "    raise TypeError(\"Must pass instantiated nn_model object\")  \n",
        "\n",
        "  # Factor returns to assume\n",
        "  factor_excess_returns = df_ff_factors.iloc[date_end:date_start, :].sort_index()\n",
        "  factor_excess_returns = np.array(1+factor_excess_returns.iloc[date_end:date_start, :]).prod(axis=0)\n",
        "  factor_excess_returns = factor_excess_returns ** (12/(date_start-date_end))-1\n",
        "\n",
        "  # Stock Forecast E(R)_i,t+h\n",
        "  E_R = nn_model.predict(factor_excess_returns)\n",
        "  E_R = E_R + r_f\n",
        "\n",
        "  return E_R"
      ],
      "metadata": {
        "id": "wjc4qDkPT_El"
      },
      "id": "wjc4qDkPT_El",
      "execution_count": null,
      "outputs": []
    },
    {
      "cell_type": "markdown",
      "source": [
        "### Bias Alert: Complexity Bias\n",
        "Using neural net is way too complex.\n",
        "Limited number of features... limited number of data point.\n",
        "Number of model paramters/data points  =\n"
      ],
      "metadata": {
        "id": "rIAoyn3khtkb"
      },
      "id": "rIAoyn3khtkb"
    },
    {
      "cell_type": "markdown",
      "source": [
        "## 2b. Classification Approach"
      ],
      "metadata": {
        "id": "UO0AeHZb2i0C"
      },
      "id": "UO0AeHZb2i0C"
    },
    {
      "cell_type": "markdown",
      "source": [
        "# 3. Interpretable Machine Learning Approach\n"
      ],
      "metadata": {
        "id": "tdU_P5EE2oX2"
      },
      "id": "tdU_P5EE2oX2"
    },
    {
      "cell_type": "code",
      "source": [],
      "metadata": {
        "id": "luN0Cgy13Ehz"
      },
      "id": "luN0Cgy13Ehz",
      "execution_count": null,
      "outputs": []
    },
    {
      "cell_type": "markdown",
      "source": [
        "# Stage1. Business Case \n",
        "\n",
        "Define key performance indicators (KPIs). \n",
        "Data needed, outcomes, model risk level, communication strategy.\n",
        "Regulatory and Compliance issues \n"
      ],
      "metadata": {
        "id": "rDXnNSIt5GUs"
      },
      "id": "rDXnNSIt5GUs"
    },
    {
      "cell_type": "code",
      "source": [
        "df_raw.columns"
      ],
      "metadata": {
        "colab": {
          "base_uri": "https://localhost:8080/"
        },
        "id": "pwvlymBMFqsW",
        "outputId": "a3c25dac-202d-4d33-ca5d-42157aeba3e6"
      },
      "id": "pwvlymBMFqsW",
      "execution_count": null,
      "outputs": [
        {
          "output_type": "execute_result",
          "data": {
            "text/plain": [
              "Index(['checking_status', 'duration', 'credit_history', 'purpose',\n",
              "       'credit_amount', 'savings_status', 'employment',\n",
              "       'installment_commitment', 'personal_status', 'other_parties',\n",
              "       'residence_since', 'property_magnitude', 'age', 'other_payment_plans',\n",
              "       'housing', 'existing_credits', 'job', 'num_dependents', 'own_telephone',\n",
              "       'foreign_worker', 'class'],\n",
              "      dtype='object')"
            ]
          },
          "metadata": {},
          "execution_count": 7
        }
      ]
    },
    {
      "cell_type": "markdown",
      "source": [
        "There is clearly a bias in the dataset, but to expand upon this we can use a Chi2 test to examine whether the observed \"bad\" credits we see in female rows, is statistically significant to the expected difference we see in male rows.\n",
        "\n",
        "It is possible that this bias is proxied by another data item in the dataset. **We will come back to this issue later**."
      ],
      "metadata": {
        "id": "cB4L-E2-Te1u"
      },
      "id": "cB4L-E2-Te1u"
    },
    {
      "cell_type": "markdown",
      "source": [
        "# Stage2: Exploratory Data Analysis"
      ],
      "metadata": {
        "id": "BrwhvERWDe_N"
      },
      "id": "BrwhvERWDe_N"
    },
    {
      "cell_type": "markdown",
      "id": "bdd49632",
      "metadata": {
        "id": "bdd49632"
      },
      "source": [
        "## Data Wrangling and Preprocessing\n",
        "\n",
        "Data Wrangling: As we have shown in previous chapters we need to convert categorical data into one-hot-encodings, clean characters from numeric data columns, carry out type conversions into numeric datatypes... The following cell shows the appropriate data wrangling to get our data into a good shape. "
      ]
    },
    {
      "cell_type": "code",
      "execution_count": null,
      "id": "c62115a2",
      "metadata": {
        "scrolled": true,
        "colab": {
          "base_uri": "https://localhost:8080/"
        },
        "id": "c62115a2",
        "outputId": "0e35d664-bf8e-43b6-f956-c917f33f110c"
      },
      "outputs": [
        {
          "output_type": "execute_result",
          "data": {
            "text/plain": [
              "     duration  credit_amount  installment_commitment  residence_since  age  \\\n",
              "0           6           1169                       4                4   67   \n",
              "1          48           5951                       2                2    0   \n",
              "2          12           2096                       2                3   49   \n",
              "3          42           7882                       2                4   45   \n",
              "4          24           4870                       3                4   53   \n",
              "..        ...            ...                     ...              ...  ...   \n",
              "995        12           1736                       3                4   31   \n",
              "996        30           3857                       4                4   40   \n",
              "997        12            804                       4                4   38   \n",
              "998        45           1845                       4                4    0   \n",
              "999        45           4576                       3                4   27   \n",
              "\n",
              "     existing_credits  num_dependents  foreign_worker  class  \\\n",
              "0                   2               1               1      0   \n",
              "1                   1               1               1      1   \n",
              "2                   1               2               1      0   \n",
              "3                   1               2               1      0   \n",
              "4                   2               2               1      1   \n",
              "..                ...             ...             ...    ...   \n",
              "995                 1               1               1      0   \n",
              "996                 1               1               1      0   \n",
              "997                 1               1               1      0   \n",
              "998                 1               1               1      1   \n",
              "999                 1               1               1      0   \n",
              "\n",
              "     checking_status_0<=X<200  ...  other_payment_plans_stores  \\\n",
              "0                           0  ...                           0   \n",
              "1                           1  ...                           0   \n",
              "2                           0  ...                           0   \n",
              "3                           0  ...                           0   \n",
              "4                           0  ...                           0   \n",
              "..                        ...  ...                         ...   \n",
              "995                         0  ...                           0   \n",
              "996                         0  ...                           0   \n",
              "997                         0  ...                           0   \n",
              "998                         0  ...                           0   \n",
              "999                         1  ...                           0   \n",
              "\n",
              "     housing_for free  housing_own  housing_rent  \\\n",
              "0                   0            1             0   \n",
              "1                   0            1             0   \n",
              "2                   0            1             0   \n",
              "3                   1            0             0   \n",
              "4                   1            0             0   \n",
              "..                ...          ...           ...   \n",
              "995                 0            1             0   \n",
              "996                 0            1             0   \n",
              "997                 0            1             0   \n",
              "998                 1            0             0   \n",
              "999                 0            1             0   \n",
              "\n",
              "     job_high qualif/self emp/mgmt  job_skilled  job_unemp/unskilled non res  \\\n",
              "0                                0            1                            0   \n",
              "1                                0            1                            0   \n",
              "2                                0            0                            0   \n",
              "3                                0            1                            0   \n",
              "4                                0            1                            0   \n",
              "..                             ...          ...                          ...   \n",
              "995                              0            0                            0   \n",
              "996                              1            0                            0   \n",
              "997                              0            1                            0   \n",
              "998                              0            1                            0   \n",
              "999                              0            1                            0   \n",
              "\n",
              "     job_unskilled resident  own_telephone_none  own_telephone_yes  \n",
              "0                         0                   0                  1  \n",
              "1                         0                   1                  0  \n",
              "2                         1                   1                  0  \n",
              "3                         0                   1                  0  \n",
              "4                         0                   1                  0  \n",
              "..                      ...                 ...                ...  \n",
              "995                       1                   1                  0  \n",
              "996                       0                   0                  1  \n",
              "997                       0                   1                  0  \n",
              "998                       0                   0                  1  \n",
              "999                       0                   1                  0  \n",
              "\n",
              "[1000 rows x 57 columns]"
            ],
            "text/html": [
              "\n",
              "  <div id=\"df-9cc990b0-a346-4d0f-9364-dfd5ba48fa9c\">\n",
              "    <div class=\"colab-df-container\">\n",
              "      <div>\n",
              "<style scoped>\n",
              "    .dataframe tbody tr th:only-of-type {\n",
              "        vertical-align: middle;\n",
              "    }\n",
              "\n",
              "    .dataframe tbody tr th {\n",
              "        vertical-align: top;\n",
              "    }\n",
              "\n",
              "    .dataframe thead th {\n",
              "        text-align: right;\n",
              "    }\n",
              "</style>\n",
              "<table border=\"1\" class=\"dataframe\">\n",
              "  <thead>\n",
              "    <tr style=\"text-align: right;\">\n",
              "      <th></th>\n",
              "      <th>duration</th>\n",
              "      <th>credit_amount</th>\n",
              "      <th>installment_commitment</th>\n",
              "      <th>residence_since</th>\n",
              "      <th>age</th>\n",
              "      <th>existing_credits</th>\n",
              "      <th>num_dependents</th>\n",
              "      <th>foreign_worker</th>\n",
              "      <th>class</th>\n",
              "      <th>checking_status_0&lt;=X&lt;200</th>\n",
              "      <th>...</th>\n",
              "      <th>other_payment_plans_stores</th>\n",
              "      <th>housing_for free</th>\n",
              "      <th>housing_own</th>\n",
              "      <th>housing_rent</th>\n",
              "      <th>job_high qualif/self emp/mgmt</th>\n",
              "      <th>job_skilled</th>\n",
              "      <th>job_unemp/unskilled non res</th>\n",
              "      <th>job_unskilled resident</th>\n",
              "      <th>own_telephone_none</th>\n",
              "      <th>own_telephone_yes</th>\n",
              "    </tr>\n",
              "  </thead>\n",
              "  <tbody>\n",
              "    <tr>\n",
              "      <th>0</th>\n",
              "      <td>6</td>\n",
              "      <td>1169</td>\n",
              "      <td>4</td>\n",
              "      <td>4</td>\n",
              "      <td>67</td>\n",
              "      <td>2</td>\n",
              "      <td>1</td>\n",
              "      <td>1</td>\n",
              "      <td>0</td>\n",
              "      <td>0</td>\n",
              "      <td>...</td>\n",
              "      <td>0</td>\n",
              "      <td>0</td>\n",
              "      <td>1</td>\n",
              "      <td>0</td>\n",
              "      <td>0</td>\n",
              "      <td>1</td>\n",
              "      <td>0</td>\n",
              "      <td>0</td>\n",
              "      <td>0</td>\n",
              "      <td>1</td>\n",
              "    </tr>\n",
              "    <tr>\n",
              "      <th>1</th>\n",
              "      <td>48</td>\n",
              "      <td>5951</td>\n",
              "      <td>2</td>\n",
              "      <td>2</td>\n",
              "      <td>0</td>\n",
              "      <td>1</td>\n",
              "      <td>1</td>\n",
              "      <td>1</td>\n",
              "      <td>1</td>\n",
              "      <td>1</td>\n",
              "      <td>...</td>\n",
              "      <td>0</td>\n",
              "      <td>0</td>\n",
              "      <td>1</td>\n",
              "      <td>0</td>\n",
              "      <td>0</td>\n",
              "      <td>1</td>\n",
              "      <td>0</td>\n",
              "      <td>0</td>\n",
              "      <td>1</td>\n",
              "      <td>0</td>\n",
              "    </tr>\n",
              "    <tr>\n",
              "      <th>2</th>\n",
              "      <td>12</td>\n",
              "      <td>2096</td>\n",
              "      <td>2</td>\n",
              "      <td>3</td>\n",
              "      <td>49</td>\n",
              "      <td>1</td>\n",
              "      <td>2</td>\n",
              "      <td>1</td>\n",
              "      <td>0</td>\n",
              "      <td>0</td>\n",
              "      <td>...</td>\n",
              "      <td>0</td>\n",
              "      <td>0</td>\n",
              "      <td>1</td>\n",
              "      <td>0</td>\n",
              "      <td>0</td>\n",
              "      <td>0</td>\n",
              "      <td>0</td>\n",
              "      <td>1</td>\n",
              "      <td>1</td>\n",
              "      <td>0</td>\n",
              "    </tr>\n",
              "    <tr>\n",
              "      <th>3</th>\n",
              "      <td>42</td>\n",
              "      <td>7882</td>\n",
              "      <td>2</td>\n",
              "      <td>4</td>\n",
              "      <td>45</td>\n",
              "      <td>1</td>\n",
              "      <td>2</td>\n",
              "      <td>1</td>\n",
              "      <td>0</td>\n",
              "      <td>0</td>\n",
              "      <td>...</td>\n",
              "      <td>0</td>\n",
              "      <td>1</td>\n",
              "      <td>0</td>\n",
              "      <td>0</td>\n",
              "      <td>0</td>\n",
              "      <td>1</td>\n",
              "      <td>0</td>\n",
              "      <td>0</td>\n",
              "      <td>1</td>\n",
              "      <td>0</td>\n",
              "    </tr>\n",
              "    <tr>\n",
              "      <th>4</th>\n",
              "      <td>24</td>\n",
              "      <td>4870</td>\n",
              "      <td>3</td>\n",
              "      <td>4</td>\n",
              "      <td>53</td>\n",
              "      <td>2</td>\n",
              "      <td>2</td>\n",
              "      <td>1</td>\n",
              "      <td>1</td>\n",
              "      <td>0</td>\n",
              "      <td>...</td>\n",
              "      <td>0</td>\n",
              "      <td>1</td>\n",
              "      <td>0</td>\n",
              "      <td>0</td>\n",
              "      <td>0</td>\n",
              "      <td>1</td>\n",
              "      <td>0</td>\n",
              "      <td>0</td>\n",
              "      <td>1</td>\n",
              "      <td>0</td>\n",
              "    </tr>\n",
              "    <tr>\n",
              "      <th>...</th>\n",
              "      <td>...</td>\n",
              "      <td>...</td>\n",
              "      <td>...</td>\n",
              "      <td>...</td>\n",
              "      <td>...</td>\n",
              "      <td>...</td>\n",
              "      <td>...</td>\n",
              "      <td>...</td>\n",
              "      <td>...</td>\n",
              "      <td>...</td>\n",
              "      <td>...</td>\n",
              "      <td>...</td>\n",
              "      <td>...</td>\n",
              "      <td>...</td>\n",
              "      <td>...</td>\n",
              "      <td>...</td>\n",
              "      <td>...</td>\n",
              "      <td>...</td>\n",
              "      <td>...</td>\n",
              "      <td>...</td>\n",
              "      <td>...</td>\n",
              "    </tr>\n",
              "    <tr>\n",
              "      <th>995</th>\n",
              "      <td>12</td>\n",
              "      <td>1736</td>\n",
              "      <td>3</td>\n",
              "      <td>4</td>\n",
              "      <td>31</td>\n",
              "      <td>1</td>\n",
              "      <td>1</td>\n",
              "      <td>1</td>\n",
              "      <td>0</td>\n",
              "      <td>0</td>\n",
              "      <td>...</td>\n",
              "      <td>0</td>\n",
              "      <td>0</td>\n",
              "      <td>1</td>\n",
              "      <td>0</td>\n",
              "      <td>0</td>\n",
              "      <td>0</td>\n",
              "      <td>0</td>\n",
              "      <td>1</td>\n",
              "      <td>1</td>\n",
              "      <td>0</td>\n",
              "    </tr>\n",
              "    <tr>\n",
              "      <th>996</th>\n",
              "      <td>30</td>\n",
              "      <td>3857</td>\n",
              "      <td>4</td>\n",
              "      <td>4</td>\n",
              "      <td>40</td>\n",
              "      <td>1</td>\n",
              "      <td>1</td>\n",
              "      <td>1</td>\n",
              "      <td>0</td>\n",
              "      <td>0</td>\n",
              "      <td>...</td>\n",
              "      <td>0</td>\n",
              "      <td>0</td>\n",
              "      <td>1</td>\n",
              "      <td>0</td>\n",
              "      <td>1</td>\n",
              "      <td>0</td>\n",
              "      <td>0</td>\n",
              "      <td>0</td>\n",
              "      <td>0</td>\n",
              "      <td>1</td>\n",
              "    </tr>\n",
              "    <tr>\n",
              "      <th>997</th>\n",
              "      <td>12</td>\n",
              "      <td>804</td>\n",
              "      <td>4</td>\n",
              "      <td>4</td>\n",
              "      <td>38</td>\n",
              "      <td>1</td>\n",
              "      <td>1</td>\n",
              "      <td>1</td>\n",
              "      <td>0</td>\n",
              "      <td>0</td>\n",
              "      <td>...</td>\n",
              "      <td>0</td>\n",
              "      <td>0</td>\n",
              "      <td>1</td>\n",
              "      <td>0</td>\n",
              "      <td>0</td>\n",
              "      <td>1</td>\n",
              "      <td>0</td>\n",
              "      <td>0</td>\n",
              "      <td>1</td>\n",
              "      <td>0</td>\n",
              "    </tr>\n",
              "    <tr>\n",
              "      <th>998</th>\n",
              "      <td>45</td>\n",
              "      <td>1845</td>\n",
              "      <td>4</td>\n",
              "      <td>4</td>\n",
              "      <td>0</td>\n",
              "      <td>1</td>\n",
              "      <td>1</td>\n",
              "      <td>1</td>\n",
              "      <td>1</td>\n",
              "      <td>0</td>\n",
              "      <td>...</td>\n",
              "      <td>0</td>\n",
              "      <td>1</td>\n",
              "      <td>0</td>\n",
              "      <td>0</td>\n",
              "      <td>0</td>\n",
              "      <td>1</td>\n",
              "      <td>0</td>\n",
              "      <td>0</td>\n",
              "      <td>0</td>\n",
              "      <td>1</td>\n",
              "    </tr>\n",
              "    <tr>\n",
              "      <th>999</th>\n",
              "      <td>45</td>\n",
              "      <td>4576</td>\n",
              "      <td>3</td>\n",
              "      <td>4</td>\n",
              "      <td>27</td>\n",
              "      <td>1</td>\n",
              "      <td>1</td>\n",
              "      <td>1</td>\n",
              "      <td>0</td>\n",
              "      <td>1</td>\n",
              "      <td>...</td>\n",
              "      <td>0</td>\n",
              "      <td>0</td>\n",
              "      <td>1</td>\n",
              "      <td>0</td>\n",
              "      <td>0</td>\n",
              "      <td>1</td>\n",
              "      <td>0</td>\n",
              "      <td>0</td>\n",
              "      <td>1</td>\n",
              "      <td>0</td>\n",
              "    </tr>\n",
              "  </tbody>\n",
              "</table>\n",
              "<p>1000 rows × 57 columns</p>\n",
              "</div>\n",
              "      <button class=\"colab-df-convert\" onclick=\"convertToInteractive('df-9cc990b0-a346-4d0f-9364-dfd5ba48fa9c')\"\n",
              "              title=\"Convert this dataframe to an interactive table.\"\n",
              "              style=\"display:none;\">\n",
              "        \n",
              "  <svg xmlns=\"http://www.w3.org/2000/svg\" height=\"24px\"viewBox=\"0 0 24 24\"\n",
              "       width=\"24px\">\n",
              "    <path d=\"M0 0h24v24H0V0z\" fill=\"none\"/>\n",
              "    <path d=\"M18.56 5.44l.94 2.06.94-2.06 2.06-.94-2.06-.94-.94-2.06-.94 2.06-2.06.94zm-11 1L8.5 8.5l.94-2.06 2.06-.94-2.06-.94L8.5 2.5l-.94 2.06-2.06.94zm10 10l.94 2.06.94-2.06 2.06-.94-2.06-.94-.94-2.06-.94 2.06-2.06.94z\"/><path d=\"M17.41 7.96l-1.37-1.37c-.4-.4-.92-.59-1.43-.59-.52 0-1.04.2-1.43.59L10.3 9.45l-7.72 7.72c-.78.78-.78 2.05 0 2.83L4 21.41c.39.39.9.59 1.41.59.51 0 1.02-.2 1.41-.59l7.78-7.78 2.81-2.81c.8-.78.8-2.07 0-2.86zM5.41 20L4 18.59l7.72-7.72 1.47 1.35L5.41 20z\"/>\n",
              "  </svg>\n",
              "      </button>\n",
              "      \n",
              "  <style>\n",
              "    .colab-df-container {\n",
              "      display:flex;\n",
              "      flex-wrap:wrap;\n",
              "      gap: 12px;\n",
              "    }\n",
              "\n",
              "    .colab-df-convert {\n",
              "      background-color: #E8F0FE;\n",
              "      border: none;\n",
              "      border-radius: 50%;\n",
              "      cursor: pointer;\n",
              "      display: none;\n",
              "      fill: #1967D2;\n",
              "      height: 32px;\n",
              "      padding: 0 0 0 0;\n",
              "      width: 32px;\n",
              "    }\n",
              "\n",
              "    .colab-df-convert:hover {\n",
              "      background-color: #E2EBFA;\n",
              "      box-shadow: 0px 1px 2px rgba(60, 64, 67, 0.3), 0px 1px 3px 1px rgba(60, 64, 67, 0.15);\n",
              "      fill: #174EA6;\n",
              "    }\n",
              "\n",
              "    [theme=dark] .colab-df-convert {\n",
              "      background-color: #3B4455;\n",
              "      fill: #D2E3FC;\n",
              "    }\n",
              "\n",
              "    [theme=dark] .colab-df-convert:hover {\n",
              "      background-color: #434B5C;\n",
              "      box-shadow: 0px 1px 3px 1px rgba(0, 0, 0, 0.15);\n",
              "      filter: drop-shadow(0px 1px 2px rgba(0, 0, 0, 0.3));\n",
              "      fill: #FFFFFF;\n",
              "    }\n",
              "  </style>\n",
              "\n",
              "      <script>\n",
              "        const buttonEl =\n",
              "          document.querySelector('#df-9cc990b0-a346-4d0f-9364-dfd5ba48fa9c button.colab-df-convert');\n",
              "        buttonEl.style.display =\n",
              "          google.colab.kernel.accessAllowed ? 'block' : 'none';\n",
              "\n",
              "        async function convertToInteractive(key) {\n",
              "          const element = document.querySelector('#df-9cc990b0-a346-4d0f-9364-dfd5ba48fa9c');\n",
              "          const dataTable =\n",
              "            await google.colab.kernel.invokeFunction('convertToInteractive',\n",
              "                                                     [key], {});\n",
              "          if (!dataTable) return;\n",
              "\n",
              "          const docLinkHtml = 'Like what you see? Visit the ' +\n",
              "            '<a target=\"_blank\" href=https://colab.research.google.com/notebooks/data_table.ipynb>data table notebook</a>'\n",
              "            + ' to learn more about interactive tables.';\n",
              "          element.innerHTML = '';\n",
              "          dataTable['output_type'] = 'display_data';\n",
              "          await google.colab.output.renderOutput(dataTable, element);\n",
              "          const docLink = document.createElement('div');\n",
              "          docLink.innerHTML = docLinkHtml;\n",
              "          element.appendChild(docLink);\n",
              "        }\n",
              "      </script>\n",
              "    </div>\n",
              "  </div>\n",
              "  "
            ]
          },
          "metadata": {},
          "execution_count": 11
        }
      ],
      "source": [
        "# list categorical columns...\n",
        "cat_cols =['checking_status', 'purpose', 'credit_history', 'savings_status', 'employment', 'other_parties', 'property_magnitude', 'other_payment_plans','housing','job','own_telephone']\n",
        "\n",
        "# One hot encoding of catagorical variables...\n",
        "df[cat_cols].astype(\"category\")\n",
        "one_hot_encodings = pd.get_dummies(df[cat_cols])\n",
        "\n",
        "#Combine dfs\n",
        "df = pd.concat([df, one_hot_encodings], axis=1)\n",
        "\n",
        "#remove categorical columns...\n",
        "df = df.drop(columns=cat_cols)\n",
        "\n",
        "#Data wrangling..... get types and bad values sorted out\n",
        "\n",
        "# Remove characters in numeric columns (note that the data type was set, by the open_csv function to object, \n",
        "# so we first convert to string before running the replace function (which can only be fun on str types)\n",
        "df['foreign_worker'] = df['foreign_worker'].str.replace('yes', '1')\n",
        "df['foreign_worker'] = df['foreign_worker'].str.replace('no', '0')\n",
        "df['class'] = df['class'].str.replace('good', '0')\n",
        "df['class'] = df['class'].str.replace('bad', '1')\n",
        "\n",
        "# Convert to numerics so we can use in ML... we force type conversions, then print our resulting df.\n",
        "df['foreign_worker'] = pd.to_numeric(df['foreign_worker'], errors ='coerce').fillna(0).astype('int')\n",
        "df['class'] = pd.to_numeric(df['class'], errors ='coerce').fillna(0).astype('int')\n",
        "df['duration'] = pd.to_numeric(df['duration'], errors ='coerce').fillna(0).astype('int')\n",
        "df['installment_commitment'] = pd.to_numeric(df['installment_commitment'], errors ='coerce').fillna(0).astype('int')\n",
        "df['residence_since'] = pd.to_numeric(df['residence_since'], errors ='coerce').fillna(0).astype('int')\n",
        "df['age'] = pd.to_numeric(df['age'], errors ='coerce').fillna(0).astype('int')\n",
        "df['num_dependents'] = pd.to_numeric(df['num_dependents'], errors ='coerce').fillna(0).astype('int')\n",
        "\n",
        "df"
      ]
    },
    {
      "cell_type": "markdown",
      "source": [],
      "metadata": {
        "id": "jCs33N2k8iVd"
      },
      "id": "jCs33N2k8iVd"
    },
    {
      "cell_type": "code",
      "source": [
        "df.columns"
      ],
      "metadata": {
        "id": "wljCC_8z_jL2",
        "colab": {
          "base_uri": "https://localhost:8080/"
        },
        "outputId": "7f69523e-cdc7-4bf7-cf27-eda1e8079fc0"
      },
      "id": "wljCC_8z_jL2",
      "execution_count": null,
      "outputs": [
        {
          "output_type": "execute_result",
          "data": {
            "text/plain": [
              "Index(['duration', 'credit_amount', 'installment_commitment',\n",
              "       'residence_since', 'age', 'existing_credits', 'num_dependents',\n",
              "       'foreign_worker', 'class', 'checking_status_0<=X<200',\n",
              "       'checking_status_<0', 'checking_status_>=200',\n",
              "       'checking_status_no checking', 'purpose_business',\n",
              "       'purpose_domestic appliance', 'purpose_education',\n",
              "       'purpose_furniture/equipment', 'purpose_new car', 'purpose_other',\n",
              "       'purpose_radio/tv', 'purpose_repairs', 'purpose_retraining',\n",
              "       'purpose_used car', 'credit_history_all paid',\n",
              "       'credit_history_critical/other existing credit',\n",
              "       'credit_history_delayed previously', 'credit_history_existing paid',\n",
              "       'credit_history_no credits/all paid', 'savings_status_100<=X<500',\n",
              "       'savings_status_500<=X<1000', 'savings_status_<100',\n",
              "       'savings_status_>=1000', 'savings_status_no known savings',\n",
              "       'employment_1<=X<4', 'employment_4<=X<7', 'employment_<1',\n",
              "       'employment_>=7', 'employment_unemployed', 'other_parties_co applicant',\n",
              "       'other_parties_guarantor', 'other_parties_none',\n",
              "       'property_magnitude_car', 'property_magnitude_life insurance',\n",
              "       'property_magnitude_no known property',\n",
              "       'property_magnitude_real estate', 'other_payment_plans_bank',\n",
              "       'other_payment_plans_none', 'other_payment_plans_stores',\n",
              "       'housing_for free', 'housing_own', 'housing_rent',\n",
              "       'job_high qualif/self emp/mgmt', 'job_skilled',\n",
              "       'job_unemp/unskilled non res', 'job_unskilled resident',\n",
              "       'own_telephone_none', 'own_telephone_yes'],\n",
              "      dtype='object')"
            ]
          },
          "metadata": {},
          "execution_count": 12
        }
      ]
    },
    {
      "cell_type": "code",
      "source": [],
      "metadata": {
        "id": "dk5pDaJUsO1k"
      },
      "id": "dk5pDaJUsO1k",
      "execution_count": null,
      "outputs": []
    },
    {
      "cell_type": "markdown",
      "source": [
        "# Stage3: Model Design \n",
        "Here we run the Classifier and monitor the KPIs"
      ],
      "metadata": {
        "id": "i9Vx9c_4sStE"
      },
      "id": "i9Vx9c_4sStE"
    },
    {
      "cell_type": "code",
      "execution_count": null,
      "id": "c0beacf7",
      "metadata": {
        "colab": {
          "base_uri": "https://localhost:8080/",
          "height": 317
        },
        "id": "c0beacf7",
        "outputId": "7c211fda-e379-4312-d7ff-4791a9526f1c"
      },
      "outputs": [
        {
          "output_type": "stream",
          "name": "stdout",
          "text": [
            "Imbalanced dataset....\n",
            "0    203\n",
            "1    203\n",
            "Name: class, dtype: int64\n"
          ]
        },
        {
          "output_type": "display_data",
          "data": {
            "text/plain": [
              "<Figure size 432x288 with 1 Axes>"
            ],
            "image/png": "[encoded data removed]"
          },
          "metadata": {}
        }
      ],
      "source": [
        "#get pie of the current imbalance\n",
        "temp = pd.concat([X_downsampled, y_downsampled], axis=1)\n",
        "pie_of_imbalance(temp)"
      ]
    },
    {
      "cell_type": "code",
      "execution_count": null,
      "id": "d6de0276",
      "metadata": {
        "colab": {
          "base_uri": "https://localhost:8080/",
          "height": 424
        },
        "id": "d6de0276",
        "outputId": "72ff9d07-cdca-4638-a04e-ce48e0d423b7"
      },
      "outputs": [
        {
          "output_type": "stream",
          "name": "stdout",
          "text": [
            "<class 'sklearn.ensemble._forest.RandomForestClassifier'>\n",
            "Accuracy train: 0.8719, test:  0.6667\n",
            "Precision train: 0.8995, test:  0.8084\n",
            "Recall train: 0.8374, test:  0.6650\n",
            "F1 train: 0.8762, test:  0.5652\n"
          ]
        },
        {
          "output_type": "display_data",
          "data": {
            "text/plain": [
              "<Figure size 432x288 with 2 Axes>"
            ],
            "image/png": "[encoded data removed]"
          },
          "metadata": {
            "needs_background": "light"
          }
        }
      ],
      "source": [
        "#Run our function....\n",
        "model = run_rf_classification_models(X_downsampled, X_test, y_downsampled, y_test)"
      ]
    },
    {
      "cell_type": "markdown",
      "id": "5e6ea491",
      "metadata": {
        "id": "5e6ea491"
      },
      "source": [
        "As we can see, all up and down sampling approaches have outperformed the F1 Score on the imbalanced data. The most impressive performance in this case is from up-sampling using SMOTE synthetic data."
      ]
    },
    {
      "cell_type": "markdown",
      "source": [
        "Dealing Imbalances "
      ],
      "metadata": {
        "id": "y_rn8H2Lqhtc"
      },
      "id": "y_rn8H2Lqhtc"
    },
    {
      "cell_type": "markdown",
      "source": [],
      "metadata": {
        "id": "9yyhH3Y6c4VW"
      },
      "id": "9yyhH3Y6c4VW"
    },
    {
      "cell_type": "markdown",
      "source": [
        "Plot the accuracy of our model for all rows in the data set, plotting accuracy for our protected classes: by male and female credits."
      ],
      "metadata": {
        "id": "kTeGqjnupzwu"
      },
      "id": "kTeGqjnupzwu"
    },
    {
      "cell_type": "markdown",
      "source": [
        "Separate the data into train and test"
      ],
      "metadata": {
        "id": "qZmUmRp52Gv_"
      },
      "id": "qZmUmRp52Gv_"
    },
    {
      "cell_type": "code",
      "source": [
        "# Define X and y variables from scratch\n",
        "cols  = list(df.columns)\n",
        "cols.remove('class')\n",
        "\n",
        "# Contains only numerics\n",
        "X = df[cols]\n",
        "y = df['class']\n",
        "\n",
        "# Add binary variable where male=1, female=0\n",
        "X['gender'] = np.where(df_raw['gender'] == 'female', 1, 0)\n",
        "\n",
        "#Test and train set    \n",
        "X_train, X_test, y_train, y_test = train_test_split(X, y, test_size=0.3, random_state=None)"
      ],
      "metadata": {
        "id": "6HMicv_41B2H"
      },
      "id": "6HMicv_41B2H",
      "execution_count": null,
      "outputs": []
    },
    {
      "cell_type": "markdown",
      "source": [
        "Train our classifier using the SMOTE upsampling"
      ],
      "metadata": {
        "id": "fE4QnGAd2K5F"
      },
      "id": "fE4QnGAd2K5F"
    },
    {
      "cell_type": "code",
      "source": [
        "#How many samples do we need to balance?\n",
        "idx = np.random.choice(X_train.shape[0], size=X_train[y_train == 0].shape[0]-X_train[y_train == 1].shape[0], replace=False)\n",
        "\n",
        "# Generate SMOTE samples and use this to train\n",
        "upsampler_smote = SMOTE()\n",
        "X_upsampled_smote, y_upsampled_smote = upsampler_smote.fit_resample(X_train, y_train)"
      ],
      "metadata": {
        "id": "wWUdyVsZ2E3f"
      },
      "id": "wWUdyVsZ2E3f",
      "execution_count": null,
      "outputs": []
    },
    {
      "cell_type": "markdown",
      "source": [
        "Train the classifier"
      ],
      "metadata": {
        "id": "IG1AZwuL2sgd"
      },
      "id": "IG1AZwuL2sgd"
    },
    {
      "cell_type": "code",
      "source": [
        "#Remove the gender column\n",
        "X_upsampled_smote_exgender = X_upsampled_smote.drop('gender', axis=1)\n",
        "X_test_exgender = X_test.drop('gender', axis=1)\n",
        "\n",
        "#Run our function....\n",
        "model = run_rf_classification_models(X_upsampled_smote_exgender, X_test_exgender, y_upsampled_smote, y_test)"
      ],
      "metadata": {
        "colab": {
          "base_uri": "https://localhost:8080/",
          "height": 424
        },
        "id": "85dGw5XU2rwV",
        "outputId": "1a7c85bc-eb71-4176-ddcc-b4f731df9d37"
      },
      "id": "85dGw5XU2rwV",
      "execution_count": null,
      "outputs": [
        {
          "output_type": "stream",
          "name": "stdout",
          "text": [
            "<class 'sklearn.ensemble._forest.RandomForestClassifier'>\n",
            "Accuracy train: 0.8648, test:  0.7167\n",
            "Precision train: 0.8693, test:  0.8191\n",
            "Recall train: 0.8586, test:  0.7689\n",
            "F1 train: 0.8656, test:  0.5503\n"
          ]
        },
        {
          "output_type": "display_data",
          "data": {
            "text/plain": [
              "<Figure size 432x288 with 2 Axes>"
            ],
            "image/png": "[encoded data removed]"
          },
          "metadata": {
            "needs_background": "light"
          }
        }
      ]
    },
    {
      "cell_type": "markdown",
      "source": [
        "## Finally we check for Protected Characteristics and their Proxies...\n",
        "\n",
        "We noted at the outset that there was a bias between the protected characterisctis of gender, with male and female credits being different, and we removed this protected characteristic from the dataset to avoid this illegal bias in loan approval outcomes.\n",
        "\n",
        "Protected characteristics can be picked up (proxied) in other dataitems in more subtle ways though. For instance given that single parent households tend to disproportionately be led by a female adult, this may make 'num_dependents' a proxy for gender.\n",
        "\n",
        "It is important that we control for any possible protected biases, and one way of achieving this is to retrain our model using a mitigator, which trains by constraining the model weights to produce a balanced outcome between protected classes; male and female credits in this case."
      ],
      "metadata": {
        "id": "LvIWjJXQtAVd"
      },
      "id": "LvIWjJXQtAVd"
    },
    {
      "cell_type": "code",
      "source": [
        "from sklearn.metrics import accuracy_score\n",
        "\n",
        "# Run classifier, in sample\n",
        "y_pred = model.predict(X_test_exgender)\n",
        "\n",
        "# Analyze metrics using MetricFrame\n",
        "metric_frame = MetricFrame(metrics=accuracy_score, y_true=y_test, y_pred=y_pred, sensitive_features=X_test['gender'])\n",
        "metric_frame.by_group.plot.bar(\n",
        "    subplots=True,\n",
        "    layout=[3, 3],\n",
        "    legend=False,\n",
        "    figsize=[12, 8],\n",
        "    title=\"Show all metrics\",\n",
        ")"
      ],
      "metadata": {
        "colab": {
          "base_uri": "https://localhost:8080/",
          "height": 270
        },
        "id": "apn7X0tIfYXe",
        "outputId": "87fdff13-94a6-4c4c-acb4-d3487348a4f3"
      },
      "id": "apn7X0tIfYXe",
      "execution_count": null,
      "outputs": [
        {
          "output_type": "stream",
          "name": "stderr",
          "text": [
            "/usr/local/lib/python3.7/dist-packages/sklearn/base.py:444: UserWarning: X has feature names, but RandomForestClassifier was fitted without feature names\n",
            "  f\"X has feature names, but {self.__class__.__name__} was fitted without\"\n"
          ]
        },
        {
          "output_type": "error",
          "ename": "NameError",
          "evalue": "ignored",
          "traceback": [
            "\u001b[0;31m---------------------------------------------------------------------------\u001b[0m",
            "\u001b[0;31mNameError\u001b[0m                                 Traceback (most recent call last)",
            "\u001b[0;32m<ipython-input-34-4c44fea67996>\u001b[0m in \u001b[0;36m<module>\u001b[0;34m\u001b[0m\n\u001b[1;32m      5\u001b[0m \u001b[0;34m\u001b[0m\u001b[0m\n\u001b[1;32m      6\u001b[0m \u001b[0;31m# Analyze metrics using MetricFrame\u001b[0m\u001b[0;34m\u001b[0m\u001b[0;34m\u001b[0m\u001b[0;34m\u001b[0m\u001b[0m\n\u001b[0;32m----> 7\u001b[0;31m \u001b[0mmetric_frame\u001b[0m \u001b[0;34m=\u001b[0m \u001b[0mMetricFrame\u001b[0m\u001b[0;34m(\u001b[0m\u001b[0mmetrics\u001b[0m\u001b[0;34m=\u001b[0m\u001b[0maccuracy_score\u001b[0m\u001b[0;34m,\u001b[0m \u001b[0my_true\u001b[0m\u001b[0;34m=\u001b[0m\u001b[0my_test\u001b[0m\u001b[0;34m,\u001b[0m \u001b[0my_pred\u001b[0m\u001b[0;34m=\u001b[0m\u001b[0my_pred\u001b[0m\u001b[0;34m,\u001b[0m \u001b[0msensitive_features\u001b[0m\u001b[0;34m=\u001b[0m\u001b[0mX_test\u001b[0m\u001b[0;34m[\u001b[0m\u001b[0;34m'gender'\u001b[0m\u001b[0;34m]\u001b[0m\u001b[0;34m)\u001b[0m\u001b[0;34m\u001b[0m\u001b[0;34m\u001b[0m\u001b[0m\n\u001b[0m\u001b[1;32m      8\u001b[0m metric_frame.by_group.plot.bar(\n\u001b[1;32m      9\u001b[0m     \u001b[0msubplots\u001b[0m\u001b[0;34m=\u001b[0m\u001b[0;32mTrue\u001b[0m\u001b[0;34m,\u001b[0m\u001b[0;34m\u001b[0m\u001b[0;34m\u001b[0m\u001b[0m\n",
            "\u001b[0;31mNameError\u001b[0m: name 'MetricFrame' is not defined"
          ]
        }
      ]
    },
    {
      "cell_type": "markdown",
      "source": [
        "The balance almost equal, this indicates that our model is tending to show now bias based non gender, which indicates that removing the protected dataitem in thefirst place has had a balancing effect on the outcomes. \n",
        "\n",
        "However, we can still explicuitly remove correlated features, and constrain model training to remove bias."
      ],
      "metadata": {
        "id": "6efw9jQlqDse"
      },
      "id": "6efw9jQlqDse"
    },
    {
      "cell_type": "markdown",
      "source": [
        "### Removing features correlated with protected characteristics"
      ],
      "metadata": {
        "id": "wfSaSlGfw66d"
      },
      "id": "wfSaSlGfw66d"
    },
    {
      "cell_type": "code",
      "source": [
        "from fairlearn.reductions import ExponentiatedGradient, DemographicParity\n",
        "from fairlearn.preprocessing import CorrelationRemover\n",
        "from fairlearn.metrics import MetricFrame"
      ],
      "metadata": {
        "id": "7nuZPQqodXFd",
        "colab": {
          "base_uri": "https://localhost:8080/",
          "height": 339
        },
        "outputId": "0352b7a3-cff1-4590-b286-2b28fd3c05c2"
      },
      "id": "7nuZPQqodXFd",
      "execution_count": null,
      "outputs": [
        {
          "output_type": "error",
          "ename": "ModuleNotFoundError",
          "evalue": "ignored",
          "traceback": [
            "\u001b[0;31m---------------------------------------------------------------------------\u001b[0m",
            "\u001b[0;31mModuleNotFoundError\u001b[0m                       Traceback (most recent call last)",
            "\u001b[0;32m<ipython-input-35-3610fe11e157>\u001b[0m in \u001b[0;36m<module>\u001b[0;34m\u001b[0m\n\u001b[0;32m----> 1\u001b[0;31m \u001b[0;32mfrom\u001b[0m \u001b[0mfairlearn\u001b[0m\u001b[0;34m.\u001b[0m\u001b[0mreductions\u001b[0m \u001b[0;32mimport\u001b[0m \u001b[0mExponentiatedGradient\u001b[0m\u001b[0;34m,\u001b[0m \u001b[0mDemographicParity\u001b[0m\u001b[0;34m\u001b[0m\u001b[0;34m\u001b[0m\u001b[0m\n\u001b[0m\u001b[1;32m      2\u001b[0m \u001b[0;32mfrom\u001b[0m \u001b[0mfairlearn\u001b[0m\u001b[0;34m.\u001b[0m\u001b[0mpreprocessing\u001b[0m \u001b[0;32mimport\u001b[0m \u001b[0mCorrelationRemover\u001b[0m\u001b[0;34m\u001b[0m\u001b[0;34m\u001b[0m\u001b[0m\n\u001b[1;32m      3\u001b[0m \u001b[0;32mfrom\u001b[0m \u001b[0mfairlearn\u001b[0m\u001b[0;34m.\u001b[0m\u001b[0mmetrics\u001b[0m \u001b[0;32mimport\u001b[0m \u001b[0mMetricFrame\u001b[0m\u001b[0;34m\u001b[0m\u001b[0;34m\u001b[0m\u001b[0m\n",
            "\u001b[0;31mModuleNotFoundError\u001b[0m: No module named 'fairlearn'",
            "",
            "\u001b[0;31m---------------------------------------------------------------------------\u001b[0;32m\nNOTE: If your import is failing due to a missing package, you can\nmanually install dependencies using either !pip or !apt.\n\nTo view examples of installing some common dependencies, click the\n\"Open Examples\" button below.\n\u001b[0;31m---------------------------------------------------------------------------\u001b[0m\n"
          ],
          "errorDetails": {
            "actions": [
              {
                "action": "open_url",
                "actionText": "Open Examples",
                "url": "/notebooks/snippets/importing_libraries.ipynb"
              }
            ]
          }
        }
      ]
    },
    {
      "cell_type": "code",
      "source": [
        "# List all the columns that are sensitive, supply in a list...\n",
        "cr = CorrelationRemover(sensitive_feature_ids=['gender'])\n",
        "cr.fit(X_upsampled_smote)\n",
        "X_upsampled_smote_cr = cr.transform(X_upsampled_smote)"
      ],
      "metadata": {
        "id": "JaBH-jZFsAlV",
        "colab": {
          "base_uri": "https://localhost:8080/",
          "height": 218
        },
        "outputId": "0f74ce33-eed9-4303-dc13-a92c3601bfd3"
      },
      "id": "JaBH-jZFsAlV",
      "execution_count": null,
      "outputs": [
        {
          "output_type": "error",
          "ename": "NameError",
          "evalue": "ignored",
          "traceback": [
            "\u001b[0;31m---------------------------------------------------------------------------\u001b[0m",
            "\u001b[0;31mNameError\u001b[0m                                 Traceback (most recent call last)",
            "\u001b[0;32m<ipython-input-37-e8a7d29ff5c4>\u001b[0m in \u001b[0;36m<module>\u001b[0;34m\u001b[0m\n\u001b[1;32m      1\u001b[0m \u001b[0;31m# List all the columns that are sensitive, supply in a list...\u001b[0m\u001b[0;34m\u001b[0m\u001b[0;34m\u001b[0m\u001b[0;34m\u001b[0m\u001b[0m\n\u001b[0;32m----> 2\u001b[0;31m \u001b[0mcr\u001b[0m \u001b[0;34m=\u001b[0m \u001b[0mCorrelationRemover\u001b[0m\u001b[0;34m(\u001b[0m\u001b[0msensitive_feature_ids\u001b[0m\u001b[0;34m=\u001b[0m\u001b[0;34m[\u001b[0m\u001b[0;34m'gender'\u001b[0m\u001b[0;34m]\u001b[0m\u001b[0;34m)\u001b[0m\u001b[0;34m\u001b[0m\u001b[0;34m\u001b[0m\u001b[0m\n\u001b[0m\u001b[1;32m      3\u001b[0m \u001b[0mcr\u001b[0m\u001b[0;34m.\u001b[0m\u001b[0mfit\u001b[0m\u001b[0;34m(\u001b[0m\u001b[0mX_upsampled_smote\u001b[0m\u001b[0;34m)\u001b[0m\u001b[0;34m\u001b[0m\u001b[0;34m\u001b[0m\u001b[0m\n\u001b[1;32m      4\u001b[0m \u001b[0mX_upsampled_smote_cr\u001b[0m \u001b[0;34m=\u001b[0m \u001b[0mcr\u001b[0m\u001b[0;34m.\u001b[0m\u001b[0mtransform\u001b[0m\u001b[0;34m(\u001b[0m\u001b[0mX_upsampled_smote\u001b[0m\u001b[0;34m)\u001b[0m\u001b[0;34m\u001b[0m\u001b[0;34m\u001b[0m\u001b[0m\n",
            "\u001b[0;31mNameError\u001b[0m: name 'CorrelationRemover' is not defined"
          ]
        }
      ]
    },
    {
      "cell_type": "code",
      "source": [
        "# We set the balance in the population so we do not under or over-represent males or females...\n",
        "constraint = DemographicParity(ratio_bound=0.5)\n",
        "\n",
        "mitigator = ExponentiatedGradient(model, constraint)\n",
        "mitigator.fit(X_upsampled_smote_cr, y_train, sensitive_features=['gender'])\n",
        "y_pred_mitigated = mitigator.predict(X_test_exgender)\n",
        "\n",
        "sr_mitigated = MetricFrame(metrics=accuracy_score, y_true=y_test, y_pred=y_pred_mitigated, sensitive_features=X_upsampled_smote['gender'])\n",
        "print(sr_mitigated.overall)\n",
        "print(sr_mitigated.by_group)"
      ],
      "metadata": {
        "id": "lHoBhbgGNWx-",
        "colab": {
          "base_uri": "https://localhost:8080/",
          "height": 235
        },
        "outputId": "204314bf-7949-420d-f41c-8cefdee8b3e0"
      },
      "id": "lHoBhbgGNWx-",
      "execution_count": null,
      "outputs": [
        {
          "output_type": "error",
          "ename": "NameError",
          "evalue": "ignored",
          "traceback": [
            "\u001b[0;31m---------------------------------------------------------------------------\u001b[0m",
            "\u001b[0;31mNameError\u001b[0m                                 Traceback (most recent call last)",
            "\u001b[0;32m<ipython-input-38-f637d020a068>\u001b[0m in \u001b[0;36m<module>\u001b[0;34m\u001b[0m\n\u001b[1;32m      1\u001b[0m \u001b[0;31m# We set the balance in the population so we do not under or over-represent males or females...\u001b[0m\u001b[0;34m\u001b[0m\u001b[0;34m\u001b[0m\u001b[0;34m\u001b[0m\u001b[0m\n\u001b[0;32m----> 2\u001b[0;31m \u001b[0mconstraint\u001b[0m \u001b[0;34m=\u001b[0m \u001b[0mDemographicParity\u001b[0m\u001b[0;34m(\u001b[0m\u001b[0mratio_bound\u001b[0m\u001b[0;34m=\u001b[0m\u001b[0;36m0.5\u001b[0m\u001b[0;34m)\u001b[0m\u001b[0;34m\u001b[0m\u001b[0;34m\u001b[0m\u001b[0m\n\u001b[0m\u001b[1;32m      3\u001b[0m \u001b[0;34m\u001b[0m\u001b[0m\n\u001b[1;32m      4\u001b[0m \u001b[0mmitigator\u001b[0m \u001b[0;34m=\u001b[0m \u001b[0mExponentiatedGradient\u001b[0m\u001b[0;34m(\u001b[0m\u001b[0mmodel\u001b[0m\u001b[0;34m,\u001b[0m \u001b[0mconstraint\u001b[0m\u001b[0;34m)\u001b[0m\u001b[0;34m\u001b[0m\u001b[0;34m\u001b[0m\u001b[0m\n\u001b[1;32m      5\u001b[0m \u001b[0mmitigator\u001b[0m\u001b[0;34m.\u001b[0m\u001b[0mfit\u001b[0m\u001b[0;34m(\u001b[0m\u001b[0mX_upsampled_smote_cr\u001b[0m\u001b[0;34m,\u001b[0m \u001b[0my_train\u001b[0m\u001b[0;34m,\u001b[0m \u001b[0msensitive_features\u001b[0m\u001b[0;34m=\u001b[0m\u001b[0;34m[\u001b[0m\u001b[0;34m'gender'\u001b[0m\u001b[0;34m]\u001b[0m\u001b[0;34m)\u001b[0m\u001b[0;34m\u001b[0m\u001b[0;34m\u001b[0m\u001b[0m\n",
            "\u001b[0;31mNameError\u001b[0m: name 'DemographicParity' is not defined"
          ]
        }
      ]
    },
    {
      "cell_type": "markdown",
      "source": [
        "Let us inspect the results between the \"fair\" model outcomes and the potentially biased...."
      ],
      "metadata": {
        "id": "cVV8YHYuwfRU"
      },
      "id": "cVV8YHYuwfRU"
    },
    {
      "cell_type": "code",
      "source": [
        "\n",
        "#Print confusion matrix...\n",
        "cf_matrix = confusion_matrix(y, y_pred_mitigated, labels=[0, 1]) \n",
        "cf_matrix_norm = cf_matrix.astype('float') # / cf_matrix.sum(axis=1)[:, np.newaxis]\n",
        "\n",
        "ax = sns.heatmap(cf_matrix_norm, annot=True, cmap='Reds', fmt='g')\n",
        "ax.set_title('Confusion Matrix Bias Mitigated\\n\\n');\n",
        "ax.set_xlabel('\\nPredicted Values')\n",
        "ax.set_ylabel('Actual Values ');\n",
        "plt.show()\n",
        "\n",
        "print(f\"F1 full dataset: {f1_score(y, y_pred_mitigated, average=None)[1]:.4f}\")\n",
        "  \n",
        "# Analyze metrics using MetricFrame\n",
        "metric_frame = MetricFrame(metrics=accuracy_score, y_true=y, y_pred=y_pred_mitigated, sensitive_features=df_raw['gender'])\n",
        "metric_frame.by_group.plot.bar(\n",
        "    subplots=True,\n",
        "    layout=[3, 3],\n",
        "    legend=False,\n",
        "    figsize=[12, 8],\n",
        "    title=\"Show all metrics\",\n",
        ")"
      ],
      "metadata": {
        "id": "CW7SaIErqgQ1",
        "colab": {
          "base_uri": "https://localhost:8080/",
          "height": 235
        },
        "outputId": "5b26eaff-fb51-4875-c058-df8594c495ff"
      },
      "id": "CW7SaIErqgQ1",
      "execution_count": null,
      "outputs": [
        {
          "output_type": "error",
          "ename": "NameError",
          "evalue": "ignored",
          "traceback": [
            "\u001b[0;31m---------------------------------------------------------------------------\u001b[0m",
            "\u001b[0;31mNameError\u001b[0m                                 Traceback (most recent call last)",
            "\u001b[0;32m<ipython-input-39-9e40a9c65fa5>\u001b[0m in \u001b[0;36m<module>\u001b[0;34m\u001b[0m\n\u001b[1;32m      1\u001b[0m \u001b[0;31m#Print confusion matrix...\u001b[0m\u001b[0;34m\u001b[0m\u001b[0;34m\u001b[0m\u001b[0;34m\u001b[0m\u001b[0m\n\u001b[0;32m----> 2\u001b[0;31m \u001b[0mcf_matrix\u001b[0m \u001b[0;34m=\u001b[0m \u001b[0mconfusion_matrix\u001b[0m\u001b[0;34m(\u001b[0m\u001b[0my\u001b[0m\u001b[0;34m,\u001b[0m \u001b[0my_pred_mitigated\u001b[0m\u001b[0;34m,\u001b[0m \u001b[0mlabels\u001b[0m\u001b[0;34m=\u001b[0m\u001b[0;34m[\u001b[0m\u001b[0;36m0\u001b[0m\u001b[0;34m,\u001b[0m \u001b[0;36m1\u001b[0m\u001b[0;34m]\u001b[0m\u001b[0;34m)\u001b[0m\u001b[0;34m\u001b[0m\u001b[0;34m\u001b[0m\u001b[0m\n\u001b[0m\u001b[1;32m      3\u001b[0m \u001b[0mcf_matrix_norm\u001b[0m \u001b[0;34m=\u001b[0m \u001b[0mcf_matrix\u001b[0m\u001b[0;34m.\u001b[0m\u001b[0mastype\u001b[0m\u001b[0;34m(\u001b[0m\u001b[0;34m'float'\u001b[0m\u001b[0;34m)\u001b[0m \u001b[0;31m# / cf_matrix.sum(axis=1)[:, np.newaxis]\u001b[0m\u001b[0;34m\u001b[0m\u001b[0;34m\u001b[0m\u001b[0m\n\u001b[1;32m      4\u001b[0m \u001b[0;34m\u001b[0m\u001b[0m\n\u001b[1;32m      5\u001b[0m \u001b[0max\u001b[0m \u001b[0;34m=\u001b[0m \u001b[0msns\u001b[0m\u001b[0;34m.\u001b[0m\u001b[0mheatmap\u001b[0m\u001b[0;34m(\u001b[0m\u001b[0mcf_matrix_norm\u001b[0m\u001b[0;34m,\u001b[0m \u001b[0mannot\u001b[0m\u001b[0;34m=\u001b[0m\u001b[0;32mTrue\u001b[0m\u001b[0;34m,\u001b[0m \u001b[0mcmap\u001b[0m\u001b[0;34m=\u001b[0m\u001b[0;34m'Reds'\u001b[0m\u001b[0;34m,\u001b[0m \u001b[0mfmt\u001b[0m\u001b[0;34m=\u001b[0m\u001b[0;34m'g'\u001b[0m\u001b[0;34m)\u001b[0m\u001b[0;34m\u001b[0m\u001b[0;34m\u001b[0m\u001b[0m\n",
            "\u001b[0;31mNameError\u001b[0m: name 'y_pred_mitigated' is not defined"
          ]
        }
      ]
    },
    {
      "cell_type": "code",
      "source": [
        "#Print confusion matrix... for the unmitigated classifer...\n",
        "cf_matrix = confusion_matrix(y, y_pred, labels=[0, 1]) \n",
        "cf_matrix_norm = cf_matrix.astype('float') # / cf_matrix.sum(axis=1)[:, np.newaxis]\n",
        "\n",
        "ax = sns.heatmap(cf_matrix_norm, annot=True, cmap='Blues', fmt='g')\n",
        "ax.set_title('Confusion Matrix Non-Mitigated\\n\\n');\n",
        "ax.set_xlabel('\\nPredicted Values')\n",
        "ax.set_ylabel('Actual Values ');\n",
        "plt.show()\n",
        "\n",
        "print(f\"F1 full dataset: {f1_score(y, y_pred, average=None)[1]:.4f}\")\n",
        "\n",
        "\n",
        "# Analyze metrics using MetricFrame\n",
        "metric_frame = MetricFrame(metrics=accuracy_score, y_true=y, y_pred=y_pred, sensitive_features=df_raw['gender'])\n",
        "metric_frame.by_group.plot.bar(\n",
        "    subplots=True,\n",
        "    layout=[3, 3],\n",
        "    legend=False,\n",
        "    figsize=[12, 8],\n",
        "    title=\"Show all metrics\",\n",
        ")"
      ],
      "metadata": {
        "id": "fyHNuQeXqt12"
      },
      "id": "fyHNuQeXqt12",
      "execution_count": null,
      "outputs": []
    },
    {
      "cell_type": "markdown",
      "source": [
        "## Availability heuristic/recency biases? Have we use the correct classifier...?\n",
        "\n",
        "Using a familiar classifier has its advantages, but differet learners have different inductive biases, and strengths and weaknesses. \n",
        "We can create a cross valdation dataset, split from the training data to help us assess different classsifiers...\n",
        "\n",
        "We need to make a new separation in the training dataset, for a cross-validation\n",
        "set. This dataset will be used to test the choice of different classifiers after we have used the training data to train them, allowing us to test the classifiers out of sample using the test data."
      ],
      "metadata": {
        "id": "YWB175CoQICD"
      },
      "id": "YWB175CoQICD"
    },
    {
      "cell_type": "code",
      "source": [
        "#Test and train set    \n",
        "X_train_cv, X_cv, y_train_cv, y_cv = train_test_split(X_train, y_train, test_size=0.3, random_state=None)"
      ],
      "metadata": {
        "id": "tUbobdmKR9Or"
      },
      "id": "tUbobdmKR9Or",
      "execution_count": null,
      "outputs": []
    },
    {
      "cell_type": "markdown",
      "source": [
        "Sklean provides many different classifeirs and we will be testing each accuracy on our problem."
      ],
      "metadata": {
        "id": "5SUdXN-jhrza"
      },
      "id": "5SUdXN-jhrza"
    },
    {
      "cell_type": "code",
      "source": [
        "from sklearn.preprocessing import StandardScaler\n",
        "\n",
        "from sklearn.linear_model import LogisticRegression \n",
        "from sklearn.naive_bayes import GaussianNB\n",
        "from sklearn.neural_network import MLPClassifier \n",
        "from sklearn.ensemble import RandomForestClassifier\n",
        "from sklearn.tree import DecisionTreeClassifier\n",
        "from sklearn.discriminant_analysis import LinearDiscriminantAnalysis"
      ],
      "metadata": {
        "id": "G3Dro5K_QkgZ"
      },
      "id": "G3Dro5K_QkgZ",
      "execution_count": null,
      "outputs": []
    },
    {
      "cell_type": "markdown",
      "source": [
        "Now build a function that trains a number of different classifiers and the one with the best accuracy on the cross-validation data, we will select as the \"best\"."
      ],
      "metadata": {
        "id": "JElvKh2qh75k"
      },
      "id": "JElvKh2qh75k"
    },
    {
      "cell_type": "code",
      "source": [
        "from sklearn.metrics import f1_score\n",
        "from sklearn.metrics import precision_score\n",
        "from sklearn.metrics import recall_score\n",
        "from imblearn.over_sampling import SMOTE\n",
        "\n",
        "#Func to wrap up running these selected classification learners...\n",
        "# NOTE: to test the performance of the learners out-of-sample, we should use a cross-validation dataset\n",
        "# this is a hold back dataset and we will use our testing data to do this, in this case. \n",
        "def auto_classifier_selection(X_train: pd.DataFrame, X_cross_validation: pd.DataFrame, \n",
        "                            y_train: pd.DataFrame, y_cross_validation: pd.DataFrame) -> (list, list):\n",
        "    \n",
        "    #Balance training data....\n",
        "    # Generate SMOTE samples and use this to train\n",
        "    upsampler_smote = SMOTE()\n",
        "    X_upsampled_smote, y_upsampled_smote = upsampler_smote.fit_resample(X_train, y_train)\n",
        "\n",
        "    sclr = StandardScaler()\n",
        "    sclr.fit(X_train) # scale to 0 mean and std dev 1 on training data\n",
        "\n",
        "    X_train = sclr.fit_transform(X_upsampled_smote) # scale both sets:\n",
        "    X_cross_validation = sclr.fit_transform(X_cross_validation)\n",
        "    \n",
        "    #Run only rf? Or all?\n",
        "    dtc = DecisionTreeClassifier(max_depth=5) #If we allow endless depth we overfit\n",
        "    gnb = GaussianNB()\n",
        "    lr = LogisticRegression(max_iter=2000,random_state=0)\n",
        "    mlp = MLPClassifier(max_iter=2000,random_state=1, early_stopping=True) # MLP will tend to overfit unless we stop early   \n",
        "    rf = RandomForestClassifier(max_depth=3,random_state=0)\n",
        "    lda = LinearDiscriminantAnalysis()\n",
        "    \n",
        "    all_mdls = [lda] #[dtc,gnb,lr,mlp,rf, lda]\n",
        "    \n",
        "    #Find the best\n",
        "    max_f1 = 0\n",
        "    for mdl in all_mdls:\n",
        "        #Fit model\n",
        "        mdl.fit(X_upsampled_smote,y_upsampled_smote)\n",
        "        y_train_hat = mdl.predict(X_upsampled_smote)\n",
        "        y_cross_validation_hat = mdl.predict(X_cross_validation)       \n",
        "        mdl.predict_proba(X_cross_validation)\n",
        "\n",
        "        # Output model selection information....\n",
        "        print(mdl)\n",
        "        print(f\"F1 train: {f1_score(y_upsampled_smote, y_train_hat, average=None)[1]:.4f}, cross-valitaion: \",\n",
        "        f\"{f1_score(y_cross_validation,y_cross_validation_hat, average=None)[1]:.4f}\")\n",
        "        \n",
        "        #F1...\n",
        "        this_f1 = f1_score(y_upsampled_smote,y_train_hat, average=None)[1]\n",
        "        if this_f1 > max_f1:\n",
        "            max_f1 = this_f1\n",
        "            max_mdl = mdl\n",
        "        \n",
        "    # The best....\n",
        "    #Fit...\n",
        "    max_mdl.fit(X_upsampled_smote,y_upsampled_smote)\n",
        "    y_train_hat = max_mdl.predict(X_upsampled_smote)\n",
        "    y_cross_validation_hat = max_mdl.predict(X_cross_validation)\n",
        "    \n",
        "    #    Print score\n",
        "    print('\\nWinner\\n', type(max_mdl))        \n",
        "    print(f\"Accuracy train: {max_mdl.score(X_train,y_upsampled_smote):.4f}, cross-validation: \",\n",
        "      f\"{max_mdl.score(X_cross_validation,y_cross_validation):.4f}\")\n",
        "    print(f\"Precision train: {precision_score(y_upsampled_smote, y_train_hat, average=None)[0]:.4f}, cross-validation: \",\n",
        "      f\"{precision_score(y_cross_validation,y_cross_validation_hat, average=None)[0]:.4f}\")\n",
        "    print(f\"Recall train: {recall_score(y_upsampled_smote, y_train_hat, average=None)[0]:.4f}, cross-validation: \",\n",
        "      f\"{recall_score(y_cross_validation,y_cross_validation_hat, average=None)[0]:.4f}\")\n",
        "    print(f\"F1 train: {f1_score(y_upsampled_smote, y_train_hat, average=None)[1]:.4f}, cross-validation: \",\n",
        "      f\"{f1_score(y_cross_validation,y_cross_validation_hat, average=None)[1]:.4f}\")\n",
        "        \n",
        "    #Print confusion matrix...\n",
        "    cf_matrix = confusion_matrix(y_cross_validation, y_cross_validation_hat, labels=[0, 1]) \n",
        "    cf_matrix_norm = cf_matrix.astype('float')\n",
        "\n",
        "    ax = sns.heatmap(cf_matrix_norm, annot=True, cmap='Blues', fmt='g')\n",
        "    ax.set_title('Confusion Matrix\\n\\n');\n",
        "    ax.set_xlabel('\\nPredicted Values')\n",
        "    ax.set_ylabel('Actual Values ');\n",
        "    plt.show()\n",
        "    \n",
        "    return max_mdl, all_mdls\n",
        "\n",
        "# Run our function....autoselect the best classifier wrt F1\n",
        "max_mdl, all_models = auto_classifier_selection(X_train_cv, X_cv, y_train_cv, y_cv)\n",
        "\n",
        "# Predict\n",
        "y_test_hat = max_mdl.predict(X_test)"
      ],
      "metadata": {
        "colab": {
          "base_uri": "https://localhost:8080/",
          "height": 580
        },
        "id": "cyji4ydlQTVZ",
        "outputId": "610c6d9f-808c-4305-86a2-80323344c970"
      },
      "id": "cyji4ydlQTVZ",
      "execution_count": null,
      "outputs": [
        {
          "output_type": "stream",
          "name": "stderr",
          "text": [
            "X does not have valid feature names, but LinearDiscriminantAnalysis was fitted with feature names\n",
            "X does not have valid feature names, but LinearDiscriminantAnalysis was fitted with feature names\n",
            "X does not have valid feature names, but LinearDiscriminantAnalysis was fitted with feature names\n",
            "X does not have valid feature names, but LinearDiscriminantAnalysis was fitted with feature names\n",
            "X does not have valid feature names, but LinearDiscriminantAnalysis was fitted with feature names\n"
          ]
        },
        {
          "output_type": "stream",
          "name": "stdout",
          "text": [
            "LinearDiscriminantAnalysis()\n",
            "F1 train: 0.8536, cross-valitaion:  0.4779\n",
            "\n",
            "Winner\n",
            " <class 'sklearn.discriminant_analysis.LinearDiscriminantAnalysis'>\n",
            "Accuracy train: 0.7794, cross-validation:  0.4381\n",
            "Precision train: 0.8302, cross-validation:  0.8261\n",
            "Recall train: 0.9059, cross-validation:  0.2568\n",
            "F1 train: 0.8536, cross-validation:  0.4779\n"
          ]
        },
        {
          "output_type": "display_data",
          "data": {
            "text/plain": [
              "<Figure size 432x288 with 2 Axes>"
            ],
            "image/png": "[encoded data removed]"
          },
          "metadata": {
            "needs_background": "light"
          }
        }
      ]
    },
    {
      "cell_type": "markdown",
      "source": [
        "# Stage4: Model Deployment \n",
        "\n",
        "Model deployment generally involves a change process, several levels of testing and sign off, asignment of responsibilities for the live operation of the process, models and data before deployiong the code to the cloud (or on native hardware). \n",
        "A key part of thius stage is communication of the KPIs to stakleholders to enable them to understand the way the models operate, the risks involved and to be accountable for deploying the models\n"
      ],
      "metadata": {
        "id": "0LFyHIAP59O7"
      },
      "id": "0LFyHIAP59O7"
    },
    {
      "cell_type": "markdown",
      "source": [
        "## Communication: Stakeholder Oriented Explanations\n",
        "\n",
        "Communication of how the model has reached the outcomes it is has, is crutial to achieve fairness, transparency, accountability, and trust in the whole process. Each stakeholder in the process needs to see different elements. The Data Scientist and technical leadership need to review the nut and bolts of the model, reviewing residuals plots, parameter importance, interaction terms and many other metrics. The customer needs to see far less information, and mainly that associated with a refusal of credit. Compliance resources and regulators need to see something different again, such as fairness regarding protected characteristics, the accuracy and therefore capital risk represented by the models. \n",
        "In this section we look at stakeholder oriented explanations and we will be using standard charts of important analytics, such as residual plots, and SHAP.\n",
        "\n",
        "First let us get the packages we will need..."
      ],
      "metadata": {
        "id": "JZGI4nBO0HlI"
      },
      "id": "JZGI4nBO0HlI"
    },
    {
      "cell_type": "code",
      "source": [
        "pip install shap"
      ],
      "metadata": {
        "colab": {
          "base_uri": "https://localhost:8080/"
        },
        "id": "4dWv02uvQWyd",
        "outputId": "aa687131-5ce8-4a6c-d2da-1c9fd144b4cf"
      },
      "id": "4dWv02uvQWyd",
      "execution_count": null,
      "outputs": [
        {
          "output_type": "stream",
          "name": "stdout",
          "text": [
            "Looking in indexes: https://pypi.org/simple, https://us-python.pkg.dev/colab-wheels/public/simple/\n",
            "Collecting shap\n",
            "  Downloading shap-0.41.0-cp37-cp37m-manylinux_2_12_x86_64.manylinux2010_x86_64.whl (569 kB)\n",
            "\u001b[K     |████████████████████████████████| 569 kB 5.1 MB/s \n",
            "\u001b[?25hCollecting slicer==0.0.7\n",
            "  Downloading slicer-0.0.7-py3-none-any.whl (14 kB)\n",
            "Requirement already satisfied: numba in /usr/local/lib/python3.7/dist-packages (from shap) (0.56.3)\n",
            "Requirement already satisfied: pandas in /usr/local/lib/python3.7/dist-packages (from shap) (1.3.5)\n",
            "Requirement already satisfied: packaging>20.9 in /usr/local/lib/python3.7/dist-packages (from shap) (21.3)\n",
            "Requirement already satisfied: numpy in /usr/local/lib/python3.7/dist-packages (from shap) (1.21.6)\n",
            "Requirement already satisfied: tqdm>4.25.0 in /usr/local/lib/python3.7/dist-packages (from shap) (4.64.1)\n",
            "Requirement already satisfied: cloudpickle in /usr/local/lib/python3.7/dist-packages (from shap) (1.5.0)\n",
            "Requirement already satisfied: scipy in /usr/local/lib/python3.7/dist-packages (from shap) (1.7.3)\n",
            "Requirement already satisfied: scikit-learn in /usr/local/lib/python3.7/dist-packages (from shap) (1.0.2)\n",
            "Requirement already satisfied: pyparsing!=3.0.5,>=2.0.2 in /usr/local/lib/python3.7/dist-packages (from packaging>20.9->shap) (3.0.9)\n",
            "Requirement already satisfied: setuptools in /usr/local/lib/python3.7/dist-packages (from numba->shap) (57.4.0)\n",
            "Requirement already satisfied: llvmlite<0.40,>=0.39.0dev0 in /usr/local/lib/python3.7/dist-packages (from numba->shap) (0.39.1)\n",
            "Requirement already satisfied: importlib-metadata in /usr/local/lib/python3.7/dist-packages (from numba->shap) (4.13.0)\n",
            "Requirement already satisfied: typing-extensions>=3.6.4 in /usr/local/lib/python3.7/dist-packages (from importlib-metadata->numba->shap) (4.1.1)\n",
            "Requirement already satisfied: zipp>=0.5 in /usr/local/lib/python3.7/dist-packages (from importlib-metadata->numba->shap) (3.9.0)\n",
            "Requirement already satisfied: pytz>=2017.3 in /usr/local/lib/python3.7/dist-packages (from pandas->shap) (2022.4)\n",
            "Requirement already satisfied: python-dateutil>=2.7.3 in /usr/local/lib/python3.7/dist-packages (from pandas->shap) (2.8.2)\n",
            "Requirement already satisfied: six>=1.5 in /usr/local/lib/python3.7/dist-packages (from python-dateutil>=2.7.3->pandas->shap) (1.15.0)\n",
            "Requirement already satisfied: joblib>=0.11 in /usr/local/lib/python3.7/dist-packages (from scikit-learn->shap) (1.2.0)\n",
            "Requirement already satisfied: threadpoolctl>=2.0.0 in /usr/local/lib/python3.7/dist-packages (from scikit-learn->shap) (3.1.0)\n",
            "Installing collected packages: slicer, shap\n",
            "Successfully installed shap-0.41.0 slicer-0.0.7\n"
          ]
        }
      ]
    },
    {
      "cell_type": "code",
      "source": [
        "import shap"
      ],
      "metadata": {
        "id": "Nx16rPvNQdrZ"
      },
      "id": "Nx16rPvNQdrZ",
      "execution_count": null,
      "outputs": []
    },
    {
      "cell_type": "markdown",
      "source": [
        "Now instantiate the SHAP explainer object for our classifier and generate Shapley values for the test data... Note that as we will be using the test data, all the analysis is therefore based on the out of sample performance of our model."
      ],
      "metadata": {
        "id": "Ku_I-kcG8bpR"
      },
      "id": "Ku_I-kcG8bpR"
    },
    {
      "cell_type": "code",
      "source": [
        "print(type(max_mdl).__name__)\n",
        "\n",
        "# Instantiate an explainer object for our chosen classifier...\n",
        "if type(max_mdl).__name__ == 'DecisionTreeClassifier':\n",
        "  explainer = shap.Explainer(max_mdl)\n",
        "elif type(max_mdl).__name__ == 'GaussianNB':\n",
        "  masker=shap.maskers.Impute(data=X_test) #,feature_names=X_test.columns)\n",
        "elif type(max_mdl).__name__ == 'LogisticRegression':\n",
        "  masker=shap.maskers.Impute(data=X_test) #,feature_names=X_test.columns)\n",
        "elif type(max_mdl).__name__ == 'MLPClassifier':\n",
        "  masker=shap.maskers.Impute(data=X_test) #,feature_names=X_test.columns)\n",
        "elif type(max_mdl).__name__ == 'RandomForestClassifier':\n",
        "  explainer = shap.Explainer(max_mdl)\n",
        "elif type(max_mdl).__name__ == 'LinearDiscriminantAnalysis':\n",
        "  masker = shap.maskers.Independent(data = X_test)\n",
        "  explainer = shap.LinearExplainer(max_mdl, masker = masker)\n",
        "\n",
        "# Get the Shapley values for the X_test data...\n",
        "shap_values = explainer(X_test)"
      ],
      "metadata": {
        "colab": {
          "base_uri": "https://localhost:8080/"
        },
        "id": "_xCoD7kw6r0b",
        "outputId": "26fcab34-ba35-40ba-b987-cd00963ca5f9"
      },
      "id": "_xCoD7kw6r0b",
      "execution_count": null,
      "outputs": [
        {
          "output_type": "stream",
          "name": "stdout",
          "text": [
            "LinearDiscriminantAnalysis\n"
          ]
        }
      ]
    },
    {
      "cell_type": "markdown",
      "source": [
        "## 1. Analyst and technical explainability"
      ],
      "metadata": {
        "id": "bdMhCBHMFf4v"
      },
      "id": "bdMhCBHMFf4v"
    },
    {
      "cell_type": "code",
      "source": [
        "import sklearn.metrics as metrics\n",
        "\n",
        "# Compute micro-average ROC curve and ROC area\n",
        "metrics.plot_roc_curve(max_mdl, X_test, y_test) \n",
        "\n",
        "fpr, tpr, thresholds = metrics.roc_curve(y_test, y_test_hat)\n",
        "roc_auc = metrics.auc(fpr, tpr)\n",
        "display = metrics.RocCurveDisplay(fpr=fpr, tpr=tpr, roc_auc=roc_auc,\n",
        "                                  estimator_name='example estimator')\n",
        "display.plot()\n",
        "\n",
        "plt.show()"
      ],
      "metadata": {
        "id": "fPlSWba2dSoo",
        "outputId": "bad9d741-baf7-41c5-cd33-da9e7839a29e",
        "colab": {
          "base_uri": "https://localhost:8080/",
          "height": 578
        }
      },
      "id": "fPlSWba2dSoo",
      "execution_count": null,
      "outputs": [
        {
          "output_type": "stream",
          "name": "stderr",
          "text": [
            "Function plot_roc_curve is deprecated; Function :func:`plot_roc_curve` is deprecated in 1.0 and will be removed in 1.2. Use one of the class methods: :meth:`sklearn.metric.RocCurveDisplay.from_predictions` or :meth:`sklearn.metric.RocCurveDisplay.from_estimator`.\n"
          ]
        },
        {
          "output_type": "display_data",
          "data": {
            "text/plain": [
              "<Figure size 432x288 with 1 Axes>"
            ],
            "image/png": "[encoded data removed]"
          },
          "metadata": {
            "needs_background": "light"
          }
        },
        {
          "output_type": "display_data",
          "data": {
            "text/plain": [
              "<Figure size 432x288 with 1 Axes>"
            ],
            "image/png": "[encoded data removed]"
          },
          "metadata": {
            "needs_background": "light"
          }
        }
      ]
    },
    {
      "cell_type": "markdown",
      "source": [
        "Feature importance"
      ],
      "metadata": {
        "id": "8u7btmtyFKNn"
      },
      "id": "8u7btmtyFKNn"
    },
    {
      "cell_type": "code",
      "source": [
        "# Plot the feature importance\n",
        "shap.plots.bar(shap_values, max_display=30)"
      ],
      "metadata": {
        "id": "NfwlscWzExPQ",
        "outputId": "b2d28e8c-ed77-4449-ee42-12bf85ad4b47",
        "colab": {
          "base_uri": "https://localhost:8080/",
          "height": 962
        }
      },
      "id": "NfwlscWzExPQ",
      "execution_count": null,
      "outputs": [
        {
          "output_type": "display_data",
          "data": {
            "text/plain": [
              "<Figure size 576x1188 with 1 Axes>"
            ],
            "image/png": "[encoded data removed]"
          },
          "metadata": {}
        }
      ]
    },
    {
      "cell_type": "markdown",
      "source": [
        "## 2. Compliance and Regulatory\n",
        "\n"
      ],
      "metadata": {
        "id": "ce1fcWInh48Q"
      },
      "id": "ce1fcWInh48Q"
    },
    {
      "cell_type": "markdown",
      "source": [
        "See if any features are suspiciously important for one gender vs another."
      ],
      "metadata": {
        "id": "fxV86fMFKX7r"
      },
      "id": "fxV86fMFKX7r"
    },
    {
      "cell_type": "code",
      "source": [
        "# Parameter importance by gender..\n",
        "gdr = [\"male\" if x==1 else \"female\" for x in X_test['gender']]\n",
        "\n",
        "# Plot the feature importance\n",
        "shap.plots.bar(shap_values.cohorts(gdr).abs.mean(0))"
      ],
      "metadata": {
        "colab": {
          "base_uri": "https://localhost:8080/",
          "height": 531
        },
        "id": "nqJGtpmu1nig",
        "outputId": "25a946bf-6fa1-4938-bffb-4617e1365faf"
      },
      "id": "nqJGtpmu1nig",
      "execution_count": null,
      "outputs": [
        {
          "output_type": "display_data",
          "data": {
            "text/plain": [
              "<Figure size 576x617.117 with 1 Axes>"
            ],
            "image/png": "[encoded data removed]"
          },
          "metadata": {}
        }
      ]
    },
    {
      "cell_type": "markdown",
      "source": [],
      "metadata": {
        "id": "5MGWlux3KvFy"
      },
      "id": "5MGWlux3KvFy"
    },
    {
      "cell_type": "markdown",
      "source": [
        "## 3. Customer\n",
        "\n",
        "A customer may want to knowlt he sensitivity of the decision to certain characteristics. IF a refusal has been made, it would be beneficial to report to the customer what they need to change to get a favorable outcome. \n",
        "\n",
        "We can use the SHAP waterfall plot to help"
      ],
      "metadata": {
        "id": "De8c3JUdKvtR"
      },
      "id": "De8c3JUdKvtR"
    },
    {
      "cell_type": "code",
      "source": [
        "# Find a customer with bad credit prediction\n",
        "for rejected_eg_rowno in range(0,y_test.shape[0]):\n",
        "  if y_test.iloc[rejected_eg_rowno] == 1:\n",
        "    break\n",
        "\n",
        "# This customer was refused credit and we can provide an explanation for their refusal...\n",
        "shap.plots.waterfall(shap_values[rejected_eg_rowno])"
      ],
      "metadata": {
        "id": "4ZHyTdYTLCh8",
        "outputId": "f440d91a-1269-4084-b020-2f2e96cd3f96",
        "colab": {
          "base_uri": "https://localhost:8080/",
          "height": 444
        }
      },
      "id": "4ZHyTdYTLCh8",
      "execution_count": null,
      "outputs": [
        {
          "output_type": "display_data",
          "data": {
            "text/plain": [
              "<Figure size 576x468 with 3 Axes>"
            ],
            "image/png": "[encoded data removed]"
          },
          "metadata": {}
        }
      ]
    },
    {
      "cell_type": "markdown",
      "source": [],
      "metadata": {
        "id": "e1K2zm_vLwK5"
      },
      "id": "e1K2zm_vLwK5"
    },
    {
      "cell_type": "code",
      "source": [
        "y_test.reset_index()"
      ],
      "metadata": {
        "id": "dha9E2RRLRvI",
        "outputId": "5c885f4a-58af-4703-8879-a23254e46297",
        "colab": {
          "base_uri": "https://localhost:8080/",
          "height": 423
        }
      },
      "id": "dha9E2RRLRvI",
      "execution_count": null,
      "outputs": [
        {
          "output_type": "execute_result",
          "data": {
            "text/plain": [
              "     index  class\n",
              "0      255      0\n",
              "1      485      1\n",
              "2      182      1\n",
              "3      128      0\n",
              "4      916      0\n",
              "..     ...    ...\n",
              "295    892      0\n",
              "296      4      1\n",
              "297    729      0\n",
              "298    903      0\n",
              "299    808      0\n",
              "\n",
              "[300 rows x 2 columns]"
            ],
            "text/html": [
              "\n",
              "  <div id=\"df-e3503ecc-7cbe-4c98-83e1-f54199c4055a\">\n",
              "    <div class=\"colab-df-container\">\n",
              "      <div>\n",
              "<style scoped>\n",
              "    .dataframe tbody tr th:only-of-type {\n",
              "        vertical-align: middle;\n",
              "    }\n",
              "\n",
              "    .dataframe tbody tr th {\n",
              "        vertical-align: top;\n",
              "    }\n",
              "\n",
              "    .dataframe thead th {\n",
              "        text-align: right;\n",
              "    }\n",
              "</style>\n",
              "<table border=\"1\" class=\"dataframe\">\n",
              "  <thead>\n",
              "    <tr style=\"text-align: right;\">\n",
              "      <th></th>\n",
              "      <th>index</th>\n",
              "      <th>class</th>\n",
              "    </tr>\n",
              "  </thead>\n",
              "  <tbody>\n",
              "    <tr>\n",
              "      <th>0</th>\n",
              "      <td>255</td>\n",
              "      <td>0</td>\n",
              "    </tr>\n",
              "    <tr>\n",
              "      <th>1</th>\n",
              "      <td>485</td>\n",
              "      <td>1</td>\n",
              "    </tr>\n",
              "    <tr>\n",
              "      <th>2</th>\n",
              "      <td>182</td>\n",
              "      <td>1</td>\n",
              "    </tr>\n",
              "    <tr>\n",
              "      <th>3</th>\n",
              "      <td>128</td>\n",
              "      <td>0</td>\n",
              "    </tr>\n",
              "    <tr>\n",
              "      <th>4</th>\n",
              "      <td>916</td>\n",
              "      <td>0</td>\n",
              "    </tr>\n",
              "    <tr>\n",
              "      <th>...</th>\n",
              "      <td>...</td>\n",
              "      <td>...</td>\n",
              "    </tr>\n",
              "    <tr>\n",
              "      <th>295</th>\n",
              "      <td>892</td>\n",
              "      <td>0</td>\n",
              "    </tr>\n",
              "    <tr>\n",
              "      <th>296</th>\n",
              "      <td>4</td>\n",
              "      <td>1</td>\n",
              "    </tr>\n",
              "    <tr>\n",
              "      <th>297</th>\n",
              "      <td>729</td>\n",
              "      <td>0</td>\n",
              "    </tr>\n",
              "    <tr>\n",
              "      <th>298</th>\n",
              "      <td>903</td>\n",
              "      <td>0</td>\n",
              "    </tr>\n",
              "    <tr>\n",
              "      <th>299</th>\n",
              "      <td>808</td>\n",
              "      <td>0</td>\n",
              "    </tr>\n",
              "  </tbody>\n",
              "</table>\n",
              "<p>300 rows × 2 columns</p>\n",
              "</div>\n",
              "      <button class=\"colab-df-convert\" onclick=\"convertToInteractive('df-e3503ecc-7cbe-4c98-83e1-f54199c4055a')\"\n",
              "              title=\"Convert this dataframe to an interactive table.\"\n",
              "              style=\"display:none;\">\n",
              "        \n",
              "  <svg xmlns=\"http://www.w3.org/2000/svg\" height=\"24px\"viewBox=\"0 0 24 24\"\n",
              "       width=\"24px\">\n",
              "    <path d=\"M0 0h24v24H0V0z\" fill=\"none\"/>\n",
              "    <path d=\"M18.56 5.44l.94 2.06.94-2.06 2.06-.94-2.06-.94-.94-2.06-.94 2.06-2.06.94zm-11 1L8.5 8.5l.94-2.06 2.06-.94-2.06-.94L8.5 2.5l-.94 2.06-2.06.94zm10 10l.94 2.06.94-2.06 2.06-.94-2.06-.94-.94-2.06-.94 2.06-2.06.94z\"/><path d=\"M17.41 7.96l-1.37-1.37c-.4-.4-.92-.59-1.43-.59-.52 0-1.04.2-1.43.59L10.3 9.45l-7.72 7.72c-.78.78-.78 2.05 0 2.83L4 21.41c.39.39.9.59 1.41.59.51 0 1.02-.2 1.41-.59l7.78-7.78 2.81-2.81c.8-.78.8-2.07 0-2.86zM5.41 20L4 18.59l7.72-7.72 1.47 1.35L5.41 20z\"/>\n",
              "  </svg>\n",
              "      </button>\n",
              "      \n",
              "  <style>\n",
              "    .colab-df-container {\n",
              "      display:flex;\n",
              "      flex-wrap:wrap;\n",
              "      gap: 12px;\n",
              "    }\n",
              "\n",
              "    .colab-df-convert {\n",
              "      background-color: #E8F0FE;\n",
              "      border: none;\n",
              "      border-radius: 50%;\n",
              "      cursor: pointer;\n",
              "      display: none;\n",
              "      fill: #1967D2;\n",
              "      height: 32px;\n",
              "      padding: 0 0 0 0;\n",
              "      width: 32px;\n",
              "    }\n",
              "\n",
              "    .colab-df-convert:hover {\n",
              "      background-color: #E2EBFA;\n",
              "      box-shadow: 0px 1px 2px rgba(60, 64, 67, 0.3), 0px 1px 3px 1px rgba(60, 64, 67, 0.15);\n",
              "      fill: #174EA6;\n",
              "    }\n",
              "\n",
              "    [theme=dark] .colab-df-convert {\n",
              "      background-color: #3B4455;\n",
              "      fill: #D2E3FC;\n",
              "    }\n",
              "\n",
              "    [theme=dark] .colab-df-convert:hover {\n",
              "      background-color: #434B5C;\n",
              "      box-shadow: 0px 1px 3px 1px rgba(0, 0, 0, 0.15);\n",
              "      filter: drop-shadow(0px 1px 2px rgba(0, 0, 0, 0.3));\n",
              "      fill: #FFFFFF;\n",
              "    }\n",
              "  </style>\n",
              "\n",
              "      <script>\n",
              "        const buttonEl =\n",
              "          document.querySelector('#df-e3503ecc-7cbe-4c98-83e1-f54199c4055a button.colab-df-convert');\n",
              "        buttonEl.style.display =\n",
              "          google.colab.kernel.accessAllowed ? 'block' : 'none';\n",
              "\n",
              "        async function convertToInteractive(key) {\n",
              "          const element = document.querySelector('#df-e3503ecc-7cbe-4c98-83e1-f54199c4055a');\n",
              "          const dataTable =\n",
              "            await google.colab.kernel.invokeFunction('convertToInteractive',\n",
              "                                                     [key], {});\n",
              "          if (!dataTable) return;\n",
              "\n",
              "          const docLinkHtml = 'Like what you see? Visit the ' +\n",
              "            '<a target=\"_blank\" href=https://colab.research.google.com/notebooks/data_table.ipynb>data table notebook</a>'\n",
              "            + ' to learn more about interactive tables.';\n",
              "          element.innerHTML = '';\n",
              "          dataTable['output_type'] = 'display_data';\n",
              "          await google.colab.output.renderOutput(dataTable, element);\n",
              "          const docLink = document.createElement('div');\n",
              "          docLink.innerHTML = docLinkHtml;\n",
              "          element.appendChild(docLink);\n",
              "        }\n",
              "      </script>\n",
              "    </div>\n",
              "  </div>\n",
              "  "
            ]
          },
          "metadata": {},
          "execution_count": 249
        }
      ]
    }
  ],
  "metadata": {
    "kernelspec": {
      "display_name": "Python 3",
      "language": "python",
      "name": "python3"
    },
    "language_info": {
      "codemirror_mode": {
        "name": "ipython",
        "version": 3
      },
      "file_extension": ".py",
      "mimetype": "text/x-python",
      "name": "python",
      "nbconvert_exporter": "python",
      "pygments_lexer": "ipython3",
      "version": "3.8.8"
    },
    "colab": {
      "provenance": []
    }
  },
  "nbformat": 4,
  "nbformat_minor": 5
}