{
  "cells": [
    {
      "cell_type": "markdown",
      "id": "a5cc8190",
      "metadata": {
        "id": "a5cc8190"
      },
      "source": [
        "# Module 6: CFA\n",
        "# Use Case: Investment using Symbollic Artificial Intelligence\n",
        "# =============================================================\n",
        "\n",
        "After Dan Philps, Tim Law et al 2021. https://jfds.pm-research.com/content/early/2021/09/22/jfds.2021.1.077\n",
        "\n",
        "https://github.com/danphilps/Investment-SAI\n"
      ]
    },
    {
      "cell_type": "markdown",
      "source": [
        "Get key packages, download data and get in good shape."
      ],
      "metadata": {
        "id": "Cz4Sm9cvAl7H"
      },
      "id": "Cz4Sm9cvAl7H"
    },
    {
      "cell_type": "code",
      "execution_count": 1,
      "id": "35f08271",
      "metadata": {
        "id": "35f08271"
      },
      "outputs": [],
      "source": [
        "# package for working with tabular data\n",
        "import pandas as pd \n",
        "import numpy as np\n",
        "\n",
        "# package for navigating the operating system\n",
        "import os"
      ]
    },
    {
      "cell_type": "markdown",
      "source": [
        "If this is running in Google Colab.... we extract the GitHub loc where the data resides...."
      ],
      "metadata": {
        "id": "sFBrITKU_6A0"
      },
      "id": "sFBrITKU_6A0"
    },
    {
      "cell_type": "code",
      "source": [
        "!git clone https://github.com/danphilps/Investment-SAI"
      ],
      "metadata": {
        "colab": {
          "base_uri": "https://localhost:8080/"
        },
        "id": "CysAAt4-AdN8",
        "outputId": "f047416f-070e-4fb8-86f6-986a7087151a"
      },
      "id": "CysAAt4-AdN8",
      "execution_count": 2,
      "outputs": [
        {
          "output_type": "stream",
          "name": "stdout",
          "text": [
            "Cloning into 'Investment-SAI'...\n",
            "remote: Enumerating objects: 64, done.\u001b[K\n",
            "remote: Counting objects: 100% (64/64), done.\u001b[K\n",
            "remote: Compressing objects: 100% (57/57), done.\u001b[K\n",
            "remote: Total 64 (delta 16), reused 19 (delta 4), pack-reused 0\u001b[K\n",
            "Unpacking objects: 100% (64/64), done.\n"
          ]
        }
      ]
    },
    {
      "cell_type": "code",
      "source": [
        "# We should see a \"Investment-SAI\" directory....\n",
        "os.listdir()"
      ],
      "metadata": {
        "colab": {
          "base_uri": "https://localhost:8080/"
        },
        "id": "LusHe3a2BF_t",
        "outputId": "6ba70cf3-1c87-4e77-8729-003afbe40a2a"
      },
      "id": "LusHe3a2BF_t",
      "execution_count": 3,
      "outputs": [
        {
          "output_type": "execute_result",
          "data": {
            "text/plain": [
              "['.config', 'Investment-SAI', 'sample_data']"
            ]
          },
          "metadata": {},
          "execution_count": 3
        }
      ]
    },
    {
      "cell_type": "markdown",
      "source": [
        "### a. Get the data we need\n",
        "Step into the Investment-SAI/data directory and get the security level returns csv, load this into a DataFrame"
      ],
      "metadata": {
        "id": "0pokr7Mt9AqI"
      },
      "id": "0pokr7Mt9AqI"
    },
    {
      "cell_type": "code",
      "source": [
        "# Change the working directory...\n",
        "os.chdir('Investment-SAI/data')\n",
        "# Extract security level returns\n",
        "df_sec_rets = pd.read_csv('dat.csv')\n",
        "# Extract 3m T-Bill rate\n",
        "df_tb3ms = pd.read_csv('TB3MS.csv')"
      ],
      "metadata": {
        "id": "DXjXsq6l9BKm"
      },
      "id": "DXjXsq6l9BKm",
      "execution_count": 4,
      "outputs": []
    },
    {
      "cell_type": "markdown",
      "source": [
        "Extract factor returns from the Ken French data library"
      ],
      "metadata": {
        "id": "gBxXAolH8Zgw"
      },
      "id": "gBxXAolH8Zgw"
    },
    {
      "cell_type": "code",
      "execution_count": 5,
      "id": "c26b1a44",
      "metadata": {
        "id": "c26b1a44",
        "colab": {
          "base_uri": "https://localhost:8080/"
        },
        "outputId": "a448f201-61f8-4852-95ac-9e4db7d4e1a2"
      },
      "outputs": [
        {
          "output_type": "stream",
          "name": "stdout",
          "text": [
            "<bound method NDFrame.head of     Unnamed: 0     Mkt-RF       SMB       HML        RMW         CMA    RF\n",
            "0       198907    0.60     -0.39      15.53     -99.99    -99.99      0.70\n",
            "1       198908   1.63       8.78      -3.73     -99.99    -99.99      0.74\n",
            "2       198909  14.41       3.32      -7.70     -99.99    -99.99      0.65\n",
            "3       198910   -2.18     -0.49      -4.36     -99.99    -99.99      0.68\n",
            "4       198911   0.72      0.43        2.22     -99.99    -99.99      0.69\n",
            "..         ...        ...       ...       ...        ...         ...   ...\n",
            "393     202204  -5.26      0.55      3.49       0.37        1.70      0.00\n",
            "394     202205    0.26     -1.54     -0.85     -0.14        1.66      0.03\n",
            "395     202206  -6.77       0.13     -1.00     -1.51        0.37      0.06\n",
            "396     202207   0.23      0.78      1.47       0.09        1.18      0.08\n",
            "397     202208   0.76      0.32       0.87     -2.36        0.41      0.19\n",
            "\n",
            "[398 rows x 7 columns]>\n"
          ]
        }
      ],
      "source": [
        "# Libraries...\n",
        "import urllib.request\n",
        "import zipfile\n",
        "import csv\n",
        "\n",
        "# Get factor returns from the Ken French data repository\n",
        "ff_url = \"https://mba.tuck.dartmouth.edu/pages/faculty/ken.french/ftp/Emerging_5_Factors_CSV.zip\"\n",
        "# Download the file and save it\n",
        "# We will name it fama_french.zip file\n",
        "urllib.request.urlretrieve(ff_url,'fama_french.zip')\n",
        "zip_file = zipfile.ZipFile('fama_french.zip', 'r')\n",
        "# Next we extact the file data\n",
        "# We will call it ff_factors.csv\n",
        "zip_file.extractall()\n",
        "# Make sure you close the file after extraction\n",
        "zip_file.close()\n",
        "\n",
        "# Extract into a dataframe\n",
        "df_ff_factors = pd.read_csv('Emerging_5_Factors.csv', skiprows = 3)\n",
        "\n",
        "# Data wrangling... remove invalid rows (annual factors)\n",
        "# There is white space in the date columns... strip this out\n",
        "df_ff_factors.iloc[:,0] = df_ff_factors.iloc[:,0].str.strip()\n",
        "\n",
        "# Find the start of the invalid rows and remove them all...\n",
        "for row in range(1,df_ff_factors.shape[0]):\n",
        "  if df_ff_factors.iloc[row,0].isnumeric() == False:\n",
        "    break\n",
        "df_ff_factors = df_ff_factors.drop(df_ff_factors.index[row:])\n",
        "\n",
        "print(df_ff_factors.head)"
      ]
    },
    {
      "cell_type": "markdown",
      "source": [
        "### b. Data Wrangling\n",
        "\n",
        "We want the data with dates as rows, securities as columns (and factors as columns in the factor data). \n",
        "The latest date should be the top row... dates should all be the same format in each file.\n"
      ],
      "metadata": {
        "id": "BrjeI2F98o0T"
      },
      "id": "BrjeI2F98o0T"
    },
    {
      "cell_type": "code",
      "source": [
        "# Get FF factors sorted and transposed...\n",
        "# Columns as dates (latest date in the left col), rows are factors or securities...\n",
        "df_ff_factors = df_ff_factors.sort_values(by=df_ff_factors.columns[0], ascending=False)\n",
        "# Set row index as dates\n",
        "df_ff_factors.index = df_ff_factors.iloc[:,0].astype(int)\n",
        "df_ff_factors = df_ff_factors.iloc[:,1:]\n",
        "# Force type to float\n",
        "df_ff_factors = df_ff_factors.astype(dtype=float)\n",
        "# stated at percentages? No...\n",
        "df_ff_factors = df_ff_factors/100\n",
        "\n",
        "#Check...\n",
        "df_ff_factors.head()"
      ],
      "metadata": {
        "colab": {
          "base_uri": "https://localhost:8080/",
          "height": 237
        },
        "id": "9TAsIyoYAIcN",
        "outputId": "d216cfe8-8e73-4188-8963-955d206a4f03"
      },
      "id": "9TAsIyoYAIcN",
      "execution_count": 6,
      "outputs": [
        {
          "output_type": "execute_result",
          "data": {
            "text/plain": [
              "            Mkt-RF     SMB     HML     RMW     CMA      RF\n",
              "Unnamed: 0                                                \n",
              "202208      0.0076  0.0032  0.0087 -0.0236  0.0041  0.0019\n",
              "202207      0.0023  0.0078  0.0147  0.0009  0.0118  0.0008\n",
              "202206     -0.0677  0.0013 -0.0100 -0.0151  0.0037  0.0006\n",
              "202205      0.0026 -0.0154 -0.0085 -0.0014  0.0166  0.0003\n",
              "202204     -0.0526  0.0055  0.0349  0.0037  0.0170  0.0000"
            ],
            "text/html": [
              "\n",
              "  <div id=\"df-8ad77b98-650d-455a-807d-e14937452b26\">\n",
              "    <div class=\"colab-df-container\">\n",
              "      <div>\n",
              "<style scoped>\n",
              "    .dataframe tbody tr th:only-of-type {\n",
              "        vertical-align: middle;\n",
              "    }\n",
              "\n",
              "    .dataframe tbody tr th {\n",
              "        vertical-align: top;\n",
              "    }\n",
              "\n",
              "    .dataframe thead th {\n",
              "        text-align: right;\n",
              "    }\n",
              "</style>\n",
              "<table border=\"1\" class=\"dataframe\">\n",
              "  <thead>\n",
              "    <tr style=\"text-align: right;\">\n",
              "      <th></th>\n",
              "      <th>Mkt-RF</th>\n",
              "      <th>SMB</th>\n",
              "      <th>HML</th>\n",
              "      <th>RMW</th>\n",
              "      <th>CMA</th>\n",
              "      <th>RF</th>\n",
              "    </tr>\n",
              "    <tr>\n",
              "      <th>Unnamed: 0</th>\n",
              "      <th></th>\n",
              "      <th></th>\n",
              "      <th></th>\n",
              "      <th></th>\n",
              "      <th></th>\n",
              "      <th></th>\n",
              "    </tr>\n",
              "  </thead>\n",
              "  <tbody>\n",
              "    <tr>\n",
              "      <th>202208</th>\n",
              "      <td>0.0076</td>\n",
              "      <td>0.0032</td>\n",
              "      <td>0.0087</td>\n",
              "      <td>-0.0236</td>\n",
              "      <td>0.0041</td>\n",
              "      <td>0.0019</td>\n",
              "    </tr>\n",
              "    <tr>\n",
              "      <th>202207</th>\n",
              "      <td>0.0023</td>\n",
              "      <td>0.0078</td>\n",
              "      <td>0.0147</td>\n",
              "      <td>0.0009</td>\n",
              "      <td>0.0118</td>\n",
              "      <td>0.0008</td>\n",
              "    </tr>\n",
              "    <tr>\n",
              "      <th>202206</th>\n",
              "      <td>-0.0677</td>\n",
              "      <td>0.0013</td>\n",
              "      <td>-0.0100</td>\n",
              "      <td>-0.0151</td>\n",
              "      <td>0.0037</td>\n",
              "      <td>0.0006</td>\n",
              "    </tr>\n",
              "    <tr>\n",
              "      <th>202205</th>\n",
              "      <td>0.0026</td>\n",
              "      <td>-0.0154</td>\n",
              "      <td>-0.0085</td>\n",
              "      <td>-0.0014</td>\n",
              "      <td>0.0166</td>\n",
              "      <td>0.0003</td>\n",
              "    </tr>\n",
              "    <tr>\n",
              "      <th>202204</th>\n",
              "      <td>-0.0526</td>\n",
              "      <td>0.0055</td>\n",
              "      <td>0.0349</td>\n",
              "      <td>0.0037</td>\n",
              "      <td>0.0170</td>\n",
              "      <td>0.0000</td>\n",
              "    </tr>\n",
              "  </tbody>\n",
              "</table>\n",
              "</div>\n",
              "      <button class=\"colab-df-convert\" onclick=\"convertToInteractive('df-8ad77b98-650d-455a-807d-e14937452b26')\"\n",
              "              title=\"Convert this dataframe to an interactive table.\"\n",
              "              style=\"display:none;\">\n",
              "        \n",
              "  <svg xmlns=\"http://www.w3.org/2000/svg\" height=\"24px\"viewBox=\"0 0 24 24\"\n",
              "       width=\"24px\">\n",
              "    <path d=\"M0 0h24v24H0V0z\" fill=\"none\"/>\n",
              "    <path d=\"M18.56 5.44l.94 2.06.94-2.06 2.06-.94-2.06-.94-.94-2.06-.94 2.06-2.06.94zm-11 1L8.5 8.5l.94-2.06 2.06-.94-2.06-.94L8.5 2.5l-.94 2.06-2.06.94zm10 10l.94 2.06.94-2.06 2.06-.94-2.06-.94-.94-2.06-.94 2.06-2.06.94z\"/><path d=\"M17.41 7.96l-1.37-1.37c-.4-.4-.92-.59-1.43-.59-.52 0-1.04.2-1.43.59L10.3 9.45l-7.72 7.72c-.78.78-.78 2.05 0 2.83L4 21.41c.39.39.9.59 1.41.59.51 0 1.02-.2 1.41-.59l7.78-7.78 2.81-2.81c.8-.78.8-2.07 0-2.86zM5.41 20L4 18.59l7.72-7.72 1.47 1.35L5.41 20z\"/>\n",
              "  </svg>\n",
              "      </button>\n",
              "      \n",
              "  <style>\n",
              "    .colab-df-container {\n",
              "      display:flex;\n",
              "      flex-wrap:wrap;\n",
              "      gap: 12px;\n",
              "    }\n",
              "\n",
              "    .colab-df-convert {\n",
              "      background-color: #E8F0FE;\n",
              "      border: none;\n",
              "      border-radius: 50%;\n",
              "      cursor: pointer;\n",
              "      display: none;\n",
              "      fill: #1967D2;\n",
              "      height: 32px;\n",
              "      padding: 0 0 0 0;\n",
              "      width: 32px;\n",
              "    }\n",
              "\n",
              "    .colab-df-convert:hover {\n",
              "      background-color: #E2EBFA;\n",
              "      box-shadow: 0px 1px 2px rgba(60, 64, 67, 0.3), 0px 1px 3px 1px rgba(60, 64, 67, 0.15);\n",
              "      fill: #174EA6;\n",
              "    }\n",
              "\n",
              "    [theme=dark] .colab-df-convert {\n",
              "      background-color: #3B4455;\n",
              "      fill: #D2E3FC;\n",
              "    }\n",
              "\n",
              "    [theme=dark] .colab-df-convert:hover {\n",
              "      background-color: #434B5C;\n",
              "      box-shadow: 0px 1px 3px 1px rgba(0, 0, 0, 0.15);\n",
              "      filter: drop-shadow(0px 1px 2px rgba(0, 0, 0, 0.3));\n",
              "      fill: #FFFFFF;\n",
              "    }\n",
              "  </style>\n",
              "\n",
              "      <script>\n",
              "        const buttonEl =\n",
              "          document.querySelector('#df-8ad77b98-650d-455a-807d-e14937452b26 button.colab-df-convert');\n",
              "        buttonEl.style.display =\n",
              "          google.colab.kernel.accessAllowed ? 'block' : 'none';\n",
              "\n",
              "        async function convertToInteractive(key) {\n",
              "          const element = document.querySelector('#df-8ad77b98-650d-455a-807d-e14937452b26');\n",
              "          const dataTable =\n",
              "            await google.colab.kernel.invokeFunction('convertToInteractive',\n",
              "                                                     [key], {});\n",
              "          if (!dataTable) return;\n",
              "\n",
              "          const docLinkHtml = 'Like what you see? Visit the ' +\n",
              "            '<a target=\"_blank\" href=https://colab.research.google.com/notebooks/data_table.ipynb>data table notebook</a>'\n",
              "            + ' to learn more about interactive tables.';\n",
              "          element.innerHTML = '';\n",
              "          dataTable['output_type'] = 'display_data';\n",
              "          await google.colab.output.renderOutput(dataTable, element);\n",
              "          const docLink = document.createElement('div');\n",
              "          docLink.innerHTML = docLinkHtml;\n",
              "          element.appendChild(docLink);\n",
              "        }\n",
              "      </script>\n",
              "    </div>\n",
              "  </div>\n",
              "  "
            ]
          },
          "metadata": {},
          "execution_count": 6
        }
      ]
    },
    {
      "cell_type": "code",
      "source": [
        "# Separate RF from the Factor DataFrame\n",
        "df_tb3ms = df_ff_factors[['RF']]\n",
        "df_ff_factors = df_ff_factors.drop(columns='RF')\n",
        "\n",
        "#Check...\n",
        "df_tb3ms.head()"
      ],
      "metadata": {
        "colab": {
          "base_uri": "https://localhost:8080/",
          "height": 237
        },
        "id": "eX_W6nNAahj8",
        "outputId": "16f82480-59fc-46cb-ae29-c48f94970cbe"
      },
      "id": "eX_W6nNAahj8",
      "execution_count": 7,
      "outputs": [
        {
          "output_type": "execute_result",
          "data": {
            "text/plain": [
              "                RF\n",
              "Unnamed: 0        \n",
              "202208      0.0019\n",
              "202207      0.0008\n",
              "202206      0.0006\n",
              "202205      0.0003\n",
              "202204      0.0000"
            ],
            "text/html": [
              "\n",
              "  <div id=\"df-0f190253-0d02-4436-90fe-f963bdd8a7cf\">\n",
              "    <div class=\"colab-df-container\">\n",
              "      <div>\n",
              "<style scoped>\n",
              "    .dataframe tbody tr th:only-of-type {\n",
              "        vertical-align: middle;\n",
              "    }\n",
              "\n",
              "    .dataframe tbody tr th {\n",
              "        vertical-align: top;\n",
              "    }\n",
              "\n",
              "    .dataframe thead th {\n",
              "        text-align: right;\n",
              "    }\n",
              "</style>\n",
              "<table border=\"1\" class=\"dataframe\">\n",
              "  <thead>\n",
              "    <tr style=\"text-align: right;\">\n",
              "      <th></th>\n",
              "      <th>RF</th>\n",
              "    </tr>\n",
              "    <tr>\n",
              "      <th>Unnamed: 0</th>\n",
              "      <th></th>\n",
              "    </tr>\n",
              "  </thead>\n",
              "  <tbody>\n",
              "    <tr>\n",
              "      <th>202208</th>\n",
              "      <td>0.0019</td>\n",
              "    </tr>\n",
              "    <tr>\n",
              "      <th>202207</th>\n",
              "      <td>0.0008</td>\n",
              "    </tr>\n",
              "    <tr>\n",
              "      <th>202206</th>\n",
              "      <td>0.0006</td>\n",
              "    </tr>\n",
              "    <tr>\n",
              "      <th>202205</th>\n",
              "      <td>0.0003</td>\n",
              "    </tr>\n",
              "    <tr>\n",
              "      <th>202204</th>\n",
              "      <td>0.0000</td>\n",
              "    </tr>\n",
              "  </tbody>\n",
              "</table>\n",
              "</div>\n",
              "      <button class=\"colab-df-convert\" onclick=\"convertToInteractive('df-0f190253-0d02-4436-90fe-f963bdd8a7cf')\"\n",
              "              title=\"Convert this dataframe to an interactive table.\"\n",
              "              style=\"display:none;\">\n",
              "        \n",
              "  <svg xmlns=\"http://www.w3.org/2000/svg\" height=\"24px\"viewBox=\"0 0 24 24\"\n",
              "       width=\"24px\">\n",
              "    <path d=\"M0 0h24v24H0V0z\" fill=\"none\"/>\n",
              "    <path d=\"M18.56 5.44l.94 2.06.94-2.06 2.06-.94-2.06-.94-.94-2.06-.94 2.06-2.06.94zm-11 1L8.5 8.5l.94-2.06 2.06-.94-2.06-.94L8.5 2.5l-.94 2.06-2.06.94zm10 10l.94 2.06.94-2.06 2.06-.94-2.06-.94-.94-2.06-.94 2.06-2.06.94z\"/><path d=\"M17.41 7.96l-1.37-1.37c-.4-.4-.92-.59-1.43-.59-.52 0-1.04.2-1.43.59L10.3 9.45l-7.72 7.72c-.78.78-.78 2.05 0 2.83L4 21.41c.39.39.9.59 1.41.59.51 0 1.02-.2 1.41-.59l7.78-7.78 2.81-2.81c.8-.78.8-2.07 0-2.86zM5.41 20L4 18.59l7.72-7.72 1.47 1.35L5.41 20z\"/>\n",
              "  </svg>\n",
              "      </button>\n",
              "      \n",
              "  <style>\n",
              "    .colab-df-container {\n",
              "      display:flex;\n",
              "      flex-wrap:wrap;\n",
              "      gap: 12px;\n",
              "    }\n",
              "\n",
              "    .colab-df-convert {\n",
              "      background-color: #E8F0FE;\n",
              "      border: none;\n",
              "      border-radius: 50%;\n",
              "      cursor: pointer;\n",
              "      display: none;\n",
              "      fill: #1967D2;\n",
              "      height: 32px;\n",
              "      padding: 0 0 0 0;\n",
              "      width: 32px;\n",
              "    }\n",
              "\n",
              "    .colab-df-convert:hover {\n",
              "      background-color: #E2EBFA;\n",
              "      box-shadow: 0px 1px 2px rgba(60, 64, 67, 0.3), 0px 1px 3px 1px rgba(60, 64, 67, 0.15);\n",
              "      fill: #174EA6;\n",
              "    }\n",
              "\n",
              "    [theme=dark] .colab-df-convert {\n",
              "      background-color: #3B4455;\n",
              "      fill: #D2E3FC;\n",
              "    }\n",
              "\n",
              "    [theme=dark] .colab-df-convert:hover {\n",
              "      background-color: #434B5C;\n",
              "      box-shadow: 0px 1px 3px 1px rgba(0, 0, 0, 0.15);\n",
              "      filter: drop-shadow(0px 1px 2px rgba(0, 0, 0, 0.3));\n",
              "      fill: #FFFFFF;\n",
              "    }\n",
              "  </style>\n",
              "\n",
              "      <script>\n",
              "        const buttonEl =\n",
              "          document.querySelector('#df-0f190253-0d02-4436-90fe-f963bdd8a7cf button.colab-df-convert');\n",
              "        buttonEl.style.display =\n",
              "          google.colab.kernel.accessAllowed ? 'block' : 'none';\n",
              "\n",
              "        async function convertToInteractive(key) {\n",
              "          const element = document.querySelector('#df-0f190253-0d02-4436-90fe-f963bdd8a7cf');\n",
              "          const dataTable =\n",
              "            await google.colab.kernel.invokeFunction('convertToInteractive',\n",
              "                                                     [key], {});\n",
              "          if (!dataTable) return;\n",
              "\n",
              "          const docLinkHtml = 'Like what you see? Visit the ' +\n",
              "            '<a target=\"_blank\" href=https://colab.research.google.com/notebooks/data_table.ipynb>data table notebook</a>'\n",
              "            + ' to learn more about interactive tables.';\n",
              "          element.innerHTML = '';\n",
              "          dataTable['output_type'] = 'display_data';\n",
              "          await google.colab.output.renderOutput(dataTable, element);\n",
              "          const docLink = document.createElement('div');\n",
              "          docLink.innerHTML = docLinkHtml;\n",
              "          element.appendChild(docLink);\n",
              "        }\n",
              "      </script>\n",
              "    </div>\n",
              "  </div>\n",
              "  "
            ]
          },
          "metadata": {},
          "execution_count": 7
        }
      ]
    },
    {
      "cell_type": "code",
      "source": [
        "# Get security returns sorted and transposed...\n",
        "# separate the security static data into another DataFrame\n",
        "df_sec_static = df_sec_rets[['TICKER','NAME','SECTOR','COUNTRY']].transpose()\n",
        "# Remove static data from the returns data frame\n",
        "df_sec_rets = df_sec_rets.drop(['NAME','SECTOR','COUNTRY'], axis=1)\n",
        "# Transpose to dates rows, securities columns\n",
        "df_sec_rets = df_sec_rets.transpose()\n",
        "# Set columns as TICKER\n",
        "df_sec_rets.columns = df_sec_rets.iloc[0,:]\n",
        "df_sec_rets = df_sec_rets.iloc[1:,:]\n",
        "# Row index, dates to integer values\n",
        "df_sec_rets.index = df_sec_rets.index.astype(int)\n",
        "\n",
        "df_sec_rets"
      ],
      "metadata": {
        "colab": {
          "base_uri": "https://localhost:8080/",
          "height": 488
        },
        "id": "yJHcQpScSABr",
        "outputId": "9d41d7f7-7d79-4e10-f0a2-05b12c87d34e"
      },
      "id": "yJHcQpScSABr",
      "execution_count": 8,
      "outputs": [
        {
          "output_type": "execute_result",
          "data": {
            "text/plain": [
              "TICKER    1.0       2.0       3.0       4.0       5.0        6.0       7.0     \\\n",
              "202210  0.015466       NaN       NaN       NaN       NaN        NaN       NaN   \n",
              "202209 -0.078267       NaN       NaN       NaN       NaN        NaN       NaN   \n",
              "202208  0.022625       NaN       NaN       NaN       NaN        NaN       NaN   \n",
              "202207 -0.046285       NaN       NaN       NaN       NaN        NaN       NaN   \n",
              "202206 -0.174248       NaN       NaN       NaN       NaN        NaN       NaN   \n",
              "...          ...       ...       ...       ...       ...        ...       ...   \n",
              "200306 -0.033725  0.022944 -0.041206  0.037502 -0.000805  -0.120038 -0.096703   \n",
              "200305  0.018288  0.347534  0.058162  0.317328  0.034123   0.589883  0.144294   \n",
              "200304  0.232334  0.516898  0.754661  0.103423  0.125564   0.133804  0.255365   \n",
              "200303  0.033275  0.382077  0.551300 -0.079611  0.050399  36.099299  0.176971   \n",
              "200302  0.021873  0.141174 -0.105352 -0.147204 -0.047134   0.037265 -0.084389   \n",
              "\n",
              "TICKER    8.0       9.0       10.0    ...    1233.0    1234.0  1235.0  1236.0  \\\n",
              "202210  0.088226  0.035268  0.080022  ... -0.081479  0.001897     NaN     NaN   \n",
              "202209 -0.256076 -0.107093 -0.070149  ...  0.041886 -0.253796     NaN     NaN   \n",
              "202208  0.018059  0.032409  0.176039  ... -0.145800 -0.048463     NaN     NaN   \n",
              "202207  0.155629  0.156827 -0.060423  ...  0.078485 -0.160098     NaN     NaN   \n",
              "202206 -0.251703  0.004471 -0.117245  ... -0.164017 -0.081680     NaN     NaN   \n",
              "...          ...       ...       ...  ...       ...       ...     ...     ...   \n",
              "200306  0.017493  0.214309  0.106460  ...       NaN       NaN     NaN     NaN   \n",
              "200305 -0.057198 -0.029923 -0.002020  ...       NaN       NaN     NaN     NaN   \n",
              "200304  0.182462 -0.063037  0.339535  ...       NaN       NaN     NaN     NaN   \n",
              "200303  0.032819 -0.106661  0.286560  ...       NaN       NaN     NaN     NaN   \n",
              "200302 -0.029052 -0.042410 -0.087496  ...       NaN       NaN     NaN     NaN   \n",
              "\n",
              "TICKER    1237.0    1238.0    1239.0    1240.0    1241.0    1242.0  \n",
              "202210  0.017754 -0.038338 -0.025137 -0.063330  0.047736 -0.082764  \n",
              "202209 -0.057480 -0.090533 -0.182098 -0.074483 -0.001601 -0.173638  \n",
              "202208 -0.012613  0.071217 -0.060197  0.214663  0.174986 -0.163977  \n",
              "202207  0.045095  0.059226 -0.038707  0.077234  0.036502  0.184783  \n",
              "202206 -0.209230  0.060308  0.093577 -0.075751 -0.261309 -0.162446  \n",
              "...          ...       ...       ...       ...       ...       ...  \n",
              "200306       NaN  0.112575       NaN  0.214379       NaN       NaN  \n",
              "200305       NaN  0.165515       NaN  0.281787       NaN       NaN  \n",
              "200304       NaN  0.256816       NaN  0.115087       NaN       NaN  \n",
              "200303       NaN -0.261565       NaN -0.058430       NaN       NaN  \n",
              "200302       NaN -0.015296       NaN -0.059898       NaN       NaN  \n",
              "\n",
              "[237 rows x 1242 columns]"
            ],
            "text/html": [
              "\n",
              "  <div id=\"df-a35ac535-2517-4b15-a003-9341b1b81503\">\n",
              "    <div class=\"colab-df-container\">\n",
              "      <div>\n",
              "<style scoped>\n",
              "    .dataframe tbody tr th:only-of-type {\n",
              "        vertical-align: middle;\n",
              "    }\n",
              "\n",
              "    .dataframe tbody tr th {\n",
              "        vertical-align: top;\n",
              "    }\n",
              "\n",
              "    .dataframe thead th {\n",
              "        text-align: right;\n",
              "    }\n",
              "</style>\n",
              "<table border=\"1\" class=\"dataframe\">\n",
              "  <thead>\n",
              "    <tr style=\"text-align: right;\">\n",
              "      <th>TICKER</th>\n",
              "      <th>1.0</th>\n",
              "      <th>2.0</th>\n",
              "      <th>3.0</th>\n",
              "      <th>4.0</th>\n",
              "      <th>5.0</th>\n",
              "      <th>6.0</th>\n",
              "      <th>7.0</th>\n",
              "      <th>8.0</th>\n",
              "      <th>9.0</th>\n",
              "      <th>10.0</th>\n",
              "      <th>...</th>\n",
              "      <th>1233.0</th>\n",
              "      <th>1234.0</th>\n",
              "      <th>1235.0</th>\n",
              "      <th>1236.0</th>\n",
              "      <th>1237.0</th>\n",
              "      <th>1238.0</th>\n",
              "      <th>1239.0</th>\n",
              "      <th>1240.0</th>\n",
              "      <th>1241.0</th>\n",
              "      <th>1242.0</th>\n",
              "    </tr>\n",
              "  </thead>\n",
              "  <tbody>\n",
              "    <tr>\n",
              "      <th>202210</th>\n",
              "      <td>0.015466</td>\n",
              "      <td>NaN</td>\n",
              "      <td>NaN</td>\n",
              "      <td>NaN</td>\n",
              "      <td>NaN</td>\n",
              "      <td>NaN</td>\n",
              "      <td>NaN</td>\n",
              "      <td>0.088226</td>\n",
              "      <td>0.035268</td>\n",
              "      <td>0.080022</td>\n",
              "      <td>...</td>\n",
              "      <td>-0.081479</td>\n",
              "      <td>0.001897</td>\n",
              "      <td>NaN</td>\n",
              "      <td>NaN</td>\n",
              "      <td>0.017754</td>\n",
              "      <td>-0.038338</td>\n",
              "      <td>-0.025137</td>\n",
              "      <td>-0.063330</td>\n",
              "      <td>0.047736</td>\n",
              "      <td>-0.082764</td>\n",
              "    </tr>\n",
              "    <tr>\n",
              "      <th>202209</th>\n",
              "      <td>-0.078267</td>\n",
              "      <td>NaN</td>\n",
              "      <td>NaN</td>\n",
              "      <td>NaN</td>\n",
              "      <td>NaN</td>\n",
              "      <td>NaN</td>\n",
              "      <td>NaN</td>\n",
              "      <td>-0.256076</td>\n",
              "      <td>-0.107093</td>\n",
              "      <td>-0.070149</td>\n",
              "      <td>...</td>\n",
              "      <td>0.041886</td>\n",
              "      <td>-0.253796</td>\n",
              "      <td>NaN</td>\n",
              "      <td>NaN</td>\n",
              "      <td>-0.057480</td>\n",
              "      <td>-0.090533</td>\n",
              "      <td>-0.182098</td>\n",
              "      <td>-0.074483</td>\n",
              "      <td>-0.001601</td>\n",
              "      <td>-0.173638</td>\n",
              "    </tr>\n",
              "    <tr>\n",
              "      <th>202208</th>\n",
              "      <td>0.022625</td>\n",
              "      <td>NaN</td>\n",
              "      <td>NaN</td>\n",
              "      <td>NaN</td>\n",
              "      <td>NaN</td>\n",
              "      <td>NaN</td>\n",
              "      <td>NaN</td>\n",
              "      <td>0.018059</td>\n",
              "      <td>0.032409</td>\n",
              "      <td>0.176039</td>\n",
              "      <td>...</td>\n",
              "      <td>-0.145800</td>\n",
              "      <td>-0.048463</td>\n",
              "      <td>NaN</td>\n",
              "      <td>NaN</td>\n",
              "      <td>-0.012613</td>\n",
              "      <td>0.071217</td>\n",
              "      <td>-0.060197</td>\n",
              "      <td>0.214663</td>\n",
              "      <td>0.174986</td>\n",
              "      <td>-0.163977</td>\n",
              "    </tr>\n",
              "    <tr>\n",
              "      <th>202207</th>\n",
              "      <td>-0.046285</td>\n",
              "      <td>NaN</td>\n",
              "      <td>NaN</td>\n",
              "      <td>NaN</td>\n",
              "      <td>NaN</td>\n",
              "      <td>NaN</td>\n",
              "      <td>NaN</td>\n",
              "      <td>0.155629</td>\n",
              "      <td>0.156827</td>\n",
              "      <td>-0.060423</td>\n",
              "      <td>...</td>\n",
              "      <td>0.078485</td>\n",
              "      <td>-0.160098</td>\n",
              "      <td>NaN</td>\n",
              "      <td>NaN</td>\n",
              "      <td>0.045095</td>\n",
              "      <td>0.059226</td>\n",
              "      <td>-0.038707</td>\n",
              "      <td>0.077234</td>\n",
              "      <td>0.036502</td>\n",
              "      <td>0.184783</td>\n",
              "    </tr>\n",
              "    <tr>\n",
              "      <th>202206</th>\n",
              "      <td>-0.174248</td>\n",
              "      <td>NaN</td>\n",
              "      <td>NaN</td>\n",
              "      <td>NaN</td>\n",
              "      <td>NaN</td>\n",
              "      <td>NaN</td>\n",
              "      <td>NaN</td>\n",
              "      <td>-0.251703</td>\n",
              "      <td>0.004471</td>\n",
              "      <td>-0.117245</td>\n",
              "      <td>...</td>\n",
              "      <td>-0.164017</td>\n",
              "      <td>-0.081680</td>\n",
              "      <td>NaN</td>\n",
              "      <td>NaN</td>\n",
              "      <td>-0.209230</td>\n",
              "      <td>0.060308</td>\n",
              "      <td>0.093577</td>\n",
              "      <td>-0.075751</td>\n",
              "      <td>-0.261309</td>\n",
              "      <td>-0.162446</td>\n",
              "    </tr>\n",
              "    <tr>\n",
              "      <th>...</th>\n",
              "      <td>...</td>\n",
              "      <td>...</td>\n",
              "      <td>...</td>\n",
              "      <td>...</td>\n",
              "      <td>...</td>\n",
              "      <td>...</td>\n",
              "      <td>...</td>\n",
              "      <td>...</td>\n",
              "      <td>...</td>\n",
              "      <td>...</td>\n",
              "      <td>...</td>\n",
              "      <td>...</td>\n",
              "      <td>...</td>\n",
              "      <td>...</td>\n",
              "      <td>...</td>\n",
              "      <td>...</td>\n",
              "      <td>...</td>\n",
              "      <td>...</td>\n",
              "      <td>...</td>\n",
              "      <td>...</td>\n",
              "      <td>...</td>\n",
              "    </tr>\n",
              "    <tr>\n",
              "      <th>200306</th>\n",
              "      <td>-0.033725</td>\n",
              "      <td>0.022944</td>\n",
              "      <td>-0.041206</td>\n",
              "      <td>0.037502</td>\n",
              "      <td>-0.000805</td>\n",
              "      <td>-0.120038</td>\n",
              "      <td>-0.096703</td>\n",
              "      <td>0.017493</td>\n",
              "      <td>0.214309</td>\n",
              "      <td>0.106460</td>\n",
              "      <td>...</td>\n",
              "      <td>NaN</td>\n",
              "      <td>NaN</td>\n",
              "      <td>NaN</td>\n",
              "      <td>NaN</td>\n",
              "      <td>NaN</td>\n",
              "      <td>0.112575</td>\n",
              "      <td>NaN</td>\n",
              "      <td>0.214379</td>\n",
              "      <td>NaN</td>\n",
              "      <td>NaN</td>\n",
              "    </tr>\n",
              "    <tr>\n",
              "      <th>200305</th>\n",
              "      <td>0.018288</td>\n",
              "      <td>0.347534</td>\n",
              "      <td>0.058162</td>\n",
              "      <td>0.317328</td>\n",
              "      <td>0.034123</td>\n",
              "      <td>0.589883</td>\n",
              "      <td>0.144294</td>\n",
              "      <td>-0.057198</td>\n",
              "      <td>-0.029923</td>\n",
              "      <td>-0.002020</td>\n",
              "      <td>...</td>\n",
              "      <td>NaN</td>\n",
              "      <td>NaN</td>\n",
              "      <td>NaN</td>\n",
              "      <td>NaN</td>\n",
              "      <td>NaN</td>\n",
              "      <td>0.165515</td>\n",
              "      <td>NaN</td>\n",
              "      <td>0.281787</td>\n",
              "      <td>NaN</td>\n",
              "      <td>NaN</td>\n",
              "    </tr>\n",
              "    <tr>\n",
              "      <th>200304</th>\n",
              "      <td>0.232334</td>\n",
              "      <td>0.516898</td>\n",
              "      <td>0.754661</td>\n",
              "      <td>0.103423</td>\n",
              "      <td>0.125564</td>\n",
              "      <td>0.133804</td>\n",
              "      <td>0.255365</td>\n",
              "      <td>0.182462</td>\n",
              "      <td>-0.063037</td>\n",
              "      <td>0.339535</td>\n",
              "      <td>...</td>\n",
              "      <td>NaN</td>\n",
              "      <td>NaN</td>\n",
              "      <td>NaN</td>\n",
              "      <td>NaN</td>\n",
              "      <td>NaN</td>\n",
              "      <td>0.256816</td>\n",
              "      <td>NaN</td>\n",
              "      <td>0.115087</td>\n",
              "      <td>NaN</td>\n",
              "      <td>NaN</td>\n",
              "    </tr>\n",
              "    <tr>\n",
              "      <th>200303</th>\n",
              "      <td>0.033275</td>\n",
              "      <td>0.382077</td>\n",
              "      <td>0.551300</td>\n",
              "      <td>-0.079611</td>\n",
              "      <td>0.050399</td>\n",
              "      <td>36.099299</td>\n",
              "      <td>0.176971</td>\n",
              "      <td>0.032819</td>\n",
              "      <td>-0.106661</td>\n",
              "      <td>0.286560</td>\n",
              "      <td>...</td>\n",
              "      <td>NaN</td>\n",
              "      <td>NaN</td>\n",
              "      <td>NaN</td>\n",
              "      <td>NaN</td>\n",
              "      <td>NaN</td>\n",
              "      <td>-0.261565</td>\n",
              "      <td>NaN</td>\n",
              "      <td>-0.058430</td>\n",
              "      <td>NaN</td>\n",
              "      <td>NaN</td>\n",
              "    </tr>\n",
              "    <tr>\n",
              "      <th>200302</th>\n",
              "      <td>0.021873</td>\n",
              "      <td>0.141174</td>\n",
              "      <td>-0.105352</td>\n",
              "      <td>-0.147204</td>\n",
              "      <td>-0.047134</td>\n",
              "      <td>0.037265</td>\n",
              "      <td>-0.084389</td>\n",
              "      <td>-0.029052</td>\n",
              "      <td>-0.042410</td>\n",
              "      <td>-0.087496</td>\n",
              "      <td>...</td>\n",
              "      <td>NaN</td>\n",
              "      <td>NaN</td>\n",
              "      <td>NaN</td>\n",
              "      <td>NaN</td>\n",
              "      <td>NaN</td>\n",
              "      <td>-0.015296</td>\n",
              "      <td>NaN</td>\n",
              "      <td>-0.059898</td>\n",
              "      <td>NaN</td>\n",
              "      <td>NaN</td>\n",
              "    </tr>\n",
              "  </tbody>\n",
              "</table>\n",
              "<p>237 rows × 1242 columns</p>\n",
              "</div>\n",
              "      <button class=\"colab-df-convert\" onclick=\"convertToInteractive('df-a35ac535-2517-4b15-a003-9341b1b81503')\"\n",
              "              title=\"Convert this dataframe to an interactive table.\"\n",
              "              style=\"display:none;\">\n",
              "        \n",
              "  <svg xmlns=\"http://www.w3.org/2000/svg\" height=\"24px\"viewBox=\"0 0 24 24\"\n",
              "       width=\"24px\">\n",
              "    <path d=\"M0 0h24v24H0V0z\" fill=\"none\"/>\n",
              "    <path d=\"M18.56 5.44l.94 2.06.94-2.06 2.06-.94-2.06-.94-.94-2.06-.94 2.06-2.06.94zm-11 1L8.5 8.5l.94-2.06 2.06-.94-2.06-.94L8.5 2.5l-.94 2.06-2.06.94zm10 10l.94 2.06.94-2.06 2.06-.94-2.06-.94-.94-2.06-.94 2.06-2.06.94z\"/><path d=\"M17.41 7.96l-1.37-1.37c-.4-.4-.92-.59-1.43-.59-.52 0-1.04.2-1.43.59L10.3 9.45l-7.72 7.72c-.78.78-.78 2.05 0 2.83L4 21.41c.39.39.9.59 1.41.59.51 0 1.02-.2 1.41-.59l7.78-7.78 2.81-2.81c.8-.78.8-2.07 0-2.86zM5.41 20L4 18.59l7.72-7.72 1.47 1.35L5.41 20z\"/>\n",
              "  </svg>\n",
              "      </button>\n",
              "      \n",
              "  <style>\n",
              "    .colab-df-container {\n",
              "      display:flex;\n",
              "      flex-wrap:wrap;\n",
              "      gap: 12px;\n",
              "    }\n",
              "\n",
              "    .colab-df-convert {\n",
              "      background-color: #E8F0FE;\n",
              "      border: none;\n",
              "      border-radius: 50%;\n",
              "      cursor: pointer;\n",
              "      display: none;\n",
              "      fill: #1967D2;\n",
              "      height: 32px;\n",
              "      padding: 0 0 0 0;\n",
              "      width: 32px;\n",
              "    }\n",
              "\n",
              "    .colab-df-convert:hover {\n",
              "      background-color: #E2EBFA;\n",
              "      box-shadow: 0px 1px 2px rgba(60, 64, 67, 0.3), 0px 1px 3px 1px rgba(60, 64, 67, 0.15);\n",
              "      fill: #174EA6;\n",
              "    }\n",
              "\n",
              "    [theme=dark] .colab-df-convert {\n",
              "      background-color: #3B4455;\n",
              "      fill: #D2E3FC;\n",
              "    }\n",
              "\n",
              "    [theme=dark] .colab-df-convert:hover {\n",
              "      background-color: #434B5C;\n",
              "      box-shadow: 0px 1px 3px 1px rgba(0, 0, 0, 0.15);\n",
              "      filter: drop-shadow(0px 1px 2px rgba(0, 0, 0, 0.3));\n",
              "      fill: #FFFFFF;\n",
              "    }\n",
              "  </style>\n",
              "\n",
              "      <script>\n",
              "        const buttonEl =\n",
              "          document.querySelector('#df-a35ac535-2517-4b15-a003-9341b1b81503 button.colab-df-convert');\n",
              "        buttonEl.style.display =\n",
              "          google.colab.kernel.accessAllowed ? 'block' : 'none';\n",
              "\n",
              "        async function convertToInteractive(key) {\n",
              "          const element = document.querySelector('#df-a35ac535-2517-4b15-a003-9341b1b81503');\n",
              "          const dataTable =\n",
              "            await google.colab.kernel.invokeFunction('convertToInteractive',\n",
              "                                                     [key], {});\n",
              "          if (!dataTable) return;\n",
              "\n",
              "          const docLinkHtml = 'Like what you see? Visit the ' +\n",
              "            '<a target=\"_blank\" href=https://colab.research.google.com/notebooks/data_table.ipynb>data table notebook</a>'\n",
              "            + ' to learn more about interactive tables.';\n",
              "          element.innerHTML = '';\n",
              "          dataTable['output_type'] = 'display_data';\n",
              "          await google.colab.output.renderOutput(dataTable, element);\n",
              "          const docLink = document.createElement('div');\n",
              "          docLink.innerHTML = docLinkHtml;\n",
              "          element.appendChild(docLink);\n",
              "        }\n",
              "      </script>\n",
              "    </div>\n",
              "  </div>\n",
              "  "
            ]
          },
          "metadata": {},
          "execution_count": 8
        }
      ]
    },
    {
      "cell_type": "markdown",
      "source": [
        "Let's view our data... right orientation? no nan?"
      ],
      "metadata": {
        "id": "DKDo_lmh8hyH"
      },
      "id": "DKDo_lmh8hyH"
    },
    {
      "cell_type": "code",
      "source": [
        "df_tb3ms.head()\n",
        "df_ff_factors.head()\n",
        "df_sec_rets.head()"
      ],
      "metadata": {
        "colab": {
          "base_uri": "https://localhost:8080/",
          "height": 279
        },
        "id": "no3eiJPP8ffl",
        "outputId": "8222f68a-4bc0-49b0-ac6c-93df0362c9c4"
      },
      "id": "no3eiJPP8ffl",
      "execution_count": 9,
      "outputs": [
        {
          "output_type": "execute_result",
          "data": {
            "text/plain": [
              "TICKER    1.0     2.0     3.0     4.0     5.0     6.0     7.0       8.0     \\\n",
              "202210  0.015466     NaN     NaN     NaN     NaN     NaN     NaN  0.088226   \n",
              "202209 -0.078267     NaN     NaN     NaN     NaN     NaN     NaN -0.256076   \n",
              "202208  0.022625     NaN     NaN     NaN     NaN     NaN     NaN  0.018059   \n",
              "202207 -0.046285     NaN     NaN     NaN     NaN     NaN     NaN  0.155629   \n",
              "202206 -0.174248     NaN     NaN     NaN     NaN     NaN     NaN -0.251703   \n",
              "\n",
              "TICKER    9.0       10.0    ...    1233.0    1234.0  1235.0  1236.0    1237.0  \\\n",
              "202210  0.035268  0.080022  ... -0.081479  0.001897     NaN     NaN  0.017754   \n",
              "202209 -0.107093 -0.070149  ...  0.041886 -0.253796     NaN     NaN -0.057480   \n",
              "202208  0.032409  0.176039  ... -0.145800 -0.048463     NaN     NaN -0.012613   \n",
              "202207  0.156827 -0.060423  ...  0.078485 -0.160098     NaN     NaN  0.045095   \n",
              "202206  0.004471 -0.117245  ... -0.164017 -0.081680     NaN     NaN -0.209230   \n",
              "\n",
              "TICKER    1238.0    1239.0    1240.0    1241.0    1242.0  \n",
              "202210 -0.038338 -0.025137 -0.063330  0.047736 -0.082764  \n",
              "202209 -0.090533 -0.182098 -0.074483 -0.001601 -0.173638  \n",
              "202208  0.071217 -0.060197  0.214663  0.174986 -0.163977  \n",
              "202207  0.059226 -0.038707  0.077234  0.036502  0.184783  \n",
              "202206  0.060308  0.093577 -0.075751 -0.261309 -0.162446  \n",
              "\n",
              "[5 rows x 1242 columns]"
            ],
            "text/html": [
              "\n",
              "  <div id=\"df-877cbfb8-ce8e-492e-a57b-fd08e827af40\">\n",
              "    <div class=\"colab-df-container\">\n",
              "      <div>\n",
              "<style scoped>\n",
              "    .dataframe tbody tr th:only-of-type {\n",
              "        vertical-align: middle;\n",
              "    }\n",
              "\n",
              "    .dataframe tbody tr th {\n",
              "        vertical-align: top;\n",
              "    }\n",
              "\n",
              "    .dataframe thead th {\n",
              "        text-align: right;\n",
              "    }\n",
              "</style>\n",
              "<table border=\"1\" class=\"dataframe\">\n",
              "  <thead>\n",
              "    <tr style=\"text-align: right;\">\n",
              "      <th>TICKER</th>\n",
              "      <th>1.0</th>\n",
              "      <th>2.0</th>\n",
              "      <th>3.0</th>\n",
              "      <th>4.0</th>\n",
              "      <th>5.0</th>\n",
              "      <th>6.0</th>\n",
              "      <th>7.0</th>\n",
              "      <th>8.0</th>\n",
              "      <th>9.0</th>\n",
              "      <th>10.0</th>\n",
              "      <th>...</th>\n",
              "      <th>1233.0</th>\n",
              "      <th>1234.0</th>\n",
              "      <th>1235.0</th>\n",
              "      <th>1236.0</th>\n",
              "      <th>1237.0</th>\n",
              "      <th>1238.0</th>\n",
              "      <th>1239.0</th>\n",
              "      <th>1240.0</th>\n",
              "      <th>1241.0</th>\n",
              "      <th>1242.0</th>\n",
              "    </tr>\n",
              "  </thead>\n",
              "  <tbody>\n",
              "    <tr>\n",
              "      <th>202210</th>\n",
              "      <td>0.015466</td>\n",
              "      <td>NaN</td>\n",
              "      <td>NaN</td>\n",
              "      <td>NaN</td>\n",
              "      <td>NaN</td>\n",
              "      <td>NaN</td>\n",
              "      <td>NaN</td>\n",
              "      <td>0.088226</td>\n",
              "      <td>0.035268</td>\n",
              "      <td>0.080022</td>\n",
              "      <td>...</td>\n",
              "      <td>-0.081479</td>\n",
              "      <td>0.001897</td>\n",
              "      <td>NaN</td>\n",
              "      <td>NaN</td>\n",
              "      <td>0.017754</td>\n",
              "      <td>-0.038338</td>\n",
              "      <td>-0.025137</td>\n",
              "      <td>-0.063330</td>\n",
              "      <td>0.047736</td>\n",
              "      <td>-0.082764</td>\n",
              "    </tr>\n",
              "    <tr>\n",
              "      <th>202209</th>\n",
              "      <td>-0.078267</td>\n",
              "      <td>NaN</td>\n",
              "      <td>NaN</td>\n",
              "      <td>NaN</td>\n",
              "      <td>NaN</td>\n",
              "      <td>NaN</td>\n",
              "      <td>NaN</td>\n",
              "      <td>-0.256076</td>\n",
              "      <td>-0.107093</td>\n",
              "      <td>-0.070149</td>\n",
              "      <td>...</td>\n",
              "      <td>0.041886</td>\n",
              "      <td>-0.253796</td>\n",
              "      <td>NaN</td>\n",
              "      <td>NaN</td>\n",
              "      <td>-0.057480</td>\n",
              "      <td>-0.090533</td>\n",
              "      <td>-0.182098</td>\n",
              "      <td>-0.074483</td>\n",
              "      <td>-0.001601</td>\n",
              "      <td>-0.173638</td>\n",
              "    </tr>\n",
              "    <tr>\n",
              "      <th>202208</th>\n",
              "      <td>0.022625</td>\n",
              "      <td>NaN</td>\n",
              "      <td>NaN</td>\n",
              "      <td>NaN</td>\n",
              "      <td>NaN</td>\n",
              "      <td>NaN</td>\n",
              "      <td>NaN</td>\n",
              "      <td>0.018059</td>\n",
              "      <td>0.032409</td>\n",
              "      <td>0.176039</td>\n",
              "      <td>...</td>\n",
              "      <td>-0.145800</td>\n",
              "      <td>-0.048463</td>\n",
              "      <td>NaN</td>\n",
              "      <td>NaN</td>\n",
              "      <td>-0.012613</td>\n",
              "      <td>0.071217</td>\n",
              "      <td>-0.060197</td>\n",
              "      <td>0.214663</td>\n",
              "      <td>0.174986</td>\n",
              "      <td>-0.163977</td>\n",
              "    </tr>\n",
              "    <tr>\n",
              "      <th>202207</th>\n",
              "      <td>-0.046285</td>\n",
              "      <td>NaN</td>\n",
              "      <td>NaN</td>\n",
              "      <td>NaN</td>\n",
              "      <td>NaN</td>\n",
              "      <td>NaN</td>\n",
              "      <td>NaN</td>\n",
              "      <td>0.155629</td>\n",
              "      <td>0.156827</td>\n",
              "      <td>-0.060423</td>\n",
              "      <td>...</td>\n",
              "      <td>0.078485</td>\n",
              "      <td>-0.160098</td>\n",
              "      <td>NaN</td>\n",
              "      <td>NaN</td>\n",
              "      <td>0.045095</td>\n",
              "      <td>0.059226</td>\n",
              "      <td>-0.038707</td>\n",
              "      <td>0.077234</td>\n",
              "      <td>0.036502</td>\n",
              "      <td>0.184783</td>\n",
              "    </tr>\n",
              "    <tr>\n",
              "      <th>202206</th>\n",
              "      <td>-0.174248</td>\n",
              "      <td>NaN</td>\n",
              "      <td>NaN</td>\n",
              "      <td>NaN</td>\n",
              "      <td>NaN</td>\n",
              "      <td>NaN</td>\n",
              "      <td>NaN</td>\n",
              "      <td>-0.251703</td>\n",
              "      <td>0.004471</td>\n",
              "      <td>-0.117245</td>\n",
              "      <td>...</td>\n",
              "      <td>-0.164017</td>\n",
              "      <td>-0.081680</td>\n",
              "      <td>NaN</td>\n",
              "      <td>NaN</td>\n",
              "      <td>-0.209230</td>\n",
              "      <td>0.060308</td>\n",
              "      <td>0.093577</td>\n",
              "      <td>-0.075751</td>\n",
              "      <td>-0.261309</td>\n",
              "      <td>-0.162446</td>\n",
              "    </tr>\n",
              "  </tbody>\n",
              "</table>\n",
              "<p>5 rows × 1242 columns</p>\n",
              "</div>\n",
              "      <button class=\"colab-df-convert\" onclick=\"convertToInteractive('df-877cbfb8-ce8e-492e-a57b-fd08e827af40')\"\n",
              "              title=\"Convert this dataframe to an interactive table.\"\n",
              "              style=\"display:none;\">\n",
              "        \n",
              "  <svg xmlns=\"http://www.w3.org/2000/svg\" height=\"24px\"viewBox=\"0 0 24 24\"\n",
              "       width=\"24px\">\n",
              "    <path d=\"M0 0h24v24H0V0z\" fill=\"none\"/>\n",
              "    <path d=\"M18.56 5.44l.94 2.06.94-2.06 2.06-.94-2.06-.94-.94-2.06-.94 2.06-2.06.94zm-11 1L8.5 8.5l.94-2.06 2.06-.94-2.06-.94L8.5 2.5l-.94 2.06-2.06.94zm10 10l.94 2.06.94-2.06 2.06-.94-2.06-.94-.94-2.06-.94 2.06-2.06.94z\"/><path d=\"M17.41 7.96l-1.37-1.37c-.4-.4-.92-.59-1.43-.59-.52 0-1.04.2-1.43.59L10.3 9.45l-7.72 7.72c-.78.78-.78 2.05 0 2.83L4 21.41c.39.39.9.59 1.41.59.51 0 1.02-.2 1.41-.59l7.78-7.78 2.81-2.81c.8-.78.8-2.07 0-2.86zM5.41 20L4 18.59l7.72-7.72 1.47 1.35L5.41 20z\"/>\n",
              "  </svg>\n",
              "      </button>\n",
              "      \n",
              "  <style>\n",
              "    .colab-df-container {\n",
              "      display:flex;\n",
              "      flex-wrap:wrap;\n",
              "      gap: 12px;\n",
              "    }\n",
              "\n",
              "    .colab-df-convert {\n",
              "      background-color: #E8F0FE;\n",
              "      border: none;\n",
              "      border-radius: 50%;\n",
              "      cursor: pointer;\n",
              "      display: none;\n",
              "      fill: #1967D2;\n",
              "      height: 32px;\n",
              "      padding: 0 0 0 0;\n",
              "      width: 32px;\n",
              "    }\n",
              "\n",
              "    .colab-df-convert:hover {\n",
              "      background-color: #E2EBFA;\n",
              "      box-shadow: 0px 1px 2px rgba(60, 64, 67, 0.3), 0px 1px 3px 1px rgba(60, 64, 67, 0.15);\n",
              "      fill: #174EA6;\n",
              "    }\n",
              "\n",
              "    [theme=dark] .colab-df-convert {\n",
              "      background-color: #3B4455;\n",
              "      fill: #D2E3FC;\n",
              "    }\n",
              "\n",
              "    [theme=dark] .colab-df-convert:hover {\n",
              "      background-color: #434B5C;\n",
              "      box-shadow: 0px 1px 3px 1px rgba(0, 0, 0, 0.15);\n",
              "      filter: drop-shadow(0px 1px 2px rgba(0, 0, 0, 0.3));\n",
              "      fill: #FFFFFF;\n",
              "    }\n",
              "  </style>\n",
              "\n",
              "      <script>\n",
              "        const buttonEl =\n",
              "          document.querySelector('#df-877cbfb8-ce8e-492e-a57b-fd08e827af40 button.colab-df-convert');\n",
              "        buttonEl.style.display =\n",
              "          google.colab.kernel.accessAllowed ? 'block' : 'none';\n",
              "\n",
              "        async function convertToInteractive(key) {\n",
              "          const element = document.querySelector('#df-877cbfb8-ce8e-492e-a57b-fd08e827af40');\n",
              "          const dataTable =\n",
              "            await google.colab.kernel.invokeFunction('convertToInteractive',\n",
              "                                                     [key], {});\n",
              "          if (!dataTable) return;\n",
              "\n",
              "          const docLinkHtml = 'Like what you see? Visit the ' +\n",
              "            '<a target=\"_blank\" href=https://colab.research.google.com/notebooks/data_table.ipynb>data table notebook</a>'\n",
              "            + ' to learn more about interactive tables.';\n",
              "          element.innerHTML = '';\n",
              "          dataTable['output_type'] = 'display_data';\n",
              "          await google.colab.output.renderOutput(dataTable, element);\n",
              "          const docLink = document.createElement('div');\n",
              "          docLink.innerHTML = docLinkHtml;\n",
              "          element.appendChild(docLink);\n",
              "        }\n",
              "      </script>\n",
              "    </div>\n",
              "  </div>\n",
              "  "
            ]
          },
          "metadata": {},
          "execution_count": 9
        }
      ]
    },
    {
      "cell_type": "markdown",
      "source": [
        "Enforce the end and start dates and ensure date alignment across all data we are using... take the data with the earliest end date as the end date for all series... do the same for the start date too."
      ],
      "metadata": {
        "id": "oAF8KRFR3b4r"
      },
      "id": "oAF8KRFR3b4r"
    },
    {
      "cell_type": "code",
      "source": [
        "# Enforce the end date...\n",
        "# Get the end_date that we will use, this will be the study end date...\n",
        "end_date = min([max(df_tb3ms.index.astype(int)), max(df_ff_factors.index.astype(int)), max(df_sec_rets.index.astype(int))])\n",
        "\n",
        "# Remove all date columns after the end_date\n",
        "df_tb3ms = df_tb3ms.drop(index=df_tb3ms.index[df_tb3ms.index.astype(int) > end_date])\n",
        "df_ff_factors = df_ff_factors.drop(index=df_ff_factors.index[df_ff_factors.index.astype(int) > end_date])\n",
        "df_sec_rets = df_sec_rets.drop(index=df_sec_rets.index[df_sec_rets.index.astype(int) > end_date])\n",
        "\n",
        "# Enforce the start date...\n",
        "# Get the start_date that we will use, this will be the study start date...\n",
        "start_date = max([min(df_tb3ms.index.astype(int)), min(df_ff_factors.index.astype(int)), min(df_sec_rets.index.astype(int))])\n",
        "\n",
        "# Remove all date columns after the end_date\n",
        "df_tb3ms = df_tb3ms.drop(index=df_tb3ms.index[df_tb3ms.index.astype(int) < start_date])\n",
        "df_ff_factors = df_ff_factors.drop(index=df_ff_factors.index[df_ff_factors.index.astype(int) < start_date])\n",
        "df_sec_rets = df_sec_rets.drop(index=df_sec_rets.index[df_sec_rets.index.astype(int) < start_date])"
      ],
      "metadata": {
        "id": "V833tHXC3hrC"
      },
      "id": "V833tHXC3hrC",
      "execution_count": 10,
      "outputs": []
    },
    {
      "cell_type": "markdown",
      "source": [
        "Sanity check you data for errors and (silly) mistakes. Eye ball the distributions and correlations too. Here are some of the checks you can do.\n",
        "\n",
        "1. Date alignment errors\n",
        "2. Check all percentages are formatted correctly\n",
        "3. Check nan values have a low count"
      ],
      "metadata": {
        "id": "xRx5AoQGHUP2"
      },
      "id": "xRx5AoQGHUP2"
    },
    {
      "cell_type": "code",
      "source": [
        "# Sanity checking\n",
        "# 1: Dates are aligned?\n",
        "if  (df_tb3ms.index.equals(df_ff_factors.index) == False) | (df_ff_factors.index.equals(df_sec_rets.index) == False):\n",
        "  raise TypeError('Sanity: Dates are not aligned...')\n",
        "\n",
        "# 2: Percentages are percentages (not decimals)? \n",
        "# Check df_tb3ms median is within median +/- 2standard deviations of df_ff_factors\n",
        "med_abs = df_ff_factors.iloc[:,:].abs().median(skipna=True).median(skipna=True)\n",
        "sd = df_ff_factors.iloc[:,:].std(skipna=True).median(skipna=True)\n",
        "if (med_abs + sd*5 < df_tb3ms.iloc[0,:].abs().median(skipna=True)) | (med_abs - sd*5 > df_tb3ms.iloc[0,:].abs().median(skipna=True)):  \n",
        "  raise TypeError('Sanity: df_ff_factors values to be outside of a sensible range...')  \n",
        "if (med_abs + sd*5 < df_sec_rets.iloc[0,:].abs().median(skipna=True)) | (med_abs - sd*5 > df_sec_rets.iloc[0,:].abs().median(skipna=True)):  \n",
        "  raise TypeError('Sanity: df_ff_factors values to be outside of a sensible range...')  \n",
        "\n",
        "# Check df_ff_factors median is within median +/- 2standard deviations of df_ff_factors\n",
        "med_abs = df_tb3ms.iloc[0,:].abs().median(skipna=True) # only one row... only one median call needed\n",
        "sd = df_tb3ms.iloc[0,:].std(skipna=True) # only one row... no median call needed\n",
        "if (med_abs + sd*5 < df_ff_factors.iloc[0,:].abs().median(skipna=True)) | (med_abs - sd*5 > df_ff_factors.iloc[0,:].abs().median(skipna=True)):  \n",
        "  raise TypeError('Sanity: df_tb3ms values to be outside of a sensible range...')  \n",
        "if (med_abs + sd*5 < df_sec_rets.iloc[0,:].abs().median(skipna=True)) | (med_abs - sd*5 > df_sec_rets.iloc[0,:].abs().median(skipna=True)):  \n",
        "  raise TypeError('Sanity: df_tb3ms values to be outside of a sensible range...')  \n",
        "\n",
        "# Check df_sec_rets median is within median +/- 2standard deviations of df_ff_factors\n",
        "med_abs = df_sec_rets.iloc[:,:].abs().median(skipna=True).median(skipna=True) # median of each row, median across rows\n",
        "sd = df_sec_rets.iloc[:,:].std(skipna=True).median(skipna=True) # std of each row, median across rows\n",
        "if (med_abs + sd*5 < df_tb3ms.iloc[0,:].abs().median(skipna=True)) | (med_abs - sd*5 > df_tb3ms.iloc[0,:].abs().median(skipna=True)):  \n",
        "  raise TypeError('Sanity: df_sec_rets values appear to be outside of a sensible range...')  \n",
        "if (med_abs + sd*5 < df_ff_factors.iloc[0,:].abs().median(skipna=True)) | (med_abs - sd*5 > df_ff_factors.iloc[0,:].abs().median(skipna=True)):  \n",
        "  raise TypeError('Sanity: df_sec_rets values appear to be outside of a sensible range...')  \n",
        "\n",
        "# 3: Many nan? \n",
        "if df_tb3ms[df_tb3ms==np.nan].count().sum() / (df_tb3ms.shape[0]*df_tb3ms.shape[1]) > 0.33:\n",
        "  raise TypeError('Sanity: df_tb3ms; > 33% of values are nan')  \n",
        "if df_ff_factors[df_ff_factors==np.nan].count().sum() / (df_ff_factors.shape[0]*df_ff_factors.shape[1]) > 0.33:\n",
        "  raise TypeError('Sanity: df_ff_factors; > 33% of values are nan')  \n",
        "if df_sec_rets[df_sec_rets==np.nan].count().sum() / (df_sec_rets.shape[0]*df_sec_rets.shape[1]) > 0.33:\n",
        "  raise TypeError('Sanity: df_sec_rets; > 33% of values are nan')  \n"
      ],
      "metadata": {
        "id": "aVpD0zJeHUe1"
      },
      "id": "aVpD0zJeHUe1",
      "execution_count": 11,
      "outputs": []
    },
    {
      "cell_type": "markdown",
      "source": [
        "# 1. Traditional Quantitative approach: Linear Factors\n",
        "\n",
        "We first examine a traditional quanitative approach noting the biases involved in the construction of a traditional stock selection model, the basis of quantitative equity investment approaches for the vast majority of quant managers.\n",
        "We will use a fundamental factor model, also known as a cross-sectional factor model, after Fama and French. These models use linear regression to fit common factors (value (HML), small cap (SMB), etc) to stock returns, by learning coefficients (betas or factor loadings) for each factor.\n"
      ],
      "metadata": {
        "id": "XfaxyT9k1Lpc"
      },
      "id": "XfaxyT9k1Lpc"
    },
    {
      "cell_type": "markdown",
      "source": [
        "### Bias Alert: Linear Regression Violations\n",
        "\n",
        "The three most common violations of classical regression theory that occur in cross-sectional factor models are: \n",
        "\n",
        "1. multicollinearity*: correrlation in input variables\n",
        "2. the errors in variables problem**: where incorrectly measured variables or proxy variables are used\n",
        "3. common variation in residuals** such as heteroskedasticity\n",
        "4. endogeneity***: where the returns from the stock we are modelling affect the input variables. This might be caused by too many investors using similar models.\n",
        "\n",
        "*: Multicolinearity is best dealt with by removing collinear variables from the regression\n",
        "**: There are statistical techniques that address 2, and 3.\n",
        "***: Endogenous bias is extremely difficult to detect and deal with. We will come onto this.\n",
        "\n"
      ],
      "metadata": {
        "id": "6AlqY3tEAWPw"
      },
      "id": "6AlqY3tEAWPw"
    },
    {
      "cell_type": "code",
      "source": [
        "# 4: Eye ball the distributions...\n",
        "import seaborn as sns\n",
        "import matplotlib.pyplot as plt\n",
        "from scipy import stats\n",
        "from scipy.stats import pearsonr\n",
        "from scipy.stats import shapiro\n",
        "\n",
        "# Function we will call to add R2 and p-val to the off-diagonal cells of the pair plot\n",
        "def R2func(x, y, hue=None, ax=None, **kws):\n",
        "    \"\"\"Plot the correlation coefficient in the top left hand corner of a plot.\"\"\"\n",
        "    _, _, r, p, _ = stats.linregress(x, y)\n",
        "    ax = ax or plt.gca()\n",
        "    ax.annotate(f'ρ = {r:.2f}', xy=(.1, .9), xycoords=ax.transAxes)\n",
        "    ax.annotate(f'p-val = {p:.2f}', xy=(.1, .8), xycoords=ax.transAxes)\n",
        "\n",
        "# Function we will call to add normality test stat and p-val to diagnonal cells of pair plot\n",
        "# Note that inputs to linear regression are not required to be normally distributed.\n",
        "def normalityfunc(x, hue=None, ax=None, **kws):\n",
        "    \"\"\"Plot the Shapiro Wilk p-value in the top left hand corner of diagonal cells.\"\"\"\n",
        "    stat, p = shapiro(x)\n",
        "    ax = ax or plt.gca()\n",
        "    ax.annotate(f'Shapiro-Wilk stat = {stat:.2f}', xy=(.1, .9), xycoords=ax.transAxes)\n",
        "    ax.annotate(f'p-val = {p:.2f}', xy=(.1, .8), xycoords=ax.transAxes)\n",
        "\n",
        "# Generate pairplot\n",
        "pp = sns.pairplot(df_ff_factors, kind='reg', diag_kind='kde',\n",
        "             plot_kws={'line_kws':{'color':'red'}})\n",
        "\n",
        "# Run the R2func for all off diagnonal cells, and normalityfunc for the diagonal ones...\n",
        "pp.map_lower(R2func)\n",
        "pp.map_upper(R2func)\n",
        "pp.map_diag(normalityfunc)\n",
        "\n",
        "# Title...\n",
        "pp.fig.subplots_adjust(top=0.9) # adjust the Figure in rp\n",
        "\n",
        "pp.fig.suptitle('Linear Regression Violation Check: Normality test for factors, pair-wise correlation test')\n",
        "\n",
        "plt.show()\n"
      ],
      "metadata": {
        "colab": {
          "base_uri": "https://localhost:8080/",
          "height": 899
        },
        "id": "asS8WQRCAVgY",
        "outputId": "0d1f506b-0291-4444-925d-a0000f9e57ad"
      },
      "id": "asS8WQRCAVgY",
      "execution_count": 13,
      "outputs": [
        {
          "output_type": "display_data",
          "data": {
            "text/plain": [
              "<Figure size 900x900 with 30 Axes>"
            ],
            "image/png": "[encoded data removed]"
          },
          "metadata": {
            "needs_background": "light"
          }
        }
      ]
    },
    {
      "cell_type": "markdown",
      "source": [
        "### Simple Factor model\n",
        "\n",
        "We now specify our factor model using OLS regression, with the option of robust standard error. We will wrap this up as a function, so as we can call it multiple times over the study term, to generate trades for each month.\n",
        "\n",
        "Note that we sanity check parameters, to provide basic checks, and we analyse the residuals produced by the model to ensure residuals are normally distributed (using a SHapiro-Wilk test in this case, with the option of generating a scatter plot in the function too).\n",
        "Let us run the function, using our 5 factor regression on the first security in the dataset, column=0.\n",
        "\n",
        "Many refinements can be made to this simple model."
      ],
      "metadata": {
        "id": "nhdLvBG4gUiI"
      },
      "id": "nhdLvBG4gUiI"
    },
    {
      "cell_type": "code",
      "source": [
        "# Packages to use...\n",
        "from statsmodels.regression.linear_model import OLS\n",
        "import statsmodels.api as sm\n",
        "\n",
        "# Function that will run our OLS model, for a given security, over a given period\n",
        "# Note the two optional parameter... \n",
        "#   use_robust_cm: estimate from a robust covariance matrix\n",
        "#   plot_residual_scatter: which will generate a scatter plot of our residuals (y vs y_hat)\n",
        "def factor_model_run(sec_col_no: int,\n",
        "                     df_tb3ms: pd.DataFrame,\n",
        "                     df_sec_rets: pd.DataFrame,\n",
        "                     df_ff_factors: pd.DataFrame,\n",
        "                     date_start: int,\n",
        "                     date_end: int,\n",
        "                     use_robust_cm: bool = False,\n",
        "                     plot_residual_scatter: bool = False) -> (object, float, float):\n",
        "  \n",
        "  # sanity\n",
        "  if date_start < date_end: \n",
        "    raise TypeError(\"Latest date is date=0, date_start is > date_end\")\n",
        "  if df_ff_factors.shape[0] < df_ff_factors.shape[1]:\n",
        "    raise TypeError(\"Must pass factor returns as columns not rows\")  \n",
        "  if df_ff_factors.index[0] != df_sec_rets.index[0]:\n",
        "    raise TypeError(\"Dates misaligned\")  \n",
        "  if df_tb3ms.index[0] != df_sec_rets.index[0]:\n",
        "    raise TypeError(\"Dates misaligned\")  \n",
        "\n",
        "  # Get X and y data...\n",
        "  # NB: Security returns... deduct Rf\n",
        "  y_train = [+df_sec_rets.iloc[i, sec_col_no] - df_tb3ms.iloc[i, 0] for i in range(date_end,date_start)]\n",
        "  X_train = df_ff_factors.iloc[date_end:date_start, :]\n",
        "  \n",
        "  # Instantiate and train OLS model\n",
        "  X_train = sm.add_constant(X_train) #<< statsmodels requires we manually add an intercept.\n",
        "  ols_model = OLS(y_train, X_train)\n",
        "  ols_model = ols_model.fit()\n",
        "\n",
        "  # Optional ... Use heteroskedasticity-autocorrelation robust covariance?\n",
        "  if use_robust_cm:\n",
        "      ols_model = ols_model.get_robustcov_results()\n",
        "\n",
        "  # Predict\n",
        "  y_hat = ols_model.predict(X_train)\n",
        "\n",
        "  # Examine residuals for normality... \n",
        "  # NB: The null hypothesis (H0) states that the variable is normally distributed, \n",
        "  # and the alternative hypothesis (H1) states that the variable is NOT normally distributed.  \n",
        "  sw_stat, sw_p = shapiro(y_train-y_hat)\n",
        "  \n",
        "  # Optional ...\n",
        "  if plot_residual_scatter == True:   \n",
        "    # square plot     \n",
        "    fig, ax = plt.subplots()\n",
        "    ax.scatter(y_train, y_hat)        \n",
        "    ax.set_aspect(aspect=1)\n",
        "    plt.title('Residual Plot: Shapiro-Wilk p-val: ' + str(round(sw_p, 2)))\n",
        "    plt.show()\n",
        "\n",
        "  return (ols_model, sw_stat, sw_p)\n"
      ],
      "metadata": {
        "id": "CXQRlwnO2dXE"
      },
      "id": "CXQRlwnO2dXE",
      "execution_count": 59,
      "outputs": []
    },
    {
      "cell_type": "markdown",
      "source": [
        "## Bias Alert: Sliding Window Size\n",
        "A long history of returns is required to learn a model of expected returns. However, we may not have high frequency data, and even if we did have enough, to run a history simulation, we need to avoid data snooping biases, and crate\n",
        "\n",
        "Robert C. Merton, “On Estimating the Expected Return on the Market: An Exploratory\n",
        "Investigation,” Journal of Financial Economics, 8 (1980), pp. 323–361."
      ],
      "metadata": {
        "id": "GEqhT767_DG_"
      },
      "id": "GEqhT767_DG_"
    },
    {
      "cell_type": "markdown",
      "source": [
        "### Vectorized Simple Factor model\n",
        "\n",
        "The func \"factor_model_run\" is a simplified approach, calculating betas for one stock at a time. We show the vectorized version of the same function below, which can calculate many stock level betas at a time for a huge speed up\n",
        "\n"
      ],
      "metadata": {
        "id": "Zw6itVDp-lJ3"
      },
      "id": "Zw6itVDp-lJ3"
    },
    {
      "cell_type": "code",
      "source": [
        "# Function that will run our OLS model, for a given security, over a given period\n",
        "# Note the two optional parameter... \n",
        "#   use_robust_cm: estimate from a robust covariance matrix\n",
        "#   plot_residual_scatter: which will generate a scatter plot of our residuals (y vs y_hat)\n",
        "#def factor_models_run_vectorized(sec_col_no: int,\n",
        "#                     df_tb3ms: pd.DataFrame,\n",
        "#                     df_sec_rets: pd.DataFrame,\n",
        "#                     df_ff_factors: pd.DataFrame,\n",
        "#                     date_start: int,\n",
        "#                     date_end: int,\n",
        "#                     use_robust_cm: bool = False,\n",
        "#                     plot_residual_scatter: bool = False) -> (object, float, float):\n",
        "\n",
        "date_start=df_ff_factors.shape[0]-1\n",
        "date_end=0\n",
        "\n",
        "# sanity\n",
        "if date_start < date_end: \n",
        "  raise TypeError(\"Latest date is date=0, date_start is > date_end\")\n",
        "if df_ff_factors.shape[0] < df_ff_factors.shape[1]:\n",
        "  raise TypeError(\"Must pass factor returns as columns not rows\")  \n",
        "if df_ff_factors.index[0] != df_sec_rets.index[0]:\n",
        "  raise TypeError(\"Dates misaligned\")  \n",
        "if df_tb3ms.index[0] != df_sec_rets.index[0]:\n",
        "  raise TypeError(\"Dates misaligned\")  \n",
        "\n",
        "# Get X and y data...\n",
        "# NB: Security returns from date_end to date_start... deduct Rf\n",
        "y_train = np.array([df_sec_rets.iloc[i, :] - df_tb3ms.iloc[i, 0] for i in range(date_end,date_start)])\n",
        "X_train = np.array(df_ff_factors.iloc[date_end:date_start, :]).astype('float')\n",
        "\n",
        "# Prepare matrices for linalg, and OLS\n",
        "intercept = np.ones((date_start-date_end,1))\n",
        "X = np.concatenate((intercept, X_train), axis=1)\n",
        "y = y_train\n",
        "\n",
        "# Flag nan containing security returns\n",
        "y = y[:,~np.isnan(y).any(axis=0)]\n",
        "\n",
        "## Use the equation above (X'X)^(-1)X'Y to calculate OLS coefficient estimates:\n",
        "bh = np.dot(np.linalg.inv(np.dot(X.T,X)),np.dot(X.T,y))\n",
        "\n",
        "ols_betas, resid, rank, sigma = np.linalg.lstsq(X,y)\n",
        "  \n",
        "# Examine residuals for normality... \n",
        "# NB: The null hypothesis (H0) states that the variable is normally distributed, \n",
        "# and the alternative hypothesis (H1) states that the variable is NOT normally distributed.\n",
        "y_hat = np.dot(X, ols_betas)\n",
        "\n",
        "#sw_stat, sw_p = shapiro(y_train-y_hat)  \n",
        "\n",
        "#return (z, resid, rank, sigma)"
      ],
      "metadata": {
        "id": "onz9xXnUiGVb",
        "outputId": "48ec7caa-5096-406a-cd51-1b920754e106",
        "colab": {
          "base_uri": "https://localhost:8080/"
        }
      },
      "id": "onz9xXnUiGVb",
      "execution_count": 71,
      "outputs": [
        {
          "output_type": "stream",
          "name": "stderr",
          "text": [
            "/usr/local/lib/python3.7/dist-packages/ipykernel_launcher.py:43: FutureWarning: `rcond` parameter will change to the default of machine precision times ``max(M, N)`` where M and N are the input matrix dimensions.\n",
            "To use the future default and silence this warning we advise to pass `rcond=None`, to keep using the old, explicitly pass `rcond=-1`.\n"
          ]
        }
      ]
    },
    {
      "cell_type": "code",
      "source": [
        "y_hat.shape"
      ],
      "metadata": {
        "id": "whoBjjBalWlX",
        "outputId": "2a1e49fa-70d8-4530-e089-892d00cb14fe",
        "colab": {
          "base_uri": "https://localhost:8080/"
        }
      },
      "id": "whoBjjBalWlX",
      "execution_count": 73,
      "outputs": [
        {
          "output_type": "execute_result",
          "data": {
            "text/plain": [
              "(234, 458)"
            ]
          },
          "metadata": {},
          "execution_count": 73
        }
      ]
    },
    {
      "cell_type": "markdown",
      "source": [
        "Let us call out function using security in column=0, and using the full term of the data available. We will also opt to generate a residual plot by setting plot_residual_scatter=True.\n",
        "We also print the summary stats for the regression.\n",
        "Finally we will set a sanity check for normality of the redisuals. If the Shapiro-Wilk test produces a p-val of >10\\% we can accept the null hypothesis, implying that the distribution of residuals is normal. "
      ],
      "metadata": {
        "id": "9Xc1kviOhrJ3"
      },
      "id": "9Xc1kviOhrJ3"
    },
    {
      "cell_type": "code",
      "source": [
        "\n",
        "# Run our function on the first security (sec_col_no=0), returning only the model object, and Shapiro-Wilk stat and p-value\n",
        "ols_model, sw_stat, sw_p = factor_model_run(sec_col_no=0, \n",
        "                                             df_tb3ms=df_tb3ms, \n",
        "                                             df_sec_rets=df_sec_rets, \n",
        "                                             df_ff_factors=df_ff_factors, \n",
        "                                             date_start=df_ff_factors.shape[0], \n",
        "                                             date_end=0, \n",
        "                                             plot_residual_scatter=True)\n",
        "# Examine the fit, coefficients and OLS analytics.\n",
        "print(ols_model.summary())\n",
        "\n",
        "# Check for normality in the residuals\n",
        "if sw_p < 0.10:\n",
        "  raise TypeError(\"Residuals appear to be non-normal!\")  "
      ],
      "metadata": {
        "colab": {
          "base_uri": "https://localhost:8080/",
          "height": 839
        },
        "id": "SlqfVjSmhqVh",
        "outputId": "4c71254a-5cee-4ad4-ad9f-c7080b18922e"
      },
      "id": "SlqfVjSmhqVh",
      "execution_count": 61,
      "outputs": [
        {
          "output_type": "stream",
          "name": "stderr",
          "text": [
            "/usr/local/lib/python3.7/dist-packages/statsmodels/tsa/tsatools.py:142: FutureWarning: In a future version of pandas all arguments of concat except for the argument 'objs' will be keyword-only\n",
            "  x = pd.concat(x[::order], 1)\n"
          ]
        },
        {
          "output_type": "display_data",
          "data": {
            "text/plain": [
              "<Figure size 432x288 with 1 Axes>"
            ],
            "image/png": "[encoded data removed]"
          },
          "metadata": {
            "needs_background": "light"
          }
        },
        {
          "output_type": "stream",
          "name": "stdout",
          "text": [
            "                            OLS Regression Results                            \n",
            "==============================================================================\n",
            "Dep. Variable:                      y   R-squared:                       0.330\n",
            "Model:                            OLS   Adj. R-squared:                  0.315\n",
            "Method:                 Least Squares   F-statistic:                     22.55\n",
            "Date:                Wed, 02 Nov 2022   Prob (F-statistic):           2.23e-18\n",
            "Time:                        09:32:56   Log-Likelihood:                 303.16\n",
            "No. Observations:                 235   AIC:                            -594.3\n",
            "Df Residuals:                     229   BIC:                            -573.6\n",
            "Df Model:                           5                                         \n",
            "Covariance Type:            nonrobust                                         \n",
            "==============================================================================\n",
            "                 coef    std err          t      P>|t|      [0.025      0.975]\n",
            "------------------------------------------------------------------------------\n",
            "const         -0.0050      0.005     -1.031      0.304      -0.015       0.005\n",
            "Mkt-RF         0.8719      0.110      7.927      0.000       0.655       1.089\n",
            "SMB            0.1427      0.276      0.516      0.606      -0.402       0.687\n",
            "HML            0.1767      0.318      0.556      0.579      -0.449       0.803\n",
            "RMW            0.1202      0.409      0.294      0.769      -0.686       0.926\n",
            "CMA            1.1582      0.399      2.905      0.004       0.373       1.944\n",
            "==============================================================================\n",
            "Omnibus:                        5.493   Durbin-Watson:                   2.164\n",
            "Prob(Omnibus):                  0.064   Jarque-Bera (JB):                5.805\n",
            "Skew:                           0.242   Prob(JB):                       0.0549\n",
            "Kurtosis:                       3.598   Cond. No.                         105.\n",
            "==============================================================================\n",
            "\n",
            "Notes:\n",
            "[1] Standard Errors assume that the covariance matrix of the errors is correctly specified.\n"
          ]
        }
      ]
    },
    {
      "cell_type": "markdown",
      "source": [
        "### Factor Model Applied Over Time\n",
        "We now use out function to step over time, using a 36month sliding window. We start in the early time period and end at the most recent period, generating a expected returns for each stock (with a full dataset of returns) as we go.\n",
        "At the end of this process we will be able to say which stocks we favor, and which we do not in each time period. \n",
        "\n"
      ],
      "metadata": {
        "id": "gUo2Rw1bgQn9"
      },
      "id": "gUo2Rw1bgQn9"
    },
    {
      "cell_type": "markdown",
      "source": [
        "## Bias Alert: Repeated testing (multiplicity) bias\n",
        "\n",
        "Applying many tests in a single study results in an increased probability of detecting a significant finding just by chance (the problem of multiplicity). It then discusses some of the methods that have been proposed for correcting for multiplicity, including single-step procedures (e.g., Bonferroni); multistep procedures, such as those of Holm, Hochberg, and Šidák; false discovery rate control; and resampling approaches. \n",
        "\n",
        "https://www.ncbi.nlm.nih.gov/pmc/articles/PMC3015194/\n"
      ],
      "metadata": {
        "id": "sXavgcu4mrJC"
      },
      "id": "sXavgcu4mrJC"
    },
    {
      "cell_type": "code",
      "source": [
        "# Loop through time, from the earliest period, to the latest.\n",
        "# We will generate a DataFrame containing the expected returns for each stock in erach period as we go.\n",
        "#def run_(df_tb3ms: pd.DataFrame,\n",
        "#                     df_sec_rets: pd.DataFrame,\n",
        "#                     df_ff_factors: pd.DataFrame,\n",
        "#         window_size: int = 36) -> pd.DataFrame:\n",
        "\n",
        "window_size: int = 36\n",
        "\n",
        "# E(R) for each stock, in each time period\n",
        "df_stock_ER = pd.DataFrame(np.zeros((df_sec_rets.shape[0]-window_size, df_sec_rets.shape[1])))\n",
        "df_stock_ER.index = df_sec_rets.index[0:df_sec_rets.shape[0]-window_size]\n",
        "df_stock_ER.columns = df_sec_rets.columns[0:df_sec_rets.shape[1]].astype(int)\n",
        "#\n",
        "df_stock_SW_pval = df_stock_ER.copy(deep=True)\n",
        "\n",
        "#Step through time... earliest to latest.\n",
        "for i in range(df_ff_factors.shape[0]-window_size-1, 0, -1):\n",
        "  # Step through securities\n",
        "  for j in range(0, df_sec_rets.shape[1]-1):\n",
        "    # Security returns all present?\n",
        "    if (df_sec_rets.iloc[i:i+window_size, j] == 0).count() == window_size:\n",
        "      # Run our function, returning only the result object\n",
        "      ols_model, sw_stat, sw_p = factor_model_run(sec_col_no=j, #<< Note we pass in the security col here\n",
        "                                                df_tb3ms=df_tb3ms, \n",
        "                                                df_sec_rets=df_sec_rets, \n",
        "                                                df_ff_factors=df_ff_factors, \n",
        "                                                date_start=i+window_size, #<< Note we pass in the start date here\n",
        "                                                date_end=i)  #<< Note we pass in the end date here\n",
        "      \n",
        "      # Factor return assumption\n",
        "      df_factor_return = np.array(df_ff_factors.mean())\n",
        "\n",
        "      # Generate E(R) from our stock level factor model...\n",
        "      df_stock_ER.iloc[i,j] = ols_model.predict(df_factor_return.transpose())\n",
        "      # Shapiro p-val\n",
        "      df_stock_SW_pval.iloc[i,j] = sw_p\n",
        "\n",
        "  print('Period:' + str(i))\n",
        "      \n",
        "# Return E(R)\n",
        "\n"
      ],
      "metadata": {
        "id": "koPSFU3RlUoh",
        "colab": {
          "base_uri": "https://localhost:8080/"
        },
        "outputId": "f804bf61-710e-4bef-9297-b44d610b2f9e"
      },
      "id": "koPSFU3RlUoh",
      "execution_count": null,
      "outputs": [
        {
          "output_type": "stream",
          "name": "stdout",
          "text": [
            "Period:198\n",
            "Period:197\n",
            "Period:196\n",
            "Period:195\n",
            "Period:194\n",
            "Period:193\n",
            "Period:192\n",
            "Period:191\n",
            "Period:190\n",
            "Period:189\n",
            "Period:188\n",
            "Period:187\n",
            "Period:186\n",
            "Period:185\n",
            "Period:184\n",
            "Period:183\n",
            "Period:182\n",
            "Period:181\n",
            "Period:180\n",
            "Period:179\n",
            "Period:178\n",
            "Period:177\n",
            "Period:176\n",
            "Period:175\n",
            "Period:174\n",
            "Period:173\n",
            "Period:172\n",
            "Period:171\n",
            "Period:170\n",
            "Period:169\n",
            "Period:168\n",
            "Period:167\n",
            "Period:166\n",
            "Period:165\n",
            "Period:164\n",
            "Period:163\n",
            "Period:162\n",
            "Period:161\n",
            "Period:160\n",
            "Period:159\n",
            "Period:158\n",
            "Period:157\n",
            "Period:156\n",
            "Period:155\n",
            "Period:154\n",
            "Period:153\n",
            "Period:152\n",
            "Period:151\n",
            "Period:150\n",
            "Period:149\n",
            "Period:148\n",
            "Period:147\n",
            "Period:146\n",
            "Period:145\n",
            "Period:144\n",
            "Period:143\n",
            "Period:142\n",
            "Period:141\n",
            "Period:140\n",
            "Period:139\n",
            "Period:138\n",
            "Period:137\n",
            "Period:136\n",
            "Period:135\n",
            "Period:134\n",
            "Period:133\n",
            "Period:132\n",
            "Period:131\n",
            "Period:130\n",
            "Period:129\n",
            "Period:128\n",
            "Period:127\n",
            "Period:126\n",
            "Period:125\n",
            "Period:124\n",
            "Period:123\n",
            "Period:122\n",
            "Period:121\n",
            "Period:120\n",
            "Period:119\n",
            "Period:118\n",
            "Period:117\n",
            "Period:116\n",
            "Period:115\n",
            "Period:114\n",
            "Period:113\n",
            "Period:112\n",
            "Period:111\n",
            "Period:110\n",
            "Period:109\n",
            "Period:108\n",
            "Period:107\n",
            "Period:106\n",
            "Period:105\n",
            "Period:104\n",
            "Period:103\n",
            "Period:102\n",
            "Period:101\n",
            "Period:100\n",
            "Period:99\n",
            "Period:98\n",
            "Period:97\n",
            "Period:96\n",
            "Period:95\n",
            "Period:94\n",
            "Period:93\n",
            "Period:92\n",
            "Period:91\n",
            "Period:90\n",
            "Period:89\n",
            "Period:88\n",
            "Period:87\n",
            "Period:86\n",
            "Period:85\n",
            "Period:84\n",
            "Period:83\n",
            "Period:82\n",
            "Period:81\n",
            "Period:80\n",
            "Period:79\n",
            "Period:78\n",
            "Period:77\n",
            "Period:76\n",
            "Period:75\n",
            "Period:74\n",
            "Period:73\n",
            "Period:72\n",
            "Period:71\n",
            "Period:70\n",
            "Period:69\n",
            "Period:68\n",
            "Period:67\n",
            "Period:66\n",
            "Period:65\n",
            "Period:64\n",
            "Period:63\n",
            "Period:62\n",
            "Period:61\n",
            "Period:60\n",
            "Period:59\n",
            "Period:58\n",
            "Period:57\n",
            "Period:56\n",
            "Period:55\n",
            "Period:54\n",
            "Period:53\n",
            "Period:52\n",
            "Period:51\n",
            "Period:50\n",
            "Period:49\n",
            "Period:48\n",
            "Period:47\n",
            "Period:46\n",
            "Period:45\n",
            "Period:44\n",
            "Period:43\n",
            "Period:42\n",
            "Period:41\n",
            "Period:40\n",
            "Period:39\n",
            "Period:38\n",
            "Period:37\n",
            "Period:36\n",
            "Period:35\n",
            "Period:34\n",
            "Period:33\n",
            "Period:32\n",
            "Period:31\n",
            "Period:30\n",
            "Period:29\n",
            "Period:28\n",
            "Period:27\n",
            "Period:26\n",
            "Period:25\n",
            "Period:24\n",
            "Period:23\n",
            "Period:22\n",
            "Period:21\n",
            "Period:20\n",
            "Period:19\n",
            "Period:18\n",
            "Period:17\n",
            "Period:16\n",
            "Period:15\n",
            "Period:14\n",
            "Period:13\n",
            "Period:12\n",
            "Period:11\n",
            "Period:10\n",
            "Period:9\n",
            "Period:8\n",
            "Period:7\n",
            "Period:6\n",
            "Period:5\n",
            "Period:4\n",
            "Period:3\n",
            "Period:2\n",
            "Period:1\n"
          ]
        }
      ]
    },
    {
      "cell_type": "code",
      "source": [
        "# Simulation routine\n",
        "def run_sim(df_trades: pd.DataFrame,\n",
        "            df_returns: pd.DataFrame):\n",
        "  # Sanity\n",
        "  # Period1 must have a 100% allocation...\n",
        "  if df_trades.iloc[-1,:] != 1:\n",
        "    raise TypeError('df_trades first period must sum to 1')\n",
        "  # All subsequent periods must have trades netting to zero...\n",
        "  if df_trades.sum(axis=0).round(2).sum() != 0:\n",
        "    raise TypeError('df_trades not all period have trades summing to zero; all buys must have corresponding sells')\n",
        "\n",
        "  # Ini CAGR of each security as the initial trade\n",
        "  df_sec_cagr = df_trades.iloc[-1,:].copy(deep=True)\n",
        "\n",
        "  # Step through time\n",
        "  for i in range(df_trades.shape[0]-1, 0, -1):\n",
        "    #Trades in this period? Not nan, >0\n",
        "    trade_sell_flag = ((df_trades.iloc[i,:] != np.nan) & (df_trades.iloc[i,:] < 0))\n",
        "    trade_sell_cols = df_trades.column.loc[trade_sell_flag == True]\n",
        "    tot_trades = df_trades.loc[i, trade_sell_cols].sum()  \n",
        "    tot_cagr = df_sec_cagr[i+1, trade_sell_cols].sum()  \n",
        "      \n",
        "    # calculate terminal val of sells\n",
        "    trade_sell_flag = (df_trades == True)\n",
        "\n",
        "    for j in range(0, df_trades.shape[1]-1):\n",
        "      \n",
        "      # nan means no trade in this security\n",
        "      if df_trades.iloc[i,j] == np.nan:\n",
        "        df_sec_cagr.iloc[i,j] = df_sec_cagr.iloc[i+1,j] * (1+df_returns.iloc[i,j])\n",
        "      elif df_trades.iloc[i,j] > 0:\n",
        "        df_sec_cagr.iloc[i,j] = tot_cagr * df_trades.iloc[i,j]\n",
        "      elif df_trades.iloc[i,j] < 0:\n",
        "        df_sec_cagr.iloc[i,j] = 0\n",
        "\n"
      ],
      "metadata": {
        "id": "uJNhnJdccN7a"
      },
      "id": "uJNhnJdccN7a",
      "execution_count": null,
      "outputs": []
    },
    {
      "cell_type": "code",
      "source": [
        "#ols_model.summary()\n",
        "#ols_model.predict([0.1,0.1,0.1,0.1,0.1])\n",
        "df_sec_rets.count()"
      ],
      "metadata": {
        "colab": {
          "base_uri": "https://localhost:8080/"
        },
        "id": "oMB8G8soPmVq",
        "outputId": "95b87a63-5eef-4d55-bfc9-e27bded08ada"
      },
      "id": "oMB8G8soPmVq",
      "execution_count": null,
      "outputs": [
        {
          "output_type": "execute_result",
          "data": {
            "text/plain": [
              "TICKER\n",
              "1.0       235\n",
              "2.0        76\n",
              "3.0        98\n",
              "4.0        74\n",
              "5.0       188\n",
              "         ... \n",
              "1238.0    235\n",
              "1239.0     89\n",
              "1240.0    235\n",
              "1241.0    137\n",
              "1242.0     68\n",
              "Length: 1242, dtype: int64"
            ]
          },
          "metadata": {},
          "execution_count": 69
        }
      ]
    },
    {
      "cell_type": "markdown",
      "source": [
        "## Bias Alert: Certainty bias\n",
        "\n",
        "Any opinion offered about the probability, likelihood, certainty, or similar property for a hypothesis cannot be derived from statistical methods alone. In particular, significance tests and confidence intervals do not by themselves provide a logically sound basis for concluding an effect is present or absent with certainty or a given probability. This point should be borne in mind whenever one sees a conclu\n",
        "sion framed as a statement of probability, likelihood, or certainty about a hypothesis. Information about the hypothesis beyond that contained in the analyzed data and in conventional statistical models (which give only data probabilities) must be used to reach such a conclusion; that information should be explicitly acknowledged and described by those offering the conclusion. Bayesian statistics offers methods that attempt to incorporate the needed information directly into the statistical model; they have not, however, achieved the popularity of P values and confidence intervals, in part because of philosophical objections and in part because no conventions have become established for their use.\n",
        "\n",
        "https://www.ncbi.nlm.nih.gov/pmc/articles/PMC4877414/"
      ],
      "metadata": {
        "id": "hX1mYjpsn8yh"
      },
      "id": "hX1mYjpsn8yh"
    },
    {
      "cell_type": "code",
      "source": [
        "df_tb3ms.iloc[0,10]"
      ],
      "metadata": {
        "colab": {
          "base_uri": "https://localhost:8080/"
        },
        "id": "dD8qMlkwGpWl",
        "outputId": "bf7bb951-aee4-4772-ba26-b480d2114a8b"
      },
      "id": "dD8qMlkwGpWl",
      "execution_count": null,
      "outputs": [
        {
          "output_type": "execute_result",
          "data": {
            "text/plain": [
              "0.05"
            ]
          },
          "metadata": {},
          "execution_count": 128
        }
      ]
    },
    {
      "cell_type": "code",
      "source": [
        "df_sec_rets[1, :]"
      ],
      "metadata": {
        "colab": {
          "base_uri": "https://localhost:8080/",
          "height": 225
        },
        "id": "Wo2Ybur-BE0z",
        "outputId": "419c6f61-be9b-42af-ad26-4ddd8e2da9d1"
      },
      "id": "Wo2Ybur-BE0z",
      "execution_count": null,
      "outputs": [
        {
          "output_type": "error",
          "ename": "TypeError",
          "evalue": "ignored",
          "traceback": [
            "\u001b[0;31m---------------------------------------------------------------------------\u001b[0m",
            "\u001b[0;31mTypeError\u001b[0m                                 Traceback (most recent call last)",
            "\u001b[0;32m<ipython-input-104-12fa490020ce>\u001b[0m in \u001b[0;36m<module>\u001b[0;34m\u001b[0m\n\u001b[0;32m----> 1\u001b[0;31m \u001b[0mdf_sec_rets\u001b[0m\u001b[0;34m[\u001b[0m\u001b[0;36m1\u001b[0m\u001b[0;34m,\u001b[0m \u001b[0;34m:\u001b[0m\u001b[0;34m]\u001b[0m\u001b[0;34m\u001b[0m\u001b[0;34m\u001b[0m\u001b[0m\n\u001b[0m",
            "\u001b[0;32m/usr/local/lib/python3.7/dist-packages/pandas/core/frame.py\u001b[0m in \u001b[0;36m__getitem__\u001b[0;34m(self, key)\u001b[0m\n\u001b[1;32m   3456\u001b[0m             \u001b[0;32mif\u001b[0m \u001b[0mself\u001b[0m\u001b[0;34m.\u001b[0m\u001b[0mcolumns\u001b[0m\u001b[0;34m.\u001b[0m\u001b[0mnlevels\u001b[0m \u001b[0;34m>\u001b[0m \u001b[0;36m1\u001b[0m\u001b[0;34m:\u001b[0m\u001b[0;34m\u001b[0m\u001b[0;34m\u001b[0m\u001b[0m\n\u001b[1;32m   3457\u001b[0m                 \u001b[0;32mreturn\u001b[0m \u001b[0mself\u001b[0m\u001b[0;34m.\u001b[0m\u001b[0m_getitem_multilevel\u001b[0m\u001b[0;34m(\u001b[0m\u001b[0mkey\u001b[0m\u001b[0;34m)\u001b[0m\u001b[0;34m\u001b[0m\u001b[0;34m\u001b[0m\u001b[0m\n\u001b[0;32m-> 3458\u001b[0;31m             \u001b[0mindexer\u001b[0m \u001b[0;34m=\u001b[0m \u001b[0mself\u001b[0m\u001b[0;34m.\u001b[0m\u001b[0mcolumns\u001b[0m\u001b[0;34m.\u001b[0m\u001b[0mget_loc\u001b[0m\u001b[0;34m(\u001b[0m\u001b[0mkey\u001b[0m\u001b[0;34m)\u001b[0m\u001b[0;34m\u001b[0m\u001b[0;34m\u001b[0m\u001b[0m\n\u001b[0m\u001b[1;32m   3459\u001b[0m             \u001b[0;32mif\u001b[0m \u001b[0mis_integer\u001b[0m\u001b[0;34m(\u001b[0m\u001b[0mindexer\u001b[0m\u001b[0;34m)\u001b[0m\u001b[0;34m:\u001b[0m\u001b[0;34m\u001b[0m\u001b[0;34m\u001b[0m\u001b[0m\n\u001b[1;32m   3460\u001b[0m                 \u001b[0mindexer\u001b[0m \u001b[0;34m=\u001b[0m \u001b[0;34m[\u001b[0m\u001b[0mindexer\u001b[0m\u001b[0;34m]\u001b[0m\u001b[0;34m\u001b[0m\u001b[0;34m\u001b[0m\u001b[0m\n",
            "\u001b[0;32m/usr/local/lib/python3.7/dist-packages/pandas/core/indexes/base.py\u001b[0m in \u001b[0;36mget_loc\u001b[0;34m(self, key, method, tolerance)\u001b[0m\n\u001b[1;32m   3359\u001b[0m             \u001b[0mcasted_key\u001b[0m \u001b[0;34m=\u001b[0m \u001b[0mself\u001b[0m\u001b[0;34m.\u001b[0m\u001b[0m_maybe_cast_indexer\u001b[0m\u001b[0;34m(\u001b[0m\u001b[0mkey\u001b[0m\u001b[0;34m)\u001b[0m\u001b[0;34m\u001b[0m\u001b[0;34m\u001b[0m\u001b[0m\n\u001b[1;32m   3360\u001b[0m             \u001b[0;32mtry\u001b[0m\u001b[0;34m:\u001b[0m\u001b[0;34m\u001b[0m\u001b[0;34m\u001b[0m\u001b[0m\n\u001b[0;32m-> 3361\u001b[0;31m                 \u001b[0;32mreturn\u001b[0m \u001b[0mself\u001b[0m\u001b[0;34m.\u001b[0m\u001b[0m_engine\u001b[0m\u001b[0;34m.\u001b[0m\u001b[0mget_loc\u001b[0m\u001b[0;34m(\u001b[0m\u001b[0mcasted_key\u001b[0m\u001b[0;34m)\u001b[0m\u001b[0;34m\u001b[0m\u001b[0;34m\u001b[0m\u001b[0m\n\u001b[0m\u001b[1;32m   3362\u001b[0m             \u001b[0;32mexcept\u001b[0m \u001b[0mKeyError\u001b[0m \u001b[0;32mas\u001b[0m \u001b[0merr\u001b[0m\u001b[0;34m:\u001b[0m\u001b[0;34m\u001b[0m\u001b[0;34m\u001b[0m\u001b[0m\n\u001b[1;32m   3363\u001b[0m                 \u001b[0;32mraise\u001b[0m \u001b[0mKeyError\u001b[0m\u001b[0;34m(\u001b[0m\u001b[0mkey\u001b[0m\u001b[0;34m)\u001b[0m \u001b[0;32mfrom\u001b[0m \u001b[0merr\u001b[0m\u001b[0;34m\u001b[0m\u001b[0;34m\u001b[0m\u001b[0m\n",
            "\u001b[0;32m/usr/local/lib/python3.7/dist-packages/pandas/_libs/index.pyx\u001b[0m in \u001b[0;36mpandas._libs.index.IndexEngine.get_loc\u001b[0;34m()\u001b[0m\n",
            "\u001b[0;32m/usr/local/lib/python3.7/dist-packages/pandas/_libs/index.pyx\u001b[0m in \u001b[0;36mpandas._libs.index.IndexEngine.get_loc\u001b[0;34m()\u001b[0m\n",
            "\u001b[0;31mTypeError\u001b[0m: '(1, slice(None, None, None))' is an invalid key"
          ]
        }
      ]
    },
    {
      "cell_type": "markdown",
      "source": [
        "## Bias Alert: Endogenous bias\n",
        "Endogeneity bias is not a simple violation and there is no easy statistical solution. It has serious consequences for outcomes, where in the presence of endogenous variables OLS learns biased and inconsistent parameters. P-values can be seriously misleading. All it takes is one endogenous variable to seriously distort ALL OLS parameters.\n",
        "https://artnet.unescap.org/tid/artnet/mtg/gravity09_tues3.pdf\n",
        "\n",
        "One potentially concerning endogeneity is self-fulfilling prophecy of factor investing, where stocks with high correlations to commonly used factors would cause investments in those stocks, causing price appreciation, affirming that the correlations with those factors caused the price rises.\n"
      ],
      "metadata": {
        "id": "Rrb0FP-j1mp8"
      },
      "id": "Rrb0FP-j1mp8"
    },
    {
      "cell_type": "code",
      "source": [],
      "metadata": {
        "id": "tC27w-Zu1jID"
      },
      "id": "tC27w-Zu1jID",
      "execution_count": null,
      "outputs": []
    },
    {
      "cell_type": "code",
      "source": [
        "df_ff_factors"
      ],
      "metadata": {
        "colab": {
          "base_uri": "https://localhost:8080/",
          "height": 424
        },
        "id": "2Bdx4ZrK4gVY",
        "outputId": "7da99758-4561-4e2d-eb91-6c4208876df7"
      },
      "id": "2Bdx4ZrK4gVY",
      "execution_count": null,
      "outputs": [
        {
          "output_type": "execute_result",
          "data": {
            "text/plain": [
              "                            Unnamed: 0    Mkt-RF       SMB       HML        RF\n",
              "0                               192607      2.96     -2.56     -2.43      0.22\n",
              "1                               192608      2.64     -1.17      3.82      0.25\n",
              "2                               192609      0.36     -1.40      0.13      0.23\n",
              "3                               192610     -3.24     -0.09      0.70      0.32\n",
              "4                               192611      2.53     -0.10     -0.51      0.31\n",
              "...                                ...       ...       ...       ...       ...\n",
              "1248                              2018     -6.95     -3.21     -9.73      1.83\n",
              "1249                              2019     28.28     -6.10    -10.34      2.15\n",
              "1250                              2020     23.66     13.17    -46.57      0.45\n",
              "1251                              2021     23.56     -3.92     25.57      0.04\n",
              "1252  Copyright 2022 Kenneth R. French       NaN       NaN       NaN       NaN\n",
              "\n",
              "[1253 rows x 5 columns]"
            ],
            "text/html": [
              "\n",
              "  <div id=\"df-90aaac5d-fe6f-47c1-b3df-a39114badb05\">\n",
              "    <div class=\"colab-df-container\">\n",
              "      <div>\n",
              "<style scoped>\n",
              "    .dataframe tbody tr th:only-of-type {\n",
              "        vertical-align: middle;\n",
              "    }\n",
              "\n",
              "    .dataframe tbody tr th {\n",
              "        vertical-align: top;\n",
              "    }\n",
              "\n",
              "    .dataframe thead th {\n",
              "        text-align: right;\n",
              "    }\n",
              "</style>\n",
              "<table border=\"1\" class=\"dataframe\">\n",
              "  <thead>\n",
              "    <tr style=\"text-align: right;\">\n",
              "      <th></th>\n",
              "      <th>Unnamed: 0</th>\n",
              "      <th>Mkt-RF</th>\n",
              "      <th>SMB</th>\n",
              "      <th>HML</th>\n",
              "      <th>RF</th>\n",
              "    </tr>\n",
              "  </thead>\n",
              "  <tbody>\n",
              "    <tr>\n",
              "      <th>0</th>\n",
              "      <td>192607</td>\n",
              "      <td>2.96</td>\n",
              "      <td>-2.56</td>\n",
              "      <td>-2.43</td>\n",
              "      <td>0.22</td>\n",
              "    </tr>\n",
              "    <tr>\n",
              "      <th>1</th>\n",
              "      <td>192608</td>\n",
              "      <td>2.64</td>\n",
              "      <td>-1.17</td>\n",
              "      <td>3.82</td>\n",
              "      <td>0.25</td>\n",
              "    </tr>\n",
              "    <tr>\n",
              "      <th>2</th>\n",
              "      <td>192609</td>\n",
              "      <td>0.36</td>\n",
              "      <td>-1.40</td>\n",
              "      <td>0.13</td>\n",
              "      <td>0.23</td>\n",
              "    </tr>\n",
              "    <tr>\n",
              "      <th>3</th>\n",
              "      <td>192610</td>\n",
              "      <td>-3.24</td>\n",
              "      <td>-0.09</td>\n",
              "      <td>0.70</td>\n",
              "      <td>0.32</td>\n",
              "    </tr>\n",
              "    <tr>\n",
              "      <th>4</th>\n",
              "      <td>192611</td>\n",
              "      <td>2.53</td>\n",
              "      <td>-0.10</td>\n",
              "      <td>-0.51</td>\n",
              "      <td>0.31</td>\n",
              "    </tr>\n",
              "    <tr>\n",
              "      <th>...</th>\n",
              "      <td>...</td>\n",
              "      <td>...</td>\n",
              "      <td>...</td>\n",
              "      <td>...</td>\n",
              "      <td>...</td>\n",
              "    </tr>\n",
              "    <tr>\n",
              "      <th>1248</th>\n",
              "      <td>2018</td>\n",
              "      <td>-6.95</td>\n",
              "      <td>-3.21</td>\n",
              "      <td>-9.73</td>\n",
              "      <td>1.83</td>\n",
              "    </tr>\n",
              "    <tr>\n",
              "      <th>1249</th>\n",
              "      <td>2019</td>\n",
              "      <td>28.28</td>\n",
              "      <td>-6.10</td>\n",
              "      <td>-10.34</td>\n",
              "      <td>2.15</td>\n",
              "    </tr>\n",
              "    <tr>\n",
              "      <th>1250</th>\n",
              "      <td>2020</td>\n",
              "      <td>23.66</td>\n",
              "      <td>13.17</td>\n",
              "      <td>-46.57</td>\n",
              "      <td>0.45</td>\n",
              "    </tr>\n",
              "    <tr>\n",
              "      <th>1251</th>\n",
              "      <td>2021</td>\n",
              "      <td>23.56</td>\n",
              "      <td>-3.92</td>\n",
              "      <td>25.57</td>\n",
              "      <td>0.04</td>\n",
              "    </tr>\n",
              "    <tr>\n",
              "      <th>1252</th>\n",
              "      <td>Copyright 2022 Kenneth R. French</td>\n",
              "      <td>NaN</td>\n",
              "      <td>NaN</td>\n",
              "      <td>NaN</td>\n",
              "      <td>NaN</td>\n",
              "    </tr>\n",
              "  </tbody>\n",
              "</table>\n",
              "<p>1253 rows × 5 columns</p>\n",
              "</div>\n",
              "      <button class=\"colab-df-convert\" onclick=\"convertToInteractive('df-90aaac5d-fe6f-47c1-b3df-a39114badb05')\"\n",
              "              title=\"Convert this dataframe to an interactive table.\"\n",
              "              style=\"display:none;\">\n",
              "        \n",
              "  <svg xmlns=\"http://www.w3.org/2000/svg\" height=\"24px\"viewBox=\"0 0 24 24\"\n",
              "       width=\"24px\">\n",
              "    <path d=\"M0 0h24v24H0V0z\" fill=\"none\"/>\n",
              "    <path d=\"M18.56 5.44l.94 2.06.94-2.06 2.06-.94-2.06-.94-.94-2.06-.94 2.06-2.06.94zm-11 1L8.5 8.5l.94-2.06 2.06-.94-2.06-.94L8.5 2.5l-.94 2.06-2.06.94zm10 10l.94 2.06.94-2.06 2.06-.94-2.06-.94-.94-2.06-.94 2.06-2.06.94z\"/><path d=\"M17.41 7.96l-1.37-1.37c-.4-.4-.92-.59-1.43-.59-.52 0-1.04.2-1.43.59L10.3 9.45l-7.72 7.72c-.78.78-.78 2.05 0 2.83L4 21.41c.39.39.9.59 1.41.59.51 0 1.02-.2 1.41-.59l7.78-7.78 2.81-2.81c.8-.78.8-2.07 0-2.86zM5.41 20L4 18.59l7.72-7.72 1.47 1.35L5.41 20z\"/>\n",
              "  </svg>\n",
              "      </button>\n",
              "      \n",
              "  <style>\n",
              "    .colab-df-container {\n",
              "      display:flex;\n",
              "      flex-wrap:wrap;\n",
              "      gap: 12px;\n",
              "    }\n",
              "\n",
              "    .colab-df-convert {\n",
              "      background-color: #E8F0FE;\n",
              "      border: none;\n",
              "      border-radius: 50%;\n",
              "      cursor: pointer;\n",
              "      display: none;\n",
              "      fill: #1967D2;\n",
              "      height: 32px;\n",
              "      padding: 0 0 0 0;\n",
              "      width: 32px;\n",
              "    }\n",
              "\n",
              "    .colab-df-convert:hover {\n",
              "      background-color: #E2EBFA;\n",
              "      box-shadow: 0px 1px 2px rgba(60, 64, 67, 0.3), 0px 1px 3px 1px rgba(60, 64, 67, 0.15);\n",
              "      fill: #174EA6;\n",
              "    }\n",
              "\n",
              "    [theme=dark] .colab-df-convert {\n",
              "      background-color: #3B4455;\n",
              "      fill: #D2E3FC;\n",
              "    }\n",
              "\n",
              "    [theme=dark] .colab-df-convert:hover {\n",
              "      background-color: #434B5C;\n",
              "      box-shadow: 0px 1px 3px 1px rgba(0, 0, 0, 0.15);\n",
              "      filter: drop-shadow(0px 1px 2px rgba(0, 0, 0, 0.3));\n",
              "      fill: #FFFFFF;\n",
              "    }\n",
              "  </style>\n",
              "\n",
              "      <script>\n",
              "        const buttonEl =\n",
              "          document.querySelector('#df-90aaac5d-fe6f-47c1-b3df-a39114badb05 button.colab-df-convert');\n",
              "        buttonEl.style.display =\n",
              "          google.colab.kernel.accessAllowed ? 'block' : 'none';\n",
              "\n",
              "        async function convertToInteractive(key) {\n",
              "          const element = document.querySelector('#df-90aaac5d-fe6f-47c1-b3df-a39114badb05');\n",
              "          const dataTable =\n",
              "            await google.colab.kernel.invokeFunction('convertToInteractive',\n",
              "                                                     [key], {});\n",
              "          if (!dataTable) return;\n",
              "\n",
              "          const docLinkHtml = 'Like what you see? Visit the ' +\n",
              "            '<a target=\"_blank\" href=https://colab.research.google.com/notebooks/data_table.ipynb>data table notebook</a>'\n",
              "            + ' to learn more about interactive tables.';\n",
              "          element.innerHTML = '';\n",
              "          dataTable['output_type'] = 'display_data';\n",
              "          await google.colab.output.renderOutput(dataTable, element);\n",
              "          const docLink = document.createElement('div');\n",
              "          docLink.innerHTML = docLinkHtml;\n",
              "          element.appendChild(docLink);\n",
              "        }\n",
              "      </script>\n",
              "    </div>\n",
              "  </div>\n",
              "  "
            ]
          },
          "metadata": {},
          "execution_count": 8
        }
      ]
    },
    {
      "cell_type": "markdown",
      "source": [],
      "metadata": {
        "id": "UrNYVeRF1tBm"
      },
      "id": "UrNYVeRF1tBm"
    },
    {
      "cell_type": "markdown",
      "source": [
        "# 2. Machine Learning Enhanced Traditional Quantitative Approach\n",
        "\n",
        "We now examine using \"first generation\" machine learning tools, applied in a traditional quantative framework."
      ],
      "metadata": {
        "id": "xqxvllB41u_b"
      },
      "id": "xqxvllB41u_b"
    },
    {
      "cell_type": "markdown",
      "source": [
        "## 2a. Factor Approach with Non-linear Regression\n"
      ],
      "metadata": {
        "id": "XanNZbZB2brP"
      },
      "id": "XanNZbZB2brP"
    },
    {
      "cell_type": "markdown",
      "source": [
        "## 2b. Classification Approach"
      ],
      "metadata": {
        "id": "UO0AeHZb2i0C"
      },
      "id": "UO0AeHZb2i0C"
    },
    {
      "cell_type": "markdown",
      "source": [
        "# 3. Interpretable Machine Learning Approach\n"
      ],
      "metadata": {
        "id": "tdU_P5EE2oX2"
      },
      "id": "tdU_P5EE2oX2"
    },
    {
      "cell_type": "code",
      "source": [],
      "metadata": {
        "id": "luN0Cgy13Ehz"
      },
      "id": "luN0Cgy13Ehz",
      "execution_count": null,
      "outputs": []
    },
    {
      "cell_type": "markdown",
      "source": [
        "# Stage1. Business Case \n",
        "\n",
        "Define key performance indicators (KPIs). \n",
        "Data needed, outcomes, model risk level, communication strategy.\n",
        "Regulatory and Compliance issues \n"
      ],
      "metadata": {
        "id": "rDXnNSIt5GUs"
      },
      "id": "rDXnNSIt5GUs"
    },
    {
      "cell_type": "code",
      "source": [
        "df_raw.columns"
      ],
      "metadata": {
        "colab": {
          "base_uri": "https://localhost:8080/"
        },
        "id": "pwvlymBMFqsW",
        "outputId": "a3c25dac-202d-4d33-ca5d-42157aeba3e6"
      },
      "id": "pwvlymBMFqsW",
      "execution_count": null,
      "outputs": [
        {
          "output_type": "execute_result",
          "data": {
            "text/plain": [
              "Index(['checking_status', 'duration', 'credit_history', 'purpose',\n",
              "       'credit_amount', 'savings_status', 'employment',\n",
              "       'installment_commitment', 'personal_status', 'other_parties',\n",
              "       'residence_since', 'property_magnitude', 'age', 'other_payment_plans',\n",
              "       'housing', 'existing_credits', 'job', 'num_dependents', 'own_telephone',\n",
              "       'foreign_worker', 'class'],\n",
              "      dtype='object')"
            ]
          },
          "metadata": {},
          "execution_count": 7
        }
      ]
    },
    {
      "cell_type": "markdown",
      "source": [
        "There is clearly a bias in the dataset, but to expand upon this we can use a Chi2 test to examine whether the observed \"bad\" credits we see in female rows, is statistically significant to the expected difference we see in male rows.\n",
        "\n",
        "It is possible that this bias is proxied by another data item in the dataset. **We will come back to this issue later**."
      ],
      "metadata": {
        "id": "cB4L-E2-Te1u"
      },
      "id": "cB4L-E2-Te1u"
    },
    {
      "cell_type": "markdown",
      "source": [
        "# Stage2: Exploratory Data Analysis"
      ],
      "metadata": {
        "id": "BrwhvERWDe_N"
      },
      "id": "BrwhvERWDe_N"
    },
    {
      "cell_type": "markdown",
      "id": "bdd49632",
      "metadata": {
        "id": "bdd49632"
      },
      "source": [
        "## Data Wrangling and Preprocessing\n",
        "\n",
        "Data Wrangling: As we have shown in previous chapters we need to convert categorical data into one-hot-encodings, clean characters from numeric data columns, carry out type conversions into numeric datatypes... The following cell shows the appropriate data wrangling to get our data into a good shape. "
      ]
    },
    {
      "cell_type": "code",
      "execution_count": null,
      "id": "c62115a2",
      "metadata": {
        "scrolled": true,
        "colab": {
          "base_uri": "https://localhost:8080/"
        },
        "id": "c62115a2",
        "outputId": "0e35d664-bf8e-43b6-f956-c917f33f110c"
      },
      "outputs": [
        {
          "output_type": "execute_result",
          "data": {
            "text/plain": [
              "     duration  credit_amount  installment_commitment  residence_since  age  \\\n",
              "0           6           1169                       4                4   67   \n",
              "1          48           5951                       2                2    0   \n",
              "2          12           2096                       2                3   49   \n",
              "3          42           7882                       2                4   45   \n",
              "4          24           4870                       3                4   53   \n",
              "..        ...            ...                     ...              ...  ...   \n",
              "995        12           1736                       3                4   31   \n",
              "996        30           3857                       4                4   40   \n",
              "997        12            804                       4                4   38   \n",
              "998        45           1845                       4                4    0   \n",
              "999        45           4576                       3                4   27   \n",
              "\n",
              "     existing_credits  num_dependents  foreign_worker  class  \\\n",
              "0                   2               1               1      0   \n",
              "1                   1               1               1      1   \n",
              "2                   1               2               1      0   \n",
              "3                   1               2               1      0   \n",
              "4                   2               2               1      1   \n",
              "..                ...             ...             ...    ...   \n",
              "995                 1               1               1      0   \n",
              "996                 1               1               1      0   \n",
              "997                 1               1               1      0   \n",
              "998                 1               1               1      1   \n",
              "999                 1               1               1      0   \n",
              "\n",
              "     checking_status_0<=X<200  ...  other_payment_plans_stores  \\\n",
              "0                           0  ...                           0   \n",
              "1                           1  ...                           0   \n",
              "2                           0  ...                           0   \n",
              "3                           0  ...                           0   \n",
              "4                           0  ...                           0   \n",
              "..                        ...  ...                         ...   \n",
              "995                         0  ...                           0   \n",
              "996                         0  ...                           0   \n",
              "997                         0  ...                           0   \n",
              "998                         0  ...                           0   \n",
              "999                         1  ...                           0   \n",
              "\n",
              "     housing_for free  housing_own  housing_rent  \\\n",
              "0                   0            1             0   \n",
              "1                   0            1             0   \n",
              "2                   0            1             0   \n",
              "3                   1            0             0   \n",
              "4                   1            0             0   \n",
              "..                ...          ...           ...   \n",
              "995                 0            1             0   \n",
              "996                 0            1             0   \n",
              "997                 0            1             0   \n",
              "998                 1            0             0   \n",
              "999                 0            1             0   \n",
              "\n",
              "     job_high qualif/self emp/mgmt  job_skilled  job_unemp/unskilled non res  \\\n",
              "0                                0            1                            0   \n",
              "1                                0            1                            0   \n",
              "2                                0            0                            0   \n",
              "3                                0            1                            0   \n",
              "4                                0            1                            0   \n",
              "..                             ...          ...                          ...   \n",
              "995                              0            0                            0   \n",
              "996                              1            0                            0   \n",
              "997                              0            1                            0   \n",
              "998                              0            1                            0   \n",
              "999                              0            1                            0   \n",
              "\n",
              "     job_unskilled resident  own_telephone_none  own_telephone_yes  \n",
              "0                         0                   0                  1  \n",
              "1                         0                   1                  0  \n",
              "2                         1                   1                  0  \n",
              "3                         0                   1                  0  \n",
              "4                         0                   1                  0  \n",
              "..                      ...                 ...                ...  \n",
              "995                       1                   1                  0  \n",
              "996                       0                   0                  1  \n",
              "997                       0                   1                  0  \n",
              "998                       0                   0                  1  \n",
              "999                       0                   1                  0  \n",
              "\n",
              "[1000 rows x 57 columns]"
            ],
            "text/html": [
              "\n",
              "  <div id=\"df-9cc990b0-a346-4d0f-9364-dfd5ba48fa9c\">\n",
              "    <div class=\"colab-df-container\">\n",
              "      <div>\n",
              "<style scoped>\n",
              "    .dataframe tbody tr th:only-of-type {\n",
              "        vertical-align: middle;\n",
              "    }\n",
              "\n",
              "    .dataframe tbody tr th {\n",
              "        vertical-align: top;\n",
              "    }\n",
              "\n",
              "    .dataframe thead th {\n",
              "        text-align: right;\n",
              "    }\n",
              "</style>\n",
              "<table border=\"1\" class=\"dataframe\">\n",
              "  <thead>\n",
              "    <tr style=\"text-align: right;\">\n",
              "      <th></th>\n",
              "      <th>duration</th>\n",
              "      <th>credit_amount</th>\n",
              "      <th>installment_commitment</th>\n",
              "      <th>residence_since</th>\n",
              "      <th>age</th>\n",
              "      <th>existing_credits</th>\n",
              "      <th>num_dependents</th>\n",
              "      <th>foreign_worker</th>\n",
              "      <th>class</th>\n",
              "      <th>checking_status_0&lt;=X&lt;200</th>\n",
              "      <th>...</th>\n",
              "      <th>other_payment_plans_stores</th>\n",
              "      <th>housing_for free</th>\n",
              "      <th>housing_own</th>\n",
              "      <th>housing_rent</th>\n",
              "      <th>job_high qualif/self emp/mgmt</th>\n",
              "      <th>job_skilled</th>\n",
              "      <th>job_unemp/unskilled non res</th>\n",
              "      <th>job_unskilled resident</th>\n",
              "      <th>own_telephone_none</th>\n",
              "      <th>own_telephone_yes</th>\n",
              "    </tr>\n",
              "  </thead>\n",
              "  <tbody>\n",
              "    <tr>\n",
              "      <th>0</th>\n",
              "      <td>6</td>\n",
              "      <td>1169</td>\n",
              "      <td>4</td>\n",
              "      <td>4</td>\n",
              "      <td>67</td>\n",
              "      <td>2</td>\n",
              "      <td>1</td>\n",
              "      <td>1</td>\n",
              "      <td>0</td>\n",
              "      <td>0</td>\n",
              "      <td>...</td>\n",
              "      <td>0</td>\n",
              "      <td>0</td>\n",
              "      <td>1</td>\n",
              "      <td>0</td>\n",
              "      <td>0</td>\n",
              "      <td>1</td>\n",
              "      <td>0</td>\n",
              "      <td>0</td>\n",
              "      <td>0</td>\n",
              "      <td>1</td>\n",
              "    </tr>\n",
              "    <tr>\n",
              "      <th>1</th>\n",
              "      <td>48</td>\n",
              "      <td>5951</td>\n",
              "      <td>2</td>\n",
              "      <td>2</td>\n",
              "      <td>0</td>\n",
              "      <td>1</td>\n",
              "      <td>1</td>\n",
              "      <td>1</td>\n",
              "      <td>1</td>\n",
              "      <td>1</td>\n",
              "      <td>...</td>\n",
              "      <td>0</td>\n",
              "      <td>0</td>\n",
              "      <td>1</td>\n",
              "      <td>0</td>\n",
              "      <td>0</td>\n",
              "      <td>1</td>\n",
              "      <td>0</td>\n",
              "      <td>0</td>\n",
              "      <td>1</td>\n",
              "      <td>0</td>\n",
              "    </tr>\n",
              "    <tr>\n",
              "      <th>2</th>\n",
              "      <td>12</td>\n",
              "      <td>2096</td>\n",
              "      <td>2</td>\n",
              "      <td>3</td>\n",
              "      <td>49</td>\n",
              "      <td>1</td>\n",
              "      <td>2</td>\n",
              "      <td>1</td>\n",
              "      <td>0</td>\n",
              "      <td>0</td>\n",
              "      <td>...</td>\n",
              "      <td>0</td>\n",
              "      <td>0</td>\n",
              "      <td>1</td>\n",
              "      <td>0</td>\n",
              "      <td>0</td>\n",
              "      <td>0</td>\n",
              "      <td>0</td>\n",
              "      <td>1</td>\n",
              "      <td>1</td>\n",
              "      <td>0</td>\n",
              "    </tr>\n",
              "    <tr>\n",
              "      <th>3</th>\n",
              "      <td>42</td>\n",
              "      <td>7882</td>\n",
              "      <td>2</td>\n",
              "      <td>4</td>\n",
              "      <td>45</td>\n",
              "      <td>1</td>\n",
              "      <td>2</td>\n",
              "      <td>1</td>\n",
              "      <td>0</td>\n",
              "      <td>0</td>\n",
              "      <td>...</td>\n",
              "      <td>0</td>\n",
              "      <td>1</td>\n",
              "      <td>0</td>\n",
              "      <td>0</td>\n",
              "      <td>0</td>\n",
              "      <td>1</td>\n",
              "      <td>0</td>\n",
              "      <td>0</td>\n",
              "      <td>1</td>\n",
              "      <td>0</td>\n",
              "    </tr>\n",
              "    <tr>\n",
              "      <th>4</th>\n",
              "      <td>24</td>\n",
              "      <td>4870</td>\n",
              "      <td>3</td>\n",
              "      <td>4</td>\n",
              "      <td>53</td>\n",
              "      <td>2</td>\n",
              "      <td>2</td>\n",
              "      <td>1</td>\n",
              "      <td>1</td>\n",
              "      <td>0</td>\n",
              "      <td>...</td>\n",
              "      <td>0</td>\n",
              "      <td>1</td>\n",
              "      <td>0</td>\n",
              "      <td>0</td>\n",
              "      <td>0</td>\n",
              "      <td>1</td>\n",
              "      <td>0</td>\n",
              "      <td>0</td>\n",
              "      <td>1</td>\n",
              "      <td>0</td>\n",
              "    </tr>\n",
              "    <tr>\n",
              "      <th>...</th>\n",
              "      <td>...</td>\n",
              "      <td>...</td>\n",
              "      <td>...</td>\n",
              "      <td>...</td>\n",
              "      <td>...</td>\n",
              "      <td>...</td>\n",
              "      <td>...</td>\n",
              "      <td>...</td>\n",
              "      <td>...</td>\n",
              "      <td>...</td>\n",
              "      <td>...</td>\n",
              "      <td>...</td>\n",
              "      <td>...</td>\n",
              "      <td>...</td>\n",
              "      <td>...</td>\n",
              "      <td>...</td>\n",
              "      <td>...</td>\n",
              "      <td>...</td>\n",
              "      <td>...</td>\n",
              "      <td>...</td>\n",
              "      <td>...</td>\n",
              "    </tr>\n",
              "    <tr>\n",
              "      <th>995</th>\n",
              "      <td>12</td>\n",
              "      <td>1736</td>\n",
              "      <td>3</td>\n",
              "      <td>4</td>\n",
              "      <td>31</td>\n",
              "      <td>1</td>\n",
              "      <td>1</td>\n",
              "      <td>1</td>\n",
              "      <td>0</td>\n",
              "      <td>0</td>\n",
              "      <td>...</td>\n",
              "      <td>0</td>\n",
              "      <td>0</td>\n",
              "      <td>1</td>\n",
              "      <td>0</td>\n",
              "      <td>0</td>\n",
              "      <td>0</td>\n",
              "      <td>0</td>\n",
              "      <td>1</td>\n",
              "      <td>1</td>\n",
              "      <td>0</td>\n",
              "    </tr>\n",
              "    <tr>\n",
              "      <th>996</th>\n",
              "      <td>30</td>\n",
              "      <td>3857</td>\n",
              "      <td>4</td>\n",
              "      <td>4</td>\n",
              "      <td>40</td>\n",
              "      <td>1</td>\n",
              "      <td>1</td>\n",
              "      <td>1</td>\n",
              "      <td>0</td>\n",
              "      <td>0</td>\n",
              "      <td>...</td>\n",
              "      <td>0</td>\n",
              "      <td>0</td>\n",
              "      <td>1</td>\n",
              "      <td>0</td>\n",
              "      <td>1</td>\n",
              "      <td>0</td>\n",
              "      <td>0</td>\n",
              "      <td>0</td>\n",
              "      <td>0</td>\n",
              "      <td>1</td>\n",
              "    </tr>\n",
              "    <tr>\n",
              "      <th>997</th>\n",
              "      <td>12</td>\n",
              "      <td>804</td>\n",
              "      <td>4</td>\n",
              "      <td>4</td>\n",
              "      <td>38</td>\n",
              "      <td>1</td>\n",
              "      <td>1</td>\n",
              "      <td>1</td>\n",
              "      <td>0</td>\n",
              "      <td>0</td>\n",
              "      <td>...</td>\n",
              "      <td>0</td>\n",
              "      <td>0</td>\n",
              "      <td>1</td>\n",
              "      <td>0</td>\n",
              "      <td>0</td>\n",
              "      <td>1</td>\n",
              "      <td>0</td>\n",
              "      <td>0</td>\n",
              "      <td>1</td>\n",
              "      <td>0</td>\n",
              "    </tr>\n",
              "    <tr>\n",
              "      <th>998</th>\n",
              "      <td>45</td>\n",
              "      <td>1845</td>\n",
              "      <td>4</td>\n",
              "      <td>4</td>\n",
              "      <td>0</td>\n",
              "      <td>1</td>\n",
              "      <td>1</td>\n",
              "      <td>1</td>\n",
              "      <td>1</td>\n",
              "      <td>0</td>\n",
              "      <td>...</td>\n",
              "      <td>0</td>\n",
              "      <td>1</td>\n",
              "      <td>0</td>\n",
              "      <td>0</td>\n",
              "      <td>0</td>\n",
              "      <td>1</td>\n",
              "      <td>0</td>\n",
              "      <td>0</td>\n",
              "      <td>0</td>\n",
              "      <td>1</td>\n",
              "    </tr>\n",
              "    <tr>\n",
              "      <th>999</th>\n",
              "      <td>45</td>\n",
              "      <td>4576</td>\n",
              "      <td>3</td>\n",
              "      <td>4</td>\n",
              "      <td>27</td>\n",
              "      <td>1</td>\n",
              "      <td>1</td>\n",
              "      <td>1</td>\n",
              "      <td>0</td>\n",
              "      <td>1</td>\n",
              "      <td>...</td>\n",
              "      <td>0</td>\n",
              "      <td>0</td>\n",
              "      <td>1</td>\n",
              "      <td>0</td>\n",
              "      <td>0</td>\n",
              "      <td>1</td>\n",
              "      <td>0</td>\n",
              "      <td>0</td>\n",
              "      <td>1</td>\n",
              "      <td>0</td>\n",
              "    </tr>\n",
              "  </tbody>\n",
              "</table>\n",
              "<p>1000 rows × 57 columns</p>\n",
              "</div>\n",
              "      <button class=\"colab-df-convert\" onclick=\"convertToInteractive('df-9cc990b0-a346-4d0f-9364-dfd5ba48fa9c')\"\n",
              "              title=\"Convert this dataframe to an interactive table.\"\n",
              "              style=\"display:none;\">\n",
              "        \n",
              "  <svg xmlns=\"http://www.w3.org/2000/svg\" height=\"24px\"viewBox=\"0 0 24 24\"\n",
              "       width=\"24px\">\n",
              "    <path d=\"M0 0h24v24H0V0z\" fill=\"none\"/>\n",
              "    <path d=\"M18.56 5.44l.94 2.06.94-2.06 2.06-.94-2.06-.94-.94-2.06-.94 2.06-2.06.94zm-11 1L8.5 8.5l.94-2.06 2.06-.94-2.06-.94L8.5 2.5l-.94 2.06-2.06.94zm10 10l.94 2.06.94-2.06 2.06-.94-2.06-.94-.94-2.06-.94 2.06-2.06.94z\"/><path d=\"M17.41 7.96l-1.37-1.37c-.4-.4-.92-.59-1.43-.59-.52 0-1.04.2-1.43.59L10.3 9.45l-7.72 7.72c-.78.78-.78 2.05 0 2.83L4 21.41c.39.39.9.59 1.41.59.51 0 1.02-.2 1.41-.59l7.78-7.78 2.81-2.81c.8-.78.8-2.07 0-2.86zM5.41 20L4 18.59l7.72-7.72 1.47 1.35L5.41 20z\"/>\n",
              "  </svg>\n",
              "      </button>\n",
              "      \n",
              "  <style>\n",
              "    .colab-df-container {\n",
              "      display:flex;\n",
              "      flex-wrap:wrap;\n",
              "      gap: 12px;\n",
              "    }\n",
              "\n",
              "    .colab-df-convert {\n",
              "      background-color: #E8F0FE;\n",
              "      border: none;\n",
              "      border-radius: 50%;\n",
              "      cursor: pointer;\n",
              "      display: none;\n",
              "      fill: #1967D2;\n",
              "      height: 32px;\n",
              "      padding: 0 0 0 0;\n",
              "      width: 32px;\n",
              "    }\n",
              "\n",
              "    .colab-df-convert:hover {\n",
              "      background-color: #E2EBFA;\n",
              "      box-shadow: 0px 1px 2px rgba(60, 64, 67, 0.3), 0px 1px 3px 1px rgba(60, 64, 67, 0.15);\n",
              "      fill: #174EA6;\n",
              "    }\n",
              "\n",
              "    [theme=dark] .colab-df-convert {\n",
              "      background-color: #3B4455;\n",
              "      fill: #D2E3FC;\n",
              "    }\n",
              "\n",
              "    [theme=dark] .colab-df-convert:hover {\n",
              "      background-color: #434B5C;\n",
              "      box-shadow: 0px 1px 3px 1px rgba(0, 0, 0, 0.15);\n",
              "      filter: drop-shadow(0px 1px 2px rgba(0, 0, 0, 0.3));\n",
              "      fill: #FFFFFF;\n",
              "    }\n",
              "  </style>\n",
              "\n",
              "      <script>\n",
              "        const buttonEl =\n",
              "          document.querySelector('#df-9cc990b0-a346-4d0f-9364-dfd5ba48fa9c button.colab-df-convert');\n",
              "        buttonEl.style.display =\n",
              "          google.colab.kernel.accessAllowed ? 'block' : 'none';\n",
              "\n",
              "        async function convertToInteractive(key) {\n",
              "          const element = document.querySelector('#df-9cc990b0-a346-4d0f-9364-dfd5ba48fa9c');\n",
              "          const dataTable =\n",
              "            await google.colab.kernel.invokeFunction('convertToInteractive',\n",
              "                                                     [key], {});\n",
              "          if (!dataTable) return;\n",
              "\n",
              "          const docLinkHtml = 'Like what you see? Visit the ' +\n",
              "            '<a target=\"_blank\" href=https://colab.research.google.com/notebooks/data_table.ipynb>data table notebook</a>'\n",
              "            + ' to learn more about interactive tables.';\n",
              "          element.innerHTML = '';\n",
              "          dataTable['output_type'] = 'display_data';\n",
              "          await google.colab.output.renderOutput(dataTable, element);\n",
              "          const docLink = document.createElement('div');\n",
              "          docLink.innerHTML = docLinkHtml;\n",
              "          element.appendChild(docLink);\n",
              "        }\n",
              "      </script>\n",
              "    </div>\n",
              "  </div>\n",
              "  "
            ]
          },
          "metadata": {},
          "execution_count": 11
        }
      ],
      "source": [
        "# list categorical columns...\n",
        "cat_cols =['checking_status', 'purpose', 'credit_history', 'savings_status', 'employment', 'other_parties', 'property_magnitude', 'other_payment_plans','housing','job','own_telephone']\n",
        "\n",
        "# One hot encoding of catagorical variables...\n",
        "df[cat_cols].astype(\"category\")\n",
        "one_hot_encodings = pd.get_dummies(df[cat_cols])\n",
        "\n",
        "#Combine dfs\n",
        "df = pd.concat([df, one_hot_encodings], axis=1)\n",
        "\n",
        "#remove categorical columns...\n",
        "df = df.drop(columns=cat_cols)\n",
        "\n",
        "#Data wrangling..... get types and bad values sorted out\n",
        "\n",
        "# Remove characters in numeric columns (note that the data type was set, by the open_csv function to object, \n",
        "# so we first convert to string before running the replace function (which can only be fun on str types)\n",
        "df['foreign_worker'] = df['foreign_worker'].str.replace('yes', '1')\n",
        "df['foreign_worker'] = df['foreign_worker'].str.replace('no', '0')\n",
        "df['class'] = df['class'].str.replace('good', '0')\n",
        "df['class'] = df['class'].str.replace('bad', '1')\n",
        "\n",
        "# Convert to numerics so we can use in ML... we force type conversions, then print our resulting df.\n",
        "df['foreign_worker'] = pd.to_numeric(df['foreign_worker'], errors ='coerce').fillna(0).astype('int')\n",
        "df['class'] = pd.to_numeric(df['class'], errors ='coerce').fillna(0).astype('int')\n",
        "df['duration'] = pd.to_numeric(df['duration'], errors ='coerce').fillna(0).astype('int')\n",
        "df['installment_commitment'] = pd.to_numeric(df['installment_commitment'], errors ='coerce').fillna(0).astype('int')\n",
        "df['residence_since'] = pd.to_numeric(df['residence_since'], errors ='coerce').fillna(0).astype('int')\n",
        "df['age'] = pd.to_numeric(df['age'], errors ='coerce').fillna(0).astype('int')\n",
        "df['num_dependents'] = pd.to_numeric(df['num_dependents'], errors ='coerce').fillna(0).astype('int')\n",
        "\n",
        "df"
      ]
    },
    {
      "cell_type": "markdown",
      "source": [],
      "metadata": {
        "id": "jCs33N2k8iVd"
      },
      "id": "jCs33N2k8iVd"
    },
    {
      "cell_type": "code",
      "source": [
        "df.columns"
      ],
      "metadata": {
        "id": "wljCC_8z_jL2",
        "colab": {
          "base_uri": "https://localhost:8080/"
        },
        "outputId": "7f69523e-cdc7-4bf7-cf27-eda1e8079fc0"
      },
      "id": "wljCC_8z_jL2",
      "execution_count": null,
      "outputs": [
        {
          "output_type": "execute_result",
          "data": {
            "text/plain": [
              "Index(['duration', 'credit_amount', 'installment_commitment',\n",
              "       'residence_since', 'age', 'existing_credits', 'num_dependents',\n",
              "       'foreign_worker', 'class', 'checking_status_0<=X<200',\n",
              "       'checking_status_<0', 'checking_status_>=200',\n",
              "       'checking_status_no checking', 'purpose_business',\n",
              "       'purpose_domestic appliance', 'purpose_education',\n",
              "       'purpose_furniture/equipment', 'purpose_new car', 'purpose_other',\n",
              "       'purpose_radio/tv', 'purpose_repairs', 'purpose_retraining',\n",
              "       'purpose_used car', 'credit_history_all paid',\n",
              "       'credit_history_critical/other existing credit',\n",
              "       'credit_history_delayed previously', 'credit_history_existing paid',\n",
              "       'credit_history_no credits/all paid', 'savings_status_100<=X<500',\n",
              "       'savings_status_500<=X<1000', 'savings_status_<100',\n",
              "       'savings_status_>=1000', 'savings_status_no known savings',\n",
              "       'employment_1<=X<4', 'employment_4<=X<7', 'employment_<1',\n",
              "       'employment_>=7', 'employment_unemployed', 'other_parties_co applicant',\n",
              "       'other_parties_guarantor', 'other_parties_none',\n",
              "       'property_magnitude_car', 'property_magnitude_life insurance',\n",
              "       'property_magnitude_no known property',\n",
              "       'property_magnitude_real estate', 'other_payment_plans_bank',\n",
              "       'other_payment_plans_none', 'other_payment_plans_stores',\n",
              "       'housing_for free', 'housing_own', 'housing_rent',\n",
              "       'job_high qualif/self emp/mgmt', 'job_skilled',\n",
              "       'job_unemp/unskilled non res', 'job_unskilled resident',\n",
              "       'own_telephone_none', 'own_telephone_yes'],\n",
              "      dtype='object')"
            ]
          },
          "metadata": {},
          "execution_count": 12
        }
      ]
    },
    {
      "cell_type": "code",
      "source": [],
      "metadata": {
        "id": "dk5pDaJUsO1k"
      },
      "id": "dk5pDaJUsO1k",
      "execution_count": null,
      "outputs": []
    },
    {
      "cell_type": "markdown",
      "source": [
        "# Stage3: Model Design \n",
        "Here we run the Classifier and monitor the KPIs"
      ],
      "metadata": {
        "id": "i9Vx9c_4sStE"
      },
      "id": "i9Vx9c_4sStE"
    },
    {
      "cell_type": "code",
      "execution_count": null,
      "id": "c0beacf7",
      "metadata": {
        "colab": {
          "base_uri": "https://localhost:8080/",
          "height": 317
        },
        "id": "c0beacf7",
        "outputId": "7c211fda-e379-4312-d7ff-4791a9526f1c"
      },
      "outputs": [
        {
          "output_type": "stream",
          "name": "stdout",
          "text": [
            "Imbalanced dataset....\n",
            "0    203\n",
            "1    203\n",
            "Name: class, dtype: int64\n"
          ]
        },
        {
          "output_type": "display_data",
          "data": {
            "text/plain": [
              "<Figure size 432x288 with 1 Axes>"
            ],
            "image/png": "[encoded data removed]"
          },
          "metadata": {}
        }
      ],
      "source": [
        "#get pie of the current imbalance\n",
        "temp = pd.concat([X_downsampled, y_downsampled], axis=1)\n",
        "pie_of_imbalance(temp)"
      ]
    },
    {
      "cell_type": "code",
      "execution_count": null,
      "id": "d6de0276",
      "metadata": {
        "colab": {
          "base_uri": "https://localhost:8080/",
          "height": 424
        },
        "id": "d6de0276",
        "outputId": "72ff9d07-cdca-4638-a04e-ce48e0d423b7"
      },
      "outputs": [
        {
          "output_type": "stream",
          "name": "stdout",
          "text": [
            "<class 'sklearn.ensemble._forest.RandomForestClassifier'>\n",
            "Accuracy train: 0.8719, test:  0.6667\n",
            "Precision train: 0.8995, test:  0.8084\n",
            "Recall train: 0.8374, test:  0.6650\n",
            "F1 train: 0.8762, test:  0.5652\n"
          ]
        },
        {
          "output_type": "display_data",
          "data": {
            "text/plain": [
              "<Figure size 432x288 with 2 Axes>"
            ],
            "image/png": "[encoded data removed]"
          },
          "metadata": {
            "needs_background": "light"
          }
        }
      ],
      "source": [
        "#Run our function....\n",
        "model = run_rf_classification_models(X_downsampled, X_test, y_downsampled, y_test)"
      ]
    },
    {
      "cell_type": "markdown",
      "id": "5e6ea491",
      "metadata": {
        "id": "5e6ea491"
      },
      "source": [
        "As we can see, all up and down sampling approaches have outperformed the F1 Score on the imbalanced data. The most impressive performance in this case is from up-sampling using SMOTE synthetic data."
      ]
    },
    {
      "cell_type": "markdown",
      "source": [
        "Dealing Imbalances "
      ],
      "metadata": {
        "id": "y_rn8H2Lqhtc"
      },
      "id": "y_rn8H2Lqhtc"
    },
    {
      "cell_type": "markdown",
      "source": [],
      "metadata": {
        "id": "9yyhH3Y6c4VW"
      },
      "id": "9yyhH3Y6c4VW"
    },
    {
      "cell_type": "markdown",
      "source": [
        "Plot the accuracy of our model for all rows in the data set, plotting accuracy for our protected classes: by male and female credits."
      ],
      "metadata": {
        "id": "kTeGqjnupzwu"
      },
      "id": "kTeGqjnupzwu"
    },
    {
      "cell_type": "markdown",
      "source": [
        "Separate the data into train and test"
      ],
      "metadata": {
        "id": "qZmUmRp52Gv_"
      },
      "id": "qZmUmRp52Gv_"
    },
    {
      "cell_type": "code",
      "source": [
        "# Define X and y variables from scratch\n",
        "cols  = list(df.columns)\n",
        "cols.remove('class')\n",
        "\n",
        "# Contains only numerics\n",
        "X = df[cols]\n",
        "y = df['class']\n",
        "\n",
        "# Add binary variable where male=1, female=0\n",
        "X['gender'] = np.where(df_raw['gender'] == 'female', 1, 0)\n",
        "\n",
        "#Test and train set    \n",
        "X_train, X_test, y_train, y_test = train_test_split(X, y, test_size=0.3, random_state=None)"
      ],
      "metadata": {
        "id": "6HMicv_41B2H"
      },
      "id": "6HMicv_41B2H",
      "execution_count": null,
      "outputs": []
    },
    {
      "cell_type": "markdown",
      "source": [
        "Train our classifier using the SMOTE upsampling"
      ],
      "metadata": {
        "id": "fE4QnGAd2K5F"
      },
      "id": "fE4QnGAd2K5F"
    },
    {
      "cell_type": "code",
      "source": [
        "#How many samples do we need to balance?\n",
        "idx = np.random.choice(X_train.shape[0], size=X_train[y_train == 0].shape[0]-X_train[y_train == 1].shape[0], replace=False)\n",
        "\n",
        "# Generate SMOTE samples and use this to train\n",
        "upsampler_smote = SMOTE()\n",
        "X_upsampled_smote, y_upsampled_smote = upsampler_smote.fit_resample(X_train, y_train)"
      ],
      "metadata": {
        "id": "wWUdyVsZ2E3f"
      },
      "id": "wWUdyVsZ2E3f",
      "execution_count": null,
      "outputs": []
    },
    {
      "cell_type": "markdown",
      "source": [
        "Train the classifier"
      ],
      "metadata": {
        "id": "IG1AZwuL2sgd"
      },
      "id": "IG1AZwuL2sgd"
    },
    {
      "cell_type": "code",
      "source": [
        "#Remove the gender column\n",
        "X_upsampled_smote_exgender = X_upsampled_smote.drop('gender', axis=1)\n",
        "X_test_exgender = X_test.drop('gender', axis=1)\n",
        "\n",
        "#Run our function....\n",
        "model = run_rf_classification_models(X_upsampled_smote_exgender, X_test_exgender, y_upsampled_smote, y_test)"
      ],
      "metadata": {
        "colab": {
          "base_uri": "https://localhost:8080/",
          "height": 424
        },
        "id": "85dGw5XU2rwV",
        "outputId": "1a7c85bc-eb71-4176-ddcc-b4f731df9d37"
      },
      "id": "85dGw5XU2rwV",
      "execution_count": null,
      "outputs": [
        {
          "output_type": "stream",
          "name": "stdout",
          "text": [
            "<class 'sklearn.ensemble._forest.RandomForestClassifier'>\n",
            "Accuracy train: 0.8648, test:  0.7167\n",
            "Precision train: 0.8693, test:  0.8191\n",
            "Recall train: 0.8586, test:  0.7689\n",
            "F1 train: 0.8656, test:  0.5503\n"
          ]
        },
        {
          "output_type": "display_data",
          "data": {
            "text/plain": [
              "<Figure size 432x288 with 2 Axes>"
            ],
            "image/png": "[encoded data removed]"
          },
          "metadata": {
            "needs_background": "light"
          }
        }
      ]
    },
    {
      "cell_type": "markdown",
      "source": [
        "## Finally we check for Protected Characteristics and their Proxies...\n",
        "\n",
        "We noted at the outset that there was a bias between the protected characterisctis of gender, with male and female credits being different, and we removed this protected characteristic from the dataset to avoid this illegal bias in loan approval outcomes.\n",
        "\n",
        "Protected characteristics can be picked up (proxied) in other dataitems in more subtle ways though. For instance given that single parent households tend to disproportionately be led by a female adult, this may make 'num_dependents' a proxy for gender.\n",
        "\n",
        "It is important that we control for any possible protected biases, and one way of achieving this is to retrain our model using a mitigator, which trains by constraining the model weights to produce a balanced outcome between protected classes; male and female credits in this case."
      ],
      "metadata": {
        "id": "LvIWjJXQtAVd"
      },
      "id": "LvIWjJXQtAVd"
    },
    {
      "cell_type": "code",
      "source": [
        "from sklearn.metrics import accuracy_score\n",
        "\n",
        "# Run classifier, in sample\n",
        "y_pred = model.predict(X_test_exgender)\n",
        "\n",
        "# Analyze metrics using MetricFrame\n",
        "metric_frame = MetricFrame(metrics=accuracy_score, y_true=y_test, y_pred=y_pred, sensitive_features=X_test['gender'])\n",
        "metric_frame.by_group.plot.bar(\n",
        "    subplots=True,\n",
        "    layout=[3, 3],\n",
        "    legend=False,\n",
        "    figsize=[12, 8],\n",
        "    title=\"Show all metrics\",\n",
        ")"
      ],
      "metadata": {
        "colab": {
          "base_uri": "https://localhost:8080/",
          "height": 270
        },
        "id": "apn7X0tIfYXe",
        "outputId": "87fdff13-94a6-4c4c-acb4-d3487348a4f3"
      },
      "id": "apn7X0tIfYXe",
      "execution_count": null,
      "outputs": [
        {
          "output_type": "stream",
          "name": "stderr",
          "text": [
            "/usr/local/lib/python3.7/dist-packages/sklearn/base.py:444: UserWarning: X has feature names, but RandomForestClassifier was fitted without feature names\n",
            "  f\"X has feature names, but {self.__class__.__name__} was fitted without\"\n"
          ]
        },
        {
          "output_type": "error",
          "ename": "NameError",
          "evalue": "ignored",
          "traceback": [
            "\u001b[0;31m---------------------------------------------------------------------------\u001b[0m",
            "\u001b[0;31mNameError\u001b[0m                                 Traceback (most recent call last)",
            "\u001b[0;32m<ipython-input-34-4c44fea67996>\u001b[0m in \u001b[0;36m<module>\u001b[0;34m\u001b[0m\n\u001b[1;32m      5\u001b[0m \u001b[0;34m\u001b[0m\u001b[0m\n\u001b[1;32m      6\u001b[0m \u001b[0;31m# Analyze metrics using MetricFrame\u001b[0m\u001b[0;34m\u001b[0m\u001b[0;34m\u001b[0m\u001b[0;34m\u001b[0m\u001b[0m\n\u001b[0;32m----> 7\u001b[0;31m \u001b[0mmetric_frame\u001b[0m \u001b[0;34m=\u001b[0m \u001b[0mMetricFrame\u001b[0m\u001b[0;34m(\u001b[0m\u001b[0mmetrics\u001b[0m\u001b[0;34m=\u001b[0m\u001b[0maccuracy_score\u001b[0m\u001b[0;34m,\u001b[0m \u001b[0my_true\u001b[0m\u001b[0;34m=\u001b[0m\u001b[0my_test\u001b[0m\u001b[0;34m,\u001b[0m \u001b[0my_pred\u001b[0m\u001b[0;34m=\u001b[0m\u001b[0my_pred\u001b[0m\u001b[0;34m,\u001b[0m \u001b[0msensitive_features\u001b[0m\u001b[0;34m=\u001b[0m\u001b[0mX_test\u001b[0m\u001b[0;34m[\u001b[0m\u001b[0;34m'gender'\u001b[0m\u001b[0;34m]\u001b[0m\u001b[0;34m)\u001b[0m\u001b[0;34m\u001b[0m\u001b[0;34m\u001b[0m\u001b[0m\n\u001b[0m\u001b[1;32m      8\u001b[0m metric_frame.by_group.plot.bar(\n\u001b[1;32m      9\u001b[0m     \u001b[0msubplots\u001b[0m\u001b[0;34m=\u001b[0m\u001b[0;32mTrue\u001b[0m\u001b[0;34m,\u001b[0m\u001b[0;34m\u001b[0m\u001b[0;34m\u001b[0m\u001b[0m\n",
            "\u001b[0;31mNameError\u001b[0m: name 'MetricFrame' is not defined"
          ]
        }
      ]
    },
    {
      "cell_type": "markdown",
      "source": [
        "The balance almost equal, this indicates that our model is tending to show now bias based non gender, which indicates that removing the protected dataitem in thefirst place has had a balancing effect on the outcomes. \n",
        "\n",
        "However, we can still explicuitly remove correlated features, and constrain model training to remove bias."
      ],
      "metadata": {
        "id": "6efw9jQlqDse"
      },
      "id": "6efw9jQlqDse"
    },
    {
      "cell_type": "markdown",
      "source": [
        "### Removing features correlated with protected characteristics"
      ],
      "metadata": {
        "id": "wfSaSlGfw66d"
      },
      "id": "wfSaSlGfw66d"
    },
    {
      "cell_type": "code",
      "source": [
        "from fairlearn.reductions import ExponentiatedGradient, DemographicParity\n",
        "from fairlearn.preprocessing import CorrelationRemover\n",
        "from fairlearn.metrics import MetricFrame"
      ],
      "metadata": {
        "id": "7nuZPQqodXFd",
        "colab": {
          "base_uri": "https://localhost:8080/",
          "height": 339
        },
        "outputId": "0352b7a3-cff1-4590-b286-2b28fd3c05c2"
      },
      "id": "7nuZPQqodXFd",
      "execution_count": null,
      "outputs": [
        {
          "output_type": "error",
          "ename": "ModuleNotFoundError",
          "evalue": "ignored",
          "traceback": [
            "\u001b[0;31m---------------------------------------------------------------------------\u001b[0m",
            "\u001b[0;31mModuleNotFoundError\u001b[0m                       Traceback (most recent call last)",
            "\u001b[0;32m<ipython-input-35-3610fe11e157>\u001b[0m in \u001b[0;36m<module>\u001b[0;34m\u001b[0m\n\u001b[0;32m----> 1\u001b[0;31m \u001b[0;32mfrom\u001b[0m \u001b[0mfairlearn\u001b[0m\u001b[0;34m.\u001b[0m\u001b[0mreductions\u001b[0m \u001b[0;32mimport\u001b[0m \u001b[0mExponentiatedGradient\u001b[0m\u001b[0;34m,\u001b[0m \u001b[0mDemographicParity\u001b[0m\u001b[0;34m\u001b[0m\u001b[0;34m\u001b[0m\u001b[0m\n\u001b[0m\u001b[1;32m      2\u001b[0m \u001b[0;32mfrom\u001b[0m \u001b[0mfairlearn\u001b[0m\u001b[0;34m.\u001b[0m\u001b[0mpreprocessing\u001b[0m \u001b[0;32mimport\u001b[0m \u001b[0mCorrelationRemover\u001b[0m\u001b[0;34m\u001b[0m\u001b[0;34m\u001b[0m\u001b[0m\n\u001b[1;32m      3\u001b[0m \u001b[0;32mfrom\u001b[0m \u001b[0mfairlearn\u001b[0m\u001b[0;34m.\u001b[0m\u001b[0mmetrics\u001b[0m \u001b[0;32mimport\u001b[0m \u001b[0mMetricFrame\u001b[0m\u001b[0;34m\u001b[0m\u001b[0;34m\u001b[0m\u001b[0m\n",
            "\u001b[0;31mModuleNotFoundError\u001b[0m: No module named 'fairlearn'",
            "",
            "\u001b[0;31m---------------------------------------------------------------------------\u001b[0;32m\nNOTE: If your import is failing due to a missing package, you can\nmanually install dependencies using either !pip or !apt.\n\nTo view examples of installing some common dependencies, click the\n\"Open Examples\" button below.\n\u001b[0;31m---------------------------------------------------------------------------\u001b[0m\n"
          ],
          "errorDetails": {
            "actions": [
              {
                "action": "open_url",
                "actionText": "Open Examples",
                "url": "/notebooks/snippets/importing_libraries.ipynb"
              }
            ]
          }
        }
      ]
    },
    {
      "cell_type": "code",
      "source": [
        "# List all the columns that are sensitive, supply in a list...\n",
        "cr = CorrelationRemover(sensitive_feature_ids=['gender'])\n",
        "cr.fit(X_upsampled_smote)\n",
        "X_upsampled_smote_cr = cr.transform(X_upsampled_smote)"
      ],
      "metadata": {
        "id": "JaBH-jZFsAlV",
        "colab": {
          "base_uri": "https://localhost:8080/",
          "height": 218
        },
        "outputId": "0f74ce33-eed9-4303-dc13-a92c3601bfd3"
      },
      "id": "JaBH-jZFsAlV",
      "execution_count": null,
      "outputs": [
        {
          "output_type": "error",
          "ename": "NameError",
          "evalue": "ignored",
          "traceback": [
            "\u001b[0;31m---------------------------------------------------------------------------\u001b[0m",
            "\u001b[0;31mNameError\u001b[0m                                 Traceback (most recent call last)",
            "\u001b[0;32m<ipython-input-37-e8a7d29ff5c4>\u001b[0m in \u001b[0;36m<module>\u001b[0;34m\u001b[0m\n\u001b[1;32m      1\u001b[0m \u001b[0;31m# List all the columns that are sensitive, supply in a list...\u001b[0m\u001b[0;34m\u001b[0m\u001b[0;34m\u001b[0m\u001b[0;34m\u001b[0m\u001b[0m\n\u001b[0;32m----> 2\u001b[0;31m \u001b[0mcr\u001b[0m \u001b[0;34m=\u001b[0m \u001b[0mCorrelationRemover\u001b[0m\u001b[0;34m(\u001b[0m\u001b[0msensitive_feature_ids\u001b[0m\u001b[0;34m=\u001b[0m\u001b[0;34m[\u001b[0m\u001b[0;34m'gender'\u001b[0m\u001b[0;34m]\u001b[0m\u001b[0;34m)\u001b[0m\u001b[0;34m\u001b[0m\u001b[0;34m\u001b[0m\u001b[0m\n\u001b[0m\u001b[1;32m      3\u001b[0m \u001b[0mcr\u001b[0m\u001b[0;34m.\u001b[0m\u001b[0mfit\u001b[0m\u001b[0;34m(\u001b[0m\u001b[0mX_upsampled_smote\u001b[0m\u001b[0;34m)\u001b[0m\u001b[0;34m\u001b[0m\u001b[0;34m\u001b[0m\u001b[0m\n\u001b[1;32m      4\u001b[0m \u001b[0mX_upsampled_smote_cr\u001b[0m \u001b[0;34m=\u001b[0m \u001b[0mcr\u001b[0m\u001b[0;34m.\u001b[0m\u001b[0mtransform\u001b[0m\u001b[0;34m(\u001b[0m\u001b[0mX_upsampled_smote\u001b[0m\u001b[0;34m)\u001b[0m\u001b[0;34m\u001b[0m\u001b[0;34m\u001b[0m\u001b[0m\n",
            "\u001b[0;31mNameError\u001b[0m: name 'CorrelationRemover' is not defined"
          ]
        }
      ]
    },
    {
      "cell_type": "code",
      "source": [
        "# We set the balance in the population so we do not under or over-represent males or females...\n",
        "constraint = DemographicParity(ratio_bound=0.5)\n",
        "\n",
        "mitigator = ExponentiatedGradient(model, constraint)\n",
        "mitigator.fit(X_upsampled_smote_cr, y_train, sensitive_features=['gender'])\n",
        "y_pred_mitigated = mitigator.predict(X_test_exgender)\n",
        "\n",
        "sr_mitigated = MetricFrame(metrics=accuracy_score, y_true=y_test, y_pred=y_pred_mitigated, sensitive_features=X_upsampled_smote['gender'])\n",
        "print(sr_mitigated.overall)\n",
        "print(sr_mitigated.by_group)"
      ],
      "metadata": {
        "id": "lHoBhbgGNWx-",
        "colab": {
          "base_uri": "https://localhost:8080/",
          "height": 235
        },
        "outputId": "204314bf-7949-420d-f41c-8cefdee8b3e0"
      },
      "id": "lHoBhbgGNWx-",
      "execution_count": null,
      "outputs": [
        {
          "output_type": "error",
          "ename": "NameError",
          "evalue": "ignored",
          "traceback": [
            "\u001b[0;31m---------------------------------------------------------------------------\u001b[0m",
            "\u001b[0;31mNameError\u001b[0m                                 Traceback (most recent call last)",
            "\u001b[0;32m<ipython-input-38-f637d020a068>\u001b[0m in \u001b[0;36m<module>\u001b[0;34m\u001b[0m\n\u001b[1;32m      1\u001b[0m \u001b[0;31m# We set the balance in the population so we do not under or over-represent males or females...\u001b[0m\u001b[0;34m\u001b[0m\u001b[0;34m\u001b[0m\u001b[0;34m\u001b[0m\u001b[0m\n\u001b[0;32m----> 2\u001b[0;31m \u001b[0mconstraint\u001b[0m \u001b[0;34m=\u001b[0m \u001b[0mDemographicParity\u001b[0m\u001b[0;34m(\u001b[0m\u001b[0mratio_bound\u001b[0m\u001b[0;34m=\u001b[0m\u001b[0;36m0.5\u001b[0m\u001b[0;34m)\u001b[0m\u001b[0;34m\u001b[0m\u001b[0;34m\u001b[0m\u001b[0m\n\u001b[0m\u001b[1;32m      3\u001b[0m \u001b[0;34m\u001b[0m\u001b[0m\n\u001b[1;32m      4\u001b[0m \u001b[0mmitigator\u001b[0m \u001b[0;34m=\u001b[0m \u001b[0mExponentiatedGradient\u001b[0m\u001b[0;34m(\u001b[0m\u001b[0mmodel\u001b[0m\u001b[0;34m,\u001b[0m \u001b[0mconstraint\u001b[0m\u001b[0;34m)\u001b[0m\u001b[0;34m\u001b[0m\u001b[0;34m\u001b[0m\u001b[0m\n\u001b[1;32m      5\u001b[0m \u001b[0mmitigator\u001b[0m\u001b[0;34m.\u001b[0m\u001b[0mfit\u001b[0m\u001b[0;34m(\u001b[0m\u001b[0mX_upsampled_smote_cr\u001b[0m\u001b[0;34m,\u001b[0m \u001b[0my_train\u001b[0m\u001b[0;34m,\u001b[0m \u001b[0msensitive_features\u001b[0m\u001b[0;34m=\u001b[0m\u001b[0;34m[\u001b[0m\u001b[0;34m'gender'\u001b[0m\u001b[0;34m]\u001b[0m\u001b[0;34m)\u001b[0m\u001b[0;34m\u001b[0m\u001b[0;34m\u001b[0m\u001b[0m\n",
            "\u001b[0;31mNameError\u001b[0m: name 'DemographicParity' is not defined"
          ]
        }
      ]
    },
    {
      "cell_type": "markdown",
      "source": [
        "Let us inspect the results between the \"fair\" model outcomes and the potentially biased...."
      ],
      "metadata": {
        "id": "cVV8YHYuwfRU"
      },
      "id": "cVV8YHYuwfRU"
    },
    {
      "cell_type": "code",
      "source": [
        "\n",
        "#Print confusion matrix...\n",
        "cf_matrix = confusion_matrix(y, y_pred_mitigated, labels=[0, 1]) \n",
        "cf_matrix_norm = cf_matrix.astype('float') # / cf_matrix.sum(axis=1)[:, np.newaxis]\n",
        "\n",
        "ax = sns.heatmap(cf_matrix_norm, annot=True, cmap='Reds', fmt='g')\n",
        "ax.set_title('Confusion Matrix Bias Mitigated\\n\\n');\n",
        "ax.set_xlabel('\\nPredicted Values')\n",
        "ax.set_ylabel('Actual Values ');\n",
        "plt.show()\n",
        "\n",
        "print(f\"F1 full dataset: {f1_score(y, y_pred_mitigated, average=None)[1]:.4f}\")\n",
        "  \n",
        "# Analyze metrics using MetricFrame\n",
        "metric_frame = MetricFrame(metrics=accuracy_score, y_true=y, y_pred=y_pred_mitigated, sensitive_features=df_raw['gender'])\n",
        "metric_frame.by_group.plot.bar(\n",
        "    subplots=True,\n",
        "    layout=[3, 3],\n",
        "    legend=False,\n",
        "    figsize=[12, 8],\n",
        "    title=\"Show all metrics\",\n",
        ")"
      ],
      "metadata": {
        "id": "CW7SaIErqgQ1",
        "colab": {
          "base_uri": "https://localhost:8080/",
          "height": 235
        },
        "outputId": "5b26eaff-fb51-4875-c058-df8594c495ff"
      },
      "id": "CW7SaIErqgQ1",
      "execution_count": null,
      "outputs": [
        {
          "output_type": "error",
          "ename": "NameError",
          "evalue": "ignored",
          "traceback": [
            "\u001b[0;31m---------------------------------------------------------------------------\u001b[0m",
            "\u001b[0;31mNameError\u001b[0m                                 Traceback (most recent call last)",
            "\u001b[0;32m<ipython-input-39-9e40a9c65fa5>\u001b[0m in \u001b[0;36m<module>\u001b[0;34m\u001b[0m\n\u001b[1;32m      1\u001b[0m \u001b[0;31m#Print confusion matrix...\u001b[0m\u001b[0;34m\u001b[0m\u001b[0;34m\u001b[0m\u001b[0;34m\u001b[0m\u001b[0m\n\u001b[0;32m----> 2\u001b[0;31m \u001b[0mcf_matrix\u001b[0m \u001b[0;34m=\u001b[0m \u001b[0mconfusion_matrix\u001b[0m\u001b[0;34m(\u001b[0m\u001b[0my\u001b[0m\u001b[0;34m,\u001b[0m \u001b[0my_pred_mitigated\u001b[0m\u001b[0;34m,\u001b[0m \u001b[0mlabels\u001b[0m\u001b[0;34m=\u001b[0m\u001b[0;34m[\u001b[0m\u001b[0;36m0\u001b[0m\u001b[0;34m,\u001b[0m \u001b[0;36m1\u001b[0m\u001b[0;34m]\u001b[0m\u001b[0;34m)\u001b[0m\u001b[0;34m\u001b[0m\u001b[0;34m\u001b[0m\u001b[0m\n\u001b[0m\u001b[1;32m      3\u001b[0m \u001b[0mcf_matrix_norm\u001b[0m \u001b[0;34m=\u001b[0m \u001b[0mcf_matrix\u001b[0m\u001b[0;34m.\u001b[0m\u001b[0mastype\u001b[0m\u001b[0;34m(\u001b[0m\u001b[0;34m'float'\u001b[0m\u001b[0;34m)\u001b[0m \u001b[0;31m# / cf_matrix.sum(axis=1)[:, np.newaxis]\u001b[0m\u001b[0;34m\u001b[0m\u001b[0;34m\u001b[0m\u001b[0m\n\u001b[1;32m      4\u001b[0m \u001b[0;34m\u001b[0m\u001b[0m\n\u001b[1;32m      5\u001b[0m \u001b[0max\u001b[0m \u001b[0;34m=\u001b[0m \u001b[0msns\u001b[0m\u001b[0;34m.\u001b[0m\u001b[0mheatmap\u001b[0m\u001b[0;34m(\u001b[0m\u001b[0mcf_matrix_norm\u001b[0m\u001b[0;34m,\u001b[0m \u001b[0mannot\u001b[0m\u001b[0;34m=\u001b[0m\u001b[0;32mTrue\u001b[0m\u001b[0;34m,\u001b[0m \u001b[0mcmap\u001b[0m\u001b[0;34m=\u001b[0m\u001b[0;34m'Reds'\u001b[0m\u001b[0;34m,\u001b[0m \u001b[0mfmt\u001b[0m\u001b[0;34m=\u001b[0m\u001b[0;34m'g'\u001b[0m\u001b[0;34m)\u001b[0m\u001b[0;34m\u001b[0m\u001b[0;34m\u001b[0m\u001b[0m\n",
            "\u001b[0;31mNameError\u001b[0m: name 'y_pred_mitigated' is not defined"
          ]
        }
      ]
    },
    {
      "cell_type": "code",
      "source": [
        "#Print confusion matrix... for the unmitigated classifer...\n",
        "cf_matrix = confusion_matrix(y, y_pred, labels=[0, 1]) \n",
        "cf_matrix_norm = cf_matrix.astype('float') # / cf_matrix.sum(axis=1)[:, np.newaxis]\n",
        "\n",
        "ax = sns.heatmap(cf_matrix_norm, annot=True, cmap='Blues', fmt='g')\n",
        "ax.set_title('Confusion Matrix Non-Mitigated\\n\\n');\n",
        "ax.set_xlabel('\\nPredicted Values')\n",
        "ax.set_ylabel('Actual Values ');\n",
        "plt.show()\n",
        "\n",
        "print(f\"F1 full dataset: {f1_score(y, y_pred, average=None)[1]:.4f}\")\n",
        "\n",
        "\n",
        "# Analyze metrics using MetricFrame\n",
        "metric_frame = MetricFrame(metrics=accuracy_score, y_true=y, y_pred=y_pred, sensitive_features=df_raw['gender'])\n",
        "metric_frame.by_group.plot.bar(\n",
        "    subplots=True,\n",
        "    layout=[3, 3],\n",
        "    legend=False,\n",
        "    figsize=[12, 8],\n",
        "    title=\"Show all metrics\",\n",
        ")"
      ],
      "metadata": {
        "id": "fyHNuQeXqt12"
      },
      "id": "fyHNuQeXqt12",
      "execution_count": null,
      "outputs": []
    },
    {
      "cell_type": "markdown",
      "source": [
        "## Availability heuristic/recency biases? Have we use the correct classifier...?\n",
        "\n",
        "Using a familiar classifier has its advantages, but differet learners have different inductive biases, and strengths and weaknesses. \n",
        "We can create a cross valdation dataset, split from the training data to help us assess different classsifiers...\n",
        "\n",
        "We need to make a new separation in the training dataset, for a cross-validation\n",
        "set. This dataset will be used to test the choice of different classifiers after we have used the training data to train them, allowing us to test the classifiers out of sample using the test data."
      ],
      "metadata": {
        "id": "YWB175CoQICD"
      },
      "id": "YWB175CoQICD"
    },
    {
      "cell_type": "code",
      "source": [
        "#Test and train set    \n",
        "X_train_cv, X_cv, y_train_cv, y_cv = train_test_split(X_train, y_train, test_size=0.3, random_state=None)"
      ],
      "metadata": {
        "id": "tUbobdmKR9Or"
      },
      "id": "tUbobdmKR9Or",
      "execution_count": null,
      "outputs": []
    },
    {
      "cell_type": "markdown",
      "source": [
        "Sklean provides many different classifeirs and we will be testing each accuracy on our problem."
      ],
      "metadata": {
        "id": "5SUdXN-jhrza"
      },
      "id": "5SUdXN-jhrza"
    },
    {
      "cell_type": "code",
      "source": [
        "from sklearn.preprocessing import StandardScaler\n",
        "\n",
        "from sklearn.linear_model import LogisticRegression \n",
        "from sklearn.naive_bayes import GaussianNB\n",
        "from sklearn.neural_network import MLPClassifier \n",
        "from sklearn.ensemble import RandomForestClassifier\n",
        "from sklearn.tree import DecisionTreeClassifier\n",
        "from sklearn.discriminant_analysis import LinearDiscriminantAnalysis"
      ],
      "metadata": {
        "id": "G3Dro5K_QkgZ"
      },
      "id": "G3Dro5K_QkgZ",
      "execution_count": null,
      "outputs": []
    },
    {
      "cell_type": "markdown",
      "source": [
        "Now build a function that trains a number of different classifiers and the one with the best accuracy on the cross-validation data, we will select as the \"best\"."
      ],
      "metadata": {
        "id": "JElvKh2qh75k"
      },
      "id": "JElvKh2qh75k"
    },
    {
      "cell_type": "code",
      "source": [
        "from sklearn.metrics import f1_score\n",
        "from sklearn.metrics import precision_score\n",
        "from sklearn.metrics import recall_score\n",
        "from imblearn.over_sampling import SMOTE\n",
        "\n",
        "#Func to wrap up running these selected classification learners...\n",
        "# NOTE: to test the performance of the learners out-of-sample, we should use a cross-validation dataset\n",
        "# this is a hold back dataset and we will use our testing data to do this, in this case. \n",
        "def auto_classifier_selection(X_train: pd.DataFrame, X_cross_validation: pd.DataFrame, \n",
        "                            y_train: pd.DataFrame, y_cross_validation: pd.DataFrame) -> (list, list):\n",
        "    \n",
        "    #Balance training data....\n",
        "    # Generate SMOTE samples and use this to train\n",
        "    upsampler_smote = SMOTE()\n",
        "    X_upsampled_smote, y_upsampled_smote = upsampler_smote.fit_resample(X_train, y_train)\n",
        "\n",
        "    sclr = StandardScaler()\n",
        "    sclr.fit(X_train) # scale to 0 mean and std dev 1 on training data\n",
        "\n",
        "    X_train = sclr.fit_transform(X_upsampled_smote) # scale both sets:\n",
        "    X_cross_validation = sclr.fit_transform(X_cross_validation)\n",
        "    \n",
        "    #Run only rf? Or all?\n",
        "    dtc = DecisionTreeClassifier(max_depth=5) #If we allow endless depth we overfit\n",
        "    gnb = GaussianNB()\n",
        "    lr = LogisticRegression(max_iter=2000,random_state=0)\n",
        "    mlp = MLPClassifier(max_iter=2000,random_state=1, early_stopping=True) # MLP will tend to overfit unless we stop early   \n",
        "    rf = RandomForestClassifier(max_depth=3,random_state=0)\n",
        "    lda = LinearDiscriminantAnalysis()\n",
        "    \n",
        "    all_mdls = [lda] #[dtc,gnb,lr,mlp,rf, lda]\n",
        "    \n",
        "    #Find the best\n",
        "    max_f1 = 0\n",
        "    for mdl in all_mdls:\n",
        "        #Fit model\n",
        "        mdl.fit(X_upsampled_smote,y_upsampled_smote)\n",
        "        y_train_hat = mdl.predict(X_upsampled_smote)\n",
        "        y_cross_validation_hat = mdl.predict(X_cross_validation)       \n",
        "        mdl.predict_proba(X_cross_validation)\n",
        "\n",
        "        # Output model selection information....\n",
        "        print(mdl)\n",
        "        print(f\"F1 train: {f1_score(y_upsampled_smote, y_train_hat, average=None)[1]:.4f}, cross-valitaion: \",\n",
        "        f\"{f1_score(y_cross_validation,y_cross_validation_hat, average=None)[1]:.4f}\")\n",
        "        \n",
        "        #F1...\n",
        "        this_f1 = f1_score(y_upsampled_smote,y_train_hat, average=None)[1]\n",
        "        if this_f1 > max_f1:\n",
        "            max_f1 = this_f1\n",
        "            max_mdl = mdl\n",
        "        \n",
        "    # The best....\n",
        "    #Fit...\n",
        "    max_mdl.fit(X_upsampled_smote,y_upsampled_smote)\n",
        "    y_train_hat = max_mdl.predict(X_upsampled_smote)\n",
        "    y_cross_validation_hat = max_mdl.predict(X_cross_validation)\n",
        "    \n",
        "    #    Print score\n",
        "    print('\\nWinner\\n', type(max_mdl))        \n",
        "    print(f\"Accuracy train: {max_mdl.score(X_train,y_upsampled_smote):.4f}, cross-validation: \",\n",
        "      f\"{max_mdl.score(X_cross_validation,y_cross_validation):.4f}\")\n",
        "    print(f\"Precision train: {precision_score(y_upsampled_smote, y_train_hat, average=None)[0]:.4f}, cross-validation: \",\n",
        "      f\"{precision_score(y_cross_validation,y_cross_validation_hat, average=None)[0]:.4f}\")\n",
        "    print(f\"Recall train: {recall_score(y_upsampled_smote, y_train_hat, average=None)[0]:.4f}, cross-validation: \",\n",
        "      f\"{recall_score(y_cross_validation,y_cross_validation_hat, average=None)[0]:.4f}\")\n",
        "    print(f\"F1 train: {f1_score(y_upsampled_smote, y_train_hat, average=None)[1]:.4f}, cross-validation: \",\n",
        "      f\"{f1_score(y_cross_validation,y_cross_validation_hat, average=None)[1]:.4f}\")\n",
        "        \n",
        "    #Print confusion matrix...\n",
        "    cf_matrix = confusion_matrix(y_cross_validation, y_cross_validation_hat, labels=[0, 1]) \n",
        "    cf_matrix_norm = cf_matrix.astype('float')\n",
        "\n",
        "    ax = sns.heatmap(cf_matrix_norm, annot=True, cmap='Blues', fmt='g')\n",
        "    ax.set_title('Confusion Matrix\\n\\n');\n",
        "    ax.set_xlabel('\\nPredicted Values')\n",
        "    ax.set_ylabel('Actual Values ');\n",
        "    plt.show()\n",
        "    \n",
        "    return max_mdl, all_mdls\n",
        "\n",
        "# Run our function....autoselect the best classifier wrt F1\n",
        "max_mdl, all_models = auto_classifier_selection(X_train_cv, X_cv, y_train_cv, y_cv)\n",
        "\n",
        "# Predict\n",
        "y_test_hat = max_mdl.predict(X_test)"
      ],
      "metadata": {
        "colab": {
          "base_uri": "https://localhost:8080/",
          "height": 580
        },
        "id": "cyji4ydlQTVZ",
        "outputId": "610c6d9f-808c-4305-86a2-80323344c970"
      },
      "id": "cyji4ydlQTVZ",
      "execution_count": null,
      "outputs": [
        {
          "output_type": "stream",
          "name": "stderr",
          "text": [
            "X does not have valid feature names, but LinearDiscriminantAnalysis was fitted with feature names\n",
            "X does not have valid feature names, but LinearDiscriminantAnalysis was fitted with feature names\n",
            "X does not have valid feature names, but LinearDiscriminantAnalysis was fitted with feature names\n",
            "X does not have valid feature names, but LinearDiscriminantAnalysis was fitted with feature names\n",
            "X does not have valid feature names, but LinearDiscriminantAnalysis was fitted with feature names\n"
          ]
        },
        {
          "output_type": "stream",
          "name": "stdout",
          "text": [
            "LinearDiscriminantAnalysis()\n",
            "F1 train: 0.8536, cross-valitaion:  0.4779\n",
            "\n",
            "Winner\n",
            " <class 'sklearn.discriminant_analysis.LinearDiscriminantAnalysis'>\n",
            "Accuracy train: 0.7794, cross-validation:  0.4381\n",
            "Precision train: 0.8302, cross-validation:  0.8261\n",
            "Recall train: 0.9059, cross-validation:  0.2568\n",
            "F1 train: 0.8536, cross-validation:  0.4779\n"
          ]
        },
        {
          "output_type": "display_data",
          "data": {
            "text/plain": [
              "<Figure size 432x288 with 2 Axes>"
            ],
            "image/png": "[encoded data removed]"
          },
          "metadata": {
            "needs_background": "light"
          }
        }
      ]
    },
    {
      "cell_type": "markdown",
      "source": [
        "# Stage4: Model Deployment \n",
        "\n",
        "Model deployment generally involves a change process, several levels of testing and sign off, asignment of responsibilities for the live operation of the process, models and data before deployiong the code to the cloud (or on native hardware). \n",
        "A key part of thius stage is communication of the KPIs to stakleholders to enable them to understand the way the models operate, the risks involved and to be accountable for deploying the models\n"
      ],
      "metadata": {
        "id": "0LFyHIAP59O7"
      },
      "id": "0LFyHIAP59O7"
    },
    {
      "cell_type": "markdown",
      "source": [
        "## Communication: Stakeholder Oriented Explanations\n",
        "\n",
        "Communication of how the model has reached the outcomes it is has, is crutial to achieve fairness, transparency, accountability, and trust in the whole process. Each stakeholder in the process needs to see different elements. The Data Scientist and technical leadership need to review the nut and bolts of the model, reviewing residuals plots, parameter importance, interaction terms and many other metrics. The customer needs to see far less information, and mainly that associated with a refusal of credit. Compliance resources and regulators need to see something different again, such as fairness regarding protected characteristics, the accuracy and therefore capital risk represented by the models. \n",
        "In this section we look at stakeholder oriented explanations and we will be using standard charts of important analytics, such as residual plots, and SHAP.\n",
        "\n",
        "First let us get the packages we will need..."
      ],
      "metadata": {
        "id": "JZGI4nBO0HlI"
      },
      "id": "JZGI4nBO0HlI"
    },
    {
      "cell_type": "code",
      "source": [
        "pip install shap"
      ],
      "metadata": {
        "colab": {
          "base_uri": "https://localhost:8080/"
        },
        "id": "4dWv02uvQWyd",
        "outputId": "aa687131-5ce8-4a6c-d2da-1c9fd144b4cf"
      },
      "id": "4dWv02uvQWyd",
      "execution_count": null,
      "outputs": [
        {
          "output_type": "stream",
          "name": "stdout",
          "text": [
            "Looking in indexes: https://pypi.org/simple, https://us-python.pkg.dev/colab-wheels/public/simple/\n",
            "Collecting shap\n",
            "  Downloading shap-0.41.0-cp37-cp37m-manylinux_2_12_x86_64.manylinux2010_x86_64.whl (569 kB)\n",
            "\u001b[K     |████████████████████████████████| 569 kB 5.1 MB/s \n",
            "\u001b[?25hCollecting slicer==0.0.7\n",
            "  Downloading slicer-0.0.7-py3-none-any.whl (14 kB)\n",
            "Requirement already satisfied: numba in /usr/local/lib/python3.7/dist-packages (from shap) (0.56.3)\n",
            "Requirement already satisfied: pandas in /usr/local/lib/python3.7/dist-packages (from shap) (1.3.5)\n",
            "Requirement already satisfied: packaging>20.9 in /usr/local/lib/python3.7/dist-packages (from shap) (21.3)\n",
            "Requirement already satisfied: numpy in /usr/local/lib/python3.7/dist-packages (from shap) (1.21.6)\n",
            "Requirement already satisfied: tqdm>4.25.0 in /usr/local/lib/python3.7/dist-packages (from shap) (4.64.1)\n",
            "Requirement already satisfied: cloudpickle in /usr/local/lib/python3.7/dist-packages (from shap) (1.5.0)\n",
            "Requirement already satisfied: scipy in /usr/local/lib/python3.7/dist-packages (from shap) (1.7.3)\n",
            "Requirement already satisfied: scikit-learn in /usr/local/lib/python3.7/dist-packages (from shap) (1.0.2)\n",
            "Requirement already satisfied: pyparsing!=3.0.5,>=2.0.2 in /usr/local/lib/python3.7/dist-packages (from packaging>20.9->shap) (3.0.9)\n",
            "Requirement already satisfied: setuptools in /usr/local/lib/python3.7/dist-packages (from numba->shap) (57.4.0)\n",
            "Requirement already satisfied: llvmlite<0.40,>=0.39.0dev0 in /usr/local/lib/python3.7/dist-packages (from numba->shap) (0.39.1)\n",
            "Requirement already satisfied: importlib-metadata in /usr/local/lib/python3.7/dist-packages (from numba->shap) (4.13.0)\n",
            "Requirement already satisfied: typing-extensions>=3.6.4 in /usr/local/lib/python3.7/dist-packages (from importlib-metadata->numba->shap) (4.1.1)\n",
            "Requirement already satisfied: zipp>=0.5 in /usr/local/lib/python3.7/dist-packages (from importlib-metadata->numba->shap) (3.9.0)\n",
            "Requirement already satisfied: pytz>=2017.3 in /usr/local/lib/python3.7/dist-packages (from pandas->shap) (2022.4)\n",
            "Requirement already satisfied: python-dateutil>=2.7.3 in /usr/local/lib/python3.7/dist-packages (from pandas->shap) (2.8.2)\n",
            "Requirement already satisfied: six>=1.5 in /usr/local/lib/python3.7/dist-packages (from python-dateutil>=2.7.3->pandas->shap) (1.15.0)\n",
            "Requirement already satisfied: joblib>=0.11 in /usr/local/lib/python3.7/dist-packages (from scikit-learn->shap) (1.2.0)\n",
            "Requirement already satisfied: threadpoolctl>=2.0.0 in /usr/local/lib/python3.7/dist-packages (from scikit-learn->shap) (3.1.0)\n",
            "Installing collected packages: slicer, shap\n",
            "Successfully installed shap-0.41.0 slicer-0.0.7\n"
          ]
        }
      ]
    },
    {
      "cell_type": "code",
      "source": [
        "import shap"
      ],
      "metadata": {
        "id": "Nx16rPvNQdrZ"
      },
      "id": "Nx16rPvNQdrZ",
      "execution_count": null,
      "outputs": []
    },
    {
      "cell_type": "markdown",
      "source": [
        "Now instantiate the SHAP explainer object for our classifier and generate Shapley values for the test data... Note that as we will be using the test data, all the analysis is therefore based on the out of sample performance of our model."
      ],
      "metadata": {
        "id": "Ku_I-kcG8bpR"
      },
      "id": "Ku_I-kcG8bpR"
    },
    {
      "cell_type": "code",
      "source": [
        "print(type(max_mdl).__name__)\n",
        "\n",
        "# Instantiate an explainer object for our chosen classifier...\n",
        "if type(max_mdl).__name__ == 'DecisionTreeClassifier':\n",
        "  explainer = shap.Explainer(max_mdl)\n",
        "elif type(max_mdl).__name__ == 'GaussianNB':\n",
        "  masker=shap.maskers.Impute(data=X_test) #,feature_names=X_test.columns)\n",
        "elif type(max_mdl).__name__ == 'LogisticRegression':\n",
        "  masker=shap.maskers.Impute(data=X_test) #,feature_names=X_test.columns)\n",
        "elif type(max_mdl).__name__ == 'MLPClassifier':\n",
        "  masker=shap.maskers.Impute(data=X_test) #,feature_names=X_test.columns)\n",
        "elif type(max_mdl).__name__ == 'RandomForestClassifier':\n",
        "  explainer = shap.Explainer(max_mdl)\n",
        "elif type(max_mdl).__name__ == 'LinearDiscriminantAnalysis':\n",
        "  masker = shap.maskers.Independent(data = X_test)\n",
        "  explainer = shap.LinearExplainer(max_mdl, masker = masker)\n",
        "\n",
        "# Get the Shapley values for the X_test data...\n",
        "shap_values = explainer(X_test)"
      ],
      "metadata": {
        "colab": {
          "base_uri": "https://localhost:8080/"
        },
        "id": "_xCoD7kw6r0b",
        "outputId": "26fcab34-ba35-40ba-b987-cd00963ca5f9"
      },
      "id": "_xCoD7kw6r0b",
      "execution_count": null,
      "outputs": [
        {
          "output_type": "stream",
          "name": "stdout",
          "text": [
            "LinearDiscriminantAnalysis\n"
          ]
        }
      ]
    },
    {
      "cell_type": "markdown",
      "source": [
        "## 1. Analyst and technical explainability"
      ],
      "metadata": {
        "id": "bdMhCBHMFf4v"
      },
      "id": "bdMhCBHMFf4v"
    },
    {
      "cell_type": "code",
      "source": [
        "import sklearn.metrics as metrics\n",
        "\n",
        "# Compute micro-average ROC curve and ROC area\n",
        "metrics.plot_roc_curve(max_mdl, X_test, y_test) \n",
        "\n",
        "fpr, tpr, thresholds = metrics.roc_curve(y_test, y_test_hat)\n",
        "roc_auc = metrics.auc(fpr, tpr)\n",
        "display = metrics.RocCurveDisplay(fpr=fpr, tpr=tpr, roc_auc=roc_auc,\n",
        "                                  estimator_name='example estimator')\n",
        "display.plot()\n",
        "\n",
        "plt.show()"
      ],
      "metadata": {
        "id": "fPlSWba2dSoo",
        "outputId": "bad9d741-baf7-41c5-cd33-da9e7839a29e",
        "colab": {
          "base_uri": "https://localhost:8080/",
          "height": 578
        }
      },
      "id": "fPlSWba2dSoo",
      "execution_count": null,
      "outputs": [
        {
          "output_type": "stream",
          "name": "stderr",
          "text": [
            "Function plot_roc_curve is deprecated; Function :func:`plot_roc_curve` is deprecated in 1.0 and will be removed in 1.2. Use one of the class methods: :meth:`sklearn.metric.RocCurveDisplay.from_predictions` or :meth:`sklearn.metric.RocCurveDisplay.from_estimator`.\n"
          ]
        },
        {
          "output_type": "display_data",
          "data": {
            "text/plain": [
              "<Figure size 432x288 with 1 Axes>"
            ],
            "image/png": "[encoded data removed]"
          },
          "metadata": {
            "needs_background": "light"
          }
        },
        {
          "output_type": "display_data",
          "data": {
            "text/plain": [
              "<Figure size 432x288 with 1 Axes>"
            ],
            "image/png": "[encoded data removed]"
          },
          "metadata": {
            "needs_background": "light"
          }
        }
      ]
    },
    {
      "cell_type": "markdown",
      "source": [
        "Feature importance"
      ],
      "metadata": {
        "id": "8u7btmtyFKNn"
      },
      "id": "8u7btmtyFKNn"
    },
    {
      "cell_type": "code",
      "source": [
        "# Plot the feature importance\n",
        "shap.plots.bar(shap_values, max_display=30)"
      ],
      "metadata": {
        "id": "NfwlscWzExPQ",
        "outputId": "b2d28e8c-ed77-4449-ee42-12bf85ad4b47",
        "colab": {
          "base_uri": "https://localhost:8080/",
          "height": 962
        }
      },
      "id": "NfwlscWzExPQ",
      "execution_count": null,
      "outputs": [
        {
          "output_type": "display_data",
          "data": {
            "text/plain": [
              "<Figure size 576x1188 with 1 Axes>"
            ],
            "image/png": "[encoded data removed]"
          },
          "metadata": {}
        }
      ]
    },
    {
      "cell_type": "markdown",
      "source": [
        "## 2. Compliance and Regulatory\n",
        "\n"
      ],
      "metadata": {
        "id": "ce1fcWInh48Q"
      },
      "id": "ce1fcWInh48Q"
    },
    {
      "cell_type": "markdown",
      "source": [
        "See if any features are suspiciously important for one gender vs another."
      ],
      "metadata": {
        "id": "fxV86fMFKX7r"
      },
      "id": "fxV86fMFKX7r"
    },
    {
      "cell_type": "code",
      "source": [
        "# Parameter importance by gender..\n",
        "gdr = [\"male\" if x==1 else \"female\" for x in X_test['gender']]\n",
        "\n",
        "# Plot the feature importance\n",
        "shap.plots.bar(shap_values.cohorts(gdr).abs.mean(0))"
      ],
      "metadata": {
        "colab": {
          "base_uri": "https://localhost:8080/",
          "height": 531
        },
        "id": "nqJGtpmu1nig",
        "outputId": "25a946bf-6fa1-4938-bffb-4617e1365faf"
      },
      "id": "nqJGtpmu1nig",
      "execution_count": null,
      "outputs": [
        {
          "output_type": "display_data",
          "data": {
            "text/plain": [
              "<Figure size 576x617.117 with 1 Axes>"
            ],
            "image/png": "[encoded data removed]"
          },
          "metadata": {}
        }
      ]
    },
    {
      "cell_type": "markdown",
      "source": [],
      "metadata": {
        "id": "5MGWlux3KvFy"
      },
      "id": "5MGWlux3KvFy"
    },
    {
      "cell_type": "markdown",
      "source": [
        "## 3. Customer\n",
        "\n",
        "A customer may want to knowlt he sensitivity of the decision to certain characteristics. IF a refusal has been made, it would be beneficial to report to the customer what they need to change to get a favorable outcome. \n",
        "\n",
        "We can use the SHAP waterfall plot to help"
      ],
      "metadata": {
        "id": "De8c3JUdKvtR"
      },
      "id": "De8c3JUdKvtR"
    },
    {
      "cell_type": "code",
      "source": [
        "# Find a customer with bad credit prediction\n",
        "for rejected_eg_rowno in range(0,y_test.shape[0]):\n",
        "  if y_test.iloc[rejected_eg_rowno] == 1:\n",
        "    break\n",
        "\n",
        "# This customer was refused credit and we can provide an explanation for their refusal...\n",
        "shap.plots.waterfall(shap_values[rejected_eg_rowno])"
      ],
      "metadata": {
        "id": "4ZHyTdYTLCh8",
        "outputId": "f440d91a-1269-4084-b020-2f2e96cd3f96",
        "colab": {
          "base_uri": "https://localhost:8080/",
          "height": 444
        }
      },
      "id": "4ZHyTdYTLCh8",
      "execution_count": null,
      "outputs": [
        {
          "output_type": "display_data",
          "data": {
            "text/plain": [
              "<Figure size 576x468 with 3 Axes>"
            ],
            "image/png": "[encoded data removed]"
          },
          "metadata": {}
        }
      ]
    },
    {
      "cell_type": "markdown",
      "source": [],
      "metadata": {
        "id": "e1K2zm_vLwK5"
      },
      "id": "e1K2zm_vLwK5"
    },
    {
      "cell_type": "code",
      "source": [
        "y_test.reset_index()"
      ],
      "metadata": {
        "id": "dha9E2RRLRvI",
        "outputId": "5c885f4a-58af-4703-8879-a23254e46297",
        "colab": {
          "base_uri": "https://localhost:8080/",
          "height": 423
        }
      },
      "id": "dha9E2RRLRvI",
      "execution_count": null,
      "outputs": [
        {
          "output_type": "execute_result",
          "data": {
            "text/plain": [
              "     index  class\n",
              "0      255      0\n",
              "1      485      1\n",
              "2      182      1\n",
              "3      128      0\n",
              "4      916      0\n",
              "..     ...    ...\n",
              "295    892      0\n",
              "296      4      1\n",
              "297    729      0\n",
              "298    903      0\n",
              "299    808      0\n",
              "\n",
              "[300 rows x 2 columns]"
            ],
            "text/html": [
              "\n",
              "  <div id=\"df-e3503ecc-7cbe-4c98-83e1-f54199c4055a\">\n",
              "    <div class=\"colab-df-container\">\n",
              "      <div>\n",
              "<style scoped>\n",
              "    .dataframe tbody tr th:only-of-type {\n",
              "        vertical-align: middle;\n",
              "    }\n",
              "\n",
              "    .dataframe tbody tr th {\n",
              "        vertical-align: top;\n",
              "    }\n",
              "\n",
              "    .dataframe thead th {\n",
              "        text-align: right;\n",
              "    }\n",
              "</style>\n",
              "<table border=\"1\" class=\"dataframe\">\n",
              "  <thead>\n",
              "    <tr style=\"text-align: right;\">\n",
              "      <th></th>\n",
              "      <th>index</th>\n",
              "      <th>class</th>\n",
              "    </tr>\n",
              "  </thead>\n",
              "  <tbody>\n",
              "    <tr>\n",
              "      <th>0</th>\n",
              "      <td>255</td>\n",
              "      <td>0</td>\n",
              "    </tr>\n",
              "    <tr>\n",
              "      <th>1</th>\n",
              "      <td>485</td>\n",
              "      <td>1</td>\n",
              "    </tr>\n",
              "    <tr>\n",
              "      <th>2</th>\n",
              "      <td>182</td>\n",
              "      <td>1</td>\n",
              "    </tr>\n",
              "    <tr>\n",
              "      <th>3</th>\n",
              "      <td>128</td>\n",
              "      <td>0</td>\n",
              "    </tr>\n",
              "    <tr>\n",
              "      <th>4</th>\n",
              "      <td>916</td>\n",
              "      <td>0</td>\n",
              "    </tr>\n",
              "    <tr>\n",
              "      <th>...</th>\n",
              "      <td>...</td>\n",
              "      <td>...</td>\n",
              "    </tr>\n",
              "    <tr>\n",
              "      <th>295</th>\n",
              "      <td>892</td>\n",
              "      <td>0</td>\n",
              "    </tr>\n",
              "    <tr>\n",
              "      <th>296</th>\n",
              "      <td>4</td>\n",
              "      <td>1</td>\n",
              "    </tr>\n",
              "    <tr>\n",
              "      <th>297</th>\n",
              "      <td>729</td>\n",
              "      <td>0</td>\n",
              "    </tr>\n",
              "    <tr>\n",
              "      <th>298</th>\n",
              "      <td>903</td>\n",
              "      <td>0</td>\n",
              "    </tr>\n",
              "    <tr>\n",
              "      <th>299</th>\n",
              "      <td>808</td>\n",
              "      <td>0</td>\n",
              "    </tr>\n",
              "  </tbody>\n",
              "</table>\n",
              "<p>300 rows × 2 columns</p>\n",
              "</div>\n",
              "      <button class=\"colab-df-convert\" onclick=\"convertToInteractive('df-e3503ecc-7cbe-4c98-83e1-f54199c4055a')\"\n",
              "              title=\"Convert this dataframe to an interactive table.\"\n",
              "              style=\"display:none;\">\n",
              "        \n",
              "  <svg xmlns=\"http://www.w3.org/2000/svg\" height=\"24px\"viewBox=\"0 0 24 24\"\n",
              "       width=\"24px\">\n",
              "    <path d=\"M0 0h24v24H0V0z\" fill=\"none\"/>\n",
              "    <path d=\"M18.56 5.44l.94 2.06.94-2.06 2.06-.94-2.06-.94-.94-2.06-.94 2.06-2.06.94zm-11 1L8.5 8.5l.94-2.06 2.06-.94-2.06-.94L8.5 2.5l-.94 2.06-2.06.94zm10 10l.94 2.06.94-2.06 2.06-.94-2.06-.94-.94-2.06-.94 2.06-2.06.94z\"/><path d=\"M17.41 7.96l-1.37-1.37c-.4-.4-.92-.59-1.43-.59-.52 0-1.04.2-1.43.59L10.3 9.45l-7.72 7.72c-.78.78-.78 2.05 0 2.83L4 21.41c.39.39.9.59 1.41.59.51 0 1.02-.2 1.41-.59l7.78-7.78 2.81-2.81c.8-.78.8-2.07 0-2.86zM5.41 20L4 18.59l7.72-7.72 1.47 1.35L5.41 20z\"/>\n",
              "  </svg>\n",
              "      </button>\n",
              "      \n",
              "  <style>\n",
              "    .colab-df-container {\n",
              "      display:flex;\n",
              "      flex-wrap:wrap;\n",
              "      gap: 12px;\n",
              "    }\n",
              "\n",
              "    .colab-df-convert {\n",
              "      background-color: #E8F0FE;\n",
              "      border: none;\n",
              "      border-radius: 50%;\n",
              "      cursor: pointer;\n",
              "      display: none;\n",
              "      fill: #1967D2;\n",
              "      height: 32px;\n",
              "      padding: 0 0 0 0;\n",
              "      width: 32px;\n",
              "    }\n",
              "\n",
              "    .colab-df-convert:hover {\n",
              "      background-color: #E2EBFA;\n",
              "      box-shadow: 0px 1px 2px rgba(60, 64, 67, 0.3), 0px 1px 3px 1px rgba(60, 64, 67, 0.15);\n",
              "      fill: #174EA6;\n",
              "    }\n",
              "\n",
              "    [theme=dark] .colab-df-convert {\n",
              "      background-color: #3B4455;\n",
              "      fill: #D2E3FC;\n",
              "    }\n",
              "\n",
              "    [theme=dark] .colab-df-convert:hover {\n",
              "      background-color: #434B5C;\n",
              "      box-shadow: 0px 1px 3px 1px rgba(0, 0, 0, 0.15);\n",
              "      filter: drop-shadow(0px 1px 2px rgba(0, 0, 0, 0.3));\n",
              "      fill: #FFFFFF;\n",
              "    }\n",
              "  </style>\n",
              "\n",
              "      <script>\n",
              "        const buttonEl =\n",
              "          document.querySelector('#df-e3503ecc-7cbe-4c98-83e1-f54199c4055a button.colab-df-convert');\n",
              "        buttonEl.style.display =\n",
              "          google.colab.kernel.accessAllowed ? 'block' : 'none';\n",
              "\n",
              "        async function convertToInteractive(key) {\n",
              "          const element = document.querySelector('#df-e3503ecc-7cbe-4c98-83e1-f54199c4055a');\n",
              "          const dataTable =\n",
              "            await google.colab.kernel.invokeFunction('convertToInteractive',\n",
              "                                                     [key], {});\n",
              "          if (!dataTable) return;\n",
              "\n",
              "          const docLinkHtml = 'Like what you see? Visit the ' +\n",
              "            '<a target=\"_blank\" href=https://colab.research.google.com/notebooks/data_table.ipynb>data table notebook</a>'\n",
              "            + ' to learn more about interactive tables.';\n",
              "          element.innerHTML = '';\n",
              "          dataTable['output_type'] = 'display_data';\n",
              "          await google.colab.output.renderOutput(dataTable, element);\n",
              "          const docLink = document.createElement('div');\n",
              "          docLink.innerHTML = docLinkHtml;\n",
              "          element.appendChild(docLink);\n",
              "        }\n",
              "      </script>\n",
              "    </div>\n",
              "  </div>\n",
              "  "
            ]
          },
          "metadata": {},
          "execution_count": 249
        }
      ]
    }
  ],
  "metadata": {
    "kernelspec": {
      "display_name": "Python 3",
      "language": "python",
      "name": "python3"
    },
    "language_info": {
      "codemirror_mode": {
        "name": "ipython",
        "version": 3
      },
      "file_extension": ".py",
      "mimetype": "text/x-python",
      "name": "python",
      "nbconvert_exporter": "python",
      "pygments_lexer": "ipython3",
      "version": "3.8.8"
    },
    "colab": {
      "provenance": []
    }
  },
  "nbformat": 4,
  "nbformat_minor": 5
}